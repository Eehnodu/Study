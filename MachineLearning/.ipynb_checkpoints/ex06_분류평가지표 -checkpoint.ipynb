{
 "cells": [
  {
   "cell_type": "markdown",
   "id": "0c9191ba-8e7c-4eeb-8140-cc109c34963d",
   "metadata": {},
   "source": [
    "### 분류 평가지표 확인 및 import 방법"
   ]
  },
  {
   "cell_type": "code",
   "execution_count": null,
   "id": "358abbfb-0410-443a-b12c-3adc49b38223",
   "metadata": {},
   "outputs": [],
   "source": [
    "# sklearn 내부에 평가지표 모음집을 확인해보자\n",
    "# sklearn.metrics : 분류 /회귀 평가지표 모음집\n",
    "from sklearn.metrics import accuracy_score # 정확도\n",
    "from sklearn.metrics import recall_score # 재현율\n",
    "from sklearn.metrics import precision_score # 정밀도\n",
    "from sklearn.metrics import f1_score # f1_score\n",
    "from sklearn.metrics import roc_curve # Roc 곡선\n",
    "from sklearn.metrics import auc # area_under_curve"
   ]
  },
  {
   "cell_type": "code",
   "execution_count": null,
   "id": "d90b24e8-b83d-439f-9940-74dac55d83aa",
   "metadata": {},
   "outputs": [],
   "source": []
  },
  {
   "cell_type": "code",
   "execution_count": null,
   "id": "2cde813b-c29b-4306-8543-607236c18fef",
   "metadata": {},
   "outputs": [],
   "source": []
  },
  {
   "cell_type": "code",
   "execution_count": null,
   "id": "a6d615d3-4539-4ee2-9997-9636fd67b98e",
   "metadata": {},
   "outputs": [],
   "source": []
  },
  {
   "cell_type": "code",
   "execution_count": null,
   "id": "7a1ed2a2-d912-455a-acca-7f6146006f42",
   "metadata": {},
   "outputs": [],
   "source": []
  },
  {
   "cell_type": "code",
   "execution_count": null,
   "id": "a64bc83e-ac63-4b8b-8b47-b82770f4b4aa",
   "metadata": {},
   "outputs": [],
   "source": []
  },
  {
   "cell_type": "code",
   "execution_count": null,
   "id": "190bd972-46d9-4230-8e82-9b38764dce04",
   "metadata": {},
   "outputs": [],
   "source": []
  },
  {
   "cell_type": "code",
   "execution_count": null,
   "id": "e678ac79-d29d-4382-adfb-0a495bbda5d5",
   "metadata": {},
   "outputs": [],
   "source": []
  },
  {
   "cell_type": "code",
   "execution_count": null,
   "id": "97e274a9-705f-4040-af96-bb5218a4e33d",
   "metadata": {},
   "outputs": [],
   "source": []
  }
 ],
 "metadata": {
  "kernelspec": {
   "display_name": "Python 3 (ipykernel)",
   "language": "python",
   "name": "python3"
  },
  "language_info": {
   "codemirror_mode": {
    "name": "ipython",
    "version": 3
   },
   "file_extension": ".py",
   "mimetype": "text/x-python",
   "name": "python",
   "nbconvert_exporter": "python",
   "pygments_lexer": "ipython3",
   "version": "3.11.5"
  }
 },
 "nbformat": 4,
 "nbformat_minor": 5
}
