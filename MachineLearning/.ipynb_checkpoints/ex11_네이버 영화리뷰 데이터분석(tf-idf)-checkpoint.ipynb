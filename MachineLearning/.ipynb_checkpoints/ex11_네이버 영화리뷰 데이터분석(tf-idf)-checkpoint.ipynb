{
 "cells": [
  {
   "cell_type": "markdown",
   "id": "333fe608-5663-4310-89c1-20c3d3f0dc55",
   "metadata": {
    "tags": []
   },
   "source": [
    "#### 목표\n",
    "- 네이버 영화리뷰 감성분석을 해보자 (긍정/부정)\n",
    "- TF-IDF의 개념을 이해하고 사용하자\n",
    "- 학습 결과를 시각화하여 인사이트를 얻자"
   ]
  },
  {
   "cell_type": "markdown",
   "id": "98c4151a-802f-4854-bb85-0307f4d59c5d",
   "metadata": {
    "tags": []
   },
   "source": [
    "#### 용어이해\n",
    "- 말뭉치(corpus) : 텍스트마이닝, 자연어처리 분야에서 학습을 위해 사용하는 데이터셋\n",
    "- 문서(documnet) : 말뭉치에서 각 샘플을 지칭하는 단어\n",
    "- TF(Teram Frequency) : 하나의 문서(documnet)에서 개별 단어들이 등장하는 빈도 수\n",
    "- DF(Documnn Frequency) :  "
   ]
  },
  {
   "attachments": {
    "b0a94301-1e1d-4bb6-b89f-898fb5dbb0ee.png": {
     "image/png": "[encoded data removed]"
    }
   },
   "cell_type": "markdown",
   "id": "73f08cd2-c86a-41bf-86de-47f17d810c30",
   "metadata": {},
   "source": [
    "![image.png](attachment:b0a94301-1e1d-4bb6-b89f-898fb5dbb0ee.png)"
   ]
  },
  {
   "cell_type": "code",
   "execution_count": 8,
   "id": "c16b552d-c251-4648-9cc2-f1495c9e0c48",
   "metadata": {
    "tags": []
   },
   "outputs": [],
   "source": [
    "# TF-IDF 사용해보기\n",
    "from sklearn.feature_extraction.text import TfidfVectorizer"
   ]
  },
  {
   "cell_type": "code",
   "execution_count": 5,
   "id": "49d2974d-86e7-461b-a0b4-6f813a429151",
   "metadata": {
    "tags": []
   },
   "outputs": [],
   "source": [
    "tf_idf = TfidfVectorizer()\n",
    "sample_text = [\"오늘은 오후에 수업이 3시간입니다. 야호 !\",\n",
    "               \"오늘은 비가 오네요\",\n",
    "               \"어제도 비가 왔었나?\",\n",
    "               \"오전 수업은 무엇을 배웠나요? 오후 수업하고 다른 것을 배웠겠죠?\"]"
   ]
  },
  {
   "cell_type": "code",
   "execution_count": 6,
   "id": "44883f26-616f-4a80-b13d-35533ae01ae9",
   "metadata": {
    "tags": []
   },
   "outputs": [
    {
     "data": {
      "text/plain": [
       "{'오늘은': 13,\n",
       " '오후에': 16,\n",
       " '수업이': 8,\n",
       " '3시간입니다': 0,\n",
       " '야호': 10,\n",
       " '비가': 6,\n",
       " '오네요': 12,\n",
       " '어제도': 11,\n",
       " '왔었나': 17,\n",
       " '오전': 14,\n",
       " '수업은': 7,\n",
       " '무엇을': 3,\n",
       " '배웠나요': 5,\n",
       " '오후': 15,\n",
       " '수업하고': 9,\n",
       " '다른': 2,\n",
       " '것을': 1,\n",
       " '배웠겠죠': 4}"
      ]
     },
     "execution_count": 6,
     "metadata": {},
     "output_type": "execute_result"
    }
   ],
   "source": [
    "tf_idf.fit(sample_text) # 단어사전 구축\n",
    "tf_idf.vocabulary_ # 단어사전 확인"
   ]
  },
  {
   "cell_type": "code",
   "execution_count": 9,
   "id": "cceaba80-2e56-45ca-81f5-3896f8d7cf67",
   "metadata": {
    "tags": []
   },
   "outputs": [
    {
     "data": {
      "text/plain": [
       "array([[0.46516193, 0.        , 0.        , 0.        , 0.        ,\n",
       "        0.        , 0.        , 0.        , 0.46516193, 0.        ,\n",
       "        0.46516193, 0.        , 0.        , 0.36673901, 0.        ,\n",
       "        0.        , 0.46516193, 0.        ],\n",
       "       [0.        , 0.        , 0.        , 0.        , 0.        ,\n",
       "        0.        , 0.52640543, 0.        , 0.        , 0.        ,\n",
       "        0.        , 0.        , 0.66767854, 0.52640543, 0.        ,\n",
       "        0.        , 0.        , 0.        ],\n",
       "       [0.        , 0.        , 0.        , 0.        , 0.        ,\n",
       "        0.        , 0.48693426, 0.        , 0.        , 0.        ,\n",
       "        0.        , 0.61761437, 0.        , 0.        , 0.        ,\n",
       "        0.        , 0.        , 0.61761437],\n",
       "       [0.        , 0.33333333, 0.33333333, 0.33333333, 0.33333333,\n",
       "        0.33333333, 0.        , 0.33333333, 0.        , 0.33333333,\n",
       "        0.        , 0.        , 0.        , 0.        , 0.33333333,\n",
       "        0.33333333, 0.        , 0.        ]])"
      ]
     },
     "execution_count": 9,
     "metadata": {},
     "output_type": "execute_result"
    }
   ],
   "source": [
    "tf_idf.transform(sample_text).toarray() # tf-idf로 수치화"
   ]
  },
  {
   "cell_type": "code",
   "execution_count": 4,
   "id": "4f801cc1-e372-477e-a495-47f0d613ef95",
   "metadata": {
    "tags": []
   },
   "outputs": [],
   "source": [
    "# 형태소 분석기 -> 클렌징 -> 토큰화/수치화(TF-IDF)"
   ]
  },
  {
   "cell_type": "markdown",
   "id": "b66d1999-e83b-4127-a3e1-38efa5f30ac7",
   "metadata": {},
   "source": [
    "#### 데이터 로딩"
   ]
  },
  {
   "cell_type": "code",
   "execution_count": 2,
   "id": "37b2c8c0-0099-4f2e-a00a-d15b17dce071",
   "metadata": {
    "tags": []
   },
   "outputs": [],
   "source": [
    "import pandas as pd"
   ]
  },
  {
   "cell_type": "code",
   "execution_count": 11,
   "id": "2f3146f2-29bb-4955-a8fd-a10369dad21e",
   "metadata": {
    "tags": []
   },
   "outputs": [],
   "source": [
    "train = pd.read_csv('data/ratings_train.txt', delimiter=\"\\t\")\n",
    "test = pd.read_csv('data/ratings_test.txt', delimiter=\"\\t\")"
   ]
  },
  {
   "cell_type": "code",
   "execution_count": 12,
   "id": "9883b61b-9df2-43c8-80a2-77b88d0b2b6b",
   "metadata": {
    "tags": []
   },
   "outputs": [],
   "source": [
    "# 결측치\n",
    "train.dropna(inplace = True)\n",
    "test.dropna(inplace = True)"
   ]
  },
  {
   "cell_type": "code",
   "execution_count": 13,
   "id": "9b5eb332-4e42-4127-a5f8-e9b24ab8dedc",
   "metadata": {
    "tags": []
   },
   "outputs": [
    {
     "data": {
      "text/html": [
       "<div>\n",
       "<style scoped>\n",
       "    .dataframe tbody tr th:only-of-type {\n",
       "        vertical-align: middle;\n",
       "    }\n",
       "\n",
       "    .dataframe tbody tr th {\n",
       "        vertical-align: top;\n",
       "    }\n",
       "\n",
       "    .dataframe thead th {\n",
       "        text-align: right;\n",
       "    }\n",
       "</style>\n",
       "<table border=\"1\" class=\"dataframe\">\n",
       "  <thead>\n",
       "    <tr style=\"text-align: right;\">\n",
       "      <th></th>\n",
       "      <th>id</th>\n",
       "      <th>document</th>\n",
       "      <th>label</th>\n",
       "    </tr>\n",
       "  </thead>\n",
       "  <tbody>\n",
       "    <tr>\n",
       "      <th>0</th>\n",
       "      <td>9976970</td>\n",
       "      <td>아 더빙.. 진짜 짜증나네요 목소리</td>\n",
       "      <td>0</td>\n",
       "    </tr>\n",
       "    <tr>\n",
       "      <th>1</th>\n",
       "      <td>3819312</td>\n",
       "      <td>흠...포스터보고 초딩영화줄....오버연기조차 가볍지 않구나</td>\n",
       "      <td>1</td>\n",
       "    </tr>\n",
       "    <tr>\n",
       "      <th>2</th>\n",
       "      <td>10265843</td>\n",
       "      <td>너무재밓었다그래서보는것을추천한다</td>\n",
       "      <td>0</td>\n",
       "    </tr>\n",
       "    <tr>\n",
       "      <th>3</th>\n",
       "      <td>9045019</td>\n",
       "      <td>교도소 이야기구먼 ..솔직히 재미는 없다..평점 조정</td>\n",
       "      <td>0</td>\n",
       "    </tr>\n",
       "    <tr>\n",
       "      <th>4</th>\n",
       "      <td>6483659</td>\n",
       "      <td>사이몬페그의 익살스런 연기가 돋보였던 영화!스파이더맨에서 늙어보이기만 했던 커스틴 ...</td>\n",
       "      <td>1</td>\n",
       "    </tr>\n",
       "  </tbody>\n",
       "</table>\n",
       "</div>"
      ],
      "text/plain": [
       "         id                                           document  label\n",
       "0   9976970                                아 더빙.. 진짜 짜증나네요 목소리      0\n",
       "1   3819312                  흠...포스터보고 초딩영화줄....오버연기조차 가볍지 않구나      1\n",
       "2  10265843                                  너무재밓었다그래서보는것을추천한다      0\n",
       "3   9045019                      교도소 이야기구먼 ..솔직히 재미는 없다..평점 조정      0\n",
       "4   6483659  사이몬페그의 익살스런 연기가 돋보였던 영화!스파이더맨에서 늙어보이기만 했던 커스틴 ...      1"
      ]
     },
     "execution_count": 13,
     "metadata": {},
     "output_type": "execute_result"
    }
   ],
   "source": [
    "# 긍정 : 1 / 부정 : 0\n",
    "# 9~10       1~4\n",
    "train.head()"
   ]
  },
  {
   "cell_type": "code",
   "execution_count": 14,
   "id": "b701acda-3ee4-45a6-8427-317accf3b52f",
   "metadata": {
    "tags": []
   },
   "outputs": [],
   "source": [
    "# 문제와 답 분리\n",
    "text_train = train['document']\n",
    "text_test = test['document']\n",
    "y_train = train['label']\n",
    "y_test = test['label']"
   ]
  },
  {
   "cell_type": "code",
   "execution_count": 15,
   "id": "c8970863-446b-4466-a337-db0b53279c84",
   "metadata": {
    "tags": []
   },
   "outputs": [
    {
     "name": "stdout",
     "output_type": "stream",
     "text": [
      "149995\n",
      "49997\n",
      "(149995,)\n",
      "(49997,)\n"
     ]
    }
   ],
   "source": [
    "print(len(text_train))\n",
    "print(len(text_test))\n",
    "print(y_train.shape)\n",
    "print(y_test.shape)"
   ]
  },
  {
   "cell_type": "markdown",
   "id": "a47bbb95-77c9-4c41-8644-6919d19f8da1",
   "metadata": {
    "tags": []
   },
   "source": [
    "#### 형태소 분석/클렌징/토큰화/수치화 한 번에 하기 (with sklearn)"
   ]
  },
  {
   "cell_type": "code",
   "execution_count": 37,
   "id": "417f16d7-f475-4bd1-86f2-5d2fbf341cde",
   "metadata": {
    "tags": []
   },
   "outputs": [],
   "source": [
    "from konlpy.tag import Okt\n",
    "import re # 정규표현식\n",
    "okt = Okt()\n",
    "p = re.compile(\"[ㅋㅇㅎㄷ~ㅡ>!.?,0-9a-z]+\")  # 정규표현식 패턴"
   ]
  },
  {
   "cell_type": "code",
   "execution_count": 5,
   "id": "dd0c0a7d-c318-4462-a552-8a07a52f29ed",
   "metadata": {
    "tags": []
   },
   "outputs": [],
   "source": [
    "# 사용자 정의 함수\n",
    "def myTokenizer(text):\n",
    "    morphs = okt.morphs(text) # 형태소 분석\n",
    "    result = [] # 형태소 분석과 클렌징이 끝난 토큰들을 담을 리스트\n",
    "    for token in morphs: # 형태소로 분리된 하나의 리뷰를 반복\n",
    "        if len(token) < 2: # 한글자 토큰 제외\n",
    "            continue\n",
    "        if p.match(token): # 정규표현식에 매칭되는 글자 제거\n",
    "            continue\n",
    "        result.append(token)\n",
    "    return result # 형태소분석과 클렌징이 끝난 리스트를 리턴"
   ]
  },
  {
   "cell_type": "code",
   "execution_count": 42,
   "id": "3944d4f2-8d99-4e1c-a3e1-203c38d10d63",
   "metadata": {
    "tags": []
   },
   "outputs": [],
   "source": [
    "naver_movie_tf_idf = TfidfVectorizer(tokenizer=myTokenizer,\n",
    "                                    stop_words=['영화'],\n",
    "                                    min_df=10,\n",
    "                                    max_df= 0.8\n",
    "                                    ) # 사용자 정의 토크나이저 연결\n"
   ]
  },
  {
   "cell_type": "code",
   "execution_count": 43,
   "id": "487973cf-5f5a-4cb1-b5dc-05363c3084b2",
   "metadata": {
    "tags": []
   },
   "outputs": [
    {
     "data": {
      "text/html": [
       "<style>#sk-container-id-1 {color: black;background-color: white;}#sk-container-id-1 pre{padding: 0;}#sk-container-id-1 div.sk-toggleable {background-color: white;}#sk-container-id-1 label.sk-toggleable__label {cursor: pointer;display: block;width: 100%;margin-bottom: 0;padding: 0.3em;box-sizing: border-box;text-align: center;}#sk-container-id-1 label.sk-toggleable__label-arrow:before {content: \"▸\";float: left;margin-right: 0.25em;color: #696969;}#sk-container-id-1 label.sk-toggleable__label-arrow:hover:before {color: black;}#sk-container-id-1 div.sk-estimator:hover label.sk-toggleable__label-arrow:before {color: black;}#sk-container-id-1 div.sk-toggleable__content {max-height: 0;max-width: 0;overflow: hidden;text-align: left;background-color: #f0f8ff;}#sk-container-id-1 div.sk-toggleable__content pre {margin: 0.2em;color: black;border-radius: 0.25em;background-color: #f0f8ff;}#sk-container-id-1 input.sk-toggleable__control:checked~div.sk-toggleable__content {max-height: 200px;max-width: 100%;overflow: auto;}#sk-container-id-1 input.sk-toggleable__control:checked~label.sk-toggleable__label-arrow:before {content: \"▾\";}#sk-container-id-1 div.sk-estimator input.sk-toggleable__control:checked~label.sk-toggleable__label {background-color: #d4ebff;}#sk-container-id-1 div.sk-label input.sk-toggleable__control:checked~label.sk-toggleable__label {background-color: #d4ebff;}#sk-container-id-1 input.sk-hidden--visually {border: 0;clip: rect(1px 1px 1px 1px);clip: rect(1px, 1px, 1px, 1px);height: 1px;margin: -1px;overflow: hidden;padding: 0;position: absolute;width: 1px;}#sk-container-id-1 div.sk-estimator {font-family: monospace;background-color: #f0f8ff;border: 1px dotted black;border-radius: 0.25em;box-sizing: border-box;margin-bottom: 0.5em;}#sk-container-id-1 div.sk-estimator:hover {background-color: #d4ebff;}#sk-container-id-1 div.sk-parallel-item::after {content: \"\";width: 100%;border-bottom: 1px solid gray;flex-grow: 1;}#sk-container-id-1 div.sk-label:hover label.sk-toggleable__label {background-color: #d4ebff;}#sk-container-id-1 div.sk-serial::before {content: \"\";position: absolute;border-left: 1px solid gray;box-sizing: border-box;top: 0;bottom: 0;left: 50%;z-index: 0;}#sk-container-id-1 div.sk-serial {display: flex;flex-direction: column;align-items: center;background-color: white;padding-right: 0.2em;padding-left: 0.2em;position: relative;}#sk-container-id-1 div.sk-item {position: relative;z-index: 1;}#sk-container-id-1 div.sk-parallel {display: flex;align-items: stretch;justify-content: center;background-color: white;position: relative;}#sk-container-id-1 div.sk-item::before, #sk-container-id-1 div.sk-parallel-item::before {content: \"\";position: absolute;border-left: 1px solid gray;box-sizing: border-box;top: 0;bottom: 0;left: 50%;z-index: -1;}#sk-container-id-1 div.sk-parallel-item {display: flex;flex-direction: column;z-index: 1;position: relative;background-color: white;}#sk-container-id-1 div.sk-parallel-item:first-child::after {align-self: flex-end;width: 50%;}#sk-container-id-1 div.sk-parallel-item:last-child::after {align-self: flex-start;width: 50%;}#sk-container-id-1 div.sk-parallel-item:only-child::after {width: 0;}#sk-container-id-1 div.sk-dashed-wrapped {border: 1px dashed gray;margin: 0 0.4em 0.5em 0.4em;box-sizing: border-box;padding-bottom: 0.4em;background-color: white;}#sk-container-id-1 div.sk-label label {font-family: monospace;font-weight: bold;display: inline-block;line-height: 1.2em;}#sk-container-id-1 div.sk-label-container {text-align: center;}#sk-container-id-1 div.sk-container {/* jupyter's `normalize.less` sets `[hidden] { display: none; }` but bootstrap.min.css set `[hidden] { display: none !important; }` so we also need the `!important` here to be able to override the default hidden behavior on the sphinx rendered scikit-learn.org. See: https://github.com/scikit-learn/scikit-learn/issues/21755 */display: inline-block !important;position: relative;}#sk-container-id-1 div.sk-text-repr-fallback {display: none;}</style><div id=\"sk-container-id-1\" class=\"sk-top-container\"><div class=\"sk-text-repr-fallback\"><pre>TfidfVectorizer(max_df=0.8, min_df=10, stop_words=[&#x27;영화&#x27;],\n",
       "                tokenizer=&lt;function myTokenizer at 0x000002868252E7A0&gt;)</pre><b>In a Jupyter environment, please rerun this cell to show the HTML representation or trust the notebook. <br />On GitHub, the HTML representation is unable to render, please try loading this page with nbviewer.org.</b></div><div class=\"sk-container\" hidden><div class=\"sk-item\"><div class=\"sk-estimator sk-toggleable\"><input class=\"sk-toggleable__control sk-hidden--visually\" id=\"sk-estimator-id-1\" type=\"checkbox\" checked><label for=\"sk-estimator-id-1\" class=\"sk-toggleable__label sk-toggleable__label-arrow\">TfidfVectorizer</label><div class=\"sk-toggleable__content\"><pre>TfidfVectorizer(max_df=0.8, min_df=10, stop_words=[&#x27;영화&#x27;],\n",
       "                tokenizer=&lt;function myTokenizer at 0x000002868252E7A0&gt;)</pre></div></div></div></div></div>"
      ],
      "text/plain": [
       "TfidfVectorizer(max_df=0.8, min_df=10, stop_words=['영화'],\n",
       "                tokenizer=<function myTokenizer at 0x000002868252E7A0>)"
      ]
     },
     "execution_count": 43,
     "metadata": {},
     "output_type": "execute_result"
    }
   ],
   "source": [
    "naver_movie_tf_idf.fit(text_train) # 사용자 정의 함수 호출 및 단어사전 구축"
   ]
  },
  {
   "cell_type": "code",
   "execution_count": 44,
   "id": "c92eab4b-39dd-4003-a4ef-a436c0974619",
   "metadata": {
    "tags": []
   },
   "outputs": [
    {
     "data": {
      "text/plain": [
       "11714"
      ]
     },
     "execution_count": 44,
     "metadata": {},
     "output_type": "execute_result"
    }
   ],
   "source": [
    "len(naver_movie_tf_idf.vocabulary_) # 단어사전 길이 확인"
   ]
  },
  {
   "cell_type": "code",
   "execution_count": 45,
   "id": "159b96da-26a8-4cd4-adcc-f8cc0a414c1a",
   "metadata": {
    "tags": []
   },
   "outputs": [],
   "source": [
    "X_train = naver_movie_tf_idf.transform(text_train) # 수치화\n",
    "X_test = naver_movie_tf_idf.transform(text_test) # 수치화"
   ]
  },
  {
   "cell_type": "markdown",
   "id": "4ffa46fb-285f-4bea-8341-466e1be6cf6f",
   "metadata": {},
   "source": [
    "#### 모델링"
   ]
  },
  {
   "cell_type": "code",
   "execution_count": 9,
   "id": "f83714f1-f757-448b-9b7d-6e50555cb8ba",
   "metadata": {
    "tags": []
   },
   "outputs": [],
   "source": [
    "from sklearn.linear_model import LogisticRegression"
   ]
  },
  {
   "cell_type": "code",
   "execution_count": 47,
   "id": "7cc09aeb-a713-46ed-8449-c24f2eec1703",
   "metadata": {
    "tags": []
   },
   "outputs": [
    {
     "data": {
      "text/html": [
       "<style>#sk-container-id-2 {color: black;background-color: white;}#sk-container-id-2 pre{padding: 0;}#sk-container-id-2 div.sk-toggleable {background-color: white;}#sk-container-id-2 label.sk-toggleable__label {cursor: pointer;display: block;width: 100%;margin-bottom: 0;padding: 0.3em;box-sizing: border-box;text-align: center;}#sk-container-id-2 label.sk-toggleable__label-arrow:before {content: \"▸\";float: left;margin-right: 0.25em;color: #696969;}#sk-container-id-2 label.sk-toggleable__label-arrow:hover:before {color: black;}#sk-container-id-2 div.sk-estimator:hover label.sk-toggleable__label-arrow:before {color: black;}#sk-container-id-2 div.sk-toggleable__content {max-height: 0;max-width: 0;overflow: hidden;text-align: left;background-color: #f0f8ff;}#sk-container-id-2 div.sk-toggleable__content pre {margin: 0.2em;color: black;border-radius: 0.25em;background-color: #f0f8ff;}#sk-container-id-2 input.sk-toggleable__control:checked~div.sk-toggleable__content {max-height: 200px;max-width: 100%;overflow: auto;}#sk-container-id-2 input.sk-toggleable__control:checked~label.sk-toggleable__label-arrow:before {content: \"▾\";}#sk-container-id-2 div.sk-estimator input.sk-toggleable__control:checked~label.sk-toggleable__label {background-color: #d4ebff;}#sk-container-id-2 div.sk-label input.sk-toggleable__control:checked~label.sk-toggleable__label {background-color: #d4ebff;}#sk-container-id-2 input.sk-hidden--visually {border: 0;clip: rect(1px 1px 1px 1px);clip: rect(1px, 1px, 1px, 1px);height: 1px;margin: -1px;overflow: hidden;padding: 0;position: absolute;width: 1px;}#sk-container-id-2 div.sk-estimator {font-family: monospace;background-color: #f0f8ff;border: 1px dotted black;border-radius: 0.25em;box-sizing: border-box;margin-bottom: 0.5em;}#sk-container-id-2 div.sk-estimator:hover {background-color: #d4ebff;}#sk-container-id-2 div.sk-parallel-item::after {content: \"\";width: 100%;border-bottom: 1px solid gray;flex-grow: 1;}#sk-container-id-2 div.sk-label:hover label.sk-toggleable__label {background-color: #d4ebff;}#sk-container-id-2 div.sk-serial::before {content: \"\";position: absolute;border-left: 1px solid gray;box-sizing: border-box;top: 0;bottom: 0;left: 50%;z-index: 0;}#sk-container-id-2 div.sk-serial {display: flex;flex-direction: column;align-items: center;background-color: white;padding-right: 0.2em;padding-left: 0.2em;position: relative;}#sk-container-id-2 div.sk-item {position: relative;z-index: 1;}#sk-container-id-2 div.sk-parallel {display: flex;align-items: stretch;justify-content: center;background-color: white;position: relative;}#sk-container-id-2 div.sk-item::before, #sk-container-id-2 div.sk-parallel-item::before {content: \"\";position: absolute;border-left: 1px solid gray;box-sizing: border-box;top: 0;bottom: 0;left: 50%;z-index: -1;}#sk-container-id-2 div.sk-parallel-item {display: flex;flex-direction: column;z-index: 1;position: relative;background-color: white;}#sk-container-id-2 div.sk-parallel-item:first-child::after {align-self: flex-end;width: 50%;}#sk-container-id-2 div.sk-parallel-item:last-child::after {align-self: flex-start;width: 50%;}#sk-container-id-2 div.sk-parallel-item:only-child::after {width: 0;}#sk-container-id-2 div.sk-dashed-wrapped {border: 1px dashed gray;margin: 0 0.4em 0.5em 0.4em;box-sizing: border-box;padding-bottom: 0.4em;background-color: white;}#sk-container-id-2 div.sk-label label {font-family: monospace;font-weight: bold;display: inline-block;line-height: 1.2em;}#sk-container-id-2 div.sk-label-container {text-align: center;}#sk-container-id-2 div.sk-container {/* jupyter's `normalize.less` sets `[hidden] { display: none; }` but bootstrap.min.css set `[hidden] { display: none !important; }` so we also need the `!important` here to be able to override the default hidden behavior on the sphinx rendered scikit-learn.org. See: https://github.com/scikit-learn/scikit-learn/issues/21755 */display: inline-block !important;position: relative;}#sk-container-id-2 div.sk-text-repr-fallback {display: none;}</style><div id=\"sk-container-id-2\" class=\"sk-top-container\"><div class=\"sk-text-repr-fallback\"><pre>LogisticRegression()</pre><b>In a Jupyter environment, please rerun this cell to show the HTML representation or trust the notebook. <br />On GitHub, the HTML representation is unable to render, please try loading this page with nbviewer.org.</b></div><div class=\"sk-container\" hidden><div class=\"sk-item\"><div class=\"sk-estimator sk-toggleable\"><input class=\"sk-toggleable__control sk-hidden--visually\" id=\"sk-estimator-id-2\" type=\"checkbox\" checked><label for=\"sk-estimator-id-2\" class=\"sk-toggleable__label sk-toggleable__label-arrow\">LogisticRegression</label><div class=\"sk-toggleable__content\"><pre>LogisticRegression()</pre></div></div></div></div></div>"
      ],
      "text/plain": [
       "LogisticRegression()"
      ]
     },
     "execution_count": 47,
     "metadata": {},
     "output_type": "execute_result"
    }
   ],
   "source": [
    "logi = LogisticRegression()\n",
    "logi.fit(X_train, y_train)"
   ]
  },
  {
   "cell_type": "code",
   "execution_count": 48,
   "id": "80b2031a-b242-496b-8fc4-f3af52d143df",
   "metadata": {
    "tags": []
   },
   "outputs": [
    {
     "data": {
      "text/plain": [
       "0.8295297717863072"
      ]
     },
     "execution_count": 48,
     "metadata": {},
     "output_type": "execute_result"
    }
   ],
   "source": [
    "logi.score(X_test, y_test)"
   ]
  },
  {
   "cell_type": "code",
   "execution_count": null,
   "id": "9e589607-38f0-479f-83e8-71106f62faea",
   "metadata": {},
   "outputs": [],
   "source": [
    "# TF-IDF vectorizer와 Logistic Model 저장"
   ]
  },
  {
   "cell_type": "code",
   "execution_count": 49,
   "id": "4e370682-1abd-4dc4-bb49-0fa2efd9d1dd",
   "metadata": {
    "tags": []
   },
   "outputs": [],
   "source": [
    "import pickle # 파이썬에 존재하는 모든 데이터 타입을 파일로 저장\n",
    "with open(\"./naver_tfidf.pkl\", 'wb') as f : # 쓰기 모드로 파일 스트링 오픈\n",
    "    pickle.dump(naver_movie_tf_idf, f) # 모델객체를 파일에 저장\n",
    "with open(\"./naver_logi.pkl\", 'wb') as f : # 쓰기 모드로 파일 스트링 오픈\n",
    "    pickle.dump(logi, f) # 모델객체를 파일에 저장"
   ]
  },
  {
   "cell_type": "markdown",
   "id": "246c8035-31ff-407a-b1f2-6880216999a9",
   "metadata": {},
   "source": [
    "#### 학습결과 시각화 및 활용"
   ]
  },
  {
   "cell_type": "code",
   "execution_count": 11,
   "id": "29961494-c881-4183-9379-75abe9df5253",
   "metadata": {},
   "outputs": [],
   "source": [
    "with open('./naver_tfidf.pkl','rb') as f:\n",
    "    naver_tfidf = pickle.load(f)\n",
    "with open('./naver_logi.pkl','rb') as f:\n",
    "    naver_logi = pickle.load(f)"
   ]
  },
  {
   "cell_type": "code",
   "execution_count": 13,
   "id": "5532f9cf-0caf-4df1-acfb-2c7dd03abdbc",
   "metadata": {
    "tags": []
   },
   "outputs": [],
   "source": [
    "# 단어 사전 추출\n",
    "vocab = naver_tfidf.vocabulary_\n",
    "# 학습된 가중치(각 단어별 가중치(\n",
    "weight = naver_logi.coef_[0]"
   ]
  },
  {
   "cell_type": "code",
   "execution_count": 18,
   "id": "d5470c1c-79ec-4f59-a40a-7a15d9601a76",
   "metadata": {
    "tags": []
   },
   "outputs": [
    {
     "data": {
      "text/html": [
       "<div>\n",
       "<style scoped>\n",
       "    .dataframe tbody tr th:only-of-type {\n",
       "        vertical-align: middle;\n",
       "    }\n",
       "\n",
       "    .dataframe tbody tr th {\n",
       "        vertical-align: top;\n",
       "    }\n",
       "\n",
       "    .dataframe thead th {\n",
       "        text-align: right;\n",
       "    }\n",
       "</style>\n",
       "<table border=\"1\" class=\"dataframe\">\n",
       "  <thead>\n",
       "    <tr style=\"text-align: right;\">\n",
       "      <th></th>\n",
       "      <th>가중치</th>\n",
       "    </tr>\n",
       "    <tr>\n",
       "      <th>단어</th>\n",
       "      <th></th>\n",
       "    </tr>\n",
       "  </thead>\n",
       "  <tbody>\n",
       "    <tr>\n",
       "      <th>최악</th>\n",
       "      <td>-9.803006</td>\n",
       "    </tr>\n",
       "    <tr>\n",
       "      <th>쓰레기</th>\n",
       "      <td>-6.773315</td>\n",
       "    </tr>\n",
       "    <tr>\n",
       "      <th>재미없다</th>\n",
       "      <td>-6.039871</td>\n",
       "    </tr>\n",
       "    <tr>\n",
       "      <th>아깝다</th>\n",
       "      <td>-5.873742</td>\n",
       "    </tr>\n",
       "    <tr>\n",
       "      <th>지루하다</th>\n",
       "      <td>-5.762469</td>\n",
       "    </tr>\n",
       "  </tbody>\n",
       "</table>\n",
       "</div>"
      ],
      "text/plain": [
       "           가중치\n",
       "단어            \n",
       "최악   -9.803006\n",
       "쓰레기  -6.773315\n",
       "재미없다 -6.039871\n",
       "아깝다  -5.873742\n",
       "지루하다 -5.762469"
      ]
     },
     "execution_count": 18,
     "metadata": {},
     "output_type": "execute_result"
    }
   ],
   "source": [
    "# 딕셔너리로\n",
    "df = pd.DataFrame([vocab.keys(), vocab.values()]).T\n",
    "df.columns = ['단어', 'index']\n",
    "df = df.set_index('index').sort_index()\n",
    "df['가중치'] = weight\n",
    "df =  df.sort_values(by = '가중치').set_index('단어')\n",
    "df.head()"
   ]
  },
  {
   "cell_type": "code",
   "execution_count": 25,
   "id": "d37c27a3-df60-4d3f-82ab-9fc5839fc646",
   "metadata": {
    "tags": []
   },
   "outputs": [],
   "source": [
    "import matplotlib.pyplot as plt\n",
    "import matplotlib\n",
    "plt.rcParams['font.family'] = 'Malgun Gothic'\n",
    "matplotlib.rcParams['axes.unicode_minus'] = False"
   ]
  },
  {
   "cell_type": "code",
   "execution_count": 29,
   "id": "0a15eb99-17ed-42a7-8307-7ce0c0b2d9de",
   "metadata": {
    "tags": []
   },
   "outputs": [
    {
     "data": {
      "text/plain": [
       "<Axes: xlabel='단어'>"
      ]
     },
     "execution_count": 29,
     "metadata": {},
     "output_type": "execute_result"
    },
    {
     "data": {
      "image/png": "[encoded data removed]",
      "text/plain": [
       "<Figure size 1500x500 with 1 Axes>"
      ]
     },
     "metadata": {},
     "output_type": "display_data"
    }
   ],
   "source": [
    "n = df.head(20)\n",
    "p = df.tail(20)\n",
    "merge_df = pd.concat([n,p])\n",
    "merge_df.plot(kind='bar',\n",
    "             figsize = (15,5),\n",
    "             rot=45)"
   ]
  },
  {
   "cell_type": "code",
   "execution_count": null,
   "id": "317359e6-3149-42bb-9950-6f6ee6eb4fc7",
   "metadata": {
    "collapsed": true,
    "jupyter": {
     "outputs_hidden": true
    },
    "tags": []
   },
   "outputs": [],
   "source": []
  },
  {
   "cell_type": "code",
   "execution_count": null,
   "id": "d65a18d1-7dd5-49a9-a9f7-3603ee5ab2f8",
   "metadata": {},
   "outputs": [],
   "source": []
  },
  {
   "cell_type": "code",
   "execution_count": null,
   "id": "5c549e3d-8080-4e6e-a3cc-fa9a2247421a",
   "metadata": {},
   "outputs": [],
   "source": []
  }
 ],
 "metadata": {
  "kernelspec": {
   "display_name": "Python 3 (ipykernel)",
   "language": "python",
   "name": "python3"
  },
  "language_info": {
   "codemirror_mode": {
    "name": "ipython",
    "version": 3
   },
   "file_extension": ".py",
   "mimetype": "text/x-python",
   "name": "python",
   "nbconvert_exporter": "python",
   "pygments_lexer": "ipython3",
   "version": "3.11.5"
  }
 },
 "nbformat": 4,
 "nbformat_minor": 5
}
