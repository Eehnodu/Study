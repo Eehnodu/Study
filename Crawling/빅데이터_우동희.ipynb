{
 "cells": [
  {
   "cell_type": "markdown",
   "id": "f49fe2e4",
   "metadata": {},
   "source": [
    "# 필기답안지"
   ]
  },
  {
   "cell_type": "markdown",
   "id": "74e88e62",
   "metadata": {},
   "source": [
    "## 문제1 \n",
    "다음은 빅데이터 수집방식에 대한 설명이다. 빈 칸에 알맞은 방식을 고르시오."
   ]
  },
  {
   "cell_type": "markdown",
   "id": "29baa41a",
   "metadata": {},
   "source": [
    "- 1 : a\n",
    "- 2 : g\n",
    "- 3 : b\n",
    "- 4 : h"
   ]
  },
  {
   "cell_type": "markdown",
   "id": "098be8fb",
   "metadata": {},
   "source": [
    "## 문제2\n",
    "크롤링의 개념과 필요성에 대해 서술하시오.\n",
    "- 답안 : \n",
    " - 개념 : 주로 인터넷 상의 데이터를 수집하고 분류하는 것\n",
    " - 필요성 : 크롤링은 정보의 접근성을 높이고, 신속한 정보 처리를 가능하게 하며, 다양한 분야에서 의사결정을 지원하는 중요한 데이터를 제공함"
   ]
  },
  {
   "cell_type": "markdown",
   "id": "29e08d76",
   "metadata": {},
   "source": [
    "## 문제3\n",
    "BeautifulSoup모듈에 대해 서술하시오.\n",
    "- 답안 :\n",
    " - 파이썬 코드를 복잡하게 짜지 않아도 편하게 웹스크롤링을 할 수 있는 함수들을 제공하는 웹스크롤링 전문 모듈\n",
    " - HTML정보로 부터 원하는 데이터를 가져오기 쉽게, 비슷한 분류의 데이터별로 나누어주는(parsing) 파이썬 라이브러리"
   ]
  },
  {
   "cell_type": "markdown",
   "id": "04c5d7be",
   "metadata": {},
   "source": [
    "## 문제4\n",
    "다음 두 보기의 차이를 설명하시오.\n",
    "- 1 : find_element(By.CSS_SELECTOR) : 하나의 정보를 가져올 수 있음\n",
    "- 2 : find_elements(By.CSS_SELECTOR) : 여러 정보를 가져올 수 있음"
   ]
  },
  {
   "cell_type": "markdown",
   "id": "f82501f0",
   "metadata": {},
   "source": [
    "## 문제5\n",
    "다음은 HTML코드로 이루어진 웹 페이지이다. 밑줄 그어진 부분 BeautifulSoup 모듈의 함수를 이용하여 텍스트만 수집할 수 있는 코드에 빈칸을 작성하시오.\n",
    "- soup = bs(res.text, ‘lxml’)\n",
    "- crawling = soup.select_one(\"span#this_span\")\n",
    "- print(crawling.(text))"
   ]
  },
  {
   "cell_type": "markdown",
   "id": "de85ce27",
   "metadata": {},
   "source": [
    "# 실기답안지"
   ]
  },
  {
   "cell_type": "markdown",
   "id": "b2e6a5d6",
   "metadata": {},
   "source": [
    "## 문제2\n",
    "자동제어를 통해 네이버 홈페이지에 접속하고 ‘크롤링’를 입력하여 검색하는      시스템을 구축하시오."
   ]
  },
  {
   "cell_type": "code",
   "execution_count": 1,
   "id": "88f056a8",
   "metadata": {
    "tags": []
   },
   "outputs": [],
   "source": [
    "from selenium import webdriver as wb\n",
    "from selenium.webdriver.common.keys import Keys\n",
    "from selenium.webdriver.common.by import By\n",
    "from tqdm.notebook import tqdm\n",
    "import time\n",
    "import pandas as pd"
   ]
  },
  {
   "cell_type": "code",
   "execution_count": 2,
   "id": "586d2ced-118f-433f-8452-1996bbb65e14",
   "metadata": {
    "tags": []
   },
   "outputs": [],
   "source": [
    "driver=wb.Chrome()\n",
    "url = \"https://naver.com/\"\n",
    "driver.get(url)\n",
    "search = driver.find_element(By.ID, \"query\")\n",
    "search.send_keys(\"크롤링\")\n",
    "search.send_keys(Keys.ENTER)"
   ]
  },
  {
   "cell_type": "markdown",
   "id": "dd7ec12a",
   "metadata": {},
   "source": [
    "# 문제3\n",
    "자동제어를 통해 G마켓 홈페이지에 접속하고, 조건에 맞는 수집프로그램을 만드시오."
   ]
  },
  {
   "cell_type": "code",
   "execution_count": 3,
   "id": "fca68ddd-ed35-4448-a733-8fc4c345a684",
   "metadata": {
    "tags": []
   },
   "outputs": [],
   "source": [
    "from selenium import webdriver as wb\n",
    "from selenium.webdriver.common.keys import Keys\n",
    "from selenium.webdriver.common.by import By\n",
    "from tqdm.notebook import tqdm\n",
    "import time\n",
    "import pandas as pd"
   ]
  },
  {
   "cell_type": "code",
   "execution_count": 4,
   "id": "d65da098-6a25-44db-8b2d-041ea6b71eb0",
   "metadata": {
    "tags": []
   },
   "outputs": [
    {
     "data": {
      "text/html": [
       "<div>\n",
       "<style scoped>\n",
       "    .dataframe tbody tr th:only-of-type {\n",
       "        vertical-align: middle;\n",
       "    }\n",
       "\n",
       "    .dataframe tbody tr th {\n",
       "        vertical-align: top;\n",
       "    }\n",
       "\n",
       "    .dataframe thead th {\n",
       "        text-align: right;\n",
       "    }\n",
       "</style>\n",
       "<table border=\"1\" class=\"dataframe\">\n",
       "  <thead>\n",
       "    <tr style=\"text-align: right;\">\n",
       "      <th></th>\n",
       "      <th>상품명</th>\n",
       "      <th>가격</th>\n",
       "    </tr>\n",
       "    <tr>\n",
       "      <th>순서</th>\n",
       "      <th></th>\n",
       "      <th></th>\n",
       "    </tr>\n",
       "  </thead>\n",
       "  <tbody>\n",
       "    <tr>\n",
       "      <th>1</th>\n",
       "      <td>(최종2.3만)차이슨 헤어 드라이어 드라이기+노즐5개</td>\n",
       "      <td>31,850원</td>\n",
       "    </tr>\n",
       "    <tr>\n",
       "      <th>2</th>\n",
       "      <td>슈퍼파워 터보 팬 다용도 에어건 크로스건 13만RPM 자동차 눈털기 먼지털기 캠핑 ...</td>\n",
       "      <td>42,900원</td>\n",
       "    </tr>\n",
       "    <tr>\n",
       "      <th>3</th>\n",
       "      <td>[한성기업]한성기업 크래미 몬스터크랩 72g X 15개</td>\n",
       "      <td>17,900원</td>\n",
       "    </tr>\n",
       "    <tr>\n",
       "      <th>4</th>\n",
       "      <td>[메가박스](유니버스클럽 전용 쿠폰적용가 5천원) 메가박스 일반예매권 2D-주중/주말</td>\n",
       "      <td>15,000원</td>\n",
       "    </tr>\n",
       "    <tr>\n",
       "      <th>5</th>\n",
       "      <td>(선)브래비 유니 TRAINING SET F-ZIP N231UFT010</td>\n",
       "      <td>79,470원</td>\n",
       "    </tr>\n",
       "    <tr>\n",
       "      <th>6</th>\n",
       "      <td>[버블트리]15%+10% 버블트리 봄신상 스쿨룩 베이비페어 특가전</td>\n",
       "      <td>15,000원</td>\n",
       "    </tr>\n",
       "    <tr>\n",
       "      <th>7</th>\n",
       "      <td>[하기스]하기스 네이처메이드 밤부 밴드/팬티 기저귀 1박스 모음전</td>\n",
       "      <td>67,900원</td>\n",
       "    </tr>\n",
       "    <tr>\n",
       "      <th>8</th>\n",
       "      <td>BSP D9 휴대용 모바일 게이밍 컨트롤러 안드로이드 아이폰 태블릿 스위치 PC 윈...</td>\n",
       "      <td>43,600원</td>\n",
       "    </tr>\n",
       "    <tr>\n",
       "      <th>9</th>\n",
       "      <td>[서울우유]멸균우유 200ml 24입+24입 (2박스)</td>\n",
       "      <td>26,970원</td>\n",
       "    </tr>\n",
       "    <tr>\n",
       "      <th>10</th>\n",
       "      <td>수퍼맘스토리카페/총 120종의 대작/보카사이언스/Visual Literacy/Tal...</td>\n",
       "      <td>178,800원</td>\n",
       "    </tr>\n",
       "    <tr>\n",
       "      <th>11</th>\n",
       "      <td>[하기스]하기스 맥스드라이 밴드/팬티 기저귀 1박스 모음전</td>\n",
       "      <td>59,900원</td>\n",
       "    </tr>\n",
       "    <tr>\n",
       "      <th>12</th>\n",
       "      <td>[포스트]포스트 아몬드후레이크 620gx3 +밀폐용기2P(증정)</td>\n",
       "      <td>16,170원</td>\n",
       "    </tr>\n",
       "    <tr>\n",
       "      <th>13</th>\n",
       "      <td>(15+5%쿠폰)비비안 비너스 외 고탄력 팬티 스타킹 10매 7매 벌크 학생 압박 ...</td>\n",
       "      <td>10,900원</td>\n",
       "    </tr>\n",
       "    <tr>\n",
       "      <th>14</th>\n",
       "      <td>((15+5%쿠폰 오늘만 역마진SALE)) 데이뮤즈 봄신상 트렌치코트/점퍼/자켓/팬...</td>\n",
       "      <td>13,700원</td>\n",
       "    </tr>\n",
       "    <tr>\n",
       "      <th>15</th>\n",
       "      <td>[로코엘라](15%+5%쿠폰+무료반품) 홈쇼핑 1+1.SET 니트/팬츠/패딩 외 그...</td>\n",
       "      <td>11,580원</td>\n",
       "    </tr>\n",
       "    <tr>\n",
       "      <th>16</th>\n",
       "      <td>[제주삼다수]제주삼다수 무라벨 2L 24병 /생수전문배송</td>\n",
       "      <td>22,800원</td>\n",
       "    </tr>\n",
       "    <tr>\n",
       "      <th>17</th>\n",
       "      <td>여수사나이 국내산 돌산갓김치 1.5kg 남도김치 산지직송 당일생산</td>\n",
       "      <td>11,000원</td>\n",
       "    </tr>\n",
       "    <tr>\n",
       "      <th>18</th>\n",
       "      <td>[바브키즈]바브키즈 10+15% 쿠폰 봄상품 출시 상하복 모음</td>\n",
       "      <td>9,300원</td>\n",
       "    </tr>\n",
       "    <tr>\n",
       "      <th>19</th>\n",
       "      <td>[LG전자]혜택가 38만원대 LG전자 휘센 제습기 20L 블루 DQ202PBBC 빠른배송</td>\n",
       "      <td>418,270원</td>\n",
       "    </tr>\n",
       "    <tr>\n",
       "      <th>20</th>\n",
       "      <td>못난이 한라봉 4.5kg 혼합과 벌크포장</td>\n",
       "      <td>19,010원</td>\n",
       "    </tr>\n",
       "  </tbody>\n",
       "</table>\n",
       "</div>"
      ],
      "text/plain": [
       "                                                  상품명        가격\n",
       "순서                                                             \n",
       "1                       (최종2.3만)차이슨 헤어 드라이어 드라이기+노즐5개   31,850원\n",
       "2   슈퍼파워 터보 팬 다용도 에어건 크로스건 13만RPM 자동차 눈털기 먼지털기 캠핑 ...   42,900원\n",
       "3                      [한성기업]한성기업 크래미 몬스터크랩 72g X 15개   17,900원\n",
       "4     [메가박스](유니버스클럽 전용 쿠폰적용가 5천원) 메가박스 일반예매권 2D-주중/주말   15,000원\n",
       "5             (선)브래비 유니 TRAINING SET F-ZIP N231UFT010   79,470원\n",
       "6                [버블트리]15%+10% 버블트리 봄신상 스쿨룩 베이비페어 특가전   15,000원\n",
       "7                [하기스]하기스 네이처메이드 밤부 밴드/팬티 기저귀 1박스 모음전   67,900원\n",
       "8   BSP D9 휴대용 모바일 게이밍 컨트롤러 안드로이드 아이폰 태블릿 스위치 PC 윈...   43,600원\n",
       "9                      [서울우유]멸균우유 200ml 24입+24입 (2박스)   26,970원\n",
       "10  수퍼맘스토리카페/총 120종의 대작/보카사이언스/Visual Literacy/Tal...  178,800원\n",
       "11                   [하기스]하기스 맥스드라이 밴드/팬티 기저귀 1박스 모음전   59,900원\n",
       "12                [포스트]포스트 아몬드후레이크 620gx3 +밀폐용기2P(증정)   16,170원\n",
       "13  (15+5%쿠폰)비비안 비너스 외 고탄력 팬티 스타킹 10매 7매 벌크 학생 압박 ...   10,900원\n",
       "14  ((15+5%쿠폰 오늘만 역마진SALE)) 데이뮤즈 봄신상 트렌치코트/점퍼/자켓/팬...   13,700원\n",
       "15  [로코엘라](15%+5%쿠폰+무료반품) 홈쇼핑 1+1.SET 니트/팬츠/패딩 외 그...   11,580원\n",
       "16                    [제주삼다수]제주삼다수 무라벨 2L 24병 /생수전문배송   22,800원\n",
       "17               여수사나이 국내산 돌산갓김치 1.5kg 남도김치 산지직송 당일생산   11,000원\n",
       "18                 [바브키즈]바브키즈 10+15% 쿠폰 봄상품 출시 상하복 모음    9,300원\n",
       "19  [LG전자]혜택가 38만원대 LG전자 휘센 제습기 20L 블루 DQ202PBBC 빠른배송  418,270원\n",
       "20                             못난이 한라봉 4.5kg 혼합과 벌크포장   19,010원"
      ]
     },
     "execution_count": 4,
     "metadata": {},
     "output_type": "execute_result"
    }
   ],
   "source": [
    "driver=wb.Chrome()\n",
    "url= \"http://corners.gmarket.co.kr/Bestsellers\"\n",
    "driver.get(url)\n",
    "title_list = []\n",
    "num_list =[]\n",
    "price_list=[]\n",
    "title = driver.find_elements(By.CSS_SELECTOR, \"#gBestWrap > div.best-list > ul > li > a\")\n",
    "for i in range(1,21):\n",
    "    title_list.append(title[i].text)\n",
    "price = driver.find_elements(By.CSS_SELECTOR, \"#gBestWrap > div.best-list > ul > li > div.item_price > div.s-price > strong > span\")\n",
    "for i in range(1,21):\n",
    "    num_list.append(i)\n",
    "    price_list.append(price[i].text)\n",
    "dic = {'순서' : num_list, '상품명' : title_list, '가격' : price_list}\n",
    "gmarket = pd.DataFrame(dic)\n",
    "gmarket.set_index(\"순서\" ,inplace = True)\n",
    "gmarket"
   ]
  },
  {
   "cell_type": "markdown",
   "id": "5fb5a240",
   "metadata": {},
   "source": [
    "# 문제4\n",
    "멜론차트에서 1~100위까지 정보를 수집하는 프로그램을 작성하시오."
   ]
  },
  {
   "cell_type": "code",
   "execution_count": 5,
   "id": "601bd933-c771-4fa2-94bc-756ee51af4e9",
   "metadata": {
    "tags": []
   },
   "outputs": [],
   "source": [
    "from selenium import webdriver as wb\n",
    "from selenium.webdriver.common.keys import Keys\n",
    "from selenium.webdriver.common.by import By\n",
    "from tqdm.notebook import tqdm\n",
    "import time\n",
    "import pandas as pd"
   ]
  },
  {
   "cell_type": "code",
   "execution_count": 6,
   "id": "59a23936",
   "metadata": {
    "tags": []
   },
   "outputs": [
    {
     "name": "stdout",
     "output_type": "stream",
     "text": [
      "50\n",
      "['밤양갱', 'Love wins all', '첫 만남은 계획대로 되지 않아', 'To. X', '홀씨', '비의 랩소디', 'EASY', 'Love 119', 'Shopper', 'Perfect Night', '에피소드', '그대만 있다면 (여름날 우리 X 너드커넥션 (Nerd Connection))', 'Drama', '헤어지자 말해요', 'Super Lady', 'Wife', '인사', '사랑은 늘 도망가', '꿈', 'Seven (feat. Latto) - Clean Ver.', '나는 아픈 건 딱 질색이니까', 'I AM', 'MANIAC', '모래 알갱이', '우리들의 블루스', 'Get A Guitar', 'Do or Die', 'Love Lee', '다시 만날 수 있을까', '너의 모든 순간', 'Baddie', '이제 나만 믿어요', '예뻤어', '사막에서 꽃을 피우듯', '무지개', 'You & Me', '관객이 될게 (I stan U)', '한 페이지가 될 수 있게', '퀸카 (Queencard)', '잘 지내자, 우리 (여름날 우리 X 로이킴)', 'London Boy', 'Super Shy', 'Hype Boy', 'Shh.. (Feat. 혜인(HYEIN), 조원선 & Special Narr. 패티김)', '아버지', 'Polaroid', 'Ditto', '후라이의 꿈', '인생찬가', '사랑인가 봐']\n",
      "100\n",
      "['밤양갱', 'Love wins all', '첫 만남은 계획대로 되지 않아', 'To. X', '홀씨', '비의 랩소디', 'EASY', 'Love 119', 'Shopper', 'Perfect Night', '에피소드', '그대만 있다면 (여름날 우리 X 너드커넥션 (Nerd Connection))', 'Drama', '헤어지자 말해요', 'Super Lady', 'Wife', '인사', '사랑은 늘 도망가', '꿈', 'Seven (feat. Latto) - Clean Ver.', '나는 아픈 건 딱 질색이니까', 'I AM', 'MANIAC', '모래 알갱이', '우리들의 블루스', 'Get A Guitar', 'Do or Die', 'Love Lee', '다시 만날 수 있을까', '너의 모든 순간', 'Baddie', '이제 나만 믿어요', '예뻤어', '사막에서 꽃을 피우듯', '무지개', 'You & Me', '관객이 될게 (I stan U)', '한 페이지가 될 수 있게', '퀸카 (Queencard)', '잘 지내자, 우리 (여름날 우리 X 로이킴)', 'London Boy', 'Super Shy', 'Hype Boy', 'Shh.. (Feat. 혜인(HYEIN), 조원선 & Special Narr. 패티김)', '아버지', 'Polaroid', 'Ditto', '후라이의 꿈', '인생찬가', '사랑인가 봐', 'ETA', '천상연', 'A bientot', '사건의 지평선', 'Standing Next to You', '어떻게 이별까지 사랑하겠어, 널 사랑하는 거지', '사랑할 수밖에', '기억해줘요 내 모든 날과 그때를', 'Yes or No (Feat. 허윤진 of LE SSERAFIM, Crush)', '사랑하지 않아서 그랬어', '취중고백', 'Spicy', '그대가 내 안에 박혔다(그내박)', '심(心)', '모든 날, 모든 순간 (Every day, Every Moment)', '이브, 프시케 그리고 푸른 수염의 아내', '연애편지', 'Dynamite', \"I Don't Think That I Like Her\", '봄날', 'LOVE DIVE', '별 떨어진다 (I Do)', '손오공', '첫 눈', '사랑..그게 뭔데', '해요 (2022)', '주저하는 연인들을 위해', 'Kitsch', '음악의 신', 'Steal The Show (From “엘리멘탈”)', '파이팅 해야지 (Feat. 이영지)', '그대가 있는 곳, 언제 어디든', 'After LIKE', '물론', '다정히 내 이름을 부르면', 'Discord', 'OMG', 'Dangerously', 'Fast Forward', '그중에 그대를 만나', 'UNFORGIVEN (feat. Nile Rodgers)', '건물 사이에 피어난 장미 (Rose Blossom)', 'Attention', 'Butter', 'Smoke (Prod. Dynamicduo, Padi)', 'Merry PLLIstmas', 'I Love You', 'Bubble', '여섯 번째 여름', '나에게 그대만이']\n",
      "50\n",
      "['비비 (BIBI)', '아이유', 'TWS (투어스)', '태연 (TAEYEON)', '아이유', '임재현', 'LE SSERAFIM (르세라핌)', 'RIIZE', '아이유', 'LE SSERAFIM (르세라핌)', '이무진', '너드커넥션 (Nerd Connection)', 'aespa', '박재정', '(여자)아이들', '(여자)아이들', '범진', '임영웅', '태연 (TAEYEON)', '정국', '(여자)아이들', 'IVE (아이브)', 'VIVIZ (비비지)', '임영웅', '임영웅', 'RIIZE', '임영웅', 'AKMU (악뮤)', '임영웅', '성시경', 'IVE (아이브)', '임영웅', 'DAY6 (데이식스)', '우디 (Woody)', '임영웅', '제니 (JENNIE)', '아이유', 'DAY6 (데이식스)', '(여자)아이들', '로이킴', '임영웅', 'NewJeans', 'NewJeans', '아이유', '임영웅', '임영웅', 'NewJeans', 'AKMU (악뮤)', '임영웅', '멜로망스']\n",
      "100\n",
      "['비비 (BIBI)', '아이유', 'TWS (투어스)', '태연 (TAEYEON)', '아이유', '임재현', 'LE SSERAFIM (르세라핌)', 'RIIZE', '아이유', 'LE SSERAFIM (르세라핌)', '이무진', '너드커넥션 (Nerd Connection)', 'aespa', '박재정', '(여자)아이들', '(여자)아이들', '범진', '임영웅', '태연 (TAEYEON)', '정국', '(여자)아이들', 'IVE (아이브)', 'VIVIZ (비비지)', '임영웅', '임영웅', 'RIIZE', '임영웅', 'AKMU (악뮤)', '임영웅', '성시경', 'IVE (아이브)', '임영웅', 'DAY6 (데이식스)', '우디 (Woody)', '임영웅', '제니 (JENNIE)', '아이유', 'DAY6 (데이식스)', '(여자)아이들', '로이킴', '임영웅', 'NewJeans', 'NewJeans', '아이유', '임영웅', '임영웅', 'NewJeans', 'AKMU (악뮤)', '임영웅', '멜로망스', 'NewJeans', '이창섭', '임영웅', '윤하 (YOUNHA)', '정국', 'AKMU (악뮤)', '볼빨간사춘기', '화곡동 청개구리', '그루비룸 (GroovyRoom)', '임한별', '김민석', 'aespa', '순순희(기태)', 'DK(디셈버)', '폴킴', 'LE SSERAFIM (르세라핌)', '임영웅', '방탄소년단', 'Charlie Puth', '방탄소년단', 'IVE (아이브)', '디오 (D.O.)', '세븐틴 (SEVENTEEN)', 'EXO', '지아', '#안녕', '잔나비', 'IVE (아이브)', '세븐틴 (SEVENTEEN)', 'Lauv', '부석순 (SEVENTEEN)', '로이킴', 'IVE (아이브)', '허각', '경서예지, 전건호', 'QWER', 'NewJeans', 'Charlie Puth', '전소미', '김호중', 'LE SSERAFIM (르세라핌)', 'H1-KEY (하이키)', 'NewJeans', '방탄소년단', '다이나믹 듀오, 이영지', 'PLAVE', '안세하', 'STAYC(스테이씨)', 'PLAVE', '탑현']\n",
      "[1, 2, 3, 4, 5, 6, 7, 8, 9, 10, 11, 12, 13, 14, 15, 16, 17, 18, 19, 20, 21, 22, 23, 24, 25, 26, 27, 28, 29, 30, 31, 32, 33, 34, 35, 36, 37, 38, 39, 40, 41, 42, 43, 44, 45, 46, 47, 48, 49, 50, 51, 52, 53, 54, 55, 56, 57, 58, 59, 60, 61, 62, 63, 64, 65, 66, 67, 68, 69, 70, 71, 72, 73, 74, 75, 76, 77, 78, 79, 80, 81, 82, 83, 84, 85, 86, 87, 88, 89, 90, 91, 92, 93, 94, 95, 96, 97, 98, 99, 100]\n",
      "100\n"
     ]
    }
   ],
   "source": [
    "driver = wb.Chrome()\n",
    "url = \"https://www.melon.com/chart/\"\n",
    "driver.get(url)\n",
    "\n",
    "title_list=[]\n",
    "title = driver.find_elements(By.CSS_SELECTOR, \"#lst50 > td > div > div > div.ellipsis.rank01 > span > a\")\n",
    "for i in title:\n",
    "    title_list.append(i.text)\n",
    "\n",
    "title2 = driver.find_elements(By.CSS_SELECTOR, \"#lst100 > td > div > div > div.ellipsis.rank01 > span > a\")\n",
    "for i in title2:\n",
    "    title_list.append(i.text)\n",
    "\n",
    "singer_list = []\n",
    "singer = driver.find_elements(By.CSS_SELECTOR, \"#lst50 > td > div > div > div.ellipsis.rank02\")\n",
    "for i in singer:\n",
    "    singer_list.append(i.text)\n",
    "\n",
    "singer2 = driver.find_elements(By.CSS_SELECTOR, \"#lst100 > td > div > div > div.ellipsis.rank02\")\n",
    "for i in singer2:\n",
    "    singer_list.append(i.text)\n",
    "\n",
    "num_list = []\n",
    "for i in range(1,101):\n",
    "    num_list.append(i)\n",
    "\n",
    "dic = {'순위' : num_list, '곡제목' : title_list, '가수명' : singer_list}\n",
    "melon = pd.DataFrame(dic)\n",
    "melon.set_index( \"순위\" ,inplace = True)\n",
    "melon\n",
    "melon.to_csv('melon.csv', encoding=\"euc-kr\")"
   ]
  },
  {
   "cell_type": "markdown",
   "id": "9c9091fc",
   "metadata": {},
   "source": [
    "# 문제5\n",
    "자동제어를 통해 한솥 페이지에 접속하고 전체 메뉴의 메뉴명 가격정보를 수집할 수 있는 프로그램을 작성하세요 "
   ]
  },
  {
   "cell_type": "code",
   "execution_count": 7,
   "id": "84300689-c2c9-48e4-b42b-566ffd68305b",
   "metadata": {
    "tags": []
   },
   "outputs": [],
   "source": [
    "from selenium import webdriver as wb\n",
    "from selenium.webdriver.common.keys import Keys\n",
    "from selenium.webdriver.common.by import By\n",
    "from tqdm.notebook import tqdm\n",
    "import time\n",
    "import pandas as pd"
   ]
  },
  {
   "cell_type": "code",
   "execution_count": 8,
   "id": "a7ee4451",
   "metadata": {
    "tags": []
   },
   "outputs": [
    {
     "name": "stdout",
     "output_type": "stream",
     "text": [
      "더보기가 완료 됬습니다.\n"
     ]
    }
   ],
   "source": [
    "driver= wb.Chrome()\n",
    "url= \"https://www.hsd.co.kr/menu/menu_list\"\n",
    "driver.get(url)\n",
    "try : \n",
    "    for i in range(50):\n",
    "        btn = driver.find_element(By.CSS_SELECTOR, \"#btn_more > span > a\")\n",
    "        btn.click()\n",
    "        time.sleep(1)\n",
    "except :\n",
    "    print(\"더보기가 완료 됬습니다.\")\n",
    "title = driver.find_elements(By.CSS_SELECTOR, \"div > div.item-text > h4\")\n",
    "price = driver.find_elements(By.CSS_SELECTOR, \"div > div.item-text > div > strong\")\n",
    "title_list =[]\n",
    "price_list = []\n",
    "for i in range(len(title)):\n",
    "    title_list.append(title[i].text)\n",
    "    price_list.append(price[i].text)\n",
    "dic = {'메뉴' : title_list, '가격' : price_list}\n",
    "data = pd.DataFrame(dic, index=range(1, len(title_list)+1))\n",
    "data.to_csv('menu.csv', encoding=\"euc-kr\")"
   ]
  },
  {
   "cell_type": "code",
   "execution_count": null,
   "id": "e23c854a-b78b-42aa-bdaf-952ba0cbdc85",
   "metadata": {},
   "outputs": [],
   "source": []
  }
 ],
 "metadata": {
  "kernelspec": {
   "display_name": "Python 3 (ipykernel)",
   "language": "python",
   "name": "python3"
  },
  "language_info": {
   "codemirror_mode": {
    "name": "ipython",
    "version": 3
   },
   "file_extension": ".py",
   "mimetype": "text/x-python",
   "name": "python",
   "nbconvert_exporter": "python",
   "pygments_lexer": "ipython3",
   "version": "3.11.5"
  }
 },
 "nbformat": 4,
 "nbformat_minor": 5
}
