{
 "cells": [
  {
   "cell_type": "code",
   "execution_count": 1,
   "id": "3dbdab5e-9ffd-44c2-8390-7e00774f747c",
   "metadata": {
    "tags": []
   },
   "outputs": [],
   "source": [
    "from selenium import webdriver as wb\n",
    "from selenium.webdriver.common.keys import Keys\n",
    "from selenium.webdriver.common.by import By\n",
    "from tqdm.notebook import tqdm\n",
    "import time\n",
    "# 파일시스템을 위한 라이브러리 (파일, 폴더를 삭제, 생성하는 라이브러리)\n",
    "import os\n",
    "# 이미지의 url을 실제 파일로 변환하는 라이브러리\n",
    "from urllib.request import urlretrieve"
   ]
  },
  {
   "cell_type": "code",
   "execution_count": 2,
   "id": "cd47f429-9b74-4e24-96a0-cea1bfdd6f50",
   "metadata": {
    "tags": []
   },
   "outputs": [],
   "source": [
    "# 바탕화면에 이미지라는 폴더가 없다면, 바탕화면에 이미지 폴더를 만들어라\n",
    "if not os.path.isdir(\"C:/Users/smhrd/Desktop/이미지\"):\n",
    "    os.mkdir(\"C:/Users/smhrd/Desktop/이미지\")"
   ]
  },
  {
   "cell_type": "code",
   "execution_count": 4,
   "id": "2683df8f-ad05-4072-92ed-317e8dcf8149",
   "metadata": {
    "tags": []
   },
   "outputs": [],
   "source": [
    "driver = wb.Chrome()\n",
    "driver.get(\"https://search.naver.com/search.naver?ssc=tab.image.all&where=image&sm=tab_jum&query=%ED%91%B8%EB%B0%94%EC%98%A4#imgId=image_sas%3Aweb_c1d6edf4c1703954c19ba7186750f1a0\")"
   ]
  },
  {
   "cell_type": "code",
   "execution_count": 6,
   "id": "c5e14f27-cf30-4ad1-9b93-d3fdf84d4d5d",
   "metadata": {
    "collapsed": true,
    "jupyter": {
     "outputs_hidden": true
    },
    "tags": []
   },
   "outputs": [
    {
     "data": {
      "text/plain": [
       "[<selenium.webdriver.remote.webelement.WebElement (session=\"7fcea8e064b7cb0740ee767a26560dec\", element=\"f.74DAE8B1EF3B7F7503D775BAE021F8A8.d.9FECB3A8AE4ECE2A5047FE02FB56491D.e.101\")>,\n",
       " <selenium.webdriver.remote.webelement.WebElement (session=\"7fcea8e064b7cb0740ee767a26560dec\", element=\"f.74DAE8B1EF3B7F7503D775BAE021F8A8.d.9FECB3A8AE4ECE2A5047FE02FB56491D.e.92\")>,\n",
       " <selenium.webdriver.remote.webelement.WebElement (session=\"7fcea8e064b7cb0740ee767a26560dec\", element=\"f.74DAE8B1EF3B7F7503D775BAE021F8A8.d.9FECB3A8AE4ECE2A5047FE02FB56491D.e.93\")>,\n",
       " <selenium.webdriver.remote.webelement.WebElement (session=\"7fcea8e064b7cb0740ee767a26560dec\", element=\"f.74DAE8B1EF3B7F7503D775BAE021F8A8.d.9FECB3A8AE4ECE2A5047FE02FB56491D.e.94\")>,\n",
       " <selenium.webdriver.remote.webelement.WebElement (session=\"7fcea8e064b7cb0740ee767a26560dec\", element=\"f.74DAE8B1EF3B7F7503D775BAE021F8A8.d.9FECB3A8AE4ECE2A5047FE02FB56491D.e.102\")>,\n",
       " <selenium.webdriver.remote.webelement.WebElement (session=\"7fcea8e064b7cb0740ee767a26560dec\", element=\"f.74DAE8B1EF3B7F7503D775BAE021F8A8.d.9FECB3A8AE4ECE2A5047FE02FB56491D.e.95\")>,\n",
       " <selenium.webdriver.remote.webelement.WebElement (session=\"7fcea8e064b7cb0740ee767a26560dec\", element=\"f.74DAE8B1EF3B7F7503D775BAE021F8A8.d.9FECB3A8AE4ECE2A5047FE02FB56491D.e.96\")>,\n",
       " <selenium.webdriver.remote.webelement.WebElement (session=\"7fcea8e064b7cb0740ee767a26560dec\", element=\"f.74DAE8B1EF3B7F7503D775BAE021F8A8.d.9FECB3A8AE4ECE2A5047FE02FB56491D.e.103\")>,\n",
       " <selenium.webdriver.remote.webelement.WebElement (session=\"7fcea8e064b7cb0740ee767a26560dec\", element=\"f.74DAE8B1EF3B7F7503D775BAE021F8A8.d.9FECB3A8AE4ECE2A5047FE02FB56491D.e.97\")>,\n",
       " <selenium.webdriver.remote.webelement.WebElement (session=\"7fcea8e064b7cb0740ee767a26560dec\", element=\"f.74DAE8B1EF3B7F7503D775BAE021F8A8.d.9FECB3A8AE4ECE2A5047FE02FB56491D.e.98\")>,\n",
       " <selenium.webdriver.remote.webelement.WebElement (session=\"7fcea8e064b7cb0740ee767a26560dec\", element=\"f.74DAE8B1EF3B7F7503D775BAE021F8A8.d.9FECB3A8AE4ECE2A5047FE02FB56491D.e.99\")>,\n",
       " <selenium.webdriver.remote.webelement.WebElement (session=\"7fcea8e064b7cb0740ee767a26560dec\", element=\"f.74DAE8B1EF3B7F7503D775BAE021F8A8.d.9FECB3A8AE4ECE2A5047FE02FB56491D.e.104\")>,\n",
       " <selenium.webdriver.remote.webelement.WebElement (session=\"7fcea8e064b7cb0740ee767a26560dec\", element=\"f.74DAE8B1EF3B7F7503D775BAE021F8A8.d.9FECB3A8AE4ECE2A5047FE02FB56491D.e.105\")>,\n",
       " <selenium.webdriver.remote.webelement.WebElement (session=\"7fcea8e064b7cb0740ee767a26560dec\", element=\"f.74DAE8B1EF3B7F7503D775BAE021F8A8.d.9FECB3A8AE4ECE2A5047FE02FB56491D.e.106\")>,\n",
       " <selenium.webdriver.remote.webelement.WebElement (session=\"7fcea8e064b7cb0740ee767a26560dec\", element=\"f.74DAE8B1EF3B7F7503D775BAE021F8A8.d.9FECB3A8AE4ECE2A5047FE02FB56491D.e.107\")>,\n",
       " <selenium.webdriver.remote.webelement.WebElement (session=\"7fcea8e064b7cb0740ee767a26560dec\", element=\"f.74DAE8B1EF3B7F7503D775BAE021F8A8.d.9FECB3A8AE4ECE2A5047FE02FB56491D.e.108\")>,\n",
       " <selenium.webdriver.remote.webelement.WebElement (session=\"7fcea8e064b7cb0740ee767a26560dec\", element=\"f.74DAE8B1EF3B7F7503D775BAE021F8A8.d.9FECB3A8AE4ECE2A5047FE02FB56491D.e.109\")>,\n",
       " <selenium.webdriver.remote.webelement.WebElement (session=\"7fcea8e064b7cb0740ee767a26560dec\", element=\"f.74DAE8B1EF3B7F7503D775BAE021F8A8.d.9FECB3A8AE4ECE2A5047FE02FB56491D.e.110\")>,\n",
       " <selenium.webdriver.remote.webelement.WebElement (session=\"7fcea8e064b7cb0740ee767a26560dec\", element=\"f.74DAE8B1EF3B7F7503D775BAE021F8A8.d.9FECB3A8AE4ECE2A5047FE02FB56491D.e.111\")>,\n",
       " <selenium.webdriver.remote.webelement.WebElement (session=\"7fcea8e064b7cb0740ee767a26560dec\", element=\"f.74DAE8B1EF3B7F7503D775BAE021F8A8.d.9FECB3A8AE4ECE2A5047FE02FB56491D.e.112\")>,\n",
       " <selenium.webdriver.remote.webelement.WebElement (session=\"7fcea8e064b7cb0740ee767a26560dec\", element=\"f.74DAE8B1EF3B7F7503D775BAE021F8A8.d.9FECB3A8AE4ECE2A5047FE02FB56491D.e.113\")>,\n",
       " <selenium.webdriver.remote.webelement.WebElement (session=\"7fcea8e064b7cb0740ee767a26560dec\", element=\"f.74DAE8B1EF3B7F7503D775BAE021F8A8.d.9FECB3A8AE4ECE2A5047FE02FB56491D.e.114\")>,\n",
       " <selenium.webdriver.remote.webelement.WebElement (session=\"7fcea8e064b7cb0740ee767a26560dec\", element=\"f.74DAE8B1EF3B7F7503D775BAE021F8A8.d.9FECB3A8AE4ECE2A5047FE02FB56491D.e.115\")>,\n",
       " <selenium.webdriver.remote.webelement.WebElement (session=\"7fcea8e064b7cb0740ee767a26560dec\", element=\"f.74DAE8B1EF3B7F7503D775BAE021F8A8.d.9FECB3A8AE4ECE2A5047FE02FB56491D.e.116\")>,\n",
       " <selenium.webdriver.remote.webelement.WebElement (session=\"7fcea8e064b7cb0740ee767a26560dec\", element=\"f.74DAE8B1EF3B7F7503D775BAE021F8A8.d.9FECB3A8AE4ECE2A5047FE02FB56491D.e.117\")>,\n",
       " <selenium.webdriver.remote.webelement.WebElement (session=\"7fcea8e064b7cb0740ee767a26560dec\", element=\"f.74DAE8B1EF3B7F7503D775BAE021F8A8.d.9FECB3A8AE4ECE2A5047FE02FB56491D.e.118\")>,\n",
       " <selenium.webdriver.remote.webelement.WebElement (session=\"7fcea8e064b7cb0740ee767a26560dec\", element=\"f.74DAE8B1EF3B7F7503D775BAE021F8A8.d.9FECB3A8AE4ECE2A5047FE02FB56491D.e.119\")>,\n",
       " <selenium.webdriver.remote.webelement.WebElement (session=\"7fcea8e064b7cb0740ee767a26560dec\", element=\"f.74DAE8B1EF3B7F7503D775BAE021F8A8.d.9FECB3A8AE4ECE2A5047FE02FB56491D.e.120\")>,\n",
       " <selenium.webdriver.remote.webelement.WebElement (session=\"7fcea8e064b7cb0740ee767a26560dec\", element=\"f.74DAE8B1EF3B7F7503D775BAE021F8A8.d.9FECB3A8AE4ECE2A5047FE02FB56491D.e.121\")>,\n",
       " <selenium.webdriver.remote.webelement.WebElement (session=\"7fcea8e064b7cb0740ee767a26560dec\", element=\"f.74DAE8B1EF3B7F7503D775BAE021F8A8.d.9FECB3A8AE4ECE2A5047FE02FB56491D.e.122\")>,\n",
       " <selenium.webdriver.remote.webelement.WebElement (session=\"7fcea8e064b7cb0740ee767a26560dec\", element=\"f.74DAE8B1EF3B7F7503D775BAE021F8A8.d.9FECB3A8AE4ECE2A5047FE02FB56491D.e.123\")>,\n",
       " <selenium.webdriver.remote.webelement.WebElement (session=\"7fcea8e064b7cb0740ee767a26560dec\", element=\"f.74DAE8B1EF3B7F7503D775BAE021F8A8.d.9FECB3A8AE4ECE2A5047FE02FB56491D.e.124\")>,\n",
       " <selenium.webdriver.remote.webelement.WebElement (session=\"7fcea8e064b7cb0740ee767a26560dec\", element=\"f.74DAE8B1EF3B7F7503D775BAE021F8A8.d.9FECB3A8AE4ECE2A5047FE02FB56491D.e.125\")>,\n",
       " <selenium.webdriver.remote.webelement.WebElement (session=\"7fcea8e064b7cb0740ee767a26560dec\", element=\"f.74DAE8B1EF3B7F7503D775BAE021F8A8.d.9FECB3A8AE4ECE2A5047FE02FB56491D.e.126\")>,\n",
       " <selenium.webdriver.remote.webelement.WebElement (session=\"7fcea8e064b7cb0740ee767a26560dec\", element=\"f.74DAE8B1EF3B7F7503D775BAE021F8A8.d.9FECB3A8AE4ECE2A5047FE02FB56491D.e.127\")>,\n",
       " <selenium.webdriver.remote.webelement.WebElement (session=\"7fcea8e064b7cb0740ee767a26560dec\", element=\"f.74DAE8B1EF3B7F7503D775BAE021F8A8.d.9FECB3A8AE4ECE2A5047FE02FB56491D.e.128\")>,\n",
       " <selenium.webdriver.remote.webelement.WebElement (session=\"7fcea8e064b7cb0740ee767a26560dec\", element=\"f.74DAE8B1EF3B7F7503D775BAE021F8A8.d.9FECB3A8AE4ECE2A5047FE02FB56491D.e.129\")>,\n",
       " <selenium.webdriver.remote.webelement.WebElement (session=\"7fcea8e064b7cb0740ee767a26560dec\", element=\"f.74DAE8B1EF3B7F7503D775BAE021F8A8.d.9FECB3A8AE4ECE2A5047FE02FB56491D.e.130\")>,\n",
       " <selenium.webdriver.remote.webelement.WebElement (session=\"7fcea8e064b7cb0740ee767a26560dec\", element=\"f.74DAE8B1EF3B7F7503D775BAE021F8A8.d.9FECB3A8AE4ECE2A5047FE02FB56491D.e.131\")>,\n",
       " <selenium.webdriver.remote.webelement.WebElement (session=\"7fcea8e064b7cb0740ee767a26560dec\", element=\"f.74DAE8B1EF3B7F7503D775BAE021F8A8.d.9FECB3A8AE4ECE2A5047FE02FB56491D.e.132\")>,\n",
       " <selenium.webdriver.remote.webelement.WebElement (session=\"7fcea8e064b7cb0740ee767a26560dec\", element=\"f.74DAE8B1EF3B7F7503D775BAE021F8A8.d.9FECB3A8AE4ECE2A5047FE02FB56491D.e.133\")>,\n",
       " <selenium.webdriver.remote.webelement.WebElement (session=\"7fcea8e064b7cb0740ee767a26560dec\", element=\"f.74DAE8B1EF3B7F7503D775BAE021F8A8.d.9FECB3A8AE4ECE2A5047FE02FB56491D.e.134\")>,\n",
       " <selenium.webdriver.remote.webelement.WebElement (session=\"7fcea8e064b7cb0740ee767a26560dec\", element=\"f.74DAE8B1EF3B7F7503D775BAE021F8A8.d.9FECB3A8AE4ECE2A5047FE02FB56491D.e.135\")>,\n",
       " <selenium.webdriver.remote.webelement.WebElement (session=\"7fcea8e064b7cb0740ee767a26560dec\", element=\"f.74DAE8B1EF3B7F7503D775BAE021F8A8.d.9FECB3A8AE4ECE2A5047FE02FB56491D.e.136\")>,\n",
       " <selenium.webdriver.remote.webelement.WebElement (session=\"7fcea8e064b7cb0740ee767a26560dec\", element=\"f.74DAE8B1EF3B7F7503D775BAE021F8A8.d.9FECB3A8AE4ECE2A5047FE02FB56491D.e.137\")>,\n",
       " <selenium.webdriver.remote.webelement.WebElement (session=\"7fcea8e064b7cb0740ee767a26560dec\", element=\"f.74DAE8B1EF3B7F7503D775BAE021F8A8.d.9FECB3A8AE4ECE2A5047FE02FB56491D.e.138\")>,\n",
       " <selenium.webdriver.remote.webelement.WebElement (session=\"7fcea8e064b7cb0740ee767a26560dec\", element=\"f.74DAE8B1EF3B7F7503D775BAE021F8A8.d.9FECB3A8AE4ECE2A5047FE02FB56491D.e.139\")>,\n",
       " <selenium.webdriver.remote.webelement.WebElement (session=\"7fcea8e064b7cb0740ee767a26560dec\", element=\"f.74DAE8B1EF3B7F7503D775BAE021F8A8.d.9FECB3A8AE4ECE2A5047FE02FB56491D.e.140\")>]"
      ]
     },
     "execution_count": 6,
     "metadata": {},
     "output_type": "execute_result"
    }
   ],
   "source": [
    "img = driver.find_elements(By.CSS_SELECTOR, \"#main_pack > section.sc_new.sp_nimage._fe_image_viewer_prepend_target > div.api_subject_bx._fe_image_tab_list_root.ani_fadein > div > div > div.image_tile._fe_image_tab_grid > div > div > div > div > img\")\n",
    "img"
   ]
  },
  {
   "cell_type": "code",
   "execution_count": 8,
   "id": "5fce4c7d-b06d-477e-a0eb-c9fa8e6bdc6d",
   "metadata": {
    "tags": []
   },
   "outputs": [
    {
     "data": {
      "text/plain": [
       "'https://search.pstatic.net/sunny/?src=https%3A%2F%2Ft1.daumcdn.net%2Fcafeattach%2F1D7bO%2Ff7be518506d2f44cd6c7082b96cd7e9ae31acd23&type=a340'"
      ]
     },
     "execution_count": 8,
     "metadata": {},
     "output_type": "execute_result"
    }
   ],
   "source": [
    "# 이미지태그의 속성 중에 src를 가져와라\n",
    "# get_attribute('속성') -> ex) 이미지태그의 src / a태그의 href\n",
    "img[0].get_attribute('src')"
   ]
  },
  {
   "cell_type": "code",
   "execution_count": 9,
   "id": "7be3016d-3ea0-4ed7-acb9-5ffd9e21d1bc",
   "metadata": {
    "collapsed": true,
    "jupyter": {
     "outputs_hidden": true
    },
    "tags": []
   },
   "outputs": [
    {
     "data": {
      "text/plain": [
       "['https://search.pstatic.net/sunny/?src=https%3A%2F%2Ft1.daumcdn.net%2Fcafeattach%2F1D7bO%2Ff7be518506d2f44cd6c7082b96cd7e9ae31acd23&type=a340',\n",
       " 'https://search.pstatic.net/common/?src=http%3A%2F%2Fblogfiles.naver.net%2FMjAyMzEyMjVfMTQ5%2FMDAxNzAzNTA5NDY1NjE4.kbXgk487eMlOcZBUR80L0KAf3V9zRGF-VT1t8l8lp_8g.ru5WkMb7SSCSu7ntXwwgyr18RYfXpQ-TtLt081UM7KIg.JPEG.ta0735secret%2F1702819046.jpg&type=a340',\n",
       " 'https://search.pstatic.net/common/?src=http%3A%2F%2Fimgnews.naver.net%2Fimage%2F031%2F2024%2F01%2F23%2F0000806938_002_20240123152401145.jpg&type=l340_165',\n",
       " 'https://search.pstatic.net/common/?src=http%3A%2F%2Fimgnews.naver.net%2Fimage%2F311%2F2024%2F01%2F03%2F0001677732_008_20240103173101747.jpg&type=a340',\n",
       " 'https://search.pstatic.net/common/?src=http%3A%2F%2Fblogfiles.naver.net%2FMjAyNDAxMjNfNiAg%2FMDAxNzA2MDA4NjU3MDg2.SRFLiMgFCdMDAns3ezmI2OK4lMx5n8R1qZNlZ9p--14g.R4R9t6eFsOfQoCwTdOWYWLLWAETkHKsU0L5PIbGYLksg.JPEG.pwb5926%2F%25C7%25AA%25B9%25D9%25BF%25C03.jpg&type=a340',\n",
       " 'https://search.pstatic.net/common/?src=http%3A%2F%2Fblogfiles.naver.net%2FMjAyMzEyMTVfMTQy%2FMDAxNzAyNjMyNDU2ODEz.AW5POtUvmLVCC0qjvOGxxO_kPg-9weDDk5vmKHDcZkAg.a8_TGeuvLhKyONFvO1rUYRRzD5sx6yMYSMqZZ9uc3Dsg.PNG.byounger%2F%25BD%25BA%25C5%25A9%25B8%25B0%25BC%25A6_2023-12-15_%25BF%25C0%25C8%25C4_6.22.31.png&type=a340',\n",
       " 'https://search.pstatic.net/common/?src=http%3A%2F%2Fblogfiles.naver.net%2FMjAyMzExMjZfMjU1%2FMDAxNzAwOTg4MzgwODg1.EZcPCKsaeBgviKrkli6VD6gQ-ErU1Xwems5URRzmwtwg._vEjGx6v8NRDw2rsKQ0EqaZEjfxx4ucts0QW9eCd4d8g.JPEG.ta0735secret%2F1700406798.jpg&type=a340',\n",
       " 'https://search.pstatic.net/sunny/?src=https%3A%2F%2Fimg-cdn.theqoo.net%2FNupafs.jpg&type=a340',\n",
       " 'https://search.pstatic.net/common/?src=http%3A%2F%2Fblogfiles.naver.net%2FMjAyNDAxMDJfMTgz%2FMDAxNzA0MTkwMzA3NjU1.Km7m4i2MrP1v_AFz1GL2bKEQ2sMxmKm-bB54FO_r0ucg.TfVpCwT5QHhm7H6UoLRM08hbcVudtR8LQH_Pjr5OKiYg.JPEG.asmanda%2F%25A3%25DB%25BA%25AF%25C8%25AF%25A3%25DDKEM%25A3%25DF9605.jpg&type=a340',\n",
       " 'https://search.pstatic.net/common/?src=http%3A%2F%2Fblogfiles.naver.net%2FMjAyNDAxMjVfNjEg%2FMDAxNzA2MTczMzkxOTI2.4G6eacJSGWLu3HjbGwELf35zD678C4GcmSZq5iSGoOAg.mNOHTyFA-r8sJL-B0DZROAJNQd9LsP1oFGnpPwsX3hog.JPEG.suskin2%2FGElIUZSbwAACOJY.jpg&type=a340',\n",
       " 'https://search.pstatic.net/common/?src=http%3A%2F%2Fblogfiles.naver.net%2FMjAyMzEyMDNfMTU0%2FMDAxNzAxNjEyMTg3Nzk4.KfcH1nK_jp2Psp6RB9bKkTzScm8dcfbi8hHv-ljCgM0g.4g32ChtvY_QV6EOOTndQ6bV38Bnegtc7WL3pO8cgP0wg.JPEG.ssu_vin%2Foutput_2054269903.jpg&type=a340',\n",
       " 'https://search.pstatic.net/common/?src=http%3A%2F%2Fblogfiles.naver.net%2FMjAyNDAxMDVfNjcg%2FMDAxNzA0NDQwOTE5OTMw.fGNIX89cJQ-zwrvMonLlQbI56aPIUHcneVFZ8SPptjMg.awRQp5y7hTig-pGqXShuRYw7oUDTNHxcyv_Exi8_rX0g.JPEG.rose1500%2FScreenshot%25A3%25DF20231225%25A3%25DF184834%25A3%25DFInstagram.jpg&type=a340',\n",
       " 'https://search.pstatic.net/common/?src=http%3A%2F%2Fblogfiles.naver.net%2FMjAyNDAxMTlfMSAg%2FMDAxNzA1NjcyODM3NjA4.ZT-sEyHGzcmHDET-3flDHhk4IUFc8GHPfcayBKlqzREg.Rg9WLfYSQjYw2t7Vsh4ePRxkgZbZusLiEbnTaumKciIg.PNG.dnlwlsl82%2F%25BD%25BA%25C5%25A9%25B8%25B0%25BC%25A6_2024-01-19_225837.png&type=a340',\n",
       " 'https://search.pstatic.net/common/?src=http%3A%2F%2Fblogfiles.naver.net%2FMjAyNDAxMjlfMTE4%2FMDAxNzA2NDU5MDI2NTYy.QZHKYC-5fPQuMGP_DIa_FIi6SGfqnm-NaEWXZ3cDtA8g.5aYe4vLqpRklStljUYhDqhhDmJHCFelVBblrCWBxpOYg.JPEG.bellasu6663%2F%25B4%25D9%25BF%25EE%25B7%25CE%25B5%25E5.jpg&type=a340',\n",
       " 'https://search.pstatic.net/common/?src=http%3A%2F%2Fblogfiles.naver.net%2FMjAyMzEyMTlfMjI2%2FMDAxNzAyOTczNDIzNjAz.3_fxKPCikSuxY5BPh2jkv_EUrskuys0FjZkKyg8q68gg.1m8d6JcoNKC6Miuvh7rdxykl4Leq9ediJbJI65NaLDIg.JPEG.silver_o0%2F1.jpg&type=a340',\n",
       " 'https://search.pstatic.net/common/?src=http%3A%2F%2Fblogfiles.naver.net%2FMjAyMzEyMjVfMTQy%2FMDAxNzAzNDkyMTc0ODU2.4yuQPdKWdcSNM9i0AeMB9iA9in7YJfSuzCbw_qHC1wMg.-PqyIpGOkIK0HU_usIb-Pm9ECwr23zHIDO2OGNFpgtgg.JPEG.doreunza97%2FIMG_0703.jpg&type=a340',\n",
       " 'https://search.pstatic.net/common/?src=http%3A%2F%2Fblogfiles.naver.net%2FMjAyMzExMjRfMjk2%2FMDAxNzAwNzk0NDEwNDk5.eaRdvSiAp_f8J6v2k4Ksi8-Q44bETAdOV6yQHEocvsUg.2cHImzF9UwhDEFHd_Gd7pltDkbrve5HkNbxdywsfjhog.JPEG.chummilmil99%2F20231124_114022.jpg&type=l340_165',\n",
       " 'https://search.pstatic.net/sunny/?src=https%3A%2F%2Ft1.daumcdn.net%2Fcafeattach%2F1D7bO%2F7ff28f96b74bea98655567162f8c18bca7bdf2a5&type=a340',\n",
       " 'https://search.pstatic.net/common/?src=http%3A%2F%2Fblogfiles.naver.net%2FMjAyNDAxMDZfMjc3%2FMDAxNzA0NTQ2NTI5MjA4.DqhoRHi92p0nmX3XfHO_A75fah0iT6ZTQ6d-Duz5q-Yg.2mm2_8ShDrGCSrOyzJjC7c6e2FamwCwAF2EgmpD1xIwg.JPEG.uiuiui2200%2FIMG_9439.JPG&type=a340',\n",
       " 'https://search.pstatic.net/common/?src=http%3A%2F%2Fblogfiles.naver.net%2FMjAyNDAxMjVfMTA2%2FMDAxNzA2MTEwNDc2NjY1.pQIiiy3eAuMN2j3oxz0vinPjdSnwx3QoxrcpkIAORKgg.VHIePlABM1OmPRf07QOUU2DqGY7R0mwM44p1e9YnSNAg.JPEG.wlovech1%2FKakaoTalk_20240124_085516422_04.jpg&type=a340',\n",
       " 'data:image/gif;base64,R0lGODlhAQABAIAAAAAAAP///yH5BAEAAAAALAAAAAABAAEAAAIBRAA7',\n",
       " 'data:image/gif;base64,R0lGODlhAQABAIAAAAAAAP///yH5BAEAAAAALAAAAAABAAEAAAIBRAA7',\n",
       " 'data:image/gif;base64,R0lGODlhAQABAIAAAAAAAP///yH5BAEAAAAALAAAAAABAAEAAAIBRAA7',\n",
       " 'data:image/gif;base64,R0lGODlhAQABAIAAAAAAAP///yH5BAEAAAAALAAAAAABAAEAAAIBRAA7',\n",
       " 'data:image/gif;base64,R0lGODlhAQABAIAAAAAAAP///yH5BAEAAAAALAAAAAABAAEAAAIBRAA7',\n",
       " 'data:image/gif;base64,R0lGODlhAQABAIAAAAAAAP///yH5BAEAAAAALAAAAAABAAEAAAIBRAA7',\n",
       " 'data:image/gif;base64,R0lGODlhAQABAIAAAAAAAP///yH5BAEAAAAALAAAAAABAAEAAAIBRAA7',\n",
       " 'data:image/gif;base64,R0lGODlhAQABAIAAAAAAAP///yH5BAEAAAAALAAAAAABAAEAAAIBRAA7',\n",
       " 'data:image/gif;base64,R0lGODlhAQABAIAAAAAAAP///yH5BAEAAAAALAAAAAABAAEAAAIBRAA7',\n",
       " 'data:image/gif;base64,R0lGODlhAQABAIAAAAAAAP///yH5BAEAAAAALAAAAAABAAEAAAIBRAA7',\n",
       " 'data:image/gif;base64,R0lGODlhAQABAIAAAAAAAP///yH5BAEAAAAALAAAAAABAAEAAAIBRAA7',\n",
       " 'data:image/gif;base64,R0lGODlhAQABAIAAAAAAAP///yH5BAEAAAAALAAAAAABAAEAAAIBRAA7',\n",
       " 'data:image/gif;base64,R0lGODlhAQABAIAAAAAAAP///yH5BAEAAAAALAAAAAABAAEAAAIBRAA7',\n",
       " 'data:image/gif;base64,R0lGODlhAQABAIAAAAAAAP///yH5BAEAAAAALAAAAAABAAEAAAIBRAA7',\n",
       " 'data:image/gif;base64,R0lGODlhAQABAIAAAAAAAP///yH5BAEAAAAALAAAAAABAAEAAAIBRAA7',\n",
       " 'data:image/gif;base64,R0lGODlhAQABAIAAAAAAAP///yH5BAEAAAAALAAAAAABAAEAAAIBRAA7',\n",
       " 'data:image/gif;base64,R0lGODlhAQABAIAAAAAAAP///yH5BAEAAAAALAAAAAABAAEAAAIBRAA7',\n",
       " 'data:image/gif;base64,R0lGODlhAQABAIAAAAAAAP///yH5BAEAAAAALAAAAAABAAEAAAIBRAA7',\n",
       " 'data:image/gif;base64,R0lGODlhAQABAIAAAAAAAP///yH5BAEAAAAALAAAAAABAAEAAAIBRAA7',\n",
       " 'data:image/gif;base64,R0lGODlhAQABAIAAAAAAAP///yH5BAEAAAAALAAAAAABAAEAAAIBRAA7',\n",
       " 'data:image/gif;base64,R0lGODlhAQABAIAAAAAAAP///yH5BAEAAAAALAAAAAABAAEAAAIBRAA7',\n",
       " 'data:image/gif;base64,R0lGODlhAQABAIAAAAAAAP///yH5BAEAAAAALAAAAAABAAEAAAIBRAA7',\n",
       " 'data:image/gif;base64,R0lGODlhAQABAIAAAAAAAP///yH5BAEAAAAALAAAAAABAAEAAAIBRAA7',\n",
       " 'data:image/gif;base64,R0lGODlhAQABAIAAAAAAAP///yH5BAEAAAAALAAAAAABAAEAAAIBRAA7',\n",
       " 'data:image/gif;base64,R0lGODlhAQABAIAAAAAAAP///yH5BAEAAAAALAAAAAABAAEAAAIBRAA7',\n",
       " 'data:image/gif;base64,R0lGODlhAQABAIAAAAAAAP///yH5BAEAAAAALAAAAAABAAEAAAIBRAA7',\n",
       " 'data:image/gif;base64,R0lGODlhAQABAIAAAAAAAP///yH5BAEAAAAALAAAAAABAAEAAAIBRAA7',\n",
       " 'data:image/gif;base64,R0lGODlhAQABAIAAAAAAAP///yH5BAEAAAAALAAAAAABAAEAAAIBRAA7']"
      ]
     },
     "execution_count": 9,
     "metadata": {},
     "output_type": "execute_result"
    }
   ],
   "source": [
    "img_list=[]\n",
    "for i in range(len(img)):\n",
    "    img_list.append(img[i].get_attribute('src'))\n",
    "img_list"
   ]
  },
  {
   "cell_type": "code",
   "execution_count": 10,
   "id": "b1c50d8c-63e9-4f5f-ae18-d41584ffe551",
   "metadata": {
    "tags": []
   },
   "outputs": [],
   "source": [
    "# url을 파일로 변환\n",
    "for i in range(len(img_list)):\n",
    "    urlretrieve(img_list[i], \"C:/Users/smhrd/Desktop/이미지/\" + str(i) + \" .jpg\")"
   ]
  },
  {
   "cell_type": "code",
   "execution_count": null,
   "id": "30e33a79-d882-402e-ab42-ed50db40ef1b",
   "metadata": {},
   "outputs": [],
   "source": []
  }
 ],
 "metadata": {
  "kernelspec": {
   "display_name": "Python 3 (ipykernel)",
   "language": "python",
   "name": "python3"
  },
  "language_info": {
   "codemirror_mode": {
    "name": "ipython",
    "version": 3
   },
   "file_extension": ".py",
   "mimetype": "text/x-python",
   "name": "python",
   "nbconvert_exporter": "python",
   "pygments_lexer": "ipython3",
   "version": "3.11.5"
  }
 },
 "nbformat": 4,
 "nbformat_minor": 5
}
