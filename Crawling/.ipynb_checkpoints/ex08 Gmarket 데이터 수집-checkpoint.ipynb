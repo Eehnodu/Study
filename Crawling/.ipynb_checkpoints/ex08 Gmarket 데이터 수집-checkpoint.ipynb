{
 "cells": [
  {
   "cell_type": "code",
   "execution_count": 1,
   "id": "7eb83a2f-38ad-40e5-85bb-e871ad7cb8d6",
   "metadata": {
    "tags": []
   },
   "outputs": [],
   "source": [
    "from selenium import webdriver as wb\n",
    "from selenium.webdriver.common.keys import Keys\n",
    "from selenium.webdriver.common.by import By\n",
    "import time\n",
    "import pandas as pd"
   ]
  },
  {
   "cell_type": "code",
   "execution_count": 28,
   "id": "419a9b66-69bb-4234-8c16-612d1283ddc0",
   "metadata": {
    "tags": []
   },
   "outputs": [],
   "source": [
    "driver = wb.Chrome()\n",
    "driver.get(\"https://www.gmarket.co.kr/n/best\")"
   ]
  },
  {
   "cell_type": "code",
   "execution_count": 7,
   "id": "9c2da9dc-eaf9-4238-ac5f-48eecbe17dc6",
   "metadata": {
    "tags": []
   },
   "outputs": [],
   "source": [
    "img = driver.find_elements(By.CSS_SELECTOR, \"#gBestWrap > div.best-list > ul > li > div.thumb > a > img\")\n",
    "img[0].click()"
   ]
  },
  {
   "cell_type": "code",
   "execution_count": 10,
   "id": "3809fc77-2a55-4304-b7ff-32a9b89ba0bd",
   "metadata": {
    "collapsed": true,
    "jupyter": {
     "outputs_hidden": true
    },
    "tags": []
   },
   "outputs": [
    {
     "data": {
      "text/plain": [
       "'(15%+5%쿠폰) 시크릿무드 역마진 단하루/ 겨울마감+봄맞이 BEST신상 데일리룩 가디건/니트/자켓/팬츠/스커트'"
      ]
     },
     "execution_count": 10,
     "metadata": {},
     "output_type": "execute_result"
    }
   ],
   "source": [
    "title = driver.find_element(By.CSS_SELECTOR, \"#itemcase_basic > div.box__item-title > h1\")\n",
    "title.text"
   ]
  },
  {
   "cell_type": "code",
   "execution_count": 11,
   "id": "dc88f4e3-3cac-4c6a-affc-56ce50e9ebd9",
   "metadata": {
    "collapsed": true,
    "jupyter": {
     "outputs_hidden": true
    },
    "tags": []
   },
   "outputs": [
    {
     "data": {
      "text/plain": [
       "'8,000원'"
      ]
     },
     "execution_count": 11,
     "metadata": {},
     "output_type": "execute_result"
    }
   ],
   "source": [
    "price = driver.find_element(By.CSS_SELECTOR, \"#itemcase_basic > div.box__item-title > div.price > span.price_innerwrap.price_innerwrap-coupon > strong\")\n",
    "price.text"
   ]
  },
  {
   "cell_type": "code",
   "execution_count": 13,
   "id": "7a13c8f7-82e4-43c1-b2a0-75f57c7cab70",
   "metadata": {
    "tags": []
   },
   "outputs": [],
   "source": [
    "driver.back()"
   ]
  },
  {
   "cell_type": "code",
   "execution_count": 24,
   "id": "7be07cb0-2d2d-41eb-b1fc-6e6ea108646f",
   "metadata": {
    "collapsed": true,
    "jupyter": {
     "outputs_hidden": true
    },
    "tags": []
   },
   "outputs": [
    {
     "data": {
      "text/plain": [
       "'26,120원'"
      ]
     },
     "execution_count": 24,
     "metadata": {},
     "output_type": "execute_result"
    }
   ],
   "source": [
    "price = driver.find_element(By.CSS_SELECTOR, \"#itemcase_basic > div.box__item-title > div.price > span.price_innerwrap > strong\")\n",
    "price.text"
   ]
  },
  {
   "cell_type": "code",
   "execution_count": 27,
   "id": "d32f1acf-e53e-4a80-8d4b-586a85a5cc75",
   "metadata": {
    "tags": []
   },
   "outputs": [],
   "source": [
    "# 파이썬에서 반복문(for)의 진행상황을 체크하는 라이브러리\n",
    "from tqdm.notebook import tqdm"
   ]
  },
  {
   "cell_type": "code",
   "execution_count": 29,
   "id": "faf8f137-3a36-4410-b6c0-3b9f0d79d388",
   "metadata": {
    "collapsed": true,
    "jupyter": {
     "outputs_hidden": true
    },
    "tags": []
   },
   "outputs": [
    {
     "data": {
      "application/vnd.jupyter.widget-view+json": {
       "model_id": "645106975adf443f9aa5527483eaa403",
       "version_major": 2,
       "version_minor": 0
      },
      "text/plain": [
       "  0%|          | 0/20 [00:00<?, ?it/s]"
      ]
     },
     "metadata": {},
     "output_type": "display_data"
    },
    {
     "name": "stdout",
     "output_type": "stream",
     "text": [
      "['(15%+5%쿠폰) 시크릿무드 역마진 단하루/ 겨울마감+봄맞이 BEST신상 데일리룩 가디건/니트/자켓/팬츠/스커트', '트레비 레몬 무라벨 350ml 40PET(20PET 2박스)', '닥터페퍼 제로 355ML 24입 1박스 탄산음료', '닥터페퍼 제로 355ML 24입 1박스 탄산음료', '래핑차일드 3시간특가 19%+5%+무배 톰과제리/가디건 외', '고메 중화짬뽕 652g 3개', '씨투엠에듀 도형학습의 기준 플라토 유치~초등 단계별 선택구매(전4권)', 'G 항공직송 태국 남독마이 골드 망고 4kg (8-12과)', '(유니버스클럽 전용 쿠폰적용가 5천원) 메가박스 일반예매권 2D-주중/주말', '부산 대저토마토 중과 2.5kg 14-20과 내외/17770원(최종쿠폰가)/ 2024년 드디어 첫 출하', '투게더 6종 3+2개 골라담기 +구매기프트 3개', '기프트코드 10만원 / 구글 기프트카드', '최종19920원)숨바고기 국내산 냉장 한돈 삼겹살+목살 구이용 1.2kg', '모노시크/15%5%/봄신상/티셔츠/맨투맨/후드/니트/가디건/남방/세트/팬츠/스커트/집업/바람막이', '기프트코드 10만원 / 구글 기프트카드', '하기스 맥스드라이 밴드/팬티 기저귀 1박스 모음전', '20%+5% 버블트리 봄신상 스쿨룩 베이비페어 특가전', '오곡 안심 치킨텐더 1kg+1kg (매콤한맛)/2세트 이상 2천원 자동 추가 할인', '20%+5% 버블트리 봄신상 스쿨룩 베이비페어 특가전', '(한정특가 10%중복 26610원) 잘풀리는집 나무야나무야 도톰한3겹 순수 27m 30롤 3팩']\n",
      "['8,000원', '22,870원', '17,530원', '17,530원', '7,600원', '16,460원', '26,120원', '31,040원', '15,000원', '17,350원', '21,900원', '96,000원', '19,920원', '12,640원', '96,000원', '49,920원', '11,250원', '19,040원', '11,250원', '31,610원']\n"
     ]
    }
   ],
   "source": [
    "title_list=[]\n",
    "price_list=[]\n",
    "for i in tqdm(range(20)):\n",
    "    img = driver.find_elements(By.CSS_SELECTOR, \"#gBestWrap > div.best-list > ul > li > div.thumb > a > img\")\n",
    "    img[i].click()\n",
    "    time.sleep(1)\n",
    "    title = driver.find_element(By.CSS_SELECTOR, \"#itemcase_basic > div.box__item-title > h1\")\n",
    "    \n",
    "    try :\n",
    "        price = driver.find_element(By.CSS_SELECTOR, \"#itemcase_basic > div.box__item-title > div.price > span.price_innerwrap.price_innerwrap-coupon > strong\")\n",
    "    except :\n",
    "        price = driver.find_element(By.CSS_SELECTOR, \"#itemcase_basic > div.box__item-title > div.price > span.price_innerwrap > strong\")\n",
    "        \n",
    "    title_list.append(title.text)\n",
    "    price_list.append(price.text)\n",
    "    \n",
    "    driver.back()\n",
    "    time.sleep(1)\n",
    "print(title_list)\n",
    "print(price_list)"
   ]
  },
  {
   "cell_type": "code",
   "execution_count": 31,
   "id": "ae03d259-4b70-45c2-975a-67a7e41d72fa",
   "metadata": {
    "collapsed": true,
    "jupyter": {
     "outputs_hidden": true
    },
    "tags": []
   },
   "outputs": [
    {
     "data": {
      "text/html": [
       "<div>\n",
       "<style scoped>\n",
       "    .dataframe tbody tr th:only-of-type {\n",
       "        vertical-align: middle;\n",
       "    }\n",
       "\n",
       "    .dataframe tbody tr th {\n",
       "        vertical-align: top;\n",
       "    }\n",
       "\n",
       "    .dataframe thead th {\n",
       "        text-align: right;\n",
       "    }\n",
       "</style>\n",
       "<table border=\"1\" class=\"dataframe\">\n",
       "  <thead>\n",
       "    <tr style=\"text-align: right;\">\n",
       "      <th></th>\n",
       "      <th>상품명</th>\n",
       "      <th>가격</th>\n",
       "    </tr>\n",
       "  </thead>\n",
       "  <tbody>\n",
       "    <tr>\n",
       "      <th>1</th>\n",
       "      <td>(15%+5%쿠폰) 시크릿무드 역마진 단하루/ 겨울마감+봄맞이 BEST신상 데일리룩...</td>\n",
       "      <td>8,000원</td>\n",
       "    </tr>\n",
       "    <tr>\n",
       "      <th>2</th>\n",
       "      <td>트레비 레몬 무라벨 350ml 40PET(20PET 2박스)</td>\n",
       "      <td>22,870원</td>\n",
       "    </tr>\n",
       "    <tr>\n",
       "      <th>3</th>\n",
       "      <td>닥터페퍼 제로 355ML 24입 1박스 탄산음료</td>\n",
       "      <td>17,530원</td>\n",
       "    </tr>\n",
       "    <tr>\n",
       "      <th>4</th>\n",
       "      <td>닥터페퍼 제로 355ML 24입 1박스 탄산음료</td>\n",
       "      <td>17,530원</td>\n",
       "    </tr>\n",
       "    <tr>\n",
       "      <th>5</th>\n",
       "      <td>래핑차일드 3시간특가 19%+5%+무배 톰과제리/가디건 외</td>\n",
       "      <td>7,600원</td>\n",
       "    </tr>\n",
       "    <tr>\n",
       "      <th>6</th>\n",
       "      <td>고메 중화짬뽕 652g 3개</td>\n",
       "      <td>16,460원</td>\n",
       "    </tr>\n",
       "    <tr>\n",
       "      <th>7</th>\n",
       "      <td>씨투엠에듀 도형학습의 기준 플라토 유치~초등 단계별 선택구매(전4권)</td>\n",
       "      <td>26,120원</td>\n",
       "    </tr>\n",
       "    <tr>\n",
       "      <th>8</th>\n",
       "      <td>G 항공직송 태국 남독마이 골드 망고 4kg (8-12과)</td>\n",
       "      <td>31,040원</td>\n",
       "    </tr>\n",
       "    <tr>\n",
       "      <th>9</th>\n",
       "      <td>(유니버스클럽 전용 쿠폰적용가 5천원) 메가박스 일반예매권 2D-주중/주말</td>\n",
       "      <td>15,000원</td>\n",
       "    </tr>\n",
       "    <tr>\n",
       "      <th>10</th>\n",
       "      <td>부산 대저토마토 중과 2.5kg 14-20과 내외/17770원(최종쿠폰가)/ 202...</td>\n",
       "      <td>17,350원</td>\n",
       "    </tr>\n",
       "    <tr>\n",
       "      <th>11</th>\n",
       "      <td>투게더 6종 3+2개 골라담기 +구매기프트 3개</td>\n",
       "      <td>21,900원</td>\n",
       "    </tr>\n",
       "    <tr>\n",
       "      <th>12</th>\n",
       "      <td>기프트코드 10만원 / 구글 기프트카드</td>\n",
       "      <td>96,000원</td>\n",
       "    </tr>\n",
       "    <tr>\n",
       "      <th>13</th>\n",
       "      <td>최종19920원)숨바고기 국내산 냉장 한돈 삼겹살+목살 구이용 1.2kg</td>\n",
       "      <td>19,920원</td>\n",
       "    </tr>\n",
       "    <tr>\n",
       "      <th>14</th>\n",
       "      <td>모노시크/15%5%/봄신상/티셔츠/맨투맨/후드/니트/가디건/남방/세트/팬츠/스커트/...</td>\n",
       "      <td>12,640원</td>\n",
       "    </tr>\n",
       "    <tr>\n",
       "      <th>15</th>\n",
       "      <td>기프트코드 10만원 / 구글 기프트카드</td>\n",
       "      <td>96,000원</td>\n",
       "    </tr>\n",
       "    <tr>\n",
       "      <th>16</th>\n",
       "      <td>하기스 맥스드라이 밴드/팬티 기저귀 1박스 모음전</td>\n",
       "      <td>49,920원</td>\n",
       "    </tr>\n",
       "    <tr>\n",
       "      <th>17</th>\n",
       "      <td>20%+5% 버블트리 봄신상 스쿨룩 베이비페어 특가전</td>\n",
       "      <td>11,250원</td>\n",
       "    </tr>\n",
       "    <tr>\n",
       "      <th>18</th>\n",
       "      <td>오곡 안심 치킨텐더 1kg+1kg (매콤한맛)/2세트 이상 2천원 자동 추가 할인</td>\n",
       "      <td>19,040원</td>\n",
       "    </tr>\n",
       "    <tr>\n",
       "      <th>19</th>\n",
       "      <td>20%+5% 버블트리 봄신상 스쿨룩 베이비페어 특가전</td>\n",
       "      <td>11,250원</td>\n",
       "    </tr>\n",
       "    <tr>\n",
       "      <th>20</th>\n",
       "      <td>(한정특가 10%중복 26610원) 잘풀리는집 나무야나무야 도톰한3겹 순수 27m ...</td>\n",
       "      <td>31,610원</td>\n",
       "    </tr>\n",
       "  </tbody>\n",
       "</table>\n",
       "</div>"
      ],
      "text/plain": [
       "                                                  상품명       가격\n",
       "1   (15%+5%쿠폰) 시크릿무드 역마진 단하루/ 겨울마감+봄맞이 BEST신상 데일리룩...   8,000원\n",
       "2                   트레비 레몬 무라벨 350ml 40PET(20PET 2박스)  22,870원\n",
       "3                          닥터페퍼 제로 355ML 24입 1박스 탄산음료  17,530원\n",
       "4                          닥터페퍼 제로 355ML 24입 1박스 탄산음료  17,530원\n",
       "5                    래핑차일드 3시간특가 19%+5%+무배 톰과제리/가디건 외   7,600원\n",
       "6                                     고메 중화짬뽕 652g 3개  16,460원\n",
       "7              씨투엠에듀 도형학습의 기준 플라토 유치~초등 단계별 선택구매(전4권)  26,120원\n",
       "8                    G 항공직송 태국 남독마이 골드 망고 4kg (8-12과)  31,040원\n",
       "9           (유니버스클럽 전용 쿠폰적용가 5천원) 메가박스 일반예매권 2D-주중/주말  15,000원\n",
       "10  부산 대저토마토 중과 2.5kg 14-20과 내외/17770원(최종쿠폰가)/ 202...  17,350원\n",
       "11                         투게더 6종 3+2개 골라담기 +구매기프트 3개  21,900원\n",
       "12                              기프트코드 10만원 / 구글 기프트카드  96,000원\n",
       "13           최종19920원)숨바고기 국내산 냉장 한돈 삼겹살+목살 구이용 1.2kg  19,920원\n",
       "14  모노시크/15%5%/봄신상/티셔츠/맨투맨/후드/니트/가디건/남방/세트/팬츠/스커트/...  12,640원\n",
       "15                              기프트코드 10만원 / 구글 기프트카드  96,000원\n",
       "16                        하기스 맥스드라이 밴드/팬티 기저귀 1박스 모음전  49,920원\n",
       "17                      20%+5% 버블트리 봄신상 스쿨룩 베이비페어 특가전  11,250원\n",
       "18      오곡 안심 치킨텐더 1kg+1kg (매콤한맛)/2세트 이상 2천원 자동 추가 할인  19,040원\n",
       "19                      20%+5% 버블트리 봄신상 스쿨룩 베이비페어 특가전  11,250원\n",
       "20  (한정특가 10%중복 26610원) 잘풀리는집 나무야나무야 도톰한3겹 순수 27m ...  31,610원"
      ]
     },
     "execution_count": 31,
     "metadata": {},
     "output_type": "execute_result"
    }
   ],
   "source": [
    "dic = {'상품명' : title_list, '가격' :price_list}\n",
    "df = pd.DataFrame(dic, index=range(1, len(title_list)+1))\n",
    "df"
   ]
  },
  {
   "cell_type": "code",
   "execution_count": null,
   "id": "0a55bbaa-46dc-407f-816b-f879812c5d54",
   "metadata": {},
   "outputs": [],
   "source": []
  }
 ],
 "metadata": {
  "kernelspec": {
   "display_name": "Python 3 (ipykernel)",
   "language": "python",
   "name": "python3"
  },
  "language_info": {
   "codemirror_mode": {
    "name": "ipython",
    "version": 3
   },
   "file_extension": ".py",
   "mimetype": "text/x-python",
   "name": "python",
   "nbconvert_exporter": "python",
   "pygments_lexer": "ipython3",
   "version": "3.11.5"
  }
 },
 "nbformat": 4,
 "nbformat_minor": 5
}
