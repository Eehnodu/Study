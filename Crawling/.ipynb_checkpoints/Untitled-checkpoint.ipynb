{
 "cells": [
  {
   "cell_type": "code",
   "execution_count": 32,
   "id": "4a1e819a",
   "metadata": {},
   "outputs": [
    {
     "name": "stdin",
     "output_type": "stream",
     "text": [
      " Vegetable_Stir_Fry\n",
      " Carrot_Sou\n",
      " Garlic_Chicken\n"
     ]
    },
    {
     "name": "stdout",
     "output_type": "stream",
     "text": [
      "212\n"
     ]
    }
   ],
   "source": [
    "# 레시피 정보\n",
    "recipes = {\n",
    "    \"Vegetable_Stir_Fry\": [\"Carrot\", \"Bell_Pepper\", \"Soy_Sauce\"],\n",
    "    \"Carrot_Soup\": [\"Carrot\", \"Chicken_Broth\", \"Cream\"],\n",
    "    \"Garlic_Chicken\": [\"Garlic\", \"Butter\", \"Rosemary\"],\n",
    "    \"Onion_Rings\": [\"Onion\", \"Flour\", \"Egg\"],\n",
    "    \"Garlic_Bread\": [\"Bread\", \"Garlic\", \"Butter\"]\n",
    "}\n",
    "\n",
    "# 재료별 칼로리 값 정보 \n",
    "ingredient_calories = {\n",
    "    \"Carrot\": 30, \"Bell_Pepper\": 20, \"Soy_Sauce\": 15,\n",
    "    \"Chicken_Broth\": 10, \"Cream\": 60, \"Garlic\": 40, \n",
    "    \"Butter\": 102, \"Rosemary\": 5, \"Onion\": 42, \n",
    "    \"Flour\": 100, \"Egg\": 70, \"Bread\": 80\n",
    "}\n",
    "\n",
    "# 입력은 아래의 input() 함수를 통해 이루어지므로, 별도의 입력 코드를 작성할 필요가 없습니다.\n",
    "recipe_name_1 = input() # 율전이가 입력한 (아침) 요리명을, recipe_name_1 변수에 저장 \n",
    "recipe_name_2 = input() # 율전이가 입력한 (아침) 요리명을, recipe_name_1 변수에 저장 \n",
    "recipe_name_3 = input() # 율전이가 입력한 (아침) 요리명을, recipe_name_1 변수에 저장 \n",
    "\n",
    "recipe = [recipe_name_1, recipe_name_2, recipe_name_3]\n",
    "\n",
    "total_calories = 0\n",
    "for k in recipe:\n",
    "    if k in recipes:\n",
    "        for i in recipes[k]:\n",
    "            total_calories += ingredient_calories[i]\n",
    "print(total_calories)"
   ]
  },
  {
   "cell_type": "code",
   "execution_count": null,
   "id": "c214034c-5c51-4995-b414-ac931853da94",
   "metadata": {},
   "outputs": [],
   "source": [
    "recipe_name = [recipe_name_1,recipe_name_2,recipe_name_3]\n",
    "ingredient=[]\n",
    "for i in recipes.keys():\n",
    "    for j in recipe_name:\n",
    "        if j in i:\n",
    "            ingredient.append(receipe_name.value())"
   ]
  }
 ],
 "metadata": {
  "kernelspec": {
   "display_name": "Python 3 (ipykernel)",
   "language": "python",
   "name": "python3"
  },
  "language_info": {
   "codemirror_mode": {
    "name": "ipython",
    "version": 3
   },
   "file_extension": ".py",
   "mimetype": "text/x-python",
   "name": "python",
   "nbconvert_exporter": "python",
   "pygments_lexer": "ipython3",
   "version": "3.11.5"
  }
 },
 "nbformat": 4,
 "nbformat_minor": 5
}
