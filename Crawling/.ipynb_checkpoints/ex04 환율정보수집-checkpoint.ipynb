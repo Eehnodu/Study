{
 "cells": [
  {
   "cell_type": "code",
   "execution_count": 49,
   "id": "84c3d858-c27f-418d-ae80-6509cd85aeba",
   "metadata": {
    "tags": []
   },
   "outputs": [],
   "source": [
    "import requests as req\n",
    "from bs4 import BeautifulSoup as bs\n",
    "\n",
    "# src 정보 수정할 것\n",
    "url = \"https://finance.naver.com/marketindex/exchangeList.naver\"\n",
    "res = req.get(url)\n",
    "soup = bs(res.text, \"lxml\")"
   ]
  },
  {
   "cell_type": "code",
   "execution_count": 73,
   "id": "4a7d832b-c14e-40fa-bfe6-735a73f076b5",
   "metadata": {
    "collapsed": true,
    "jupyter": {
     "outputs_hidden": true
    },
    "tags": []
   },
   "outputs": [
    {
     "name": "stdout",
     "output_type": "stream",
     "text": [
      "['미국 USD', '유럽연합 EUR', '일본 JPY (100엔)', '중국 CNY', '홍콩 HKD', '대만 TWD', '영국 GBP', '오만 OMR', '캐나다 CAD', '스위스 CHF', '스웨덴 SEK', '호주 AUD', '뉴질랜드 NZD', '체코 CZK', '칠레 CLP', '튀르키예 TRY', '몽골 MNT', '이스라엘 ILS', '덴마크 DKK', '노르웨이 NOK', '사우디아라비아 SAR', '쿠웨이트 KWD', '바레인 BHD', '아랍에미리트 AED', '요르단 JOD', '이집트 EGP', '태국 THB', '싱가포르 SGD', '말레이시아 MYR', '인도네시아 IDR 100', '카타르 QAR', '카자흐스탄 KZT', '브루나이 BND', '인도 INR', '파키스탄 PKR', '방글라데시 BDT', '필리핀 PHP', '멕시코 MXN', '브라질 BRL', '베트남 VND 100', '남아프리카 공화국 ZAR', '러시아 RUB', '헝가리 HUF', '폴란드 PLN', '스리랑카 LKR', '알제리 DZD', '케냐 KES', '콜롬비아 COP', '탄자니아 TZS', '네팔 NPR', '루마니아 RON', '리비아 LYD', '마카오 MOP', '미얀마 MMK', '에티오피아 ETB', '우즈베키스탄 UZS', '캄보디아 KHR', '피지 FJD']\n"
     ]
    }
   ],
   "source": [
    "name = soup.select('body > div > table > tbody > tr > td:nth-child(1)')\n",
    "for i in name:\n",
    "name_list=[]\n",
    "    name_list.append(i.text.strip())\n",
    "print(name_list)"
   ]
  },
  {
   "cell_type": "markdown",
   "id": "c43080bd-d00a-4be5-9ec7-0583b3858081",
   "metadata": {},
   "source": [
    "# iframe 태그\n",
    "- 다른 서버에 있는 html파일을 창을 통해서 보여주는 역할을 태그\n",
    "- 접근을 하기 위해서는 원본 주소로 찾아가야 한다.\n",
    "- 크롤링을 할 때 수집이 안되는 경우는 3가지 의심\n",
    "1) 응답코드가 200이 아닌 경우\n",
    "2) 선택자의 오류\n",
    "3) iframe을 검사\n",
    "- 검사하는 방법 : iframe의 src부분 값을 확인\n",
    "- 1) 절대경로 -> http:// url\n",
    "- 2) 상대경로 -> /폴더/폴더/파일\n",
    "- 3) 상대경로인 경우에는 절대경로로 변경 -> 실제 사이트의 url을 수정"
   ]
  }
 ],
 "metadata": {
  "kernelspec": {
   "display_name": "Python 3 (ipykernel)",
   "language": "python",
   "name": "python3"
  },
  "language_info": {
   "codemirror_mode": {
    "name": "ipython",
    "version": 3
   },
   "file_extension": ".py",
   "mimetype": "text/x-python",
   "name": "python",
   "nbconvert_exporter": "python",
   "pygments_lexer": "ipython3",
   "version": "3.11.5"
  }
 },
 "nbformat": 4,
 "nbformat_minor": 5
}
