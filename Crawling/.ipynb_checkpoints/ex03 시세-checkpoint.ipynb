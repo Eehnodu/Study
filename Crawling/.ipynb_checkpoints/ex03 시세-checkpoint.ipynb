{
 "cells": [
  {
   "cell_type": "code",
   "execution_count": 1,
   "id": "692a48b7-bc14-4ac8-b3c5-12abcef526fa",
   "metadata": {
    "tags": []
   },
   "outputs": [],
   "source": [
    "import requests as req\n",
    "from bs4 import BeautifulSoup as bs\n",
    "\n",
    "url = \"https://finance.naver.com/sise/sise_market_sum.naver\"\n",
    "res = req.get(url)"
   ]
  },
  {
   "cell_type": "code",
   "execution_count": 2,
   "id": "8e1e0f5a-e6aa-4494-acdf-72a09c3710e6",
   "metadata": {
    "collapsed": true,
    "jupyter": {
     "outputs_hidden": true
    },
    "tags": []
   },
   "outputs": [
    {
     "name": "stdout",
     "output_type": "stream",
     "text": [
      "['삼성전자', 'SK하이닉스', 'LG에너지솔루션', '삼성바이오로직스', '현대차', '삼성전자우', '기아', '셀트리온', 'POSCO홀딩스', 'LG화학', 'NAVER', '삼성물산', 'KB금융', '삼성SDI', '카카오', '현대모비스', '포스코퓨처엠', '신한지주', '하나금융지주', '삼성생명', 'LG전자', '메리츠금융지주', 'LG', 'SK', '한국전력', '삼성화재', '카카오뱅크', 'SK이노베이션', 'HMM', '에코프로머티', '삼성에스디에스', 'KT&G', 'SK텔레콤', '크래프톤', '우리금융지주', '기업은행', 'KT', '포스코인터내셔널', '삼성전기', '두산에너빌리티', 'HD현대중공업', '고려아연', 'SK스퀘어', '포스코DX', '대한항공', '하이브', 'S-Oil', 'HD한국조선해양', '한화에어로스페이스', 'KODEX CD금리액티브(합성)']\n"
     ]
    }
   ],
   "source": [
    "soup = bs(res.text, \"lxml\")\n",
    "tltle = soup.select('a.tltle')\n",
    "tltle_list=[]\n",
    "for i in tltle:\n",
    "    tltle_list.append(i.text)\n",
    "print(tltle_list)"
   ]
  },
  {
   "cell_type": "code",
   "execution_count": 3,
   "id": "fd00479e-f272-4952-b5ea-27c7ef70abad",
   "metadata": {
    "collapsed": true,
    "jupyter": {
     "outputs_hidden": true
    },
    "tags": []
   },
   "outputs": [
    {
     "name": "stdout",
     "output_type": "stream",
     "text": [
      "['73,400', '150,300', '394,500', '821,000', '247,500', '62,700', '117,500', '180,600', '436,500', '496,500', '204,500', '168,100', '68,000', '389,000', '59,300', '243,500', '292,000', '43,900', '58,100', '83,800', '99,200', '77,600', '99,900', '202,000', '22,900', '307,000', '30,200', '126,300', '18,310', '182,000', '161,500', '91,600', '53,300', '234,000', '14,950', '13,970', '41,200', '58,700', '137,300', '15,530', '109,800', '463,000', '69,500', '57,900', '23,450', '204,000', '74,600', '118,500', '158,300', '1,027,310']\n"
     ]
    }
   ],
   "source": [
    "number = soup.select('#contentarea > div.box_type_l > table.type_2 > tbody td:nth-child(3)')\n",
    "number_list=[]\n",
    "for i in number:\n",
    "    number_list.append(i.text)\n",
    "print(number_list)"
   ]
  },
  {
   "cell_type": "code",
   "execution_count": 4,
   "id": "f8da7f61-4d2e-4694-a1cd-71f104d64b0b",
   "metadata": {
    "tags": []
   },
   "outputs": [
    {
     "data": {
      "text/plain": [
       "50"
      ]
     },
     "execution_count": 4,
     "metadata": {},
     "output_type": "execute_result"
    }
   ],
   "source": [
    "len(soup.select('a.tltle'))"
   ]
  },
  {
   "cell_type": "code",
   "execution_count": 5,
   "id": "1bfd45b9-a230-45e9-86a0-452415ad382c",
   "metadata": {
    "tags": []
   },
   "outputs": [
    {
     "data": {
      "text/plain": [
       "50"
      ]
     },
     "execution_count": 5,
     "metadata": {},
     "output_type": "execute_result"
    }
   ],
   "source": [
    "len(soup.select('#contentarea > div.box_type_l > table.type_2 > tbody td:nth-child(3)'))"
   ]
  },
  {
   "cell_type": "code",
   "execution_count": 7,
   "id": "7017c3db-1072-4b04-bc01-1d645a29a0e9",
   "metadata": {
    "tags": []
   },
   "outputs": [],
   "source": [
    "tltle_list=[]\n",
    "number_list=[]\n",
    "num_list=[]\n",
    "for i in range(len(tltle)) :\n",
    "    tltle_list.append(tltle[i].text)\n",
    "    number_list.append(number[i].text)\n",
    "    num_list.append(i+1)"
   ]
  },
  {
   "cell_type": "code",
   "execution_count": 9,
   "id": "d0f8a50b-4ffb-45bc-9545-9cc9454905ea",
   "metadata": {
    "collapsed": true,
    "jupyter": {
     "outputs_hidden": true
    },
    "tags": []
   },
   "outputs": [
    {
     "name": "stdout",
     "output_type": "stream",
     "text": [
      "['삼성전자', 'SK하이닉스', 'LG에너지솔루션', '삼성바이오로직스', '현대차', '삼성전자우', '기아', '셀트리온', 'POSCO홀딩스', 'LG화학', 'NAVER', '삼성물산', 'KB금융', '삼성SDI', '카카오', '현대모비스', '포스코퓨처엠', '신한지주', '하나금융지주', '삼성생명', 'LG전자', '메리츠금융지주', 'LG', 'SK', '한국전력', '삼성화재', '카카오뱅크', 'SK이노베이션', 'HMM', '에코프로머티', '삼성에스디에스', 'KT&G', 'SK텔레콤', '크래프톤', '우리금융지주', '기업은행', 'KT', '포스코인터내셔널', '삼성전기', '두산에너빌리티', 'HD현대중공업', '고려아연', 'SK스퀘어', '포스코DX', '대한항공', '하이브', 'S-Oil', 'HD한국조선해양', '한화에어로스페이스', 'KODEX CD금리액티브(합성)']\n",
      "['73,400', '150,300', '394,500', '821,000', '247,500', '62,700', '117,500', '180,600', '436,500', '496,500', '204,500', '168,100', '68,000', '389,000', '59,300', '243,500', '292,000', '43,900', '58,100', '83,800', '99,200', '77,600', '99,900', '202,000', '22,900', '307,000', '30,200', '126,300', '18,310', '182,000', '161,500', '91,600', '53,300', '234,000', '14,950', '13,970', '41,200', '58,700', '137,300', '15,530', '109,800', '463,000', '69,500', '57,900', '23,450', '204,000', '74,600', '118,500', '158,300', '1,027,310']\n",
      "[1, 2, 3, 4, 5, 6, 7, 8, 9, 10, 11, 12, 13, 14, 15, 16, 17, 18, 19, 20, 21, 22, 23, 24, 25, 26, 27, 28, 29, 30, 31, 32, 33, 34, 35, 36, 37, 38, 39, 40, 41, 42, 43, 44, 45, 46, 47, 48, 49, 50]\n"
     ]
    }
   ],
   "source": [
    "print(tltle_list)\n",
    "print(number_list)\n",
    "print(num_list)"
   ]
  },
  {
   "cell_type": "code",
   "execution_count": 12,
   "id": "24bb7857-60b4-4f97-8015-590ef327f468",
   "metadata": {
    "collapsed": true,
    "jupyter": {
     "outputs_hidden": true
    },
    "tags": []
   },
   "outputs": [
    {
     "data": {
      "text/html": [
       "<div>\n",
       "<style scoped>\n",
       "    .dataframe tbody tr th:only-of-type {\n",
       "        vertical-align: middle;\n",
       "    }\n",
       "\n",
       "    .dataframe tbody tr th {\n",
       "        vertical-align: top;\n",
       "    }\n",
       "\n",
       "    .dataframe thead th {\n",
       "        text-align: right;\n",
       "    }\n",
       "</style>\n",
       "<table border=\"1\" class=\"dataframe\">\n",
       "  <thead>\n",
       "    <tr style=\"text-align: right;\">\n",
       "      <th></th>\n",
       "      <th>종목명</th>\n",
       "      <th>현재가</th>\n",
       "    </tr>\n",
       "    <tr>\n",
       "      <th>순서</th>\n",
       "      <th></th>\n",
       "      <th></th>\n",
       "    </tr>\n",
       "  </thead>\n",
       "  <tbody>\n",
       "    <tr>\n",
       "      <th>1</th>\n",
       "      <td>삼성전자</td>\n",
       "      <td>73,400</td>\n",
       "    </tr>\n",
       "    <tr>\n",
       "      <th>2</th>\n",
       "      <td>SK하이닉스</td>\n",
       "      <td>150,300</td>\n",
       "    </tr>\n",
       "    <tr>\n",
       "      <th>3</th>\n",
       "      <td>LG에너지솔루션</td>\n",
       "      <td>394,500</td>\n",
       "    </tr>\n",
       "    <tr>\n",
       "      <th>4</th>\n",
       "      <td>삼성바이오로직스</td>\n",
       "      <td>821,000</td>\n",
       "    </tr>\n",
       "    <tr>\n",
       "      <th>5</th>\n",
       "      <td>현대차</td>\n",
       "      <td>247,500</td>\n",
       "    </tr>\n",
       "    <tr>\n",
       "      <th>6</th>\n",
       "      <td>삼성전자우</td>\n",
       "      <td>62,700</td>\n",
       "    </tr>\n",
       "    <tr>\n",
       "      <th>7</th>\n",
       "      <td>기아</td>\n",
       "      <td>117,500</td>\n",
       "    </tr>\n",
       "    <tr>\n",
       "      <th>8</th>\n",
       "      <td>셀트리온</td>\n",
       "      <td>180,600</td>\n",
       "    </tr>\n",
       "    <tr>\n",
       "      <th>9</th>\n",
       "      <td>POSCO홀딩스</td>\n",
       "      <td>436,500</td>\n",
       "    </tr>\n",
       "    <tr>\n",
       "      <th>10</th>\n",
       "      <td>LG화학</td>\n",
       "      <td>496,500</td>\n",
       "    </tr>\n",
       "    <tr>\n",
       "      <th>11</th>\n",
       "      <td>NAVER</td>\n",
       "      <td>204,500</td>\n",
       "    </tr>\n",
       "    <tr>\n",
       "      <th>12</th>\n",
       "      <td>삼성물산</td>\n",
       "      <td>168,100</td>\n",
       "    </tr>\n",
       "    <tr>\n",
       "      <th>13</th>\n",
       "      <td>KB금융</td>\n",
       "      <td>68,000</td>\n",
       "    </tr>\n",
       "    <tr>\n",
       "      <th>14</th>\n",
       "      <td>삼성SDI</td>\n",
       "      <td>389,000</td>\n",
       "    </tr>\n",
       "    <tr>\n",
       "      <th>15</th>\n",
       "      <td>카카오</td>\n",
       "      <td>59,300</td>\n",
       "    </tr>\n",
       "    <tr>\n",
       "      <th>16</th>\n",
       "      <td>현대모비스</td>\n",
       "      <td>243,500</td>\n",
       "    </tr>\n",
       "    <tr>\n",
       "      <th>17</th>\n",
       "      <td>포스코퓨처엠</td>\n",
       "      <td>292,000</td>\n",
       "    </tr>\n",
       "    <tr>\n",
       "      <th>18</th>\n",
       "      <td>신한지주</td>\n",
       "      <td>43,900</td>\n",
       "    </tr>\n",
       "    <tr>\n",
       "      <th>19</th>\n",
       "      <td>하나금융지주</td>\n",
       "      <td>58,100</td>\n",
       "    </tr>\n",
       "    <tr>\n",
       "      <th>20</th>\n",
       "      <td>삼성생명</td>\n",
       "      <td>83,800</td>\n",
       "    </tr>\n",
       "    <tr>\n",
       "      <th>21</th>\n",
       "      <td>LG전자</td>\n",
       "      <td>99,200</td>\n",
       "    </tr>\n",
       "    <tr>\n",
       "      <th>22</th>\n",
       "      <td>메리츠금융지주</td>\n",
       "      <td>77,600</td>\n",
       "    </tr>\n",
       "    <tr>\n",
       "      <th>23</th>\n",
       "      <td>LG</td>\n",
       "      <td>99,900</td>\n",
       "    </tr>\n",
       "    <tr>\n",
       "      <th>24</th>\n",
       "      <td>SK</td>\n",
       "      <td>202,000</td>\n",
       "    </tr>\n",
       "    <tr>\n",
       "      <th>25</th>\n",
       "      <td>한국전력</td>\n",
       "      <td>22,900</td>\n",
       "    </tr>\n",
       "    <tr>\n",
       "      <th>26</th>\n",
       "      <td>삼성화재</td>\n",
       "      <td>307,000</td>\n",
       "    </tr>\n",
       "    <tr>\n",
       "      <th>27</th>\n",
       "      <td>카카오뱅크</td>\n",
       "      <td>30,200</td>\n",
       "    </tr>\n",
       "    <tr>\n",
       "      <th>28</th>\n",
       "      <td>SK이노베이션</td>\n",
       "      <td>126,300</td>\n",
       "    </tr>\n",
       "    <tr>\n",
       "      <th>29</th>\n",
       "      <td>HMM</td>\n",
       "      <td>18,310</td>\n",
       "    </tr>\n",
       "    <tr>\n",
       "      <th>30</th>\n",
       "      <td>에코프로머티</td>\n",
       "      <td>182,000</td>\n",
       "    </tr>\n",
       "    <tr>\n",
       "      <th>31</th>\n",
       "      <td>삼성에스디에스</td>\n",
       "      <td>161,500</td>\n",
       "    </tr>\n",
       "    <tr>\n",
       "      <th>32</th>\n",
       "      <td>KT&amp;G</td>\n",
       "      <td>91,600</td>\n",
       "    </tr>\n",
       "    <tr>\n",
       "      <th>33</th>\n",
       "      <td>SK텔레콤</td>\n",
       "      <td>53,300</td>\n",
       "    </tr>\n",
       "    <tr>\n",
       "      <th>34</th>\n",
       "      <td>크래프톤</td>\n",
       "      <td>234,000</td>\n",
       "    </tr>\n",
       "    <tr>\n",
       "      <th>35</th>\n",
       "      <td>우리금융지주</td>\n",
       "      <td>14,950</td>\n",
       "    </tr>\n",
       "    <tr>\n",
       "      <th>36</th>\n",
       "      <td>기업은행</td>\n",
       "      <td>13,970</td>\n",
       "    </tr>\n",
       "    <tr>\n",
       "      <th>37</th>\n",
       "      <td>KT</td>\n",
       "      <td>41,200</td>\n",
       "    </tr>\n",
       "    <tr>\n",
       "      <th>38</th>\n",
       "      <td>포스코인터내셔널</td>\n",
       "      <td>58,700</td>\n",
       "    </tr>\n",
       "    <tr>\n",
       "      <th>39</th>\n",
       "      <td>삼성전기</td>\n",
       "      <td>137,300</td>\n",
       "    </tr>\n",
       "    <tr>\n",
       "      <th>40</th>\n",
       "      <td>두산에너빌리티</td>\n",
       "      <td>15,530</td>\n",
       "    </tr>\n",
       "    <tr>\n",
       "      <th>41</th>\n",
       "      <td>HD현대중공업</td>\n",
       "      <td>109,800</td>\n",
       "    </tr>\n",
       "    <tr>\n",
       "      <th>42</th>\n",
       "      <td>고려아연</td>\n",
       "      <td>463,000</td>\n",
       "    </tr>\n",
       "    <tr>\n",
       "      <th>43</th>\n",
       "      <td>SK스퀘어</td>\n",
       "      <td>69,500</td>\n",
       "    </tr>\n",
       "    <tr>\n",
       "      <th>44</th>\n",
       "      <td>포스코DX</td>\n",
       "      <td>57,900</td>\n",
       "    </tr>\n",
       "    <tr>\n",
       "      <th>45</th>\n",
       "      <td>대한항공</td>\n",
       "      <td>23,450</td>\n",
       "    </tr>\n",
       "    <tr>\n",
       "      <th>46</th>\n",
       "      <td>하이브</td>\n",
       "      <td>204,000</td>\n",
       "    </tr>\n",
       "    <tr>\n",
       "      <th>47</th>\n",
       "      <td>S-Oil</td>\n",
       "      <td>74,600</td>\n",
       "    </tr>\n",
       "    <tr>\n",
       "      <th>48</th>\n",
       "      <td>HD한국조선해양</td>\n",
       "      <td>118,500</td>\n",
       "    </tr>\n",
       "    <tr>\n",
       "      <th>49</th>\n",
       "      <td>한화에어로스페이스</td>\n",
       "      <td>158,300</td>\n",
       "    </tr>\n",
       "    <tr>\n",
       "      <th>50</th>\n",
       "      <td>KODEX CD금리액티브(합성)</td>\n",
       "      <td>1,027,310</td>\n",
       "    </tr>\n",
       "  </tbody>\n",
       "</table>\n",
       "</div>"
      ],
      "text/plain": [
       "                  종목명        현재가\n",
       "순서                              \n",
       "1                삼성전자     73,400\n",
       "2              SK하이닉스    150,300\n",
       "3            LG에너지솔루션    394,500\n",
       "4            삼성바이오로직스    821,000\n",
       "5                 현대차    247,500\n",
       "6               삼성전자우     62,700\n",
       "7                  기아    117,500\n",
       "8                셀트리온    180,600\n",
       "9            POSCO홀딩스    436,500\n",
       "10               LG화학    496,500\n",
       "11              NAVER    204,500\n",
       "12               삼성물산    168,100\n",
       "13               KB금융     68,000\n",
       "14              삼성SDI    389,000\n",
       "15                카카오     59,300\n",
       "16              현대모비스    243,500\n",
       "17             포스코퓨처엠    292,000\n",
       "18               신한지주     43,900\n",
       "19             하나금융지주     58,100\n",
       "20               삼성생명     83,800\n",
       "21               LG전자     99,200\n",
       "22            메리츠금융지주     77,600\n",
       "23                 LG     99,900\n",
       "24                 SK    202,000\n",
       "25               한국전력     22,900\n",
       "26               삼성화재    307,000\n",
       "27              카카오뱅크     30,200\n",
       "28            SK이노베이션    126,300\n",
       "29                HMM     18,310\n",
       "30             에코프로머티    182,000\n",
       "31            삼성에스디에스    161,500\n",
       "32               KT&G     91,600\n",
       "33              SK텔레콤     53,300\n",
       "34               크래프톤    234,000\n",
       "35             우리금융지주     14,950\n",
       "36               기업은행     13,970\n",
       "37                 KT     41,200\n",
       "38           포스코인터내셔널     58,700\n",
       "39               삼성전기    137,300\n",
       "40            두산에너빌리티     15,530\n",
       "41            HD현대중공업    109,800\n",
       "42               고려아연    463,000\n",
       "43              SK스퀘어     69,500\n",
       "44              포스코DX     57,900\n",
       "45               대한항공     23,450\n",
       "46                하이브    204,000\n",
       "47              S-Oil     74,600\n",
       "48           HD한국조선해양    118,500\n",
       "49          한화에어로스페이스    158,300\n",
       "50  KODEX CD금리액티브(합성)  1,027,310"
      ]
     },
     "execution_count": 12,
     "metadata": {},
     "output_type": "execute_result"
    }
   ],
   "source": [
    "import pandas as pd\n",
    "dic = {'순서' : num_list, '종목명' : tltle_list,  '현재가' : number_list}\n",
    "pd.DataFrame(dic)\n",
    "cos = pd.DataFrame(dic)\n",
    "cos.set_index(\"순서\" ,inplace = True)\n",
    "cos"
   ]
  },
  {
   "cell_type": "code",
   "execution_count": null,
   "id": "0f61f3f1-15ef-4a02-90f2-665f30a046d6",
   "metadata": {},
   "outputs": [],
   "source": []
  }
 ],
 "metadata": {
  "kernelspec": {
   "display_name": "Python 3 (ipykernel)",
   "language": "python",
   "name": "python3"
  },
  "language_info": {
   "codemirror_mode": {
    "name": "ipython",
    "version": 3
   },
   "file_extension": ".py",
   "mimetype": "text/x-python",
   "name": "python",
   "nbconvert_exporter": "python",
   "pygments_lexer": "ipython3",
   "version": "3.11.5"
  }
 },
 "nbformat": 4,
 "nbformat_minor": 5
}
