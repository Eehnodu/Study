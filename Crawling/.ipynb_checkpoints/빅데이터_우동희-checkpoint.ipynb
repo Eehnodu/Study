{
 "cells": [
  {
   "cell_type": "markdown",
   "id": "f49fe2e4",
   "metadata": {},
   "source": [
    "# 필기답안지"
   ]
  },
  {
   "cell_type": "markdown",
   "id": "74e88e62",
   "metadata": {},
   "source": [
    "## 문제1 \n",
    "다음은 빅데이터 수집방식에 대한 설명이다. 빈 칸에 알맞은 방식을 고르시오."
   ]
  },
  {
   "cell_type": "markdown",
   "id": "29baa41a",
   "metadata": {},
   "source": [
    "- 1 : a\n",
    "- 2 : g\n",
    "- 3 : b\n",
    "- 4 : h"
   ]
  },
  {
   "cell_type": "markdown",
   "id": "098be8fb",
   "metadata": {},
   "source": [
    "## 문제2\n",
    "크롤링의 개념과 필요성에 대해 서술하시오.\n",
    "- 답안 : \n",
    " - 개념 : 주로 인터넷 상의 데이터를 수집하고 분류하는 것\n",
    " - 필요성 : 크롤링은 정보의 접근성을 높이고, 신속한 정보 처리를 가능하게 하며, 다양한 분야에서 의사결정을 지원하는 중요한 데이터를 제공함"
   ]
  },
  {
   "cell_type": "markdown",
   "id": "29e08d76",
   "metadata": {},
   "source": [
    "## 문제3\n",
    "BeautifulSoup모듈에 대해 서술하시오.\n",
    "- 답안 :\n",
    " - 파이썬 코드를 복잡하게 짜지 않아도 편하게 웹스크롤링을 할 수 있는 함수들을 제공하는 웹스크롤링 전문 모듈\n",
    " - HTML정보로 부터 원하는 데이터를 가져오기 쉽게, 비슷한 분류의 데이터별로 나누어주는(parsing) 파이썬 라이브러리"
   ]
  },
  {
   "cell_type": "markdown",
   "id": "04c5d7be",
   "metadata": {},
   "source": [
    "## 문제4\n",
    "다음 두 보기의 차이를 설명하시오.\n",
    "- 1 : find_element(By.CSS_SELECTOR) : 하나의 정보를 가져올 수 있음\n",
    "- 2 : find_elements(By.CSS_SELECTOR) : 여러 정보를 가져올 수 있음"
   ]
  },
  {
   "cell_type": "markdown",
   "id": "f82501f0",
   "metadata": {},
   "source": [
    "## 문제5\n",
    "다음은 HTML코드로 이루어진 웹 페이지이다. 밑줄 그어진 부분 BeautifulSoup 모듈의 함수를 이용하여 텍스트만 수집할 수 있는 코드에 빈칸을 작성하시오.\n",
    "- soup = bs(res.text, ‘lxml’)\n",
    "- crawling = soup.select_one(\"span.this_span\")\n",
    "- print(crawling.(text))"
   ]
  },
  {
   "cell_type": "markdown",
   "id": "de85ce27",
   "metadata": {},
   "source": [
    "# 실기답안지"
   ]
  },
  {
   "cell_type": "markdown",
   "id": "b2e6a5d6",
   "metadata": {},
   "source": [
    "## 문제2\n",
    "자동제어를 통해 네이버 홈페이지에 접속하고 ‘크롤링’를 입력하여 검색하는      시스템을 구축하시오."
   ]
  },
  {
   "cell_type": "code",
   "execution_count": 2,
   "id": "88f056a8",
   "metadata": {
    "tags": []
   },
   "outputs": [],
   "source": [
    "from selenium import webdriver as wb\n",
    "from selenium.webdriver.common.keys import Keys\n",
    "from selenium.webdriver.common.by import By\n",
    "from tqdm.notebook import tqdm\n",
    "import time\n",
    "import pandas as pd"
   ]
  },
  {
   "cell_type": "code",
   "execution_count": null,
   "id": "586d2ced-118f-433f-8452-1996bbb65e14",
   "metadata": {},
   "outputs": [],
   "source": [
    "driver = "
   ]
  },
  {
   "cell_type": "markdown",
   "id": "dd7ec12a",
   "metadata": {},
   "source": [
    "# 문제3\n",
    "자동제어를 통해 G마켓 홈페이지에 접속하고, 조건에 맞는 수집프로그램을 만드시오."
   ]
  },
  {
   "cell_type": "code",
   "execution_count": null,
   "id": "d65da098-6a25-44db-8b2d-041ea6b71eb0",
   "metadata": {},
   "outputs": [],
   "source": []
  },
  {
   "cell_type": "code",
   "execution_count": null,
   "id": "f8cbe3be",
   "metadata": {},
   "outputs": [],
   "source": []
  },
  {
   "cell_type": "markdown",
   "id": "5fb5a240",
   "metadata": {},
   "source": [
    "# 문제4\n",
    "멜론차트에서 1~100위까지 정보를 수집하는 프로그램을 작성하시오."
   ]
  },
  {
   "cell_type": "code",
   "execution_count": null,
   "id": "59a23936",
   "metadata": {},
   "outputs": [],
   "source": []
  },
  {
   "cell_type": "markdown",
   "id": "9c9091fc",
   "metadata": {},
   "source": [
    "# 문제5\n",
    "자동제어를 통해 한솥 페이지에 접속하고 전체 메뉴의 메뉴명 가격정보를 수집할 수 있는 프로그램을 작성하세요 "
   ]
  },
  {
   "cell_type": "code",
   "execution_count": null,
   "id": "a7ee4451",
   "metadata": {},
   "outputs": [],
   "source": []
  }
 ],
 "metadata": {
  "kernelspec": {
   "display_name": "Python 3 (ipykernel)",
   "language": "python",
   "name": "python3"
  },
  "language_info": {
   "codemirror_mode": {
    "name": "ipython",
    "version": 3
   },
   "file_extension": ".py",
   "mimetype": "text/x-python",
   "name": "python",
   "nbconvert_exporter": "python",
   "pygments_lexer": "ipython3",
   "version": "3.11.5"
  }
 },
 "nbformat": 4,
 "nbformat_minor": 5
}
