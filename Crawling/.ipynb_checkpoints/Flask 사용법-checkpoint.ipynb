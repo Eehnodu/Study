{
 "cells": [
  {
   "cell_type": "markdown",
   "id": "b5919eb5",
   "metadata": {},
   "source": [
    "# 1. Flask 사용하기"
   ]
  },
  {
   "cell_type": "markdown",
   "id": "9512a5f3",
   "metadata": {},
   "source": [
    "## 1-1. 필요한 라이브러리 설치"
   ]
  },
  {
   "cell_type": "code",
   "execution_count": 1,
   "id": "f9d46af3",
   "metadata": {
    "collapsed": true,
    "jupyter": {
     "outputs_hidden": true
    }
   },
   "outputs": [
    {
     "name": "stdout",
     "output_type": "stream",
     "text": [
      "Requirement already satisfied: flask in c:\\users\\smhrd\\anaconda3\\lib\\site-packages (2.2.2)\n",
      "Requirement already satisfied: Werkzeug>=2.2.2 in c:\\users\\smhrd\\anaconda3\\lib\\site-packages (from flask) (2.2.3)\n",
      "Requirement already satisfied: Jinja2>=3.0 in c:\\users\\smhrd\\anaconda3\\lib\\site-packages (from flask) (3.1.2)\n",
      "Requirement already satisfied: itsdangerous>=2.0 in c:\\users\\smhrd\\anaconda3\\lib\\site-packages (from flask) (2.0.1)\n",
      "Requirement already satisfied: click>=8.0 in c:\\users\\smhrd\\anaconda3\\lib\\site-packages (from flask) (8.0.4)\n",
      "Requirement already satisfied: colorama in c:\\users\\smhrd\\anaconda3\\lib\\site-packages (from click>=8.0->flask) (0.4.6)\n",
      "Requirement already satisfied: MarkupSafe>=2.0 in c:\\users\\smhrd\\anaconda3\\lib\\site-packages (from Jinja2>=3.0->flask) (2.1.1)\n",
      "Collecting flask_cors\n",
      "  Obtaining dependency information for flask_cors from https://files.pythonhosted.org/packages/10/69/1e6cfb87117568a9de088c32d6258219e9d1ff7c131abf74249ef2031279/Flask_Cors-4.0.0-py2.py3-none-any.whl.metadata\n",
      "  Downloading Flask_Cors-4.0.0-py2.py3-none-any.whl.metadata (5.4 kB)\n",
      "Requirement already satisfied: Flask>=0.9 in c:\\users\\smhrd\\anaconda3\\lib\\site-packages (from flask_cors) (2.2.2)\n",
      "Requirement already satisfied: Werkzeug>=2.2.2 in c:\\users\\smhrd\\anaconda3\\lib\\site-packages (from Flask>=0.9->flask_cors) (2.2.3)\n",
      "Requirement already satisfied: Jinja2>=3.0 in c:\\users\\smhrd\\anaconda3\\lib\\site-packages (from Flask>=0.9->flask_cors) (3.1.2)\n",
      "Requirement already satisfied: itsdangerous>=2.0 in c:\\users\\smhrd\\anaconda3\\lib\\site-packages (from Flask>=0.9->flask_cors) (2.0.1)\n",
      "Requirement already satisfied: click>=8.0 in c:\\users\\smhrd\\anaconda3\\lib\\site-packages (from Flask>=0.9->flask_cors) (8.0.4)\n",
      "Requirement already satisfied: colorama in c:\\users\\smhrd\\anaconda3\\lib\\site-packages (from click>=8.0->Flask>=0.9->flask_cors) (0.4.6)\n",
      "Requirement already satisfied: MarkupSafe>=2.0 in c:\\users\\smhrd\\anaconda3\\lib\\site-packages (from Jinja2>=3.0->Flask>=0.9->flask_cors) (2.1.1)\n",
      "Downloading Flask_Cors-4.0.0-py2.py3-none-any.whl (14 kB)\n",
      "Installing collected packages: flask_cors\n",
      "Successfully installed flask_cors-4.0.0\n"
     ]
    }
   ],
   "source": [
    "# !pip install flask\n",
    "# !pip install flask_cors"
   ]
  },
  {
   "cell_type": "markdown",
   "id": "8697e6d0",
   "metadata": {},
   "source": [
    "## 1-2. 라이브러리 import"
   ]
  },
  {
   "cell_type": "code",
   "execution_count": 5,
   "id": "6f315e90",
   "metadata": {
    "tags": []
   },
   "outputs": [],
   "source": [
    "# Flask > 서버를 생성해줄 도구\n",
    "# request > 요청에 대한 정보를 가지고 있는\n",
    "# make_response > 응답 객체를 만들어줄때 사용하는 함수\n",
    "# redirect > 이동해야하는 페이지가 있을 때 사용\n",
    "from flask import Flask, request\n",
    "# CORS > 동일출처정책을 잡아주는 객체\n",
    "from flask_cors import CORS"
   ]
  },
  {
   "cell_type": "markdown",
   "id": "f45cc0eb",
   "metadata": {},
   "source": [
    "## 1-3. Flask 서버 열어주기"
   ]
  },
  {
   "cell_type": "code",
   "execution_count": 12,
   "id": "8268acbf",
   "metadata": {
    "tags": []
   },
   "outputs": [
    {
     "name": "stdout",
     "output_type": "stream",
     "text": [
      " * Serving Flask app '__main__'\n",
      " * Debug mode: off\n"
     ]
    },
    {
     "name": "stderr",
     "output_type": "stream",
     "text": [
      "WARNING: This is a development server. Do not use it in a production deployment. Use a production WSGI server instead.\n",
      " * Running on http://127.0.0.1:9000\n",
      "Press CTRL+C to quit\n",
      "[2024-03-13 16:46:42,542] ERROR in app: Exception on / [GET]\n",
      "Traceback (most recent call last):\n",
      "  File \"C:\\Users\\smhrd\\anaconda3\\Lib\\site-packages\\flask\\app.py\", line 2525, in wsgi_app\n",
      "    response = self.full_dispatch_request()\n",
      "               ^^^^^^^^^^^^^^^^^^^^^^^^^^^^\n",
      "  File \"C:\\Users\\smhrd\\anaconda3\\Lib\\site-packages\\flask\\app.py\", line 1822, in full_dispatch_request\n",
      "    rv = self.handle_user_exception(e)\n",
      "         ^^^^^^^^^^^^^^^^^^^^^^^^^^^^^\n",
      "  File \"C:\\Users\\smhrd\\anaconda3\\Lib\\site-packages\\flask_cors\\extension.py\", line 176, in wrapped_function\n",
      "    return cors_after_request(app.make_response(f(*args, **kwargs)))\n",
      "                                                ^^^^^^^^^^^^^^^^^^\n",
      "  File \"C:\\Users\\smhrd\\anaconda3\\Lib\\site-packages\\flask\\app.py\", line 1820, in full_dispatch_request\n",
      "    rv = self.dispatch_request()\n",
      "         ^^^^^^^^^^^^^^^^^^^^^^^\n",
      "  File \"C:\\Users\\smhrd\\anaconda3\\Lib\\site-packages\\flask\\app.py\", line 1796, in dispatch_request\n",
      "    return self.ensure_sync(self.view_functions[rule.endpoint])(**view_args)\n",
      "           ^^^^^^^^^^^^^^^^^^^^^^^^^^^^^^^^^^^^^^^^^^^^^^^^^^^^^^^^^^^^^^^^^\n",
      "  File \"C:\\Users\\smhrd\\AppData\\Local\\Temp\\ipykernel_10916\\1409217159.py\", line 14, in test\n",
      "    result = img_crawling(name)\n",
      "             ^^^^^^^^^^^^^^^^^^\n",
      "  File \"C:\\Users\\smhrd\\AppData\\Local\\Temp\\ipykernel_10916\\1424649150.py\", line 11, in img_crawling\n",
      "    return img[0].get_attribute('src')\n",
      "           ~~~^^^\n",
      "IndexError: list index out of range\n",
      "127.0.0.1 - - [13/Mar/2024 16:46:42] \"GET /?name=지드래곤 HTTP/1.1\" 500 -\n",
      "127.0.0.1 - - [13/Mar/2024 16:47:05] \"GET /?name=아이유 HTTP/1.1\" 200 -\n",
      "127.0.0.1 - - [13/Mar/2024 16:50:51] \"GET /?name=아이유 HTTP/1.1\" 200 -\n",
      "[2024-03-13 16:52:48,355] ERROR in app: Exception on / [GET]\n",
      "Traceback (most recent call last):\n",
      "  File \"C:\\Users\\smhrd\\anaconda3\\Lib\\site-packages\\flask\\app.py\", line 2525, in wsgi_app\n",
      "    response = self.full_dispatch_request()\n",
      "               ^^^^^^^^^^^^^^^^^^^^^^^^^^^^\n",
      "  File \"C:\\Users\\smhrd\\anaconda3\\Lib\\site-packages\\flask\\app.py\", line 1822, in full_dispatch_request\n",
      "    rv = self.handle_user_exception(e)\n",
      "         ^^^^^^^^^^^^^^^^^^^^^^^^^^^^^\n",
      "  File \"C:\\Users\\smhrd\\anaconda3\\Lib\\site-packages\\flask_cors\\extension.py\", line 176, in wrapped_function\n",
      "    return cors_after_request(app.make_response(f(*args, **kwargs)))\n",
      "                                                ^^^^^^^^^^^^^^^^^^\n",
      "  File \"C:\\Users\\smhrd\\anaconda3\\Lib\\site-packages\\flask\\app.py\", line 1820, in full_dispatch_request\n",
      "    rv = self.dispatch_request()\n",
      "         ^^^^^^^^^^^^^^^^^^^^^^^\n",
      "  File \"C:\\Users\\smhrd\\anaconda3\\Lib\\site-packages\\flask\\app.py\", line 1796, in dispatch_request\n",
      "    return self.ensure_sync(self.view_functions[rule.endpoint])(**view_args)\n",
      "           ^^^^^^^^^^^^^^^^^^^^^^^^^^^^^^^^^^^^^^^^^^^^^^^^^^^^^^^^^^^^^^^^^\n",
      "  File \"C:\\Users\\smhrd\\AppData\\Local\\Temp\\ipykernel_10916\\1409217159.py\", line 14, in test\n",
      "    result = img_crawling(name)\n",
      "             ^^^^^^^^^^^^^^^^^^\n",
      "  File \"C:\\Users\\smhrd\\AppData\\Local\\Temp\\ipykernel_10916\\1424649150.py\", line 11, in img_crawling\n",
      "    return img[0].get_attribute('src')\n",
      "           ~~~^^^\n",
      "IndexError: list index out of range\n",
      "127.0.0.1 - - [13/Mar/2024 16:52:48] \"GET /?name=지드래곤 HTTP/1.1\" 500 -\n",
      "127.0.0.1 - - [13/Mar/2024 16:54:04] \"GET /?name=gd HTTP/1.1\" 200 -\n",
      "127.0.0.1 - - [13/Mar/2024 16:59:50] \"GET /?name=아이유 HTTP/1.1\" 200 -\n",
      "127.0.0.1 - - [13/Mar/2024 17:00:51] \"GET /?name=아이유 HTTP/1.1\" 200 -\n",
      "127.0.0.1 - - [13/Mar/2024 17:15:16] \"GET /?name=아이유 HTTP/1.1\" 200 -\n",
      "127.0.0.1 - - [13/Mar/2024 17:15:52] \"GET /?name=아이유 HTTP/1.1\" 200 -\n",
      "127.0.0.1 - - [13/Mar/2024 17:17:12] \"GET /?name=아이유 HTTP/1.1\" 200 -\n",
      "127.0.0.1 - - [13/Mar/2024 17:17:31] \"GET /?name=아이유 HTTP/1.1\" 200 -\n",
      "[2024-03-13 17:17:47,495] ERROR in app: Exception on / [GET]\n",
      "Traceback (most recent call last):\n",
      "  File \"C:\\Users\\smhrd\\anaconda3\\Lib\\site-packages\\flask\\app.py\", line 2525, in wsgi_app\n",
      "    response = self.full_dispatch_request()\n",
      "               ^^^^^^^^^^^^^^^^^^^^^^^^^^^^\n",
      "  File \"C:\\Users\\smhrd\\anaconda3\\Lib\\site-packages\\flask\\app.py\", line 1822, in full_dispatch_request\n",
      "    rv = self.handle_user_exception(e)\n",
      "         ^^^^^^^^^^^^^^^^^^^^^^^^^^^^^\n",
      "  File \"C:\\Users\\smhrd\\anaconda3\\Lib\\site-packages\\flask_cors\\extension.py\", line 176, in wrapped_function\n",
      "    return cors_after_request(app.make_response(f(*args, **kwargs)))\n",
      "                                                ^^^^^^^^^^^^^^^^^^\n",
      "  File \"C:\\Users\\smhrd\\anaconda3\\Lib\\site-packages\\flask\\app.py\", line 1820, in full_dispatch_request\n",
      "    rv = self.dispatch_request()\n",
      "         ^^^^^^^^^^^^^^^^^^^^^^^\n",
      "  File \"C:\\Users\\smhrd\\anaconda3\\Lib\\site-packages\\flask\\app.py\", line 1796, in dispatch_request\n",
      "    return self.ensure_sync(self.view_functions[rule.endpoint])(**view_args)\n",
      "           ^^^^^^^^^^^^^^^^^^^^^^^^^^^^^^^^^^^^^^^^^^^^^^^^^^^^^^^^^^^^^^^^^\n",
      "  File \"C:\\Users\\smhrd\\AppData\\Local\\Temp\\ipykernel_10916\\1409217159.py\", line 14, in test\n",
      "    result = img_crawling(name)\n",
      "             ^^^^^^^^^^^^^^^^^^\n",
      "  File \"C:\\Users\\smhrd\\AppData\\Local\\Temp\\ipykernel_10916\\1424649150.py\", line 11, in img_crawling\n",
      "    return img[0].get_attribute('src')\n",
      "           ~~~^^^\n",
      "IndexError: list index out of range\n",
      "127.0.0.1 - - [13/Mar/2024 17:17:47] \"GET /?name=아이유 HTTP/1.1\" 500 -\n",
      "127.0.0.1 - - [13/Mar/2024 17:18:17] \"GET /?name=아이유 HTTP/1.1\" 200 -\n",
      "127.0.0.1 - - [13/Mar/2024 17:18:48] \"GET /?name=아이유 HTTP/1.1\" 200 -\n",
      "127.0.0.1 - - [13/Mar/2024 17:19:57] \"GET /?name=이재용 HTTP/1.1\" 200 -\n",
      "[2024-03-13 17:20:19,479] ERROR in app: Exception on / [GET]\n",
      "Traceback (most recent call last):\n",
      "  File \"C:\\Users\\smhrd\\anaconda3\\Lib\\site-packages\\flask\\app.py\", line 2525, in wsgi_app\n",
      "    response = self.full_dispatch_request()\n",
      "               ^^^^^^^^^^^^^^^^^^^^^^^^^^^^\n",
      "  File \"C:\\Users\\smhrd\\anaconda3\\Lib\\site-packages\\flask\\app.py\", line 1822, in full_dispatch_request\n",
      "    rv = self.handle_user_exception(e)\n",
      "         ^^^^^^^^^^^^^^^^^^^^^^^^^^^^^\n",
      "  File \"C:\\Users\\smhrd\\anaconda3\\Lib\\site-packages\\flask_cors\\extension.py\", line 176, in wrapped_function\n",
      "    return cors_after_request(app.make_response(f(*args, **kwargs)))\n",
      "                                                ^^^^^^^^^^^^^^^^^^\n",
      "  File \"C:\\Users\\smhrd\\anaconda3\\Lib\\site-packages\\flask\\app.py\", line 1820, in full_dispatch_request\n",
      "    rv = self.dispatch_request()\n",
      "         ^^^^^^^^^^^^^^^^^^^^^^^\n",
      "  File \"C:\\Users\\smhrd\\anaconda3\\Lib\\site-packages\\flask\\app.py\", line 1796, in dispatch_request\n",
      "    return self.ensure_sync(self.view_functions[rule.endpoint])(**view_args)\n",
      "           ^^^^^^^^^^^^^^^^^^^^^^^^^^^^^^^^^^^^^^^^^^^^^^^^^^^^^^^^^^^^^^^^^\n",
      "  File \"C:\\Users\\smhrd\\AppData\\Local\\Temp\\ipykernel_10916\\1409217159.py\", line 14, in test\n",
      "    result = img_crawling(name)\n",
      "             ^^^^^^^^^^^^^^^^^^\n",
      "  File \"C:\\Users\\smhrd\\AppData\\Local\\Temp\\ipykernel_10916\\1424649150.py\", line 11, in img_crawling\n",
      "    return img[0].get_attribute('src')\n",
      "           ~~~^^^\n",
      "IndexError: list index out of range\n",
      "127.0.0.1 - - [13/Mar/2024 17:20:19] \"GET /?name=김이박 HTTP/1.1\" 500 -\n",
      "127.0.0.1 - - [13/Mar/2024 17:21:51] \"GET /?name=아이유 HTTP/1.1\" 200 -\n",
      "127.0.0.1 - - [13/Mar/2024 17:22:28] \"GET /?name=블랙핑크 HTTP/1.1\" 200 -\n",
      "127.0.0.1 - - [13/Mar/2024 17:23:46] \"GET /?name=손예진 HTTP/1.1\" 200 -\n",
      "127.0.0.1 - - [13/Mar/2024 17:24:04] \"GET /?name=에스파 HTTP/1.1\" 200 -\n"
     ]
    }
   ],
   "source": [
    "# Flask 객체 생성\n",
    "app = Flask(__name__)\n",
    "# CORS 허용\n",
    "CORS(app)\n",
    "\n",
    "# 라우터 생성\n",
    "@app.route(\"/\", methods=[\"GET\"])\n",
    "def test():\n",
    "    # 요청데이터 꺼내오기 \n",
    "    # get방식일 경우\n",
    "    name = request.args.get('name')\n",
    "    # post방식일 경우\n",
    "    # request.form.get('name')\n",
    "    result = img_crawling(name)\n",
    "    # 비동기통신으로 요청이 들어왔을 때, 돌려줄 데이터가 있다면\n",
    "    return result\n",
    "\n",
    "# app 설정 마무리\n",
    "if __name__ == \"__main__\":\n",
    "    app.run(host=\"127.0.0.1\", port=\"9000\")"
   ]
  },
  {
   "cell_type": "markdown",
   "id": "24f08923",
   "metadata": {},
   "source": [
    "## 2. 크롤링 코드 작성하기"
   ]
  },
  {
   "cell_type": "markdown",
   "id": "476a743a",
   "metadata": {},
   "source": [
    "## 2-1. 필요한 라이브러리 가져오기"
   ]
  },
  {
   "cell_type": "code",
   "execution_count": 2,
   "id": "5bdd98a7",
   "metadata": {
    "tags": []
   },
   "outputs": [],
   "source": [
    "from selenium import webdriver as wb\n",
    "from selenium.webdriver.common.keys import Keys\n",
    "from selenium.webdriver.common.by import By\n",
    "from tqdm.notebook import tqdm\n",
    "import time\n",
    "import pandas as pd\n",
    "# 파일시스템을 위한 라이브러리 (파일, 폴더를 삭제, 생성하는 라이브러리)\n",
    "import os\n",
    "# 이미지의 url을 실제 파일로 변환하는 라이브러리\n",
    "from urllib.request import urlretrieve\n",
    "# 네이버 페이지 -> 아이유 검색 -> enter -> 이미지탭 이동 -> 이미지 한개만 가져오기"
   ]
  },
  {
   "cell_type": "markdown",
   "id": "1294d08f",
   "metadata": {},
   "source": [
    "## 2-2. 코드 작성하기"
   ]
  },
  {
   "cell_type": "code",
   "execution_count": 7,
   "id": "90c8934a",
   "metadata": {
    "tags": []
   },
   "outputs": [],
   "source": [
    "if not os.path.isdir(\"C:/Users/smhrd/Desktop/이미지\"):\n",
    "    os.mkdir(\"C:/Users/smhrd/Desktop/이미지\")"
   ]
  },
  {
   "cell_type": "code",
   "execution_count": 11,
   "id": "c5c5595f-6ab5-4d65-8482-de5c42f7ee79",
   "metadata": {
    "tags": []
   },
   "outputs": [],
   "source": [
    "def img_crawling(name):\n",
    "    driver = wb.Chrome()\n",
    "    driver.get(\"https://www.naver.com\")\n",
    "    search = driver.find_element(By.CSS_SELECTOR, \"#query\")\n",
    "    search.send_keys(name)\n",
    "    search.send_keys(Keys.ENTER)\n",
    "    btn = driver.find_element(By.CSS_SELECTOR, \"#lnb > div.lnb_group > div > div.lnb_nav_area._nav_area_root > div > div.api_flicking_wrap._conveyer_root > div:nth-child(1) > a\")\n",
    "    btn.click()\n",
    "    time.sleep(0.5)\n",
    "    img = driver.find_elements(By.CSS_SELECTOR, \"#main_pack > section.sc_new.sp_nimage._fe_image_viewer_prepend_target > div.api_subject_bx._fe_image_tab_list_root.ani_fadein > div > div > div.image_tile._fe_image_tab_grid > div > div > div > div > img\")\n",
    "    return img[0].get_attribute('src')\n"
   ]
  },
  {
   "cell_type": "code",
   "execution_count": 9,
   "id": "058e4134",
   "metadata": {
    "tags": []
   },
   "outputs": [
    {
     "data": {
      "text/plain": [
       "'https://search.pstatic.net/common/?src=http%3A%2F%2Fimgnews.naver.net%2Fimage%2F5496%2F2023%2F10%2F06%2F0000007374_001_20231006125202116.jpg&type=a340'"
      ]
     },
     "execution_count": 9,
     "metadata": {},
     "output_type": "execute_result"
    }
   ],
   "source": [
    "driver = wb.Chrome()\n",
    "driver.get(\"https://www.naver.com\")\n",
    "\n",
    "search = driver.find_element(By.CSS_SELECTOR, \"#query\")\n",
    "search.send_keys('아이유')\n",
    "search.send_keys(Keys.ENTER)\n",
    "\n",
    "btn = driver.find_element(By.CSS_SELECTOR, \"#lnb > div.lnb_group > div > div.lnb_nav_area._nav_area_root > div > div.api_flicking_wrap._conveyer_root > div:nth-child(1) > a\")\n",
    "btn.click()\n",
    "\n",
    "time.sleep(0.5)\n",
    "\n",
    "img = driver.find_elements(By.CSS_SELECTOR, \"#main_pack > section.sc_new.sp_nimage._fe_image_viewer_prepend_target > div.api_subject_bx._fe_image_tab_list_root.ani_fadein > div > div > div.image_tile._fe_image_tab_grid > div > div > div > div > img\")\n",
    "\n",
    "img[0].get_attribute('src')\n"
   ]
  },
  {
   "cell_type": "code",
   "execution_count": null,
   "id": "30370c39-1cd2-4da0-98f9-7d68e85526ba",
   "metadata": {},
   "outputs": [],
   "source": []
  }
 ],
 "metadata": {
  "kernelspec": {
   "display_name": "Python 3 (ipykernel)",
   "language": "python",
   "name": "python3"
  },
  "language_info": {
   "codemirror_mode": {
    "name": "ipython",
    "version": 3
   },
   "file_extension": ".py",
   "mimetype": "text/x-python",
   "name": "python",
   "nbconvert_exporter": "python",
   "pygments_lexer": "ipython3",
   "version": "3.11.5"
  }
 },
 "nbformat": 4,
 "nbformat_minor": 5
}
