{
 "cells": [
  {
   "cell_type": "code",
   "execution_count": 19,
   "id": "5a373a67-de12-4490-a0a0-01c90df6acb6",
   "metadata": {
    "tags": []
   },
   "outputs": [],
   "source": [
    "# 라이브러리 설치\n",
    "# 라이브러리 설치는 한번만 진행\n",
    "# !pip install selenium"
   ]
  },
  {
   "cell_type": "code",
   "execution_count": 2,
   "id": "0ffef379-baf4-4fd9-be6e-8fc54d53276d",
   "metadata": {
    "tags": []
   },
   "outputs": [],
   "source": [
    "# 1. 브라우저 역할을 하는 라이브러리\n",
    "from selenium import webdriver as wb\n",
    "# 2. 컴퓨터용 키보드 라이브러리\n",
    "from selenium.webdriver.common.keys import Keys\n",
    "# 3. 선택자를 구분지어 주는 라이브러리\n",
    "from selenium.webdriver.common.by import By"
   ]
  },
  {
   "cell_type": "code",
   "execution_count": 3,
   "id": "29407d2d-8c80-4a86-8ae6-cf33eeb3b6e1",
   "metadata": {
    "tags": []
   },
   "outputs": [],
   "source": [
    "# 1. 크롬창 실행\n",
    "# Chrome('크롬 드라이버 경로')\n",
    "# 구버전에서는 크롬드라이버를 설치하라고 나옴. 그러나 신버전은 알아서 설치가 됨\n",
    "# 실수로 크롬드라이버를 설치하면 충돌 발생 -> 크롬드라이버 삭제\n",
    "driver = wb.Chrome()"
   ]
  },
  {
   "cell_type": "code",
   "execution_count": 4,
   "id": "6c03b1ce-95f9-40b7-882b-f5330db85366",
   "metadata": {
    "tags": []
   },
   "outputs": [],
   "source": [
    "# 2. 네이버 페이지 요청\n",
    "driver.get('https://naver.com/')"
   ]
  },
  {
   "cell_type": "code",
   "execution_count": 53,
   "id": "b2007720-8935-47b2-b9c0-3fb8bdbdf18a",
   "metadata": {
    "tags": []
   },
   "outputs": [],
   "source": [
    "# 3. 검색창에 '이강인' 검색\n",
    "search = driver.find_element(By.ID, \"query\")\n",
    "# 구버전 코드 (참고)\n",
    "# driver.find_element_by_id(\"query\")"
   ]
  },
  {
   "cell_type": "code",
   "execution_count": 42,
   "id": "fcc6f759-ad65-40f8-96ae-cbcb17acc380",
   "metadata": {
    "tags": []
   },
   "outputs": [],
   "source": [
    "# 4. 검색창에 '이강인' 값을 보내줘\n",
    "search.send_keys('이강인')"
   ]
  },
  {
   "cell_type": "code",
   "execution_count": 43,
   "id": "d0d56c07-3512-4dc6-a03a-274ce2b5872f",
   "metadata": {
    "tags": []
   },
   "outputs": [],
   "source": [
    "# 4.1 ENTER 눌러보기\n",
    "search.send_keys(Keys.ENTER)"
   ]
  },
  {
   "cell_type": "code",
   "execution_count": 44,
   "id": "c173b834-a3ac-4726-908d-b3aad3285835",
   "metadata": {
    "tags": []
   },
   "outputs": [],
   "source": [
    "# 5. 화면의 스크르로을 최하단으로 이동\n",
    "# body 태그에게 키보드의 END값을 보내기\n",
    "body = driver.find_element(By.TAG_NAME, \"body\")\n",
    "body.send_keys(Keys.END)"
   ]
  },
  {
   "cell_type": "code",
   "execution_count": 45,
   "id": "1818c457-1d9c-4883-b92b-f988b79362a7",
   "metadata": {
    "tags": []
   },
   "outputs": [],
   "source": [
    "# 뒤로가기\n",
    "driver.back()"
   ]
  },
  {
   "cell_type": "code",
   "execution_count": 46,
   "id": "1f5bffb5-db4d-458f-9685-b2714bdbbf69",
   "metadata": {
    "tags": []
   },
   "outputs": [],
   "source": [
    "# 7. 검색창에 손흥민 검색\n",
    "# 페이지가 바뀌면 모든 데이터가 초기화 -> 태그, 요소를 반드시 다시 찾아줘야 함\n",
    "# 클라이언트가 서버에게 새로운 요청을 보내면, 서버는 새로운 데이터를 리턴\n",
    "search = driver.find_element(By.ID, \"query\")\n",
    "search.send_keys('손흥민')"
   ]
  },
  {
   "cell_type": "code",
   "execution_count": 47,
   "id": "3746dd8e-8905-4f59-acec-faf3b2322fbe",
   "metadata": {
    "tags": []
   },
   "outputs": [],
   "source": [
    "# 8. 검색버튼 클릭\n",
    "btn = driver.find_element(By.CSS_SELECTOR, \"#sform > fieldset > button \")\n",
    "btn.click()"
   ]
  },
  {
   "cell_type": "code",
   "execution_count": 48,
   "id": "70f8d2e6-a05d-48b4-9dba-c9a4f9a7d7b9",
   "metadata": {
    "tags": []
   },
   "outputs": [],
   "source": [
    "# 9. 창을 종료\n",
    "driver.close()"
   ]
  },
  {
   "cell_type": "code",
   "execution_count": 54,
   "id": "0797f06e-8c07-4c5c-99b5-f9e410f2c578",
   "metadata": {
    "tags": []
   },
   "outputs": [],
   "source": [
    "# 10. 글자 수집\n",
    "title = driver.find_elements(By.CSS_SELECTOR, \"div.news_wrap.api_ani_send > div > div.news_contents > a.news_tit\")"
   ]
  },
  {
   "cell_type": "code",
   "execution_count": 55,
   "id": "9e5072c3-b897-4ff6-b385-2206c6981ec5",
   "metadata": {
    "tags": []
   },
   "outputs": [],
   "source": [
    "# 11. 순수한 텍스트만 출력\n",
    "for i in title:\n",
    "    print(i.text)"
   ]
  },
  {
   "cell_type": "code",
   "execution_count": 15,
   "id": "d1c84d20-cb8b-4f43-abfc-0d641bbfe978",
   "metadata": {
    "tags": []
   },
   "outputs": [],
   "source": [
    "driver.get('https://www.signal.bz/')"
   ]
  },
  {
   "cell_type": "code",
   "execution_count": 16,
   "id": "dcede316-1971-437b-b331-34083ef470ce",
   "metadata": {
    "tags": []
   },
   "outputs": [],
   "source": [
    "name = driver.find_elements(By.CSS_SELECTOR, \"#app > div > main > div > section > div > section > section:nth-child(2) > div:nth-child(2) > div > div > div > a > span.rank-text\")"
   ]
  },
  {
   "cell_type": "code",
   "execution_count": 17,
   "id": "90427dcb-6afb-4b06-af85-7377213ad701",
   "metadata": {
    "collapsed": true,
    "jupyter": {
     "outputs_hidden": true
    },
    "tags": []
   },
   "outputs": [
    {
     "name": "stdout",
     "output_type": "stream",
     "text": [
      "이강인 손흥민 직접\n",
      "최홍만\n",
      "뉴욕증시 엔비디아 실적\n",
      "음바페 레알\n",
      "다니엘 헤니\n",
      "NRG 이성진 아빠\n",
      "손연재\n",
      "박민영 나인우 내남\n",
      "황의조 형수 자백\n",
      "방실이 별세 투병\n"
     ]
    }
   ],
   "source": [
    "for i in name:\n",
    "    print(i.text)"
   ]
  },
  {
   "cell_type": "code",
   "execution_count": null,
   "id": "794270a7-72a2-4270-8c35-d9ab9883267f",
   "metadata": {},
   "outputs": [],
   "source": []
  }
 ],
 "metadata": {
  "kernelspec": {
   "display_name": "Python 3 (ipykernel)",
   "language": "python",
   "name": "python3"
  },
  "language_info": {
   "codemirror_mode": {
    "name": "ipython",
    "version": 3
   },
   "file_extension": ".py",
   "mimetype": "text/x-python",
   "name": "python",
   "nbconvert_exporter": "python",
   "pygments_lexer": "ipython3",
   "version": "3.11.5"
  }
 },
 "nbformat": 4,
 "nbformat_minor": 5
}
