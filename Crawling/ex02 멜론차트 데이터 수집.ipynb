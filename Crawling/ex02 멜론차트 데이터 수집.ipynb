{
 "cells": [
  {
   "cell_type": "code",
   "execution_count": 1,
   "id": "9f18454f-a422-47ec-a9df-46fc39b5a898",
   "metadata": {
    "tags": []
   },
   "outputs": [
    {
     "name": "stdout",
     "output_type": "stream",
     "text": [
      "<Response [200]>\n"
     ]
    }
   ],
   "source": [
    "import requests as req\n",
    "from bs4 import BeautifulSoup as bs\n",
    "\n",
    "url = \"https://www.melon.com/chart/index.htm\"\n",
    "header = {\"User-Agent\":\"Mozilla/5.0 (Windows NT 10.0; Win64; x64) AppleWebKit/537.36 (KHTML, like Gecko) Chrome/100.0.4896.75 Safari/537.36\"}\n",
    "res = req.get(url, headers=header)\n",
    "print(res)"
   ]
  },
  {
   "cell_type": "code",
   "execution_count": 2,
   "id": "e31f4a40-7ac1-47d6-b529-80508a120e46",
   "metadata": {},
   "outputs": [],
   "source": [
    "# 크롤링에서 가장 많이 사용하는 선택자\n",
    "# id, class, >(자식), nth-child(n) 가상클래스선택자"
   ]
  },
  {
   "cell_type": "code",
   "execution_count": 3,
   "id": "6c460be6-3e29-48bf-bd19-e520489e4183",
   "metadata": {
    "collapsed": true,
    "jupyter": {
     "outputs_hidden": true
    },
    "tags": []
   },
   "outputs": [
    {
     "name": "stdout",
     "output_type": "stream",
     "text": [
      "['Love wins all', '첫 만남은 계획대로 되지 않아', '밤양갱', 'To. X', '비의 랩소디', 'Love 119', '에피소드', 'Perfect Night', '그대만 있다면 (여름날 우리 X 너드커넥션 (Nerd Connection))', '사랑은 늘 도망가', 'Drama', '헤어지자 말해요', 'Super Lady', '인사', 'Wife', '모래 알갱이', 'Seven (feat. Latto) - Clean Ver.', '우리들의 블루스', '꿈', 'Do or Die', '다시 만날 수 있을까', 'I AM', 'MANIAC', '이제 나만 믿어요', '무지개', 'Get A Guitar', 'London Boy', 'Polaroid', 'Baddie', '아버지', '인생찬가', 'Love Lee', '너의 모든 순간', 'A bientot', 'You & Me', '사막에서 꽃을 피우듯', '퀸카 (Queencard)', 'Super Shy', '예뻤어', '잘 지내자, 우리 (여름날 우리 X 로이킴)', 'Hype Boy', '후라이의 꿈', '연애편지', 'Standing Next to You', 'Ditto', '사랑인가 봐', '한 페이지가 될 수 있게', 'ETA', '어떻게 이별까지 사랑하겠어, 널 사랑하는 거지', '사건의 지평선', '기억해줘요 내 모든 날과 그때를', '사랑할 수밖에', '첫 눈', '사랑하지 않아서 그랬어', '그대가 내 안에 박혔다(그내박)', 'Spicy', '심(心)', '별 떨어진다 (I Do)', '취중고백', '봄날', 'Dynamite', '모든 날, 모든 순간 (Every day, Every Moment)', '주저하는 연인들을 위해', 'Yes or No (Feat. 허윤진 of LE SSERAFIM, Crush)', 'Kitsch', \"I Don't Think That I Like Her\", 'LOVE DIVE', 'Steal The Show (From “엘리멘탈”)', 'Discord', '해요 (2022)', '그대가 있는 곳, 언제 어디든', '음악의 신', '사랑..그게 뭔데', '그중에 그대를 만나', '물론', '이브, 프시케 그리고 푸른 수염의 아내', '손오공', '파이팅 해야지 (Feat. 이영지)', 'OMG', '다정히 내 이름을 부르면', 'After LIKE', 'Dangerously', 'I Love You', 'Fast Forward', 'Smoke (Prod. Dynamicduo, Padi)', 'Off The Record', 'Butter', 'Bubble', 'Merry PLLIstmas', '건물 사이에 피어난 장미 (Rose Blossom)', 'Either Way', '여섯 번째 여름', '나에게 그대만이', 'Attention', '나는 아픈 건 딱 질색이니까', '눈이 오잖아(Feat.헤이즈)', '잠시라도 우리', 'UNFORGIVEN (feat. Nile Rodgers)', 'Talk Saxy', 'Chill Kill']\n"
     ]
    }
   ],
   "source": [
    "#3.bs를 통해서 html데이터로 변형 >text데이터가 html데이터로 변형\n",
    "\n",
    "soup = bs(res.text, \"lxml\")\n",
    "title_list = []\n",
    "for title in soup.find_all('a', {\"class\" : \"btn button_icons type03 song_info\"}):\n",
    "    title_list.append(title.get('title')[:-4])\n",
    "print(title_list)"
   ]
  },
  {
   "cell_type": "code",
   "execution_count": 4,
   "id": "8cac6fb1-7708-4d45-a68b-783176c61405",
   "metadata": {
    "tags": []
   },
   "outputs": [
    {
     "data": {
      "text/plain": [
       "103"
      ]
     },
     "execution_count": 4,
     "metadata": {},
     "output_type": "execute_result"
    }
   ],
   "source": [
    "# 선택자를 수집할 때 클래스 중간에 공백이 있는 경우 > 클래스가 복수개\n",
    "# 수정방법 = 공백을 지우고 클래스마다\".\"를 통해서 이어준다\n",
    "# 수집하고자 하는 태그가 id,class가 없는 경우에는 부모태그를 검사해라\n",
    "# ✨주의점! 부모태그가 id,class가 없다면 있을때까지 검사를 해야한다.\n",
    "\n",
    "title = soup.select(\"div.ellipsis.rank01 > span > a\")\n",
    "singer = soup.select(\"div.ellipsis.rank02 > span\")\n",
    "\n",
    "# 데이터의 개수가 정해진 경우에는 반드시 데이터의 길이(개수)를 검증하고 넘어가라\n",
    "# 올바르지 않은 데이터를 수집하면 활용할 때 에러가 발생\n",
    "len(soup.select(\"div.ellipsis.rank02 > span > a\"))"
   ]
  },
  {
   "cell_type": "code",
   "execution_count": 5,
   "id": "17159542-65b4-4b02-99b6-9d426bcb522c",
   "metadata": {
    "tags": []
   },
   "outputs": [],
   "source": [
    "title_list = []\n",
    "for i in soup.select(\"div.ellipsis.rank01 > span > a\"):\n",
    "    title_list.append(i.text)"
   ]
  },
  {
   "cell_type": "code",
   "execution_count": 6,
   "id": "f3bd2f36-a38e-45e1-bf39-bc8453c11550",
   "metadata": {
    "tags": []
   },
   "outputs": [],
   "source": [
    "singer_list = []\n",
    "for i in soup.select(\"div.ellipsis.rank02 > span.checkEllipsis\"):\n",
    "    singer_list.append(i.text)"
   ]
  },
  {
   "cell_type": "code",
   "execution_count": 7,
   "id": "68e8a236-0d6e-42c9-9e06-e36246a4bd7e",
   "metadata": {
    "tags": []
   },
   "outputs": [],
   "source": [
    "# 코드의 재사용성, 효율성을 고려한 반복문 \n",
    "rank_list = []\n",
    "title_list = []\n",
    "singer_list = []\n",
    "for i in range(len(title)) :\n",
    "    title_list.append(title[i].text)\n",
    "    singer_list.append(singer[i].text)\n",
    "    rank_list.append(i+1)"
   ]
  },
  {
   "cell_type": "code",
   "execution_count": 8,
   "id": "3fe4e60c-9be7-4916-9957-162e89c880c1",
   "metadata": {
    "collapsed": true,
    "jupyter": {
     "outputs_hidden": true
    },
    "tags": []
   },
   "outputs": [
    {
     "name": "stdout",
     "output_type": "stream",
     "text": [
      "[['Love wins all', '아이유'], ['첫 만남은 계획대로 되지 않아', 'TWS (투어스)'], ['밤양갱', '비비 (BIBI)'], ['To. X', '태연 (TAEYEON)'], ['비의 랩소디', '임재현'], ['Love 119', 'RIIZE'], ['에피소드', '이무진'], ['Perfect Night', 'LE SSERAFIM (르세라핌)'], ['그대만 있다면 (여름날 우리 X 너드커넥션 (Nerd Connection))', '너드커넥션 (Nerd Connection)'], ['사랑은 늘 도망가', '임영웅'], ['Drama', 'aespa'], ['헤어지자 말해요', '박재정'], ['Super Lady', '(여자)아이들'], ['인사', '범진'], ['Wife', '(여자)아이들'], ['모래 알갱이', '임영웅'], ['Seven (feat. Latto) - Clean Ver.', '정국'], ['우리들의 블루스', '임영웅'], ['꿈', '태연 (TAEYEON)'], ['Do or Die', '임영웅'], ['다시 만날 수 있을까', '임영웅'], ['I AM', 'IVE (아이브)'], ['MANIAC', 'VIVIZ (비비지)'], ['이제 나만 믿어요', '임영웅'], ['무지개', '임영웅'], ['Get A Guitar', 'RIIZE'], ['London Boy', '임영웅'], ['Polaroid', '임영웅'], ['Baddie', 'IVE (아이브)'], ['아버지', '임영웅'], ['인생찬가', '임영웅'], ['Love Lee', 'AKMU (악뮤)'], ['너의 모든 순간', '성시경'], ['A bientot', '임영웅'], ['You & Me', '제니 (JENNIE)'], ['사막에서 꽃을 피우듯', '우디 (Woody)'], ['퀸카 (Queencard)', '(여자)아이들'], ['Super Shy', 'NewJeans'], ['예뻤어', 'DAY6 (데이식스)'], ['잘 지내자, 우리 (여름날 우리 X 로이킴)', '로이킴'], ['Hype Boy', 'NewJeans'], ['후라이의 꿈', 'AKMU (악뮤)'], ['연애편지', '임영웅'], ['Standing Next to You', '정국'], ['Ditto', 'NewJeans'], ['사랑인가 봐', '멜로망스'], ['한 페이지가 될 수 있게', 'DAY6 (데이식스)'], ['ETA', 'NewJeans'], ['어떻게 이별까지 사랑하겠어, 널 사랑하는 거지', 'AKMU (악뮤)'], ['사건의 지평선', '윤하 (YOUNHA)'], ['기억해줘요 내 모든 날과 그때를', '화곡동 청개구리'], ['사랑할 수밖에', '볼빨간사춘기'], ['첫 눈', 'EXO'], ['사랑하지 않아서 그랬어', '임한별'], ['그대가 내 안에 박혔다(그내박)', '순순희(기태)'], ['Spicy', 'aespa'], ['심(心)', 'DK(디셈버)'], ['별 떨어진다 (I Do)', '디오 (D.O.)'], ['취중고백', '김민석'], ['봄날', '방탄소년단'], ['Dynamite', '방탄소년단'], ['모든 날, 모든 순간 (Every day, Every Moment)', '폴킴'], ['주저하는 연인들을 위해', '잔나비'], ['Yes or No (Feat. 허윤진 of LE SSERAFIM, Crush)', '그루비룸 (GroovyRoom)'], ['Kitsch', 'IVE (아이브)'], [\"I Don't Think That I Like Her\", 'Charlie Puth'], ['LOVE DIVE', 'IVE (아이브)'], ['Steal The Show (From “엘리멘탈”)', 'Lauv'], ['Discord', 'QWER'], ['해요 (2022)', '#안녕'], ['그대가 있는 곳, 언제 어디든', '로이킴'], ['음악의 신', '세븐틴 (SEVENTEEN)'], ['사랑..그게 뭔데', '지아'], ['그중에 그대를 만나', '김호중'], ['물론', '허각'], ['이브, 프시케 그리고 푸른 수염의 아내', 'LE SSERAFIM (르세라핌)'], ['손오공', '세븐틴 (SEVENTEEN)'], ['파이팅 해야지 (Feat. 이영지)', '부석순 (SEVENTEEN)'], ['OMG', 'NewJeans'], ['다정히 내 이름을 부르면', '경서예지, 전건호'], ['After LIKE', 'IVE (아이브)'], ['Dangerously', 'Charlie Puth'], ['I Love You', '안세하'], ['Fast Forward', '전소미'], ['Smoke (Prod. Dynamicduo, Padi)', '다이나믹 듀오, 이영지'], ['Off The Record', 'IVE (아이브)'], ['Butter', '방탄소년단'], ['Bubble', 'STAYC(스테이씨)'], ['Merry PLLIstmas', 'PLAVE'], ['건물 사이에 피어난 장미 (Rose Blossom)', 'H1-KEY (하이키)'], ['Either Way', 'IVE (아이브)'], ['여섯 번째 여름', 'PLAVE'], ['나에게 그대만이', '탑현'], ['Attention', 'NewJeans'], ['나는 아픈 건 딱 질색이니까', '(여자)아이들'], ['눈이 오잖아(Feat.헤이즈)', '이무진'], ['잠시라도 우리', '성시경, 나얼'], ['UNFORGIVEN (feat. Nile Rodgers)', 'LE SSERAFIM (르세라핌)'], ['Talk Saxy', 'RIIZE'], ['Chill Kill', 'Red Velvet (레드벨벳)']]\n"
     ]
    }
   ],
   "source": [
    "result_list = []\n",
    "\n",
    "for i in soup.select(\"div.wrap_song_info\"):\n",
    "    j_elements = i.select(\"div.wrap_song_info > div.ellipsis.rank01 > span > a\")\n",
    "    k_elements = i.select(\"div.ellipsis.rank02 > span.checkEllipsis\")\n",
    "    \n",
    "    # j.text와 k.text가 모두 존재하는 경우에만 리스트에 추가\n",
    "    if j_elements and k_elements:\n",
    "        song_info = [j_elements[0].text, k_elements[0].text]\n",
    "        result_list.append(song_info)\n",
    "\n",
    "print(result_list)\n"
   ]
  },
  {
   "cell_type": "code",
   "execution_count": 9,
   "id": "359f8c2e-ba04-4448-820e-781982c289cb",
   "metadata": {
    "collapsed": true,
    "jupyter": {
     "outputs_hidden": true
    },
    "tags": []
   },
   "outputs": [
    {
     "data": {
      "text/html": [
       "<div>\n",
       "<style scoped>\n",
       "    .dataframe tbody tr th:only-of-type {\n",
       "        vertical-align: middle;\n",
       "    }\n",
       "\n",
       "    .dataframe tbody tr th {\n",
       "        vertical-align: top;\n",
       "    }\n",
       "\n",
       "    .dataframe thead th {\n",
       "        text-align: right;\n",
       "    }\n",
       "</style>\n",
       "<table border=\"1\" class=\"dataframe\">\n",
       "  <thead>\n",
       "    <tr style=\"text-align: right;\">\n",
       "      <th></th>\n",
       "      <th>가수이름</th>\n",
       "      <th>노래제목</th>\n",
       "    </tr>\n",
       "    <tr>\n",
       "      <th>순위</th>\n",
       "      <th></th>\n",
       "      <th></th>\n",
       "    </tr>\n",
       "  </thead>\n",
       "  <tbody>\n",
       "    <tr>\n",
       "      <th>1</th>\n",
       "      <td>아이유</td>\n",
       "      <td>Love wins all</td>\n",
       "    </tr>\n",
       "    <tr>\n",
       "      <th>2</th>\n",
       "      <td>TWS (투어스)</td>\n",
       "      <td>첫 만남은 계획대로 되지 않아</td>\n",
       "    </tr>\n",
       "    <tr>\n",
       "      <th>3</th>\n",
       "      <td>비비 (BIBI)</td>\n",
       "      <td>밤양갱</td>\n",
       "    </tr>\n",
       "    <tr>\n",
       "      <th>4</th>\n",
       "      <td>태연 (TAEYEON)</td>\n",
       "      <td>To. X</td>\n",
       "    </tr>\n",
       "    <tr>\n",
       "      <th>5</th>\n",
       "      <td>임재현</td>\n",
       "      <td>비의 랩소디</td>\n",
       "    </tr>\n",
       "    <tr>\n",
       "      <th>...</th>\n",
       "      <td>...</td>\n",
       "      <td>...</td>\n",
       "    </tr>\n",
       "    <tr>\n",
       "      <th>96</th>\n",
       "      <td>이무진</td>\n",
       "      <td>눈이 오잖아(Feat.헤이즈)</td>\n",
       "    </tr>\n",
       "    <tr>\n",
       "      <th>97</th>\n",
       "      <td>성시경, 나얼</td>\n",
       "      <td>잠시라도 우리</td>\n",
       "    </tr>\n",
       "    <tr>\n",
       "      <th>98</th>\n",
       "      <td>LE SSERAFIM (르세라핌)</td>\n",
       "      <td>UNFORGIVEN (feat. Nile Rodgers)</td>\n",
       "    </tr>\n",
       "    <tr>\n",
       "      <th>99</th>\n",
       "      <td>RIIZE</td>\n",
       "      <td>Talk Saxy</td>\n",
       "    </tr>\n",
       "    <tr>\n",
       "      <th>100</th>\n",
       "      <td>Red Velvet (레드벨벳)</td>\n",
       "      <td>Chill Kill</td>\n",
       "    </tr>\n",
       "  </tbody>\n",
       "</table>\n",
       "<p>100 rows × 2 columns</p>\n",
       "</div>"
      ],
      "text/plain": [
       "                   가수이름                             노래제목\n",
       "순위                                                      \n",
       "1                   아이유                    Love wins all\n",
       "2             TWS (투어스)                 첫 만남은 계획대로 되지 않아\n",
       "3             비비 (BIBI)                              밤양갱\n",
       "4          태연 (TAEYEON)                            To. X\n",
       "5                   임재현                           비의 랩소디\n",
       "..                  ...                              ...\n",
       "96                  이무진                 눈이 오잖아(Feat.헤이즈)\n",
       "97              성시경, 나얼                          잠시라도 우리\n",
       "98   LE SSERAFIM (르세라핌)  UNFORGIVEN (feat. Nile Rodgers)\n",
       "99                RIIZE                        Talk Saxy\n",
       "100   Red Velvet (레드벨벳)                       Chill Kill\n",
       "\n",
       "[100 rows x 2 columns]"
      ]
     },
     "execution_count": 9,
     "metadata": {},
     "output_type": "execute_result"
    }
   ],
   "source": [
    "import pandas as pd\n",
    "dic = {'순위' : rank_list, '가수이름' : singer_list,  '노래제목' : title_list}\n",
    "pd.DataFrame(dic)\n",
    "melon = pd.DataFrame(dic)\n",
    "melon.set_index(\"순위\" ,inplace = True)\n",
    "melon"
   ]
  },
  {
   "cell_type": "code",
   "execution_count": 10,
   "id": "6905667e-021c-435e-851b-f3129c7bfbdd",
   "metadata": {},
   "outputs": [],
   "source": [
    "melon.to_csv(\"melon.csv\", encoding=\"euc-kr\") "
   ]
  },
  {
   "cell_type": "code",
   "execution_count": 34,
   "id": "a8bb87af-f55c-4694-b417-aff150f0bec9",
   "metadata": {
    "collapsed": true,
    "jupyter": {
     "outputs_hidden": true
    },
    "tags": []
   },
   "outputs": [
    {
     "data": {
      "text/html": [
       "<div>\n",
       "<style scoped>\n",
       "    .dataframe tbody tr th:only-of-type {\n",
       "        vertical-align: middle;\n",
       "    }\n",
       "\n",
       "    .dataframe tbody tr th {\n",
       "        vertical-align: top;\n",
       "    }\n",
       "\n",
       "    .dataframe thead th {\n",
       "        text-align: right;\n",
       "    }\n",
       "</style>\n",
       "<table border=\"1\" class=\"dataframe\">\n",
       "  <thead>\n",
       "    <tr style=\"text-align: right;\">\n",
       "      <th></th>\n",
       "      <th>노래제목</th>\n",
       "      <th>가수이름</th>\n",
       "    </tr>\n",
       "    <tr>\n",
       "      <th>순위</th>\n",
       "      <th></th>\n",
       "      <th></th>\n",
       "    </tr>\n",
       "  </thead>\n",
       "  <tbody>\n",
       "    <tr>\n",
       "      <th>1</th>\n",
       "      <td>Love wins all</td>\n",
       "      <td>아이유</td>\n",
       "    </tr>\n",
       "    <tr>\n",
       "      <th>2</th>\n",
       "      <td>첫 만남은 계획대로 되지 않아</td>\n",
       "      <td>TWS (투어스)</td>\n",
       "    </tr>\n",
       "    <tr>\n",
       "      <th>3</th>\n",
       "      <td>밤양갱</td>\n",
       "      <td>비비 (BIBI)</td>\n",
       "    </tr>\n",
       "    <tr>\n",
       "      <th>4</th>\n",
       "      <td>To. X</td>\n",
       "      <td>태연 (TAEYEON)</td>\n",
       "    </tr>\n",
       "    <tr>\n",
       "      <th>5</th>\n",
       "      <td>비의 랩소디</td>\n",
       "      <td>임재현</td>\n",
       "    </tr>\n",
       "    <tr>\n",
       "      <th>...</th>\n",
       "      <td>...</td>\n",
       "      <td>...</td>\n",
       "    </tr>\n",
       "    <tr>\n",
       "      <th>96</th>\n",
       "      <td>눈이 오잖아(Feat.헤이즈)</td>\n",
       "      <td>이무진</td>\n",
       "    </tr>\n",
       "    <tr>\n",
       "      <th>97</th>\n",
       "      <td>잠시라도 우리</td>\n",
       "      <td>성시경, 나얼</td>\n",
       "    </tr>\n",
       "    <tr>\n",
       "      <th>98</th>\n",
       "      <td>UNFORGIVEN (feat. Nile Rodgers)</td>\n",
       "      <td>LE SSERAFIM (르세라핌)</td>\n",
       "    </tr>\n",
       "    <tr>\n",
       "      <th>99</th>\n",
       "      <td>Talk Saxy</td>\n",
       "      <td>RIIZE</td>\n",
       "    </tr>\n",
       "    <tr>\n",
       "      <th>100</th>\n",
       "      <td>Chill Kill</td>\n",
       "      <td>Red Velvet (레드벨벳)</td>\n",
       "    </tr>\n",
       "  </tbody>\n",
       "</table>\n",
       "<p>100 rows × 2 columns</p>\n",
       "</div>"
      ],
      "text/plain": [
       "                                노래제목                가수이름\n",
       "순위                                                      \n",
       "1                      Love wins all                 아이유\n",
       "2                   첫 만남은 계획대로 되지 않아           TWS (투어스)\n",
       "3                                밤양갱           비비 (BIBI)\n",
       "4                              To. X        태연 (TAEYEON)\n",
       "5                             비의 랩소디                 임재현\n",
       "..                               ...                 ...\n",
       "96                  눈이 오잖아(Feat.헤이즈)                 이무진\n",
       "97                           잠시라도 우리             성시경, 나얼\n",
       "98   UNFORGIVEN (feat. Nile Rodgers)  LE SSERAFIM (르세라핌)\n",
       "99                         Talk Saxy               RIIZE\n",
       "100                       Chill Kill   Red Velvet (레드벨벳)\n",
       "\n",
       "[100 rows x 2 columns]"
      ]
     },
     "execution_count": 34,
     "metadata": {},
     "output_type": "execute_result"
    }
   ],
   "source": [
    "import numpy as np\n",
    "df = pd.DataFrame(np.array(result_list), columns = ['노래제목','가수이름'], index=range(1, len(result_list)+1))\n",
    "df.index.name = '순위'\n",
    "df"
   ]
  },
  {
   "cell_type": "code",
   "execution_count": null,
   "id": "b32749bd-aded-4030-9aa8-25c02ba2339a",
   "metadata": {},
   "outputs": [],
   "source": []
  }
 ],
 "metadata": {
  "kernelspec": {
   "display_name": "Python 3 (ipykernel)",
   "language": "python",
   "name": "python3"
  },
  "language_info": {
   "codemirror_mode": {
    "name": "ipython",
    "version": 3
   },
   "file_extension": ".py",
   "mimetype": "text/x-python",
   "name": "python",
   "nbconvert_exporter": "python",
   "pygments_lexer": "ipython3",
   "version": "3.11.5"
  }
 },
 "nbformat": 4,
 "nbformat_minor": 5
}
