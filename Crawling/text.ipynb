{
 "cells": [
  {
   "cell_type": "code",
   "execution_count": 45,
   "metadata": {},
   "outputs": [],
   "source": [
    "from selenium import webdriver as wb\n",
    "from selenium.webdriver.common.keys import Keys\n",
    "from selenium.webdriver.common.by import By\n",
    "from tqdm.notebook import tqdm\n",
    "import time\n",
    "import pandas as pd"
   ]
  },
  {
   "cell_type": "code",
   "execution_count": 46,
   "metadata": {},
   "outputs": [],
   "source": [
    "driver=wb.Chrome()\n",
    "url = \"https://naver.com/\"\n",
    "driver.get(url)"
   ]
  },
  {
   "cell_type": "code",
   "execution_count": 47,
   "metadata": {},
   "outputs": [],
   "source": [
    "search = driver.find_element(By.ID, \"query\")"
   ]
  },
  {
   "cell_type": "code",
   "execution_count": 48,
   "metadata": {},
   "outputs": [],
   "source": [
    "search.send_keys(\"크롤링\")\n",
    "search.send_keys(Keys.ENTER)"
   ]
  },
  {
   "cell_type": "code",
   "execution_count": 49,
   "metadata": {},
   "outputs": [],
   "source": [
    "driver=wb.Chrome()\n",
    "url= \"http://corners.gmarket.co.kr/Bestsellers\"\n",
    "driver.get(url)"
   ]
  },
  {
   "cell_type": "code",
   "execution_count": 50,
   "metadata": {},
   "outputs": [],
   "source": [
    "title_list = []\n",
    "title = driver.find_elements(By.CSS_SELECTOR, \"#gBestWrap > div.best-list > ul > li > a\")\n",
    "for i in range(1,21):\n",
    "    title_list.append(title[i].text)"
   ]
  },
  {
   "cell_type": "code",
   "execution_count": 51,
   "metadata": {},
   "outputs": [],
   "source": [
    "num_list =[]\n",
    "price_list=[]\n",
    "price = driver.find_elements(By.CSS_SELECTOR, \"#gBestWrap > div.best-list > ul > li > div.item_price > div.s-price > strong > span\")\n",
    "for i in range(1,21):\n",
    "    num_list.append(i)\n",
    "    price_list.append(price[i].text)"
   ]
  },
  {
   "cell_type": "code",
   "execution_count": 52,
   "metadata": {},
   "outputs": [
    {
     "data": {
      "text/html": [
       "<div>\n",
       "<style scoped>\n",
       "    .dataframe tbody tr th:only-of-type {\n",
       "        vertical-align: middle;\n",
       "    }\n",
       "\n",
       "    .dataframe tbody tr th {\n",
       "        vertical-align: top;\n",
       "    }\n",
       "\n",
       "    .dataframe thead th {\n",
       "        text-align: right;\n",
       "    }\n",
       "</style>\n",
       "<table border=\"1\" class=\"dataframe\">\n",
       "  <thead>\n",
       "    <tr style=\"text-align: right;\">\n",
       "      <th></th>\n",
       "      <th>상품명</th>\n",
       "      <th>가격</th>\n",
       "    </tr>\n",
       "    <tr>\n",
       "      <th>순서</th>\n",
       "      <th></th>\n",
       "      <th></th>\n",
       "    </tr>\n",
       "  </thead>\n",
       "  <tbody>\n",
       "    <tr>\n",
       "      <th>1</th>\n",
       "      <td>(최종2.3만)차이슨 헤어 드라이어 드라이기+노즐5개</td>\n",
       "      <td>31,850원</td>\n",
       "    </tr>\n",
       "    <tr>\n",
       "      <th>2</th>\n",
       "      <td>[한성기업]한성기업 크래미 몬스터크랩 72g X 15개</td>\n",
       "      <td>17,900원</td>\n",
       "    </tr>\n",
       "    <tr>\n",
       "      <th>3</th>\n",
       "      <td>[메가박스](유니버스클럽 전용 쿠폰적용가 5천원) 메가박스 일반예매권 2D-주중/주말</td>\n",
       "      <td>15,000원</td>\n",
       "    </tr>\n",
       "    <tr>\n",
       "      <th>4</th>\n",
       "      <td>(선)브래비 유니 TRAINING SET F-ZIP N231UFT010</td>\n",
       "      <td>79,470원</td>\n",
       "    </tr>\n",
       "    <tr>\n",
       "      <th>5</th>\n",
       "      <td>[버블트리]15%+10% 버블트리 봄신상 스쿨룩 베이비페어 특가전</td>\n",
       "      <td>15,000원</td>\n",
       "    </tr>\n",
       "    <tr>\n",
       "      <th>6</th>\n",
       "      <td>[하기스]하기스 네이처메이드 밤부 밴드/팬티 기저귀 1박스 모음전</td>\n",
       "      <td>67,900원</td>\n",
       "    </tr>\n",
       "    <tr>\n",
       "      <th>7</th>\n",
       "      <td>BSP D9 휴대용 모바일 게이밍 컨트롤러 안드로이드 아이폰 태블릿 스위치 PC 윈...</td>\n",
       "      <td>43,600원</td>\n",
       "    </tr>\n",
       "    <tr>\n",
       "      <th>8</th>\n",
       "      <td>[서울우유]멸균우유 200ml 24입+24입 (2박스)</td>\n",
       "      <td>26,970원</td>\n",
       "    </tr>\n",
       "    <tr>\n",
       "      <th>9</th>\n",
       "      <td>수퍼맘스토리카페/총 120종의 대작/보카사이언스/Visual Literacy/Tal...</td>\n",
       "      <td>178,800원</td>\n",
       "    </tr>\n",
       "    <tr>\n",
       "      <th>10</th>\n",
       "      <td>[하기스]하기스 맥스드라이 밴드/팬티 기저귀 1박스 모음전</td>\n",
       "      <td>59,900원</td>\n",
       "    </tr>\n",
       "    <tr>\n",
       "      <th>11</th>\n",
       "      <td>[포스트]포스트 아몬드후레이크 620gx3 +밀폐용기2P(증정)</td>\n",
       "      <td>16,170원</td>\n",
       "    </tr>\n",
       "    <tr>\n",
       "      <th>12</th>\n",
       "      <td>(15+5%쿠폰)비비안 비너스 외 고탄력 팬티 스타킹 10매 7매 벌크 학생 압박 ...</td>\n",
       "      <td>10,900원</td>\n",
       "    </tr>\n",
       "    <tr>\n",
       "      <th>13</th>\n",
       "      <td>((15+5%쿠폰 오늘만 역마진SALE)) 데이뮤즈 봄신상 트렌치코트/점퍼/자켓/팬...</td>\n",
       "      <td>13,700원</td>\n",
       "    </tr>\n",
       "    <tr>\n",
       "      <th>14</th>\n",
       "      <td>[로코엘라](15%+5%쿠폰+무료반품) 홈쇼핑 1+1.SET 니트/팬츠/패딩 외 그...</td>\n",
       "      <td>11,580원</td>\n",
       "    </tr>\n",
       "    <tr>\n",
       "      <th>15</th>\n",
       "      <td>[제주삼다수]제주삼다수 무라벨 2L 24병 /생수전문배송</td>\n",
       "      <td>22,800원</td>\n",
       "    </tr>\n",
       "    <tr>\n",
       "      <th>16</th>\n",
       "      <td>여수사나이 국내산 돌산갓김치 1.5kg 남도김치 산지직송 당일생산</td>\n",
       "      <td>11,000원</td>\n",
       "    </tr>\n",
       "    <tr>\n",
       "      <th>17</th>\n",
       "      <td>[바브키즈]바브키즈 10+15% 쿠폰 봄상품 출시 상하복 모음</td>\n",
       "      <td>9,300원</td>\n",
       "    </tr>\n",
       "    <tr>\n",
       "      <th>18</th>\n",
       "      <td>[LG전자]혜택가 38만원대 LG전자 휘센 제습기 20L 블루 DQ202PBBC 빠른배송</td>\n",
       "      <td>418,270원</td>\n",
       "    </tr>\n",
       "    <tr>\n",
       "      <th>19</th>\n",
       "      <td>못난이 한라봉 4.5kg 혼합과 벌크포장</td>\n",
       "      <td>19,010원</td>\n",
       "    </tr>\n",
       "    <tr>\n",
       "      <th>20</th>\n",
       "      <td>[나무야나무야]잘풀리는집 나무야나무야 도톰한3겹 순수 27m 30롤 3팩</td>\n",
       "      <td>31,900원</td>\n",
       "    </tr>\n",
       "  </tbody>\n",
       "</table>\n",
       "</div>"
      ],
      "text/plain": [
       "                                                  상품명        가격\n",
       "순서                                                             \n",
       "1                       (최종2.3만)차이슨 헤어 드라이어 드라이기+노즐5개   31,850원\n",
       "2                      [한성기업]한성기업 크래미 몬스터크랩 72g X 15개   17,900원\n",
       "3     [메가박스](유니버스클럽 전용 쿠폰적용가 5천원) 메가박스 일반예매권 2D-주중/주말   15,000원\n",
       "4             (선)브래비 유니 TRAINING SET F-ZIP N231UFT010   79,470원\n",
       "5                [버블트리]15%+10% 버블트리 봄신상 스쿨룩 베이비페어 특가전   15,000원\n",
       "6                [하기스]하기스 네이처메이드 밤부 밴드/팬티 기저귀 1박스 모음전   67,900원\n",
       "7   BSP D9 휴대용 모바일 게이밍 컨트롤러 안드로이드 아이폰 태블릿 스위치 PC 윈...   43,600원\n",
       "8                      [서울우유]멸균우유 200ml 24입+24입 (2박스)   26,970원\n",
       "9   수퍼맘스토리카페/총 120종의 대작/보카사이언스/Visual Literacy/Tal...  178,800원\n",
       "10                   [하기스]하기스 맥스드라이 밴드/팬티 기저귀 1박스 모음전   59,900원\n",
       "11                [포스트]포스트 아몬드후레이크 620gx3 +밀폐용기2P(증정)   16,170원\n",
       "12  (15+5%쿠폰)비비안 비너스 외 고탄력 팬티 스타킹 10매 7매 벌크 학생 압박 ...   10,900원\n",
       "13  ((15+5%쿠폰 오늘만 역마진SALE)) 데이뮤즈 봄신상 트렌치코트/점퍼/자켓/팬...   13,700원\n",
       "14  [로코엘라](15%+5%쿠폰+무료반품) 홈쇼핑 1+1.SET 니트/팬츠/패딩 외 그...   11,580원\n",
       "15                    [제주삼다수]제주삼다수 무라벨 2L 24병 /생수전문배송   22,800원\n",
       "16               여수사나이 국내산 돌산갓김치 1.5kg 남도김치 산지직송 당일생산   11,000원\n",
       "17                 [바브키즈]바브키즈 10+15% 쿠폰 봄상품 출시 상하복 모음    9,300원\n",
       "18  [LG전자]혜택가 38만원대 LG전자 휘센 제습기 20L 블루 DQ202PBBC 빠른배송  418,270원\n",
       "19                             못난이 한라봉 4.5kg 혼합과 벌크포장   19,010원\n",
       "20           [나무야나무야]잘풀리는집 나무야나무야 도톰한3겹 순수 27m 30롤 3팩   31,900원"
      ]
     },
     "execution_count": 52,
     "metadata": {},
     "output_type": "execute_result"
    }
   ],
   "source": [
    "dic = {'순서' : num_list, '상품명' : title_list, '가격' : price_list}\n",
    "gmarket = pd.DataFrame(dic)\n",
    "gmarket.set_index(\"순서\" ,inplace = True)\n",
    "gmarket"
   ]
  },
  {
   "cell_type": "code",
   "execution_count": 60,
   "metadata": {},
   "outputs": [],
   "source": [
    "driver = wb.Chrome()\n",
    "url = \"https://www.melon.com/chart/\"\n",
    "driver.get(url)"
   ]
  },
  {
   "cell_type": "code",
   "execution_count": 62,
   "metadata": {},
   "outputs": [
    {
     "name": "stdout",
     "output_type": "stream",
     "text": [
      "50\n",
      "['밤양갱', 'Love wins all', '첫 만남은 계획대로 되지 않아', 'To. X', '홀씨', '비의 랩소디', 'EASY', 'Love 119', 'Shopper', 'Perfect Night', '에피소드', '그대만 있다면 (여름날 우리 X 너드커넥션 (Nerd Connection))', 'Drama', '헤어지자 말해요', 'Super Lady', 'Wife', '인사', '사랑은 늘 도망가', '꿈', 'Seven (feat. Latto) - Clean Ver.', '나는 아픈 건 딱 질색이니까', 'I AM', 'MANIAC', '모래 알갱이', '우리들의 블루스', 'Get A Guitar', 'Do or Die', 'Love Lee', '다시 만날 수 있을까', '너의 모든 순간', 'Baddie', '이제 나만 믿어요', '예뻤어', '사막에서 꽃을 피우듯', '무지개', 'You & Me', '관객이 될게 (I stan U)', '한 페이지가 될 수 있게', '퀸카 (Queencard)', '잘 지내자, 우리 (여름날 우리 X 로이킴)', 'London Boy', 'Super Shy', 'Hype Boy', 'Shh.. (Feat. 혜인(HYEIN), 조원선 & Special Narr. 패티김)', '아버지', 'Polaroid', 'Ditto', '후라이의 꿈', '인생찬가', '사랑인가 봐']\n"
     ]
    }
   ],
   "source": [
    "title_list=[]\n",
    "title = driver.find_elements(By.CSS_SELECTOR, \"#lst50 > td > div > div > div.ellipsis.rank01 > span > a\")\n",
    "for i in title:\n",
    "    title_list.append(i.text)\n",
    "print(len(title_list))\n",
    "print(title_list)"
   ]
  },
  {
   "cell_type": "code",
   "execution_count": 63,
   "metadata": {},
   "outputs": [
    {
     "name": "stdout",
     "output_type": "stream",
     "text": [
      "100\n",
      "['밤양갱', 'Love wins all', '첫 만남은 계획대로 되지 않아', 'To. X', '홀씨', '비의 랩소디', 'EASY', 'Love 119', 'Shopper', 'Perfect Night', '에피소드', '그대만 있다면 (여름날 우리 X 너드커넥션 (Nerd Connection))', 'Drama', '헤어지자 말해요', 'Super Lady', 'Wife', '인사', '사랑은 늘 도망가', '꿈', 'Seven (feat. Latto) - Clean Ver.', '나는 아픈 건 딱 질색이니까', 'I AM', 'MANIAC', '모래 알갱이', '우리들의 블루스', 'Get A Guitar', 'Do or Die', 'Love Lee', '다시 만날 수 있을까', '너의 모든 순간', 'Baddie', '이제 나만 믿어요', '예뻤어', '사막에서 꽃을 피우듯', '무지개', 'You & Me', '관객이 될게 (I stan U)', '한 페이지가 될 수 있게', '퀸카 (Queencard)', '잘 지내자, 우리 (여름날 우리 X 로이킴)', 'London Boy', 'Super Shy', 'Hype Boy', 'Shh.. (Feat. 혜인(HYEIN), 조원선 & Special Narr. 패티김)', '아버지', 'Polaroid', 'Ditto', '후라이의 꿈', '인생찬가', '사랑인가 봐', 'ETA', '천상연', 'A bientot', '사건의 지평선', 'Standing Next to You', '어떻게 이별까지 사랑하겠어, 널 사랑하는 거지', '사랑할 수밖에', '기억해줘요 내 모든 날과 그때를', 'Yes or No (Feat. 허윤진 of LE SSERAFIM, Crush)', '사랑하지 않아서 그랬어', '취중고백', 'Spicy', '그대가 내 안에 박혔다(그내박)', '심(心)', '모든 날, 모든 순간 (Every day, Every Moment)', '이브, 프시케 그리고 푸른 수염의 아내', '연애편지', 'Dynamite', \"I Don't Think That I Like Her\", '봄날', 'LOVE DIVE', '별 떨어진다 (I Do)', '손오공', '첫 눈', '사랑..그게 뭔데', '해요 (2022)', '주저하는 연인들을 위해', 'Kitsch', '음악의 신', 'Steal The Show (From “엘리멘탈”)', '파이팅 해야지 (Feat. 이영지)', '그대가 있는 곳, 언제 어디든', 'After LIKE', '물론', '다정히 내 이름을 부르면', 'Discord', 'OMG', 'Dangerously', 'Fast Forward', '그중에 그대를 만나', 'UNFORGIVEN (feat. Nile Rodgers)', '건물 사이에 피어난 장미 (Rose Blossom)', 'Attention', 'Butter', 'Smoke (Prod. Dynamicduo, Padi)', 'Merry PLLIstmas', 'I Love You', 'Bubble', '여섯 번째 여름', '나에게 그대만이']\n"
     ]
    }
   ],
   "source": [
    "title2 = driver.find_elements(By.CSS_SELECTOR, \"#lst100 > td > div > div > div.ellipsis.rank01 > span > a\")\n",
    "for i in title2:\n",
    "    title_list.append(i.text)\n",
    "print(len(title_list))\n",
    "print(title_list)"
   ]
  },
  {
   "cell_type": "code",
   "execution_count": 78,
   "metadata": {},
   "outputs": [
    {
     "name": "stdout",
     "output_type": "stream",
     "text": [
      "50\n",
      "['비비 (BIBI)', '아이유', 'TWS (투어스)', '태연 (TAEYEON)', '아이유', '임재현', 'LE SSERAFIM (르세라핌)', 'RIIZE', '아이유', 'LE SSERAFIM (르세라핌)', '이무진', '너드커넥션 (Nerd Connection)', 'aespa', '박재정', '(여자)아이들', '(여자)아이들', '범진', '임영웅', '태연 (TAEYEON)', '정국', '(여자)아이들', 'IVE (아이브)', 'VIVIZ (비비지)', '임영웅', '임영웅', 'RIIZE', '임영웅', 'AKMU (악뮤)', '임영웅', '성시경', 'IVE (아이브)', '임영웅', 'DAY6 (데이식스)', '우디 (Woody)', '임영웅', '제니 (JENNIE)', '아이유', 'DAY6 (데이식스)', '(여자)아이들', '로이킴', '임영웅', 'NewJeans', 'NewJeans', '아이유', '임영웅', '임영웅', 'NewJeans', 'AKMU (악뮤)', '임영웅', '멜로망스']\n"
     ]
    }
   ],
   "source": [
    "singer_list = []\n",
    "singer = driver.find_elements(By.CSS_SELECTOR, \"#lst50 > td > div > div > div.ellipsis.rank02\")\n",
    "for i in singer:\n",
    "    singer_list.append(i.text)\n",
    "print(len(singer_list))\n",
    "print(singer_list)"
   ]
  },
  {
   "cell_type": "code",
   "execution_count": 79,
   "metadata": {},
   "outputs": [
    {
     "name": "stdout",
     "output_type": "stream",
     "text": [
      "100\n",
      "['비비 (BIBI)', '아이유', 'TWS (투어스)', '태연 (TAEYEON)', '아이유', '임재현', 'LE SSERAFIM (르세라핌)', 'RIIZE', '아이유', 'LE SSERAFIM (르세라핌)', '이무진', '너드커넥션 (Nerd Connection)', 'aespa', '박재정', '(여자)아이들', '(여자)아이들', '범진', '임영웅', '태연 (TAEYEON)', '정국', '(여자)아이들', 'IVE (아이브)', 'VIVIZ (비비지)', '임영웅', '임영웅', 'RIIZE', '임영웅', 'AKMU (악뮤)', '임영웅', '성시경', 'IVE (아이브)', '임영웅', 'DAY6 (데이식스)', '우디 (Woody)', '임영웅', '제니 (JENNIE)', '아이유', 'DAY6 (데이식스)', '(여자)아이들', '로이킴', '임영웅', 'NewJeans', 'NewJeans', '아이유', '임영웅', '임영웅', 'NewJeans', 'AKMU (악뮤)', '임영웅', '멜로망스', 'NewJeans', '이창섭', '임영웅', '윤하 (YOUNHA)', '정국', 'AKMU (악뮤)', '볼빨간사춘기', '화곡동 청개구리', '그루비룸 (GroovyRoom)', '임한별', '김민석', 'aespa', '순순희(기태)', 'DK(디셈버)', '폴킴', 'LE SSERAFIM (르세라핌)', '임영웅', '방탄소년단', 'Charlie Puth', '방탄소년단', 'IVE (아이브)', '디오 (D.O.)', '세븐틴 (SEVENTEEN)', 'EXO', '지아', '#안녕', '잔나비', 'IVE (아이브)', '세븐틴 (SEVENTEEN)', 'Lauv', '부석순 (SEVENTEEN)', '로이킴', 'IVE (아이브)', '허각', '경서예지, 전건호', 'QWER', 'NewJeans', 'Charlie Puth', '전소미', '김호중', 'LE SSERAFIM (르세라핌)', 'H1-KEY (하이키)', 'NewJeans', '방탄소년단', '다이나믹 듀오, 이영지', 'PLAVE', '안세하', 'STAYC(스테이씨)', 'PLAVE', '탑현']\n"
     ]
    }
   ],
   "source": [
    "singer2 = driver.find_elements(By.CSS_SELECTOR, \"#lst100 > td > div > div > div.ellipsis.rank02\")\n",
    "for i in singer2:\n",
    "    singer_list.append(i.text)\n",
    "print(len(singer_list))\n",
    "print(singer_list)\n"
   ]
  },
  {
   "cell_type": "code",
   "execution_count": 80,
   "metadata": {},
   "outputs": [
    {
     "name": "stdout",
     "output_type": "stream",
     "text": [
      "[1, 2, 3, 4, 5, 6, 7, 8, 9, 10, 11, 12, 13, 14, 15, 16, 17, 18, 19, 20, 21, 22, 23, 24, 25, 26, 27, 28, 29, 30, 31, 32, 33, 34, 35, 36, 37, 38, 39, 40, 41, 42, 43, 44, 45, 46, 47, 48, 49, 50, 51, 52, 53, 54, 55, 56, 57, 58, 59, 60, 61, 62, 63, 64, 65, 66, 67, 68, 69, 70, 71, 72, 73, 74, 75, 76, 77, 78, 79, 80, 81, 82, 83, 84, 85, 86, 87, 88, 89, 90, 91, 92, 93, 94, 95, 96, 97, 98, 99, 100]\n",
      "100\n"
     ]
    }
   ],
   "source": [
    "num_list = []\n",
    "for i in range(1,101):\n",
    "    num_list.append(i)\n",
    "print(num_list)\n",
    "print(len(num_list))"
   ]
  },
  {
   "cell_type": "code",
   "execution_count": 84,
   "metadata": {},
   "outputs": [
    {
     "data": {
      "text/html": [
       "<div>\n",
       "<style scoped>\n",
       "    .dataframe tbody tr th:only-of-type {\n",
       "        vertical-align: middle;\n",
       "    }\n",
       "\n",
       "    .dataframe tbody tr th {\n",
       "        vertical-align: top;\n",
       "    }\n",
       "\n",
       "    .dataframe thead th {\n",
       "        text-align: right;\n",
       "    }\n",
       "</style>\n",
       "<table border=\"1\" class=\"dataframe\">\n",
       "  <thead>\n",
       "    <tr style=\"text-align: right;\">\n",
       "      <th></th>\n",
       "      <th>곡제목</th>\n",
       "      <th>가수명</th>\n",
       "    </tr>\n",
       "    <tr>\n",
       "      <th>순위</th>\n",
       "      <th></th>\n",
       "      <th></th>\n",
       "    </tr>\n",
       "  </thead>\n",
       "  <tbody>\n",
       "    <tr>\n",
       "      <th>1</th>\n",
       "      <td>밤양갱</td>\n",
       "      <td>비비 (BIBI)</td>\n",
       "    </tr>\n",
       "    <tr>\n",
       "      <th>2</th>\n",
       "      <td>Love wins all</td>\n",
       "      <td>아이유</td>\n",
       "    </tr>\n",
       "    <tr>\n",
       "      <th>3</th>\n",
       "      <td>첫 만남은 계획대로 되지 않아</td>\n",
       "      <td>TWS (투어스)</td>\n",
       "    </tr>\n",
       "    <tr>\n",
       "      <th>4</th>\n",
       "      <td>To. X</td>\n",
       "      <td>태연 (TAEYEON)</td>\n",
       "    </tr>\n",
       "    <tr>\n",
       "      <th>5</th>\n",
       "      <td>홀씨</td>\n",
       "      <td>아이유</td>\n",
       "    </tr>\n",
       "    <tr>\n",
       "      <th>...</th>\n",
       "      <td>...</td>\n",
       "      <td>...</td>\n",
       "    </tr>\n",
       "    <tr>\n",
       "      <th>96</th>\n",
       "      <td>Merry PLLIstmas</td>\n",
       "      <td>PLAVE</td>\n",
       "    </tr>\n",
       "    <tr>\n",
       "      <th>97</th>\n",
       "      <td>I Love You</td>\n",
       "      <td>안세하</td>\n",
       "    </tr>\n",
       "    <tr>\n",
       "      <th>98</th>\n",
       "      <td>Bubble</td>\n",
       "      <td>STAYC(스테이씨)</td>\n",
       "    </tr>\n",
       "    <tr>\n",
       "      <th>99</th>\n",
       "      <td>여섯 번째 여름</td>\n",
       "      <td>PLAVE</td>\n",
       "    </tr>\n",
       "    <tr>\n",
       "      <th>100</th>\n",
       "      <td>나에게 그대만이</td>\n",
       "      <td>탑현</td>\n",
       "    </tr>\n",
       "  </tbody>\n",
       "</table>\n",
       "<p>100 rows × 2 columns</p>\n",
       "</div>"
      ],
      "text/plain": [
       "                  곡제목           가수명\n",
       "순위                                 \n",
       "1                 밤양갱     비비 (BIBI)\n",
       "2       Love wins all           아이유\n",
       "3    첫 만남은 계획대로 되지 않아     TWS (투어스)\n",
       "4               To. X  태연 (TAEYEON)\n",
       "5                  홀씨           아이유\n",
       "..                ...           ...\n",
       "96    Merry PLLIstmas         PLAVE\n",
       "97         I Love You           안세하\n",
       "98             Bubble   STAYC(스테이씨)\n",
       "99           여섯 번째 여름         PLAVE\n",
       "100          나에게 그대만이            탑현\n",
       "\n",
       "[100 rows x 2 columns]"
      ]
     },
     "execution_count": 84,
     "metadata": {},
     "output_type": "execute_result"
    }
   ],
   "source": [
    "dic = {'순위' : num_list, '곡제목' : title_list, '가수명' : singer_list}\n",
    "melon = pd.DataFrame(dic)\n",
    "melon.set_index( \"순위\" ,inplace = True)\n",
    "melon"
   ]
  },
  {
   "cell_type": "code",
   "execution_count": 85,
   "metadata": {},
   "outputs": [],
   "source": [
    "melon.to_csv('melon.csv', encoding=\"euc-kr\")"
   ]
  },
  {
   "cell_type": "code",
   "execution_count": 86,
   "metadata": {},
   "outputs": [],
   "source": [
    "driver= wb.Chrome()\n",
    "url= \"https://www.hsd.co.kr/menu/menu_list\"\n",
    "driver.get(url)"
   ]
  },
  {
   "cell_type": "code",
   "execution_count": 87,
   "metadata": {},
   "outputs": [
    {
     "name": "stdout",
     "output_type": "stream",
     "text": [
      "더보기가 완료 됬습니다.\n"
     ]
    }
   ],
   "source": [
    "try : \n",
    "    for i in range(50):\n",
    "        btn = driver.find_element(By.CSS_SELECTOR, \"#btn_more > span > a\")\n",
    "        btn.click()\n",
    "        time.sleep(1)\n",
    "except :\n",
    "    print(\"더보기가 완료 됬습니다.\")"
   ]
  },
  {
   "cell_type": "code",
   "execution_count": 88,
   "metadata": {},
   "outputs": [
    {
     "name": "stdout",
     "output_type": "stream",
     "text": [
      "94 94\n"
     ]
    }
   ],
   "source": [
    "title = driver.find_elements(By.CSS_SELECTOR, \"div > div.item-text > h4\")\n",
    "price = driver.find_elements(By.CSS_SELECTOR, \"div > div.item-text > div > strong\")"
   ]
  },
  {
   "cell_type": "code",
   "execution_count": 89,
   "metadata": {},
   "outputs": [],
   "source": [
    "title_list =[]\n",
    "price_list = []\n",
    "for i in range(len(title)):\n",
    "    title_list.append(title[i].text)\n",
    "    price_list.append(price[i].text)"
   ]
  },
  {
   "cell_type": "code",
   "execution_count": 90,
   "metadata": {},
   "outputs": [
    {
     "data": {
      "text/html": [
       "<div>\n",
       "<style scoped>\n",
       "    .dataframe tbody tr th:only-of-type {\n",
       "        vertical-align: middle;\n",
       "    }\n",
       "\n",
       "    .dataframe tbody tr th {\n",
       "        vertical-align: top;\n",
       "    }\n",
       "\n",
       "    .dataframe thead th {\n",
       "        text-align: right;\n",
       "    }\n",
       "</style>\n",
       "<table border=\"1\" class=\"dataframe\">\n",
       "  <thead>\n",
       "    <tr style=\"text-align: right;\">\n",
       "      <th></th>\n",
       "      <th>메뉴</th>\n",
       "      <th>가격</th>\n",
       "    </tr>\n",
       "  </thead>\n",
       "  <tbody>\n",
       "    <tr>\n",
       "      <th>1</th>\n",
       "      <td>사골 조랭이떡 만둣국</td>\n",
       "      <td>5,900</td>\n",
       "    </tr>\n",
       "    <tr>\n",
       "      <th>2</th>\n",
       "      <td>한우 함박스테이크 &amp; 반달 돈까스</td>\n",
       "      <td>8,900</td>\n",
       "    </tr>\n",
       "    <tr>\n",
       "      <th>3</th>\n",
       "      <td>한우함박스테이크&amp;토네이도소세지</td>\n",
       "      <td>8,900</td>\n",
       "    </tr>\n",
       "    <tr>\n",
       "      <th>4</th>\n",
       "      <td>해바라기</td>\n",
       "      <td>10,000</td>\n",
       "    </tr>\n",
       "    <tr>\n",
       "      <th>5</th>\n",
       "      <td>매화</td>\n",
       "      <td>10,500</td>\n",
       "    </tr>\n",
       "    <tr>\n",
       "      <th>...</th>\n",
       "      <td>...</td>\n",
       "      <td>...</td>\n",
       "    </tr>\n",
       "    <tr>\n",
       "      <th>90</th>\n",
       "      <td>김치</td>\n",
       "      <td>400</td>\n",
       "    </tr>\n",
       "    <tr>\n",
       "      <th>91</th>\n",
       "      <td>무말랭이 무침</td>\n",
       "      <td>500</td>\n",
       "    </tr>\n",
       "    <tr>\n",
       "      <th>92</th>\n",
       "      <td>한솥밥</td>\n",
       "      <td>1,000</td>\n",
       "    </tr>\n",
       "    <tr>\n",
       "      <th>93</th>\n",
       "      <td>현미밥</td>\n",
       "      <td>1,700</td>\n",
       "    </tr>\n",
       "    <tr>\n",
       "      <th>94</th>\n",
       "      <td>리얼꿀 미니호떡</td>\n",
       "      <td>2,200</td>\n",
       "    </tr>\n",
       "  </tbody>\n",
       "</table>\n",
       "<p>94 rows × 2 columns</p>\n",
       "</div>"
      ],
      "text/plain": [
       "                    메뉴      가격\n",
       "1          사골 조랭이떡 만둣국   5,900\n",
       "2   한우 함박스테이크 & 반달 돈까스   8,900\n",
       "3     한우함박스테이크&토네이도소세지   8,900\n",
       "4                 해바라기  10,000\n",
       "5                   매화  10,500\n",
       "..                 ...     ...\n",
       "90                  김치     400\n",
       "91             무말랭이 무침     500\n",
       "92                 한솥밥   1,000\n",
       "93                 현미밥   1,700\n",
       "94            리얼꿀 미니호떡   2,200\n",
       "\n",
       "[94 rows x 2 columns]"
      ]
     },
     "execution_count": 90,
     "metadata": {},
     "output_type": "execute_result"
    }
   ],
   "source": [
    "dic = {'메뉴' : title_list, '가격' : price_list}\n",
    "data = pd.DataFrame(dic, index=range(1, len(title_list)+1))\n",
    "data"
   ]
  },
  {
   "cell_type": "code",
   "execution_count": null,
   "metadata": {},
   "outputs": [],
   "source": [
    "data.to_csv('menu.csv', encoding=\"euc-kr\")"
   ]
  },
  {
   "cell_type": "code",
   "execution_count": null,
   "metadata": {},
   "outputs": [],
   "source": []
  },
  {
   "cell_type": "code",
   "execution_count": null,
   "metadata": {},
   "outputs": [],
   "source": []
  }
 ],
 "metadata": {
  "kernelspec": {
   "display_name": "base",
   "language": "python",
   "name": "python3"
  },
  "language_info": {
   "codemirror_mode": {
    "name": "ipython",
    "version": 3
   },
   "file_extension": ".py",
   "mimetype": "text/x-python",
   "name": "python",
   "nbconvert_exporter": "python",
   "pygments_lexer": "ipython3",
   "version": "3.11.5"
  }
 },
 "nbformat": 4,
 "nbformat_minor": 2
}
