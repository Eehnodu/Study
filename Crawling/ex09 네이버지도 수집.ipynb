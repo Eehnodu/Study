{
 "cells": [
  {
   "cell_type": "code",
   "execution_count": 32,
   "id": "1d3f24a3-3051-4ee2-9d7f-73b1fe98f546",
   "metadata": {
    "tags": []
   },
   "outputs": [],
   "source": [
    "from selenium import webdriver as wb\n",
    "from selenium.webdriver.common.keys import Keys\n",
    "from selenium.webdriver.common.by import By\n",
    "from tqdm.notebook import tqdm\n",
    "import time\n",
    "import pandas as pd"
   ]
  },
  {
   "cell_type": "code",
   "execution_count": 53,
   "id": "6d7be2e0-5e8f-471c-8fd8-34012cbc2364",
   "metadata": {
    "tags": []
   },
   "outputs": [],
   "source": [
    "driver = wb.Chrome()\n",
    "driver.get(\"https://map.naver.com/p/\")"
   ]
  },
  {
   "cell_type": "code",
   "execution_count": 54,
   "id": "c03056d0-246e-42b0-a353-3c34c95b9ade",
   "metadata": {
    "tags": []
   },
   "outputs": [],
   "source": [
    "# id가 아닌 변하지 않는 선택자가 필요 (class)\n",
    "\n",
    "search = driver.find_element(By.CSS_SELECTOR, \".input_search\")\n",
    "search.send_keys(\"동명동맛집\")\n",
    "search.send_keys(Keys.ENTER)"
   ]
  },
  {
   "cell_type": "code",
   "execution_count": 55,
   "id": "84975f24-deb0-4d87-97d0-04aed6c30e82",
   "metadata": {
    "tags": []
   },
   "outputs": [],
   "source": [
    "# 원본데이터에서 원하는 iframe 데이터로 변경\n",
    "driver.switch_to.frame('searchIframe')"
   ]
  },
  {
   "cell_type": "code",
   "execution_count": 56,
   "id": "d5ce42ff-c134-4e4f-b96e-5feb9cb8ae51",
   "metadata": {
    "collapsed": true,
    "jupyter": {
     "outputs_hidden": true
    },
    "tags": []
   },
   "outputs": [
    {
     "data": {
      "text/plain": [
       "[<selenium.webdriver.remote.webelement.WebElement (session=\"76ad107b61b294b24df44a361bbd1f56\", element=\"f.3D730CDE7B3E95B54D8A46CD3A6708B4.d.53AA5EDF70F96D1A0D69423684444715.e.140\")>,\n",
       " <selenium.webdriver.remote.webelement.WebElement (session=\"76ad107b61b294b24df44a361bbd1f56\", element=\"f.3D730CDE7B3E95B54D8A46CD3A6708B4.d.53AA5EDF70F96D1A0D69423684444715.e.141\")>,\n",
       " <selenium.webdriver.remote.webelement.WebElement (session=\"76ad107b61b294b24df44a361bbd1f56\", element=\"f.3D730CDE7B3E95B54D8A46CD3A6708B4.d.53AA5EDF70F96D1A0D69423684444715.e.142\")>,\n",
       " <selenium.webdriver.remote.webelement.WebElement (session=\"76ad107b61b294b24df44a361bbd1f56\", element=\"f.3D730CDE7B3E95B54D8A46CD3A6708B4.d.53AA5EDF70F96D1A0D69423684444715.e.143\")>,\n",
       " <selenium.webdriver.remote.webelement.WebElement (session=\"76ad107b61b294b24df44a361bbd1f56\", element=\"f.3D730CDE7B3E95B54D8A46CD3A6708B4.d.53AA5EDF70F96D1A0D69423684444715.e.144\")>,\n",
       " <selenium.webdriver.remote.webelement.WebElement (session=\"76ad107b61b294b24df44a361bbd1f56\", element=\"f.3D730CDE7B3E95B54D8A46CD3A6708B4.d.53AA5EDF70F96D1A0D69423684444715.e.145\")>,\n",
       " <selenium.webdriver.remote.webelement.WebElement (session=\"76ad107b61b294b24df44a361bbd1f56\", element=\"f.3D730CDE7B3E95B54D8A46CD3A6708B4.d.53AA5EDF70F96D1A0D69423684444715.e.146\")>,\n",
       " <selenium.webdriver.remote.webelement.WebElement (session=\"76ad107b61b294b24df44a361bbd1f56\", element=\"f.3D730CDE7B3E95B54D8A46CD3A6708B4.d.53AA5EDF70F96D1A0D69423684444715.e.147\")>,\n",
       " <selenium.webdriver.remote.webelement.WebElement (session=\"76ad107b61b294b24df44a361bbd1f56\", element=\"f.3D730CDE7B3E95B54D8A46CD3A6708B4.d.53AA5EDF70F96D1A0D69423684444715.e.148\")>,\n",
       " <selenium.webdriver.remote.webelement.WebElement (session=\"76ad107b61b294b24df44a361bbd1f56\", element=\"f.3D730CDE7B3E95B54D8A46CD3A6708B4.d.53AA5EDF70F96D1A0D69423684444715.e.149\")>]"
      ]
     },
     "execution_count": 56,
     "metadata": {},
     "output_type": "execute_result"
    }
   ],
   "source": [
    "# 접근이 불가능한 이유는 iframe 속의 데이터이기 때문\n",
    "title = driver.find_elements(By.CSS_SELECTOR, \"#_pcmap_list_scroll_container > ul > li > div.CHC5F > a > div > div\")\n",
    "title"
   ]
  },
  {
   "cell_type": "code",
   "execution_count": 57,
   "id": "aeda641e-0e0b-4412-a3ea-993e964abbd0",
   "metadata": {
    "tags": []
   },
   "outputs": [],
   "source": [
    "title[0].click()"
   ]
  },
  {
   "cell_type": "code",
   "execution_count": 58,
   "id": "14e9552f-7dd3-4b4c-8d2e-8021716f93f1",
   "metadata": {
    "tags": []
   },
   "outputs": [],
   "source": [
    "driver.switch_to.default_content()\n",
    "driver.switch_to.frame('entryIframe')"
   ]
  },
  {
   "cell_type": "code",
   "execution_count": 59,
   "id": "4f089869-6458-4953-89fb-3641001008b6",
   "metadata": {
    "tags": []
   },
   "outputs": [
    {
     "data": {
      "text/plain": [
       "'우'"
      ]
     },
     "execution_count": 59,
     "metadata": {},
     "output_type": "execute_result"
    }
   ],
   "source": [
    "# 상세정보 페이지도 새로운 iframe이여서 접근이 불가능\n",
    "# iframe에서 다른 iframe의 이동이 불가능\n",
    "# 원본 데이터 이동 후 다시 이동\n",
    "title_detail = driver.find_element(By.CSS_SELECTOR, \"#_title > div > span.Fc1rA\")\n",
    "title_detail.text"
   ]
  },
  {
   "cell_type": "code",
   "execution_count": 60,
   "id": "3cf497d7-ceba-4212-a420-bf2248feb941",
   "metadata": {
    "tags": []
   },
   "outputs": [],
   "source": [
    "driver.switch_to.default_content()\n",
    "driver.switch_to.frame('searchIframe')\n",
    "title[1].click()"
   ]
  },
  {
   "cell_type": "code",
   "execution_count": 61,
   "id": "87117376-16f0-4038-ba15-48871aca93b6",
   "metadata": {
    "tags": []
   },
   "outputs": [
    {
     "data": {
      "text/plain": [
       "'티소하'"
      ]
     },
     "execution_count": 61,
     "metadata": {},
     "output_type": "execute_result"
    }
   ],
   "source": [
    "driver.switch_to.default_content()\n",
    "driver.switch_to.frame('entryIframe')\n",
    "title_detail = driver.find_element(By.CSS_SELECTOR, \"#_title > div > span.Fc1rA\")\n",
    "title_detail.text"
   ]
  },
  {
   "cell_type": "code",
   "execution_count": null,
   "id": "2bea553f-d598-4621-a731-8a6308f4379b",
   "metadata": {},
   "outputs": [],
   "source": []
  }
 ],
 "metadata": {
  "kernelspec": {
   "display_name": "Python 3 (ipykernel)",
   "language": "python",
   "name": "python3"
  },
  "language_info": {
   "codemirror_mode": {
    "name": "ipython",
    "version": 3
   },
   "file_extension": ".py",
   "mimetype": "text/x-python",
   "name": "python",
   "nbconvert_exporter": "python",
   "pygments_lexer": "ipython3",
   "version": "3.11.5"
  }
 },
 "nbformat": 4,
 "nbformat_minor": 5
}
