{
 "cells": [
  {
   "cell_type": "code",
   "execution_count": 1,
   "id": "f8b58e9b-d627-4542-9289-e89a3511637a",
   "metadata": {
    "tags": []
   },
   "outputs": [],
   "source": [
    "from selenium import webdriver as wb\n",
    "from selenium.webdriver.common.keys import Keys\n",
    "from selenium.webdriver.common.by import By\n",
    "import pandas as pd"
   ]
  },
  {
   "cell_type": "code",
   "execution_count": 29,
   "id": "c6c8be57-1a85-4116-9b85-29b560205465",
   "metadata": {
    "tags": []
   },
   "outputs": [],
   "source": [
    "driver = wb.Chrome()"
   ]
  },
  {
   "cell_type": "code",
   "execution_count": 30,
   "id": "ac3a5f91-a54a-47bd-ae8e-9f6838785098",
   "metadata": {
    "tags": []
   },
   "outputs": [],
   "source": [
    "driver.get(\"https://www.hsd.co.kr/menu/menu_list\")"
   ]
  },
  {
   "cell_type": "markdown",
   "id": "775f753d-6e3d-475c-bd70-45e1464eae31",
   "metadata": {},
   "source": [
    "# 예외처리\n",
    "- try : 에러가 나기 전까지 실행할 코드 작성\n",
    "- except : 에러가 났을 때 실행할 코드 작성\n",
    "- 주의점 :\n",
    "    - 데이터를 수집하는 코드에서 사용할 때는 데이터가 없을 때 없다라는 의미의 데이터를 꼭 넣어줘야 함 -> 데이터의 개수를 맞추기 위해서"
   ]
  },
  {
   "cell_type": "markdown",
   "id": "c57d1bcc-ea95-4243-885b-031991d64d15",
   "metadata": {
    "tags": []
   },
   "source": [
    "# 사람답게 코드를 작성해야 한다.\n",
    "- 클라이언트와 서버간에 요청과 응답사이에 반드시 시간이 필요\n",
    "- 라이브러리 -> time"
   ]
  },
  {
   "cell_type": "code",
   "execution_count": 19,
   "id": "3883acc9-dd73-44c1-866b-c20b0bc66f61",
   "metadata": {},
   "outputs": [],
   "source": [
    "import time"
   ]
  },
  {
   "cell_type": "code",
   "execution_count": 31,
   "id": "6654bef6-1ae1-4518-a835-8880b9693762",
   "metadata": {
    "tags": []
   },
   "outputs": [
    {
     "name": "stdout",
     "output_type": "stream",
     "text": [
      "더보기가 완료 됬습니다.\n"
     ]
    }
   ],
   "source": [
    "try : \n",
    "    for i in range(50):\n",
    "        btn = driver.find_element(By.CSS_SELECTOR, \"#btn_more > span > a\")\n",
    "        btn.click()\n",
    "        time.sleep(1)\n",
    "except :\n",
    "    print(\"더보기가 완료 됬습니다.\")"
   ]
  },
  {
   "cell_type": "code",
   "execution_count": 20,
   "id": "ed3506af-3255-4f8a-af7e-753b7562fd01",
   "metadata": {
    "tags": []
   },
   "outputs": [
    {
     "name": "stdout",
     "output_type": "stream",
     "text": [
      "더보기가 완료 됬습니다.\n"
     ]
    }
   ],
   "source": [
    "# check = True\n",
    "# while(check):\n",
    "#     try:\n",
    "#         btn = driver.find_element(By.CSS_SELECTOR, \"#btn_more > span > a\")\n",
    "#         if(btn is not None):\n",
    "#             btn.click()\n",
    "#             time.sleep(1)\n",
    "#         else :\n",
    "#             check = False\n",
    "#     except :\n",
    "#         print(\"더보기가 완료 됬습니다.\")\n",
    "#         break"
   ]
  },
  {
   "cell_type": "code",
   "execution_count": 32,
   "id": "9448cbae-4ac0-4c49-818f-313d51952931",
   "metadata": {
    "tags": []
   },
   "outputs": [],
   "source": [
    "title = driver.find_elements(By.CSS_SELECTOR, \"div > div.item-text > h4\")"
   ]
  },
  {
   "cell_type": "code",
   "execution_count": 33,
   "id": "aaaf01eb-fc68-468d-ad83-180c893397bb",
   "metadata": {
    "tags": []
   },
   "outputs": [],
   "source": [
    "price = driver.find_elements(By.CSS_SELECTOR, \"div > div.item-text > div > strong\")"
   ]
  },
  {
   "cell_type": "code",
   "execution_count": 34,
   "id": "f8e2f229-785a-4e36-a294-f2ac60b4731d",
   "metadata": {
    "tags": []
   },
   "outputs": [
    {
     "name": "stdout",
     "output_type": "stream",
     "text": [
      "94 94\n"
     ]
    }
   ],
   "source": [
    "# 데이터의 개수가 다른 이유는 창이 실행될 때 창의 크기, 모니터의 크기, 네트워크 환경\n",
    "print(len(title), len(price))"
   ]
  },
  {
   "cell_type": "code",
   "execution_count": 35,
   "id": "b81883e6-07f8-478c-ac18-cb9f6c39df3f",
   "metadata": {
    "tags": []
   },
   "outputs": [],
   "source": [
    "title_list =[]\n",
    "price_list = []\n",
    "for i in range(len(title)):\n",
    "    title_list.append(title[i].text)\n",
    "    price_list.append(price[i].text)"
   ]
  },
  {
   "cell_type": "code",
   "execution_count": 36,
   "id": "2cbdc8ce-0c2e-42cc-802a-daca1ad8892c",
   "metadata": {
    "collapsed": true,
    "jupyter": {
     "outputs_hidden": true
    },
    "tags": []
   },
   "outputs": [
    {
     "data": {
      "text/html": [
       "<div>\n",
       "<style scoped>\n",
       "    .dataframe tbody tr th:only-of-type {\n",
       "        vertical-align: middle;\n",
       "    }\n",
       "\n",
       "    .dataframe tbody tr th {\n",
       "        vertical-align: top;\n",
       "    }\n",
       "\n",
       "    .dataframe thead th {\n",
       "        text-align: right;\n",
       "    }\n",
       "</style>\n",
       "<table border=\"1\" class=\"dataframe\">\n",
       "  <thead>\n",
       "    <tr style=\"text-align: right;\">\n",
       "      <th></th>\n",
       "      <th>메뉴</th>\n",
       "      <th>가격</th>\n",
       "    </tr>\n",
       "  </thead>\n",
       "  <tbody>\n",
       "    <tr>\n",
       "      <th>1</th>\n",
       "      <td>사골 조랭이떡 만둣국</td>\n",
       "      <td>5,900</td>\n",
       "    </tr>\n",
       "    <tr>\n",
       "      <th>2</th>\n",
       "      <td>한우 함박스테이크 &amp; 반달 돈까스</td>\n",
       "      <td>8,900</td>\n",
       "    </tr>\n",
       "    <tr>\n",
       "      <th>3</th>\n",
       "      <td>한우함박스테이크&amp;토네이도소세지</td>\n",
       "      <td>8,900</td>\n",
       "    </tr>\n",
       "    <tr>\n",
       "      <th>4</th>\n",
       "      <td>해바라기</td>\n",
       "      <td>10,000</td>\n",
       "    </tr>\n",
       "    <tr>\n",
       "      <th>5</th>\n",
       "      <td>매화</td>\n",
       "      <td>10,500</td>\n",
       "    </tr>\n",
       "    <tr>\n",
       "      <th>...</th>\n",
       "      <td>...</td>\n",
       "      <td>...</td>\n",
       "    </tr>\n",
       "    <tr>\n",
       "      <th>90</th>\n",
       "      <td>김치</td>\n",
       "      <td>400</td>\n",
       "    </tr>\n",
       "    <tr>\n",
       "      <th>91</th>\n",
       "      <td>무말랭이 무침</td>\n",
       "      <td>500</td>\n",
       "    </tr>\n",
       "    <tr>\n",
       "      <th>92</th>\n",
       "      <td>한솥밥</td>\n",
       "      <td>1,000</td>\n",
       "    </tr>\n",
       "    <tr>\n",
       "      <th>93</th>\n",
       "      <td>현미밥</td>\n",
       "      <td>1,700</td>\n",
       "    </tr>\n",
       "    <tr>\n",
       "      <th>94</th>\n",
       "      <td>리얼꿀 미니호떡</td>\n",
       "      <td>2,200</td>\n",
       "    </tr>\n",
       "  </tbody>\n",
       "</table>\n",
       "<p>94 rows × 2 columns</p>\n",
       "</div>"
      ],
      "text/plain": [
       "                    메뉴      가격\n",
       "1          사골 조랭이떡 만둣국   5,900\n",
       "2   한우 함박스테이크 & 반달 돈까스   8,900\n",
       "3     한우함박스테이크&토네이도소세지   8,900\n",
       "4                 해바라기  10,000\n",
       "5                   매화  10,500\n",
       "..                 ...     ...\n",
       "90                  김치     400\n",
       "91             무말랭이 무침     500\n",
       "92                 한솥밥   1,000\n",
       "93                 현미밥   1,700\n",
       "94            리얼꿀 미니호떡   2,200\n",
       "\n",
       "[94 rows x 2 columns]"
      ]
     },
     "execution_count": 36,
     "metadata": {},
     "output_type": "execute_result"
    }
   ],
   "source": [
    "dic = {'메뉴' : title_list, '가격' : price_list}\n",
    "data = pd.DataFrame(dic, index=range(1, len(title_list)+1))\n",
    "data"
   ]
  },
  {
   "cell_type": "code",
   "execution_count": 37,
   "id": "296a24f5-e688-4236-a776-73d843fa9a50",
   "metadata": {
    "tags": []
   },
   "outputs": [],
   "source": [
    "data.to_csv('menu.csv', encoding=\"euc-kr\")"
   ]
  },
  {
   "cell_type": "code",
   "execution_count": null,
   "id": "f4ce5a07-32ab-4333-ba27-9929cd152b6d",
   "metadata": {},
   "outputs": [],
   "source": []
  }
 ],
 "metadata": {
  "kernelspec": {
   "display_name": "Python 3 (ipykernel)",
   "language": "python",
   "name": "python3"
  },
  "language_info": {
   "codemirror_mode": {
    "name": "ipython",
    "version": 3
   },
   "file_extension": ".py",
   "mimetype": "text/x-python",
   "name": "python",
   "nbconvert_exporter": "python",
   "pygments_lexer": "ipython3",
   "version": "3.11.5"
  }
 },
 "nbformat": 4,
 "nbformat_minor": 5
}
