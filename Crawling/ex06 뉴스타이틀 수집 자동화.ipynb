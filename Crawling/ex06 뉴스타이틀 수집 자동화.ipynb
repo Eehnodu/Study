{
 "cells": [
  {
   "cell_type": "code",
   "execution_count": 99,
   "id": "18297b7a-7c83-46dd-812b-3b8ec0c4a71f",
   "metadata": {
    "tags": []
   },
   "outputs": [],
   "source": [
    "from selenium import webdriver as wb\n",
    "from selenium.webdriver.common.keys import Keys\n",
    "from selenium.webdriver.common.by import By"
   ]
  },
  {
   "cell_type": "code",
   "execution_count": 100,
   "id": "6e72e019-0170-4694-97f4-1a37cb699c08",
   "metadata": {
    "tags": []
   },
   "outputs": [],
   "source": [
    "driver = wb.Chrome()"
   ]
  },
  {
   "cell_type": "code",
   "execution_count": 101,
   "id": "adc4b3ff-4e87-4b44-bd0a-6de71216655f",
   "metadata": {
    "tags": []
   },
   "outputs": [],
   "source": [
    "driver.get(\"https://www.naver.com/\")"
   ]
  },
  {
   "cell_type": "code",
   "execution_count": 102,
   "id": "2dcfc491-d4b3-4e41-9733-e9b443714657",
   "metadata": {
    "tags": []
   },
   "outputs": [],
   "source": [
    "search = driver.find_element(By.ID, \"query\")"
   ]
  },
  {
   "cell_type": "code",
   "execution_count": 103,
   "id": "2797c74e-148d-4b33-b556-c064fe29282c",
   "metadata": {
    "tags": []
   },
   "outputs": [],
   "source": [
    "search.send_keys(\"이강인\")"
   ]
  },
  {
   "cell_type": "code",
   "execution_count": 104,
   "id": "9cdb9dd6-6af3-435a-b0ec-553d9942e4bb",
   "metadata": {
    "tags": []
   },
   "outputs": [],
   "source": [
    "search.send_keys(Keys.ENTER)"
   ]
  },
  {
   "cell_type": "code",
   "execution_count": 105,
   "id": "78aef4c4-d436-49dc-80ab-8d700365ffc8",
   "metadata": {
    "tags": []
   },
   "outputs": [],
   "source": [
    "btn = driver.find_element(By.CSS_SELECTOR, \"#lnb > div.lnb_group > div > div.lnb_nav_area._nav_area_root > div > div.api_flicking_wrap._conveyer_root > div:nth-child(1) > a\")\n",
    "btn.click()"
   ]
  },
  {
   "cell_type": "code",
   "execution_count": 106,
   "id": "d90072f4-1368-4639-8ad5-a5d0215ba4ac",
   "metadata": {
    "tags": []
   },
   "outputs": [],
   "source": [
    "body = driver.find_element(By.TAG_NAME, \"body\")\n",
    "body.send_keys(Keys.END)"
   ]
  },
  {
   "cell_type": "code",
   "execution_count": 107,
   "id": "a89b80b0-071e-453c-8b8c-abff3f788774",
   "metadata": {
    "tags": []
   },
   "outputs": [],
   "source": [
    "title = driver.find_elements(By.CSS_SELECTOR, \"div.news_wrap.api_ani_send > div > div.news_contents > a.news_tit\")"
   ]
  },
  {
   "cell_type": "code",
   "execution_count": 108,
   "id": "e62f69eb-a0e8-4eb1-a1d8-8e6fd43415b0",
   "metadata": {
    "collapsed": true,
    "jupyter": {
     "outputs_hidden": true
    },
    "tags": []
   },
   "outputs": [
    {
     "name": "stdout",
     "output_type": "stream",
     "text": [
      "['[속보]이강인, 런던서 손흥민 직접 만나 사죄했다 “절대로 해서는 안될 행동...', '이강인, 런던 찾아 사과 \"해선 안 될 행동 했다\"…손흥민은 포용(종합)', '이강인, 손흥민 찾아가 직접 사과 “절대 해선 안 될 행동”', '\"이강인 잘했다, 역시 대흥민\"...누리꾼 \\'반색\\'', '손흥민 \"강인이가 좋은 선수로 성장하도록 보살필 것\" [전문]', '\"흥민이 형, 흔쾌히 반겨줬다\"…런던 찾아가 사과한 이강인', '음바페, 이강인 생일에 SNS 남긴 메시지는…“생축, 마이 브로”', '이강인, 런던 찾아가 사과…손흥민 \"나도 어릴 땐 실수\" 깜짝 화해', '“한국·PSG에 재앙” 佛보도에도…이강인, 웃으며 훈련', '“포위된 이강인, 한국·PSG 모두에 재앙”...프랑스 언론 분석은', '\"성지순례 왔어요\"…5개월 전 \\'이강인 사주\\' 어땠길래', '이강인 지운 아라치 치킨', '‘이강인 지우기’…중계서 사라지고, 치킨 광고계약 종료', '\"이강인 PSG서 방출, FIFA는 이적 금지\"…가짜뉴스 확산', '아라치 치킨, 이강인과 모델 계약 연장 안 한다', '이강인, 런던 가서 손흥민에 사과… \"제 자신 돌아본 시간\"', '이강인, \"손흥민 직접 만나 사과\"...사과문 게재', '함께한 손흥민과 이강인', '이강인, 런던서 손흥민 만나 사과, “절대 해서는 안 될 행동 했다... 언행 깊...', '이강인 불똥 튄 파비앙 \"너네 나라로 가라길래 한국 돌아왔다\"']\n"
     ]
    }
   ],
   "source": [
    "title_list=[]\n",
    "for i in title:\n",
    "    title_list.append(i.text)\n",
    "print(title_list)"
   ]
  },
  {
   "cell_type": "code",
   "execution_count": null,
   "id": "3397c50c-feab-4b72-ba53-21c9ef696fdc",
   "metadata": {},
   "outputs": [],
   "source": []
  }
 ],
 "metadata": {
  "kernelspec": {
   "display_name": "Python 3 (ipykernel)",
   "language": "python",
   "name": "python3"
  },
  "language_info": {
   "codemirror_mode": {
    "name": "ipython",
    "version": 3
   },
   "file_extension": ".py",
   "mimetype": "text/x-python",
   "name": "python",
   "nbconvert_exporter": "python",
   "pygments_lexer": "ipython3",
   "version": "3.11.5"
  }
 },
 "nbformat": 4,
 "nbformat_minor": 5
}
