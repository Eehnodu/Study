{
 "cells": [
  {
   "cell_type": "code",
   "execution_count": 1,
   "id": "2f96f74e-fc2c-40de-8adf-8d4d471a1d47",
   "metadata": {
    "tags": []
   },
   "outputs": [
    {
     "name": "stdout",
     "output_type": "stream",
     "text": [
      "1.4285714285714286\n",
      "1\n",
      "3\n"
     ]
    }
   ],
   "source": [
    "num1, num2 = 10, 7\n",
    "\n",
    "print(num1/num2)\n",
    "print(num1//num2)\n",
    "print(num1%num2)"
   ]
  },
  {
   "cell_type": "code",
   "execution_count": 2,
   "id": "3a14ed0a-ee7e-403a-83a2-344a18303d14",
   "metadata": {
    "tags": []
   },
   "outputs": [
    {
     "name": "stdout",
     "output_type": "stream",
     "text": [
      "안녕하세요\n",
      "107\n"
     ]
    }
   ],
   "source": [
    "# 문자열을 더할 수 있다!\n",
    "str1 = \"안녕\"\n",
    "str2 = \"하세요\"\n",
    "print(str1+str2)\n",
    "str1 = '10'\n",
    "str2 = '7'\n",
    "print(str1+str2)"
   ]
  },
  {
   "cell_type": "code",
   "execution_count": 3,
   "id": "903b4964-54c4-4e90-995e-272b559cc6ed",
   "metadata": {
    "tags": []
   },
   "outputs": [
    {
     "name": "stdout",
     "output_type": "stream",
     "text": [
      "17\n",
      "107\n"
     ]
    }
   ],
   "source": [
    "num1 = 10\n",
    "str1 ='7'\n",
    "print(num1 + int(str1))\n",
    "print(str(num1) + str1)"
   ]
  },
  {
   "cell_type": "code",
   "execution_count": 4,
   "id": "1d402227-4f7b-4988-9747-7c54f44404cf",
   "metadata": {
    "tags": []
   },
   "outputs": [
    {
     "name": "stdout",
     "output_type": "stream",
     "text": [
      "더하기 결과 : 26\n",
      "빼기 결과 :  20\n",
      "곱하기 결과 : 69\n",
      "나누기 결과 : 7.67\n",
      "나누기 결과 : 7.67\n"
     ]
    }
   ],
   "source": [
    "num1 = 23\n",
    "num2 = 3\n",
    "print(\"더하기 결과 :\", num1 + num2)\n",
    "print(\"빼기 결과 : \", num1 - num2)\n",
    "print(\"곱하기 결과 :\", num1 * num2)\n",
    "print(\"나누기 결과 : %.2f\" %(num1/num2))\n",
    "print(\"나누기 결과 : {:.2f}\" .format(num1/num2))"
   ]
  },
  {
   "cell_type": "code",
   "execution_count": 5,
   "id": "6a69864a-eb55-4862-bbbc-308957dd5648",
   "metadata": {
    "tags": []
   },
   "outputs": [
    {
     "name": "stdin",
     "output_type": "stream",
     "text": [
      "정수를 입력해주세요 >> 10\n",
      "정수를 입력해주세요 >> 7\n"
     ]
    },
    {
     "name": "stdout",
     "output_type": "stream",
     "text": [
      "더하기 결과 : 17\n",
      "빼기 결과 :  3\n",
      "곱하기 결과 : 70\n",
      "나누기 결과 : 1.43\n",
      "나누기 결과 : 1.43\n"
     ]
    }
   ],
   "source": [
    "num1 = int(input(\"정수를 입력해주세요 >>\")) # 키보드 입력\n",
    "num2 = int(input(\"정수를 입력해주세요 >>\")) # 키보드 입력\n",
    "print(\"더하기 결과 :\", num1 + num2)\n",
    "print(\"빼기 결과 : \", num1 - num2)\n",
    "print(\"곱하기 결과 :\", num1 * num2)\n",
    "print(\"나누기 결과 : %.2f\" %(num1/num2))\n",
    "print(\"나누기 결과 : {:.2f}\" .format(num1/num2))"
   ]
  },
  {
   "cell_type": "code",
   "execution_count": 17,
   "id": "9da24901-0eeb-421c-a8e6-b3d7504f1446",
   "metadata": {
    "tags": []
   },
   "outputs": [
    {
     "name": "stdin",
     "output_type": "stream",
     "text": [
      "python 점수 입력 >>  100\n",
      "머신러신 점수 입력 >>  80\n",
      "딥러닝 점수 입력 >>  60\n"
     ]
    },
    {
     "name": "stdout",
     "output_type": "stream",
     "text": [
      "합계 : 240\n",
      "평균 : 80\n"
     ]
    }
   ],
   "source": [
    "python = int(input(\"python 점수 입력 >> \"))\n",
    "ml = int(input(\"머신러신 점수 입력 >> \"))\n",
    "dl = int(input(\"딥러닝 점수 입력 >> \"))\n",
    "print(\"합계 : {}\".format(python + ml + dl))\n",
    "print(\"평균 : {}\".format(int((python + ml + dl)/3)))"
   ]
  },
  {
   "cell_type": "code",
   "execution_count": 20,
   "id": "dae21f34-170b-4dc6-8966-301c8394b174",
   "metadata": {
    "tags": []
   },
   "outputs": [
    {
     "name": "stdin",
     "output_type": "stream",
     "text": [
      "시간 입력 >> 7533\n"
     ]
    },
    {
     "name": "stdout",
     "output_type": "stream",
     "text": [
      "2시간 5분 33초\n"
     ]
    }
   ],
   "source": [
    "time = int(input(\"시간 입력 >>\"))\n",
    "hour = time//3600\n",
    "minute = time%3600//60\n",
    "second = time%60\n",
    "print(\"{}시간 {}분 {}초\".format(hour,minute,second))"
   ]
  },
  {
   "cell_type": "code",
   "execution_count": 24,
   "id": "cf7fa20d-7d8d-451b-ac6e-c297b65b6576",
   "metadata": {
    "tags": []
   },
   "outputs": [
    {
     "name": "stdout",
     "output_type": "stream",
     "text": [
      "*\n",
      "**\n",
      "***\n",
      "****\n",
      "*****\n"
     ]
    }
   ],
   "source": [
    "# 문자열 곱하기\n",
    "s = '*'\n",
    "for i in range(1,6):\n",
    "    print(s*i)"
   ]
  },
  {
   "cell_type": "code",
   "execution_count": 25,
   "id": "806f4b22-a0e8-42d2-93d8-34126d716a30",
   "metadata": {
    "tags": []
   },
   "outputs": [
    {
     "name": "stdout",
     "output_type": "stream",
     "text": [
      "안녕하세요안녕하세요\n"
     ]
    }
   ],
   "source": [
    "s = \"안녕하세요\"\n",
    "print(s*2)"
   ]
  },
  {
   "cell_type": "code",
   "execution_count": 29,
   "id": "567b3e85-6f11-48ec-b5fd-9faa1b6e8115",
   "metadata": {
    "tags": []
   },
   "outputs": [
    {
     "name": "stdin",
     "output_type": "stream",
     "text": [
      "정수를 입력하세요 >> 3\n",
      "지수를 입력하세요 >> 3\n"
     ]
    },
    {
     "name": "stdout",
     "output_type": "stream",
     "text": [
      "3의 3승은 27입니다.\n"
     ]
    }
   ],
   "source": [
    "# 지수 연산자 문제\n",
    "num = int(input(\"정수를 입력하세요 >>\"))\n",
    "power = int(input(\"지수를 입력하세요 >>\"))\n",
    "print(f'{num}의 {power}승은 {num**power}입니다.')"
   ]
  },
  {
   "cell_type": "code",
   "execution_count": 32,
   "id": "18786346-209d-48e1-9fc0-ff05d1a41d66",
   "metadata": {
    "tags": []
   },
   "outputs": [
    {
     "name": "stdout",
     "output_type": "stream",
     "text": [
      "********** 연산하기 **********\n"
     ]
    },
    {
     "name": "stdin",
     "output_type": "stream",
     "text": [
      "정수입력 >> 10\n",
      "정수입력 >> 20\n",
      "+연산자 입력 >>  +\n"
     ]
    },
    {
     "name": "stdout",
     "output_type": "stream",
     "text": [
      "10 + 20 = 30\n"
     ]
    }
   ],
   "source": [
    "print('*'*10 + \" 연산하기 \" + '*'*10)\n",
    "num1 = int(input(\"정수입력 >>\"))\n",
    "num2 = int(input(\"정수입력 >>\"))\n",
    "cal = input(\"+연산자 입력 >> \")\n",
    "print(\"{} {} {} = {}\".format(num1, cal, num2, num1+num2))"
   ]
  },
  {
   "cell_type": "code",
   "execution_count": 37,
   "id": "87ca8e61-511b-47db-8158-1b80ff2abeab",
   "metadata": {
    "tags": []
   },
   "outputs": [
    {
     "name": "stdout",
     "output_type": "stream",
     "text": [
      "36\n"
     ]
    }
   ],
   "source": [
    "num = 27\n",
    "num += 3\n",
    "num += 3\n",
    "num += 3\n",
    "print(num)"
   ]
  },
  {
   "cell_type": "code",
   "execution_count": 38,
   "id": "b26de95b-8a54-42c4-bdf2-04b5e177fc1d",
   "metadata": {
    "tags": []
   },
   "outputs": [
    {
     "data": {
      "text/plain": [
       "25.0"
      ]
     },
     "execution_count": 38,
     "metadata": {},
     "output_type": "execute_result"
    }
   ],
   "source": [
    "num=100\n",
    "num/=2\n",
    "num/=2\n",
    "num"
   ]
  },
  {
   "cell_type": "code",
   "execution_count": 42,
   "id": "749df28d-257c-4c0d-998c-56375d3447db",
   "metadata": {
    "tags": []
   },
   "outputs": [
    {
     "name": "stdout",
     "output_type": "stream",
     "text": [
      "3\n",
      "7\n"
     ]
    }
   ],
   "source": [
    "# 변수 치환\n",
    "a = 7\n",
    "b = 3\n",
    "a,b = b,a\n",
    "print(a)\n",
    "print(b)"
   ]
  },
  {
   "cell_type": "code",
   "execution_count": 43,
   "id": "98c0f14a-4602-437b-9d21-28286833abd2",
   "metadata": {
    "tags": []
   },
   "outputs": [
    {
     "name": "stdout",
     "output_type": "stream",
     "text": [
      "False\n",
      "True\n",
      "False\n",
      "True\n"
     ]
    }
   ],
   "source": [
    "a = 3\n",
    "b = 7\n",
    "print(a > b)\n",
    "print(a <= b)\n",
    "print(a == b)\n",
    "print(a !=b)"
   ]
  },
  {
   "cell_type": "code",
   "execution_count": 53,
   "id": "1bb8229c-535b-4475-89f2-d16ded6dd4a7",
   "metadata": {
    "tags": []
   },
   "outputs": [
    {
     "name": "stdout",
     "output_type": "stream",
     "text": [
      "a : 3, b: 2\n",
      "False\n",
      "True\n",
      "False\n",
      "True\n",
      "참\n"
     ]
    }
   ],
   "source": [
    "import random as ran\n",
    "\n",
    "a = ran.randint(1,10)\n",
    "b = ran.randint(1,10)\n",
    "print(f'a : {a}, b: {b}')\n",
    "print(a<b)\n",
    "print(a>b)\n",
    "print(a==b)\n",
    "print(a!=b)\n",
    "print(\"참\" if a > b else \"불합격\")"
   ]
  },
  {
   "cell_type": "code",
   "execution_count": 76,
   "id": "efed2b39-1c96-48bf-a84d-d0d578c4db86",
   "metadata": {
    "tags": []
   },
   "outputs": [
    {
     "name": "stdout",
     "output_type": "stream",
     "text": [
      "66\n",
      "합격\n"
     ]
    }
   ],
   "source": [
    "import random as ran\n",
    "score = ran.randint(1,100)\n",
    "print(score)\n",
    "print('합격' if score >= 60 else '불합격')"
   ]
  },
  {
   "cell_type": "code",
   "execution_count": 88,
   "id": "bf8a7d69-3272-4c18-b8e4-5cc8f6fb2efd",
   "metadata": {
    "tags": []
   },
   "outputs": [
    {
     "name": "stdin",
     "output_type": "stream",
     "text": [
      "정수입력 >> 1\n",
      "정수입력 >> 2\n"
     ]
    },
    {
     "name": "stdout",
     "output_type": "stream",
     "text": [
      "b : 2\n",
      "b : 2\n",
      "b : 2\n"
     ]
    }
   ],
   "source": [
    "a = int(input(\"정수입력 >>\"))\n",
    "b = int(input(\"정수입력 >>\"))\n",
    "print('a : %d' %a if a>b else 'b : %d' %b)\n",
    "print('a : {}'.format(a) if a>b else 'b : {}'.format(b))\n",
    "print(f'a : {a}' if a>b else f'b : {b}')"
   ]
  },
  {
   "cell_type": "code",
   "execution_count": 6,
   "id": "5d45ac9d-c105-4d57-8f49-ba0f135279b6",
   "metadata": {
    "tags": []
   },
   "outputs": [
    {
     "name": "stdin",
     "output_type": "stream",
     "text": [
      "정수 입력 >>  32\n"
     ]
    },
    {
     "name": "stdout",
     "output_type": "stream",
     "text": [
      "32(는)은 짝수 입니다.\n",
      "32(는)은 짝수 입니다.\n",
      "32(는)은 짝수 입니다.\n"
     ]
    }
   ],
   "source": [
    "num = int(input(\"정수 입력 >> \"))\n",
    "print(\"{}는(은) 홀수 입니다.\".format(num) if num%2!=0 else \"{}(는)은 짝수 입니다.\".format(num))\n",
    "print(\"%d는(은) 홀수 입니다.\" %num if num%2!=0 else \"%d(는)은 짝수 입니다.\" %num)\n",
    "print(f\"{num}는(은) 홀수 입니다.\" if num%2!=0 else f\"{num}(는)은 짝수 입니다.\")"
   ]
  },
  {
   "cell_type": "code",
   "execution_count": 9,
   "id": "8ea58304-4502-4891-8db3-bdca8f372972",
   "metadata": {
    "tags": []
   },
   "outputs": [
    {
     "name": "stdin",
     "output_type": "stream",
     "text": [
      "정수 입력 >>  2\n",
      "정수 입력 >>  32\n"
     ]
    },
    {
     "name": "stdout",
     "output_type": "stream",
     "text": [
      "두 수의 차 : 30\n",
      "두 수의 차 : 30\n",
      "두 수의 차 : 30\n"
     ]
    }
   ],
   "source": [
    "num1 = int(input(\"정수 입력 >> \"))\n",
    "num2 = int(input(\"정수 입력 >> \"))\n",
    "result = (num1-num2) if(num1 - num2)>0 else (num2-num1)\n",
    "print(\"두 수의 차 : {}\".format(result))\n",
    "print(\"두 수의 차 : %d\" %result)\n",
    "print(f\"두 수의 차 : {result}\")"
   ]
  },
  {
   "cell_type": "code",
   "execution_count": null,
   "id": "8cc59496-e9da-4e16-b94c-f8de4c246e10",
   "metadata": {},
   "outputs": [],
   "source": []
  }
 ],
 "metadata": {
  "kernelspec": {
   "display_name": "Python 3 (ipykernel)",
   "language": "python",
   "name": "python3"
  },
  "language_info": {
   "codemirror_mode": {
    "name": "ipython",
    "version": 3
   },
   "file_extension": ".py",
   "mimetype": "text/x-python",
   "name": "python",
   "nbconvert_exporter": "python",
   "pygments_lexer": "ipython3",
   "version": "3.11.5"
  }
 },
 "nbformat": 4,
 "nbformat_minor": 5
}
