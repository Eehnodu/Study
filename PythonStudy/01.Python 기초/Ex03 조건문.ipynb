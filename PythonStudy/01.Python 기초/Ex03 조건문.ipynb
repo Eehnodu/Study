{
 "cells": [
  {
   "cell_type": "code",
   "execution_count": 1,
   "id": "6a766079-388f-447e-9cf1-d25b9a8165a7",
   "metadata": {
    "tags": []
   },
   "outputs": [
    {
     "name": "stdout",
     "output_type": "stream",
     "text": [
      "실행문장 실행\n",
      "if문 밖에 있는 실행문장 \n"
     ]
    }
   ],
   "source": [
    "if True:\n",
    "    print(\"실행문장 실행\")\n",
    "print(\"if문 밖에 있는 실행문장 \")"
   ]
  },
  {
   "cell_type": "code",
   "execution_count": 2,
   "id": "dd77d98f-3e73-4cdc-9023-e203b029e3ad",
   "metadata": {
    "tags": []
   },
   "outputs": [
    {
     "name": "stdout",
     "output_type": "stream",
     "text": [
      "실행1\n",
      "실행3\n"
     ]
    }
   ],
   "source": [
    "if True:\n",
    "    print(\"실행1\")\n",
    "    if False:\n",
    "        print(\"실행2\")\n",
    "    print(\"실행3\")"
   ]
  },
  {
   "cell_type": "code",
   "execution_count": 3,
   "id": "1554c276-0ce0-4b56-af61-b936e7149bd0",
   "metadata": {
    "tags": []
   },
   "outputs": [
    {
     "name": "stdin",
     "output_type": "stream",
     "text": [
      "돈 입력 >> 1000ㅇ\n"
     ]
    },
    {
     "name": "stdout",
     "output_type": "stream",
     "text": [
      "걸어가\n"
     ]
    }
   ],
   "source": [
    "# 조건문을 이용해서 money라는 변수가 10000원 이상이라면 택시를 탄다\n",
    "money = (input(\"돈 입력 >>\"))\n",
    "if int(money[:-1])>=10000:\n",
    "    print(\"택시\")\n",
    "elif int(money[:-1]) >=1500:\n",
    "    print(\"버스\")\n",
    "else:\n",
    "    print(\"걸어가\")"
   ]
  },
  {
   "cell_type": "code",
   "execution_count": 5,
   "id": "8fe9ff94-7867-4880-b71d-d1d2ac10a9bb",
   "metadata": {
    "tags": []
   },
   "outputs": [
    {
     "name": "stdin",
     "output_type": "stream",
     "text": [
      "정수 입력 >> 10\n"
     ]
    },
    {
     "name": "stdout",
     "output_type": "stream",
     "text": [
      "10는(은) 3과 5의 배수가 아닙니다.\n"
     ]
    }
   ],
   "source": [
    "num = int(input(\"정수 입력 >>\"))\n",
    "if (num%3==0) & (num%5==0):\n",
    "    print(f\"{num}는(은) 3과 5의 배수입니다.\")\n",
    "else:\n",
    "    print(f\"{num}는(은) 3과 5의 배수가 아닙니다.\")"
   ]
  },
  {
   "cell_type": "code",
   "execution_count": 6,
   "id": "3d9d0b22-bfee-431a-b74f-40e6d3bf4ed2",
   "metadata": {
    "tags": []
   },
   "outputs": [
    {
     "name": "stdin",
     "output_type": "stream",
     "text": [
      "마스크 개수 입력 >> 13\n"
     ]
    },
    {
     "name": "stdout",
     "output_type": "stream",
     "text": [
      "8개들이 포장지 개수 : 1\n",
      "5개들이 포장지 개수 : 1\n"
     ]
    }
   ],
   "source": [
    "com = int(input(\"마스크 개수 입력 >>\"))\n",
    "count8 = com//8\n",
    "count5 = com%8//5\n",
    "print(\"8개들이 포장지 개수 :\", count8)\n",
    "if com%8%5 !=0 :\n",
    "    print(\"5개들이 포장지 개수 :\", count5+1)\n",
    "else:\n",
    "    print(\"5개들이 포장지 개수 :\", count5)"
   ]
  },
  {
   "cell_type": "code",
   "execution_count": 7,
   "id": "21a97347-3239-401d-9bf2-7b934136ff87",
   "metadata": {
    "tags": []
   },
   "outputs": [
    {
     "name": "stdin",
     "output_type": "stream",
     "text": [
      "첫 번째 정수 입력 >> 10\n",
      "두 번째 정수 입력 >> 10\n"
     ]
    },
    {
     "name": "stdout",
     "output_type": "stream",
     "text": [
      "두 수가 똑같습니다.\n"
     ]
    }
   ],
   "source": [
    "num1 = int(input(\"첫 번째 정수 입력 >>\"))\n",
    "num2 = int(input(\"두 번째 정수 입력 >>\"))\n",
    "if num1 > num2:\n",
    "    print(\"첫 번째 정수가 더 큽니다.\")\n",
    "elif num1 < num2:\n",
    "    print(\"두 번째 정수가 더 큽니다.\")\n",
    "else:\n",
    "    print(\"두 수가 똑같습니다.\")"
   ]
  },
  {
   "cell_type": "code",
   "execution_count": 11,
   "id": "a27268ea-cc60-43c8-a7cb-9f43c1fc3e91",
   "metadata": {
    "tags": []
   },
   "outputs": [
    {
     "name": "stdin",
     "output_type": "stream",
     "text": [
      "점수 입력 >> 60\n"
     ]
    },
    {
     "name": "stdout",
     "output_type": "stream",
     "text": [
      "60점은 D학점 입니다.\n"
     ]
    }
   ],
   "source": [
    "score = int(input(\"점수 입력 >>\"))\n",
    "if score >= 90:\n",
    "    print(f'{score}점은 A학점 입니다.')\n",
    "elif score >= 80:\n",
    "    print(f'{score}점은 B학점 입니다.')\n",
    "elif score >= 70:\n",
    "    print(f'{score}점은 C학점 입니다.')\n",
    "elif score >= 60:\n",
    "    print(f'{score}점은 D학점 입니다.')\n",
    "else:\n",
    "    print(f'{score}점은 F학점 입니다.')"
   ]
  },
  {
   "cell_type": "code",
   "execution_count": 20,
   "id": "2b905cad-39a6-48ee-a34a-39e0ae00f7b8",
   "metadata": {
    "tags": []
   },
   "outputs": [
    {
     "name": "stdin",
     "output_type": "stream",
     "text": [
      "나이 입력 >> 66\n"
     ]
    },
    {
     "name": "stdout",
     "output_type": "stream",
     "text": [
      "요금은 375원입니다.\n"
     ]
    }
   ],
   "source": [
    "age = int(input(\"나이 입력 >>\"))\n",
    "fee = 1500\n",
    "if age>=65:\n",
    "    fee = 1500*0.25\n",
    "elif (age >=5) & (age<20):\n",
    "    fee = 1500*0.75\n",
    "elif age <5:\n",
    "    fee = 1500*0.5\n",
    "else :\n",
    "    fee = 1500\n",
    "    \n",
    "print(\"요금은 {:.0f}원입니다.\" .format(fee))"
   ]
  },
  {
   "cell_type": "code",
   "execution_count": 47,
   "id": "3b7567f3-78ab-42f8-9b47-b00f981d94e6",
   "metadata": {
    "tags": []
   },
   "outputs": [
    {
     "name": "stdout",
     "output_type": "stream",
     "text": [
      "1. 콜라 : 600원 2. 사이다 : 800원 3. 물 : 1000원\n"
     ]
    },
    {
     "name": "stdin",
     "output_type": "stream",
     "text": [
      "insert coin >> 700\n",
      "메뉴 선택 >> 4\n"
     ]
    },
    {
     "name": "stdout",
     "output_type": "stream",
     "text": [
      "잘못된 메뉴 입니다.\n"
     ]
    }
   ],
   "source": [
    "print(\"1. 콜라 : 600원 2. 사이다 : 800원 3. 물 : 1000원\")\n",
    "coin = int(input(\"insert coin >>\"))\n",
    "choice = int(input(\"메뉴 선택 >>\"))\n",
    "\n",
    "if coin <600:\n",
    "    print(\"돈을 더 넣어주세요.\")\n",
    "else:\n",
    "    if choice == 1:\n",
    "        if coin >= 600:\n",
    "            coin -= 600\n",
    "            print(f\"잔돈 >> 1000원 : {coin//1000}개, 500원 >> {coin%1000//500}개, 100원 {coin%500//100}개\")\n",
    "            \n",
    "    elif choice == 2:\n",
    "        if coin >= 800:\n",
    "            coin -= 800\n",
    "            print(f\"잔돈 >> 1000원 : {coin//1000}개, 500원 >> {coin%1000//500}개, 100원 {coin%500//100}개\")\n",
    "        else:\n",
    "            print(\"잔액 부족\")\n",
    "            \n",
    "    elif choice == 3:\n",
    "        if coin >= 1000:\n",
    "            coin -= 1000\n",
    "            print(f\"잔돈 >> 1000원 : {coin//1000}개, 500원 >> {coin%1000//500}개, 100원 {coin%500//100}개\")\n",
    "        else:\n",
    "            print(\"잔액 부족\")\n",
    "            \n",
    "    else :\n",
    "        print(\"잘못된 메뉴 입니다.\")"
   ]
  },
  {
   "cell_type": "code",
   "execution_count": 63,
   "id": "19446c61-e388-4427-bb30-6ba9926c35ec",
   "metadata": {
    "tags": []
   },
   "outputs": [
    {
     "name": "stdout",
     "output_type": "stream",
     "text": [
      "1. 콜라 : 600원 2. 사이다 : 800원 3. 물 : 1000원\n"
     ]
    },
    {
     "name": "stdin",
     "output_type": "stream",
     "text": [
      "insert coin >> 900\n",
      "메뉴 선택 >> 3\n"
     ]
    },
    {
     "name": "stdout",
     "output_type": "stream",
     "text": [
      "돈을 더 넣어주세요.\n"
     ]
    }
   ],
   "source": [
    "menu_prices = {1: 600, 2: 800, 3: 1000}\n",
    "\n",
    "print(\"1. 콜라 : 600원 2. 사이다 : 800원 3. 물 : 1000원\")\n",
    "coin = int(input(\"insert coin >>\"))\n",
    "choice = int(input(\"메뉴 선택 >>\"))\n",
    "\n",
    "if coin < menu_prices.get(choice, 0):\n",
    "    print(\"돈을 더 넣어주세요.\")\n",
    "else:\n",
    "    if coin >= menu_prices[choice]:\n",
    "        coin -= menu_prices[choice]\n",
    "        print(f\"잔돈 >> 1000원 : {coin//1000}개, 500원 >> {coin%1000//500}개, 100원 {coin%500//100}개\")\n",
    "    else:\n",
    "        print(\"잔액 부족\")\n"
   ]
  },
  {
   "cell_type": "code",
   "execution_count": null,
   "id": "b62ec77e-c6a0-40a3-86d4-ba5eead8d79f",
   "metadata": {},
   "outputs": [],
   "source": []
  }
 ],
 "metadata": {
  "kernelspec": {
   "display_name": "Python 3 (ipykernel)",
   "language": "python",
   "name": "python3"
  },
  "language_info": {
   "codemirror_mode": {
    "name": "ipython",
    "version": 3
   },
   "file_extension": ".py",
   "mimetype": "text/x-python",
   "name": "python",
   "nbconvert_exporter": "python",
   "pygments_lexer": "ipython3",
   "version": "3.11.5"
  }
 },
 "nbformat": 4,
 "nbformat_minor": 5
}
