{
 "cells": [
  {
   "cell_type": "code",
   "execution_count": 2,
   "id": "04798cda-19ee-402c-8d81-291f119c0690",
   "metadata": {
    "tags": []
   },
   "outputs": [
    {
     "name": "stdout",
     "output_type": "stream",
     "text": [
      "*\n",
      "**\n",
      "***\n",
      "****\n",
      "*****\n",
      "******\n"
     ]
    }
   ],
   "source": [
    "# 1\n",
    "for i in range(1,7):\n",
    "    print('*'*i)"
   ]
  },
  {
   "cell_type": "code",
   "execution_count": 3,
   "id": "47b8b1fb-ed78-4bf4-ba1f-7d713ba7ccdf",
   "metadata": {
    "tags": []
   },
   "outputs": [
    {
     "name": "stdin",
     "output_type": "stream",
     "text": [
      "줄 수 입력 >> 7\n"
     ]
    },
    {
     "name": "stdout",
     "output_type": "stream",
     "text": [
      "*\n",
      "**\n",
      "***\n",
      "****\n",
      "*****\n",
      "******\n"
     ]
    }
   ],
   "source": [
    "#2\n",
    "num = int(input(\"줄 수 입력 >>\"))\n",
    "for i in range(1,num):\n",
    "    print('*'*i)"
   ]
  },
  {
   "cell_type": "code",
   "execution_count": 23,
   "id": "8c13dca1-ba72-4574-81ad-b201c8b75690",
   "metadata": {
    "tags": []
   },
   "outputs": [
    {
     "name": "stdout",
     "output_type": "stream",
     "text": [
      "*\n",
      "**\n",
      "***\n",
      "****\n",
      "*****\n",
      "******\n",
      "*****\n",
      "****\n",
      "***\n",
      "**\n",
      "*\n"
     ]
    }
   ],
   "source": [
    "#3\n",
    "for i in range(1,7):\n",
    "    print('*'*i)\n",
    "for i in range(5,0,-1):\n",
    "    print('*'*i)"
   ]
  },
  {
   "cell_type": "code",
   "execution_count": 5,
   "id": "148556f0-b1d9-46c3-be7c-b0692bde46e0",
   "metadata": {
    "tags": []
   },
   "outputs": [
    {
     "name": "stdin",
     "output_type": "stream",
     "text": [
      "첫 번째 정수 입력 >> 10\n",
      "첫 번째 정수 입력 >> 30\n"
     ]
    },
    {
     "name": "stdout",
     "output_type": "stream",
     "text": [
      "10 11 12 13 14 15 16 17 18 19 20 21 22 23 24 25 26 27 28 29 30 "
     ]
    }
   ],
   "source": [
    "#4\n",
    "start = int(input(\"첫 번째 정수 입력 >>\"))\n",
    "end = int(input(\"첫 번째 정수 입력 >>\"))\n",
    "for i in range(start, end+1):\n",
    "    print(i, end= \" \")"
   ]
  },
  {
   "cell_type": "code",
   "execution_count": 6,
   "id": "98775fbc-6266-4d19-bc44-47b942f812c0",
   "metadata": {
    "tags": []
   },
   "outputs": [
    {
     "name": "stdin",
     "output_type": "stream",
     "text": [
      "첫 번째 정수 입력 >> 10\n",
      "두 번째 정수 입력 >> 20\n",
      "배수 입력 >> 2\n"
     ]
    },
    {
     "name": "stdout",
     "output_type": "stream",
     "text": [
      "2의 배수의 합 : 90\n"
     ]
    }
   ],
   "source": [
    "#5\n",
    "num1 = int(input(\"첫 번째 정수 입력 >>\"))\n",
    "num2 = int(input(\"두 번째 정수 입력 >>\"))\n",
    "mul = int(input(\"배수 입력 >>\"))\n",
    "sum1 = 0\n",
    "for i in range(num1, num2+1):\n",
    "    if (i%mul==0):\n",
    "        sum1 += i\n",
    "print(f'{mul}의 배수의 합 : {sum1}')"
   ]
  },
  {
   "cell_type": "code",
   "execution_count": 1,
   "id": "de43efff-d05e-4623-83a4-2087f0cb8b93",
   "metadata": {
    "tags": []
   },
   "outputs": [
    {
     "name": "stdout",
     "output_type": "stream",
     "text": [
      "Life is too short, You need python."
     ]
    }
   ],
   "source": [
    "#6\n",
    "s = \".nohtyp deen uoY ,trohs oot si efiL\"\n",
    "for i in range(len(s)-1,-1,-1):\n",
    "    print(s[i],end='')"
   ]
  },
  {
   "cell_type": "code",
   "execution_count": 16,
   "id": "d5fbce81-d4a8-4ae1-a7c8-5cbbd66715b6",
   "metadata": {
    "tags": []
   },
   "outputs": [
    {
     "name": "stdout",
     "output_type": "stream",
     "text": [
      "2 * 1 = 2\t2 * 2 = 4\t2 * 3 = 6\t2 * 4 = 8\t2 * 5 = 10\t2 * 6 = 12\t2 * 7 = 14\t2 * 8 = 16\t2 * 9 = 18\t\n",
      "3 * 1 = 3\t3 * 2 = 6\t3 * 3 = 9\t3 * 4 = 12\t3 * 5 = 15\t3 * 6 = 18\t3 * 7 = 21\t3 * 8 = 24\t3 * 9 = 27\t\n",
      "4 * 1 = 4\t4 * 2 = 8\t4 * 3 = 12\t4 * 4 = 16\t4 * 5 = 20\t4 * 6 = 24\t4 * 7 = 28\t4 * 8 = 32\t4 * 9 = 36\t\n",
      "5 * 1 = 5\t5 * 2 = 10\t5 * 3 = 15\t5 * 4 = 20\t5 * 5 = 25\t5 * 6 = 30\t5 * 7 = 35\t5 * 8 = 40\t5 * 9 = 45\t\n",
      "6 * 1 = 6\t6 * 2 = 12\t6 * 3 = 18\t6 * 4 = 24\t6 * 5 = 30\t6 * 6 = 36\t6 * 7 = 42\t6 * 8 = 48\t6 * 9 = 54\t\n",
      "7 * 1 = 7\t7 * 2 = 14\t7 * 3 = 21\t7 * 4 = 28\t7 * 5 = 35\t7 * 6 = 42\t7 * 7 = 49\t7 * 8 = 56\t7 * 9 = 63\t\n",
      "8 * 1 = 8\t8 * 2 = 16\t8 * 3 = 24\t8 * 4 = 32\t8 * 5 = 40\t8 * 6 = 48\t8 * 7 = 56\t8 * 8 = 64\t8 * 9 = 72\t\n",
      "9 * 1 = 9\t9 * 2 = 18\t9 * 3 = 27\t9 * 4 = 36\t9 * 5 = 45\t9 * 6 = 54\t9 * 7 = 63\t9 * 8 = 72\t9 * 9 = 81\t\n"
     ]
    }
   ],
   "source": [
    "#7\n",
    "for i in range(2,10):\n",
    "    for j in range(1,10):\n",
    "        print(f'{i} * {j} = {i*j}', end= \"\\t\")\n",
    "    print()"
   ]
  },
  {
   "cell_type": "code",
   "execution_count": 17,
   "id": "be7d4f2a-785a-436e-8394-9a1f07b4d2f5",
   "metadata": {
    "tags": []
   },
   "outputs": [
    {
     "name": "stdout",
     "output_type": "stream",
     "text": [
      "2 * 1 = 2\t3 * 1 = 3\t4 * 1 = 4\t5 * 1 = 5\t6 * 1 = 6\t7 * 1 = 7\t8 * 1 = 8\t9 * 1 = 9\t\n",
      "2 * 2 = 4\t3 * 2 = 6\t4 * 2 = 8\t5 * 2 = 10\t6 * 2 = 12\t7 * 2 = 14\t8 * 2 = 16\t9 * 2 = 18\t\n",
      "2 * 3 = 6\t3 * 3 = 9\t4 * 3 = 12\t5 * 3 = 15\t6 * 3 = 18\t7 * 3 = 21\t8 * 3 = 24\t9 * 3 = 27\t\n",
      "2 * 4 = 8\t3 * 4 = 12\t4 * 4 = 16\t5 * 4 = 20\t6 * 4 = 24\t7 * 4 = 28\t8 * 4 = 32\t9 * 4 = 36\t\n",
      "2 * 5 = 10\t3 * 5 = 15\t4 * 5 = 20\t5 * 5 = 25\t6 * 5 = 30\t7 * 5 = 35\t8 * 5 = 40\t9 * 5 = 45\t\n",
      "2 * 6 = 12\t3 * 6 = 18\t4 * 6 = 24\t5 * 6 = 30\t6 * 6 = 36\t7 * 6 = 42\t8 * 6 = 48\t9 * 6 = 54\t\n",
      "2 * 7 = 14\t3 * 7 = 21\t4 * 7 = 28\t5 * 7 = 35\t6 * 7 = 42\t7 * 7 = 49\t8 * 7 = 56\t9 * 7 = 63\t\n",
      "2 * 8 = 16\t3 * 8 = 24\t4 * 8 = 32\t5 * 8 = 40\t6 * 8 = 48\t7 * 8 = 56\t8 * 8 = 64\t9 * 8 = 72\t\n",
      "2 * 9 = 18\t3 * 9 = 27\t4 * 9 = 36\t5 * 9 = 45\t6 * 9 = 54\t7 * 9 = 63\t8 * 9 = 72\t9 * 9 = 81\t\n"
     ]
    }
   ],
   "source": [
    "#8\n",
    "for i in range(1,10):\n",
    "    for j in range(2,10):\n",
    "        print(f'{j} * {i} = {i*j}', end= \"\\t\")\n",
    "    print()"
   ]
  },
  {
   "cell_type": "code",
   "execution_count": 21,
   "id": "7d17c423-0a79-4e5e-935e-1d442d4d9151",
   "metadata": {
    "tags": []
   },
   "outputs": [
    {
     "name": "stdout",
     "output_type": "stream",
     "text": [
      "짝수 2개, 홀수7개\n"
     ]
    }
   ],
   "source": [
    "#9\n",
    "list1 = [1,30,7,9,17,3,5,23,44]\n",
    "even = 0\n",
    "odd = 0\n",
    "for i in list1:\n",
    "    if(i%2==0):\n",
    "        even += 1\n",
    "    else:\n",
    "        odd += 1\n",
    "print(f'짝수 {even}개, 홀수{odd}개')"
   ]
  },
  {
   "cell_type": "code",
   "execution_count": 3,
   "id": "fa92e672-94a9-4a3b-aa9b-db77f4fc5a55",
   "metadata": {
    "tags": []
   },
   "outputs": [
    {
     "name": "stdout",
     "output_type": "stream",
     "text": [
      "============================================\n",
      "이름\tPython\tJava\tDB\t평균\t학점\n",
      "============================================\n",
      "박매일\t89\t78\t99\t88\tB\n",
      "김미희\t67\t88\t77\t77\tC\n",
      "강예진\t100\t55\t96\t83\tB\n",
      "최성우\t99\t99\t99\t99\tA\n",
      "============================================\n",
      "평균\t88\t80\t92\n"
     ]
    }
   ],
   "source": [
    "#10\n",
    "score_list = [[\"박매일\", 89, 78, 99],\n",
    "             [\"김미희\", 67, 88, 77],\n",
    "             [\"강예진\", 100, 55, 96],\n",
    "              [\"최성우\", 99, 99, 99]\n",
    "             ]\n",
    "python, java, db, avg = 0 ,0 ,0, 0\n",
    "grade = \"\"\n",
    "print(\"============================================\")\n",
    "print(\"이름\\tPython\\tJava\\tDB\\t평균\\t학점\")\n",
    "print(\"============================================\")\n",
    "for i in score_list:\n",
    "    avg = (i[1]+i[2]+i[3])//3\n",
    "    if(avg >= 90):\n",
    "        grade = \"A\"\n",
    "    elif (avg >= 80):\n",
    "        grade = \"B\"\n",
    "    elif (avg >= 70):\n",
    "        grade = \"C\"\n",
    "    elif (avg >= 60):\n",
    "        grade = \"D\"\n",
    "    else:\n",
    "        grade = \"F\"\n",
    "    print(f'{i[0]}\\t{i[1]}\\t{i[2]}\\t{i[3]}\\t{avg}\\t{grade}')\n",
    "    python += i[1]\n",
    "    java += i[2]\n",
    "    db += i[3]\n",
    "    avg = 0\n",
    "print(\"============================================\")\n",
    "python = python // len(score_list)\n",
    "java = java // len(score_list)\n",
    "db = db // len(score_list)\n",
    "print(f'평균\\t{python}\\t{java}\\t{db}')"
   ]
  },
  {
   "cell_type": "code",
   "execution_count": null,
   "id": "90a6ba3b-910a-4265-ac4e-9dbbb6b93107",
   "metadata": {},
   "outputs": [],
   "source": []
  }
 ],
 "metadata": {
  "kernelspec": {
   "display_name": "Python 3 (ipykernel)",
   "language": "python",
   "name": "python3"
  },
  "language_info": {
   "codemirror_mode": {
    "name": "ipython",
    "version": 3
   },
   "file_extension": ".py",
   "mimetype": "text/x-python",
   "name": "python",
   "nbconvert_exporter": "python",
   "pygments_lexer": "ipython3",
   "version": "3.11.5"
  }
 },
 "nbformat": 4,
 "nbformat_minor": 5
}
