{
 "cells": [
  {
   "cell_type": "code",
   "execution_count": 1,
   "id": "83002ece-9c0b-4d56-98db-94ebb114aff3",
   "metadata": {
    "tags": []
   },
   "outputs": [],
   "source": [
    "a=[]\n",
    "b=[1,2,3]\n",
    "c=['My','name','is','HI']\n",
    "d=[1,2,'My','name']\n",
    "e=[1,2,['My','name']]"
   ]
  },
  {
   "cell_type": "code",
   "execution_count": 2,
   "id": "720352ed-5bc6-41bd-b9d7-c66ff031b82c",
   "metadata": {
    "tags": []
   },
   "outputs": [
    {
     "name": "stdout",
     "output_type": "stream",
     "text": [
      "[]\n",
      "[1, 2, 3]\n",
      "['My', 'name', 'is', 'HI']\n",
      "[1, 2, 'My', 'name']\n",
      "My\n"
     ]
    }
   ],
   "source": [
    "print(a)\n",
    "print(b)\n",
    "print(c)\n",
    "print(d)\n",
    "print(e[2][0])"
   ]
  },
  {
   "cell_type": "code",
   "execution_count": 3,
   "id": "9ddb8a63-f94f-4fd8-b1ac-789eef3379bc",
   "metadata": {
    "tags": []
   },
   "outputs": [
    {
     "name": "stdout",
     "output_type": "stream",
     "text": [
      "[0, 1, 2, 3, 4, 5, 6, 7, 8, 9]\n"
     ]
    }
   ],
   "source": [
    "list1=[]\n",
    "for i in range(10):\n",
    "    list1.append(i)\n",
    "print(list1)"
   ]
  },
  {
   "cell_type": "code",
   "execution_count": 4,
   "id": "bc766c33-1ee0-44bd-90e8-744045fc9128",
   "metadata": {
    "tags": []
   },
   "outputs": [
    {
     "name": "stdout",
     "output_type": "stream",
     "text": [
      "4\n"
     ]
    }
   ],
   "source": [
    "# 인덱싱 문제\n",
    "# 1-1. 숫자 4를 가져오자\n",
    "print(list1[4])"
   ]
  },
  {
   "cell_type": "code",
   "execution_count": 5,
   "id": "cc1490e5-a531-437e-8e28-4aac8dbc511e",
   "metadata": {
    "tags": []
   },
   "outputs": [
    {
     "name": "stdout",
     "output_type": "stream",
     "text": [
      "4 9 7\n"
     ]
    }
   ],
   "source": [
    "# 1-2. 숫자 4,9,7을 가져오자\n",
    "print(list1[4], list1[len(list1)-1], list1[-3])"
   ]
  },
  {
   "cell_type": "code",
   "execution_count": 6,
   "id": "db2def05-1c0c-475d-a909-726933adc69e",
   "metadata": {
    "tags": []
   },
   "outputs": [],
   "source": [
    "# 2. 숫자 1,2,3과 ['a','b','c']를 이용해서 2차원 리스트를 만들자\n",
    "arr = [1,2,3, ['a','b','c']]"
   ]
  },
  {
   "cell_type": "code",
   "execution_count": 7,
   "id": "34e89358-5386-4c36-a393-508416c5aa19",
   "metadata": {
    "tags": []
   },
   "outputs": [
    {
     "name": "stdout",
     "output_type": "stream",
     "text": [
      "a b c "
     ]
    }
   ],
   "source": [
    "for i in range(3):\n",
    "    print(arr[3][i], end=' ')"
   ]
  },
  {
   "cell_type": "code",
   "execution_count": 8,
   "id": "5c6c2c20-0220-4dd0-bfb3-4618619aafb0",
   "metadata": {
    "tags": []
   },
   "outputs": [
    {
     "name": "stdout",
     "output_type": "stream",
     "text": [
      "['a', 'b', 'c']\n"
     ]
    }
   ],
   "source": [
    "# 2-1 tmp라는 변수를 지정해서 ['a','b','c']가 들어있는 리스트를 인덱싱해보자\n",
    "tmp = arr[3]\n",
    "print(tmp)"
   ]
  },
  {
   "cell_type": "code",
   "execution_count": 9,
   "id": "5fce3ae1-fb69-4411-9e3b-e64c719c2bba",
   "metadata": {
    "tags": []
   },
   "outputs": [
    {
     "name": "stdout",
     "output_type": "stream",
     "text": [
      "b\n"
     ]
    }
   ],
   "source": [
    "# 2-2 tmp에 저장된 리스트에서 b라는 문자만 인덱싱\n",
    "print(tmp[1])"
   ]
  },
  {
   "cell_type": "code",
   "execution_count": 10,
   "id": "0b6b4bbf-16cb-4feb-a1f5-8983b0bceebd",
   "metadata": {
    "tags": []
   },
   "outputs": [
    {
     "name": "stdout",
     "output_type": "stream",
     "text": [
      "b\n"
     ]
    }
   ],
   "source": [
    "# 2-2 다른 형태로 b를 출력해보자\n",
    "print(arr[3][1])"
   ]
  },
  {
   "cell_type": "code",
   "execution_count": 11,
   "id": "0adc1bf1-0550-4b33-97ac-5e223e7dbb96",
   "metadata": {
    "tags": []
   },
   "outputs": [
    {
     "name": "stdout",
     "output_type": "stream",
     "text": [
      "   0\t   1\t   2\t   3\t\n",
      "   4\t   5\t   6\t   7\t\n",
      "   8\t   9\t  10\t  11\t\n",
      "  12\t  13\t  14\t  15\t\n"
     ]
    }
   ],
   "source": [
    "arr = [[0,1,2,3],\n",
    "      [4,5,6,7],\n",
    "      [8,9,10,11],\n",
    "      [12,13,14,15]]\n",
    "for i in range(4):\n",
    "    for j in range(4):\n",
    "        print(\"%4d\" %arr[i][j], end=\"\\t\")\n",
    "    print()"
   ]
  },
  {
   "cell_type": "code",
   "execution_count": 12,
   "id": "59ac2280-66fa-4752-8210-ae13eee47a2d",
   "metadata": {
    "tags": []
   },
   "outputs": [
    {
     "name": "stdout",
     "output_type": "stream",
     "text": [
      "[0, 1, 2]\n"
     ]
    }
   ],
   "source": [
    "print(list1[:3])"
   ]
  },
  {
   "cell_type": "code",
   "execution_count": 13,
   "id": "4944fd26-8f7f-4686-9e21-df73e680a597",
   "metadata": {
    "tags": []
   },
   "outputs": [
    {
     "name": "stdout",
     "output_type": "stream",
     "text": [
      "[0, 1, 2, 3, 4]\n"
     ]
    }
   ],
   "source": [
    "print(list1[0:5])"
   ]
  },
  {
   "cell_type": "code",
   "execution_count": 14,
   "id": "da001883-7b31-47c7-9633-4dc2e8d4e6e0",
   "metadata": {
    "tags": []
   },
   "outputs": [
    {
     "name": "stdout",
     "output_type": "stream",
     "text": [
      "[6, 7, 8, 9]\n"
     ]
    }
   ],
   "source": [
    "print(list1[6:10])"
   ]
  },
  {
   "cell_type": "code",
   "execution_count": 15,
   "id": "21880a8c-2dcf-4ecc-9d7f-d2916c2b7446",
   "metadata": {
    "tags": []
   },
   "outputs": [
    {
     "name": "stdout",
     "output_type": "stream",
     "text": [
      "[0, 1, 2, 3, 4, 5, 6, 7, 8, 9]\n"
     ]
    }
   ],
   "source": [
    "print(list1)"
   ]
  },
  {
   "cell_type": "code",
   "execution_count": 16,
   "id": "4b56b59e-496b-4864-948c-4832f983159d",
   "metadata": {
    "tags": []
   },
   "outputs": [
    {
     "name": "stdout",
     "output_type": "stream",
     "text": [
      "[0, 1, 2, 3, 4, 5, 6, 7, 8, 9, 0, 1, 2, 3, 4, 5, 6, 7, 8, 9]\n"
     ]
    }
   ],
   "source": [
    "print(list1+list1)"
   ]
  },
  {
   "cell_type": "code",
   "execution_count": 17,
   "id": "6a2ffa76-9139-4e49-8f90-625d5434c0b4",
   "metadata": {
    "tags": []
   },
   "outputs": [
    {
     "name": "stdout",
     "output_type": "stream",
     "text": [
      "[1, 2, 3, 4, 5]\n"
     ]
    }
   ],
   "source": [
    "list4 = [1,2,3,4,5]\n",
    "print(list4)"
   ]
  },
  {
   "cell_type": "code",
   "execution_count": 18,
   "id": "360cb591-2d17-41d4-af67-a2e84bb7a613",
   "metadata": {
    "tags": []
   },
   "outputs": [
    {
     "name": "stdout",
     "output_type": "stream",
     "text": [
      "[1, 2, 3, 4, 5, 6]\n"
     ]
    }
   ],
   "source": [
    "list4.append(6)\n",
    "print(list4)"
   ]
  },
  {
   "cell_type": "code",
   "execution_count": 19,
   "id": "4aafb7a4-2927-47b2-b0ae-9abb4d9dabe5",
   "metadata": {
    "tags": []
   },
   "outputs": [
    {
     "name": "stdout",
     "output_type": "stream",
     "text": [
      "[1, 2, 3, 5, 6]\n"
     ]
    }
   ],
   "source": [
    "list4.remove(4)\n",
    "print(list4)"
   ]
  },
  {
   "cell_type": "code",
   "execution_count": 20,
   "id": "05ee0dc8-eb1f-4d37-8283-f31c3f3fca98",
   "metadata": {
    "tags": []
   },
   "outputs": [],
   "source": [
    "list_ = ['사과','포도',['수박','멜론'],'복숭아','딸기','오렌지']"
   ]
  },
  {
   "cell_type": "code",
   "execution_count": 21,
   "id": "32254df8-fb3a-4749-9f49-6d7dfa979e5e",
   "metadata": {
    "tags": []
   },
   "outputs": [
    {
     "name": "stdout",
     "output_type": "stream",
     "text": [
      "['사과', '오렌지', '수박']\n"
     ]
    }
   ],
   "source": [
    "choice_list = []\n",
    "choice_list.append(list_[0])\n",
    "choice_list.append(list_[-1])\n",
    "choice_list.append(list_[2][0])\n",
    "print(choice_list)"
   ]
  },
  {
   "cell_type": "code",
   "execution_count": 22,
   "id": "ea8fae31-dd54-4d79-b771-e2452640f929",
   "metadata": {
    "tags": []
   },
   "outputs": [
    {
     "name": "stdout",
     "output_type": "stream",
     "text": [
      "[0, 5, 1, 2, 3, 4]\n"
     ]
    }
   ],
   "source": [
    "list5 = [0,1,2,3,4]\n",
    "list5.insert(1,5)\n",
    "print(list5)"
   ]
  },
  {
   "cell_type": "code",
   "execution_count": 23,
   "id": "98582cdb-060c-467f-b1cf-7abd7582c4a7",
   "metadata": {
    "tags": []
   },
   "outputs": [],
   "source": [
    "music_list = [['디셈버', '심'],\n",
    "             ['bmk', '물들어'],\n",
    "             ['sg워너비', '해바라기']]"
   ]
  },
  {
   "cell_type": "code",
   "execution_count": 24,
   "id": "87a66b29-67ac-411f-b1fb-3572c5661449",
   "metadata": {
    "tags": []
   },
   "outputs": [
    {
     "name": "stdout",
     "output_type": "stream",
     "text": [
      "[['디셈버', '심'], ['창모', '메테오'], ['bmk', '물들어'], ['장미여관', '퇴근하겠습니다'], ['sg워너비', '해바라기'], ['노라조', '니팔자야']]\n"
     ]
    }
   ],
   "source": [
    "music_list.insert(1,['창모','메테오'])\n",
    "music_list.insert(3,['장미여관','퇴근하겠습니다'])\n",
    "music_list.append(['노라조','니팔자야'])\n",
    "print(music_list)"
   ]
  },
  {
   "cell_type": "code",
   "execution_count": 25,
   "id": "1ba1c97e-6018-4d35-bca8-057d5a0b48ab",
   "metadata": {
    "tags": []
   },
   "outputs": [
    {
     "name": "stdout",
     "output_type": "stream",
     "text": [
      "['디셈버', '심']\n",
      "['창모', '메테오']\n",
      "['bmk', '물들어']\n",
      "['장미여관', '퇴근하겠습니다']\n",
      "['sg워너비', '해바라기']\n",
      "['노라조', '니팔자야']\n"
     ]
    }
   ],
   "source": [
    "for i in range(len(music_list)):\n",
    "    print(music_list[i])"
   ]
  },
  {
   "cell_type": "code",
   "execution_count": 26,
   "id": "a6b94c76-6776-4772-ad24-33b1d6177cfe",
   "metadata": {
    "tags": []
   },
   "outputs": [
    {
     "name": "stdin",
     "output_type": "stream",
     "text": [
      "인덱스 번호 입력 >> 0\n",
      "가수명 입력 >> 0\n",
      "노래 제목 입력 >> 0\n"
     ]
    }
   ],
   "source": [
    "# 인덱스 번호 / 가수명 / 노래 제목 입력받는 입력문 만들기\n",
    "index_num = int(input(\"인덱스 번호 입력 >>\"))\n",
    "singer = input(\"가수명 입력 >>\")\n",
    "song_name = input(\"노래 제목 입력 >>\")\n",
    "music_list.insert(index_num, [singer, song_name])"
   ]
  },
  {
   "cell_type": "code",
   "execution_count": 27,
   "id": "9a75aec1-cd42-4cb0-be95-65dea4baf61a",
   "metadata": {
    "tags": []
   },
   "outputs": [
    {
     "name": "stdout",
     "output_type": "stream",
     "text": [
      "[['0', '0'], ['디셈버', '심'], ['창모', '메테오'], ['bmk', '물들어'], ['장미여관', '퇴근하겠습니다'], ['sg워너비', '해바라기'], ['노라조', '니팔자야']]\n"
     ]
    }
   ],
   "source": [
    "print(music_list)"
   ]
  },
  {
   "cell_type": "code",
   "execution_count": 28,
   "id": "ddedcff2-7040-4664-bcf0-61ace6a34ac5",
   "metadata": {
    "tags": []
   },
   "outputs": [
    {
     "data": {
      "text/plain": [
       "[0, 1, 2, 3, 4, 5, 6, 7, 8, 9]"
      ]
     },
     "execution_count": 28,
     "metadata": {},
     "output_type": "execute_result"
    }
   ],
   "source": [
    "list1"
   ]
  },
  {
   "cell_type": "code",
   "execution_count": 29,
   "id": "c895b475-1c35-4545-96ce-6a405092d798",
   "metadata": {
    "tags": []
   },
   "outputs": [
    {
     "name": "stdout",
     "output_type": "stream",
     "text": [
      "[0, 1, 2, 3, 4, 5, 6, 7, 8, 9]\n"
     ]
    }
   ],
   "source": [
    "list10 = list1\n",
    "print(list10)"
   ]
  },
  {
   "cell_type": "code",
   "execution_count": 30,
   "id": "66067dcb-9a9b-404d-8b17-326b54153fc2",
   "metadata": {
    "tags": []
   },
   "outputs": [],
   "source": [
    "array = [1,2,3,4,5]"
   ]
  },
  {
   "cell_type": "code",
   "execution_count": 31,
   "id": "4c98bfa9-06cf-47cf-94c8-09495e364e00",
   "metadata": {
    "tags": []
   },
   "outputs": [],
   "source": [
    "array[4] = 7\n",
    "array[1] = ['a','b','c']\n",
    "array[3:] = ['d','e','f','g']"
   ]
  },
  {
   "cell_type": "code",
   "execution_count": 32,
   "id": "ea566281-b660-42cc-9e5d-e74831130dcd",
   "metadata": {
    "tags": []
   },
   "outputs": [],
   "source": [
    "array[:1] = ['h','i','j']"
   ]
  },
  {
   "cell_type": "code",
   "execution_count": 33,
   "id": "ef2b4d88-a527-46e4-a7f6-6c14105f5193",
   "metadata": {
    "tags": []
   },
   "outputs": [
    {
     "name": "stdout",
     "output_type": "stream",
     "text": [
      "['h', 'i', 'j', ['a', 'b', 'c'], 3, 'd', 'e', 'f', 'g']\n"
     ]
    }
   ],
   "source": [
    "print(array)"
   ]
  },
  {
   "cell_type": "code",
   "execution_count": 34,
   "id": "df1e42bd-6e25-4937-bea9-6862e4193128",
   "metadata": {
    "tags": []
   },
   "outputs": [],
   "source": [
    "list11 = [0,1,2,3,4,5]"
   ]
  },
  {
   "cell_type": "code",
   "execution_count": 35,
   "id": "8915e4c9-a3ab-42f9-9dd7-bc011d744c6f",
   "metadata": {
    "tags": []
   },
   "outputs": [
    {
     "name": "stdout",
     "output_type": "stream",
     "text": [
      "[1, 2, 3, 4, 5]\n"
     ]
    }
   ],
   "source": [
    "del list11[0]\n",
    "print(list11)"
   ]
  },
  {
   "cell_type": "code",
   "execution_count": 36,
   "id": "abe51b7a-5099-430d-9e4a-d55797c6e561",
   "metadata": {
    "tags": []
   },
   "outputs": [
    {
     "name": "stdout",
     "output_type": "stream",
     "text": [
      "[1]\n"
     ]
    }
   ],
   "source": [
    "del list11[1:5]\n",
    "print(list11)"
   ]
  },
  {
   "cell_type": "code",
   "execution_count": 37,
   "id": "0c158fbb-3445-4e18-9888-490b3412d986",
   "metadata": {
    "tags": []
   },
   "outputs": [],
   "source": [
    "list12 = ['a','b','c','d','e','c']"
   ]
  },
  {
   "cell_type": "code",
   "execution_count": 38,
   "id": "a5688f46-134a-4739-b2d3-02ad07f3235d",
   "metadata": {
    "tags": []
   },
   "outputs": [
    {
     "name": "stdout",
     "output_type": "stream",
     "text": [
      "['a', 'c', 'd', 'e', 'c']\n"
     ]
    }
   ],
   "source": [
    "list12.remove(list12[1])\n",
    "print(list12)"
   ]
  },
  {
   "cell_type": "code",
   "execution_count": 39,
   "id": "61734ae5-7ae0-4e33-a129-c25d0b883127",
   "metadata": {
    "tags": []
   },
   "outputs": [
    {
     "name": "stdout",
     "output_type": "stream",
     "text": [
      "['a', 'c', 'd', 'e']\n"
     ]
    }
   ],
   "source": [
    "list12.pop()\n",
    "print(list12)"
   ]
  },
  {
   "cell_type": "code",
   "execution_count": 40,
   "id": "9be81498-fdc5-4a47-9d99-09d938c06c2e",
   "metadata": {
    "tags": []
   },
   "outputs": [],
   "source": [
    "list13 = [13,27,1,32,45,7]"
   ]
  },
  {
   "cell_type": "code",
   "execution_count": 41,
   "id": "32645b43-3c75-41f2-ba71-0ddf437accba",
   "metadata": {
    "tags": []
   },
   "outputs": [
    {
     "name": "stdout",
     "output_type": "stream",
     "text": [
      "[1, 7, 13, 27, 32, 45]\n"
     ]
    }
   ],
   "source": [
    "list13.sort()\n",
    "print(list13)"
   ]
  },
  {
   "cell_type": "code",
   "execution_count": 42,
   "id": "1a52aaec-3d37-480e-8cf5-c62b2efa5fca",
   "metadata": {
    "tags": []
   },
   "outputs": [
    {
     "name": "stdout",
     "output_type": "stream",
     "text": [
      "[45, 32, 27, 13, 7, 1]\n"
     ]
    }
   ],
   "source": [
    "list13.sort(reverse=True)\n",
    "print(list13)"
   ]
  },
  {
   "cell_type": "code",
   "execution_count": 43,
   "id": "46d8b011-2044-4a64-9ec4-4861aaa07a92",
   "metadata": {
    "tags": []
   },
   "outputs": [
    {
     "name": "stdout",
     "output_type": "stream",
     "text": [
      "[1, 7, 13, 27, 32, 45]\n"
     ]
    }
   ],
   "source": [
    "list13.reverse()\n",
    "print(list13)"
   ]
  },
  {
   "cell_type": "code",
   "execution_count": 44,
   "id": "f372674e-2db4-422b-86b7-0928f869c250",
   "metadata": {
    "tags": []
   },
   "outputs": [
    {
     "data": {
      "text/plain": [
       "2"
      ]
     },
     "execution_count": 44,
     "metadata": {},
     "output_type": "execute_result"
    }
   ],
   "source": [
    "list14 = ['a','b','c','d','e']\n",
    "list14.index('c')"
   ]
  },
  {
   "cell_type": "code",
   "execution_count": 45,
   "id": "516a4fac-4fe8-485c-9d2b-f2b36827ca7d",
   "metadata": {
    "tags": []
   },
   "outputs": [
    {
     "data": {
      "text/plain": [
       "'e'"
      ]
     },
     "execution_count": 45,
     "metadata": {},
     "output_type": "execute_result"
    }
   ],
   "source": [
    "list14.pop()"
   ]
  },
  {
   "cell_type": "code",
   "execution_count": 46,
   "id": "54f72eb0-23b9-4915-8f62-3eb8f563706b",
   "metadata": {
    "tags": []
   },
   "outputs": [
    {
     "name": "stdout",
     "output_type": "stream",
     "text": [
      "['a', 'b', 'c', 'd']\n"
     ]
    }
   ],
   "source": [
    "print(list14)"
   ]
  },
  {
   "cell_type": "code",
   "execution_count": 47,
   "id": "ffb209fe-4f30-40d2-a9d4-845ced3ff46d",
   "metadata": {
    "tags": []
   },
   "outputs": [
    {
     "name": "stdout",
     "output_type": "stream",
     "text": [
      "4\n"
     ]
    }
   ],
   "source": [
    "print(len(list14))"
   ]
  },
  {
   "cell_type": "code",
   "execution_count": 48,
   "id": "b11b07a2-4a27-4fba-94ec-8e8c95eb3ead",
   "metadata": {
    "tags": []
   },
   "outputs": [
    {
     "name": "stdout",
     "output_type": "stream",
     "text": [
      "a b c d "
     ]
    }
   ],
   "source": [
    "for i in range(len(list14)):\n",
    "    print(list14[i], end = ' ')"
   ]
  },
  {
   "cell_type": "code",
   "execution_count": 49,
   "id": "9e8db53c-e10b-40dd-8482-108f5be4ed28",
   "metadata": {
    "tags": []
   },
   "outputs": [],
   "source": [
    "a = ()\n",
    "b = (1,2,3)\n",
    "c = ('My','name','is','HI')\n",
    "d = (1,2,'My','name')\n",
    "e = (1,2,('My','name'))"
   ]
  },
  {
   "cell_type": "code",
   "execution_count": 50,
   "id": "fb7d7c6c-39ad-46bd-9996-9add5abfdd24",
   "metadata": {
    "tags": []
   },
   "outputs": [
    {
     "name": "stdout",
     "output_type": "stream",
     "text": [
      "() (1, 2, 3) ('My', 'name', 'is', 'HI') (1, 2, 'My', 'name') (1, 2, ('My', 'name'))\n"
     ]
    },
    {
     "data": {
      "text/plain": [
       "True"
      ]
     },
     "execution_count": 50,
     "metadata": {},
     "output_type": "execute_result"
    }
   ],
   "source": [
    "print(a,b,c,d,e)\n",
    "1 in b"
   ]
  },
  {
   "cell_type": "code",
   "execution_count": 51,
   "id": "b39207ec-ec2f-4ef1-8032-71dced40abb2",
   "metadata": {
    "tags": []
   },
   "outputs": [],
   "source": [
    "str1 = '마지막 시간입니다. 여러분들 고생하셨어요!'"
   ]
  },
  {
   "cell_type": "code",
   "execution_count": 52,
   "id": "1e79ac70-e22f-4c99-bdff-7c104d825783",
   "metadata": {
    "tags": []
   },
   "outputs": [
    {
     "data": {
      "text/plain": [
       "False"
      ]
     },
     "execution_count": 52,
     "metadata": {},
     "output_type": "execute_result"
    }
   ],
   "source": [
    "37 in list13"
   ]
  },
  {
   "cell_type": "code",
   "execution_count": 63,
   "id": "d8be7729-73db-4e9d-b8a6-d7f53700a3cd",
   "metadata": {
    "tags": []
   },
   "outputs": [
    {
     "name": "stdin",
     "output_type": "stream",
     "text": [
      "글자 입력 >> i\n"
     ]
    },
    {
     "ename": "ValueError",
     "evalue": "empty separator",
     "output_type": "error",
     "traceback": [
      "\u001b[1;31m---------------------------------------------------------------------------\u001b[0m",
      "\u001b[1;31mValueError\u001b[0m                                Traceback (most recent call last)",
      "Cell \u001b[1;32mIn[63], line 4\u001b[0m\n\u001b[0;32m      2\u001b[0m s \u001b[38;5;241m=\u001b[39m \u001b[38;5;124m'\u001b[39m\u001b[38;5;124mHi my name is SH\u001b[39m\u001b[38;5;124m'\u001b[39m\n\u001b[0;32m      3\u001b[0m str1 \u001b[38;5;241m=\u001b[39m \u001b[38;5;28minput\u001b[39m(\u001b[38;5;124m\"\u001b[39m\u001b[38;5;124m글자 입력 >>\u001b[39m\u001b[38;5;124m\"\u001b[39m)\n\u001b[1;32m----> 4\u001b[0m s\u001b[38;5;241m.\u001b[39msplit(\u001b[38;5;124m'\u001b[39m\u001b[38;5;124m'\u001b[39m)\n",
      "\u001b[1;31mValueError\u001b[0m: empty separator"
     ]
    }
   ],
   "source": [
    "# 문자열에 사용자가 입력한 글자가 몇개 포함되어있는지 출력을 해주세요\n",
    "s = 'Hi my name is SH'\n",
    "str1 = input(\"글자 입력 >>\")\n",
    "s.split('')"
   ]
  },
  {
   "cell_type": "code",
   "execution_count": null,
   "id": "04f7a0be-2c1f-403a-87b8-5ffdeca69c84",
   "metadata": {},
   "outputs": [],
   "source": []
  }
 ],
 "metadata": {
  "kernelspec": {
   "display_name": "Python 3 (ipykernel)",
   "language": "python",
   "name": "python3"
  },
  "language_info": {
   "codemirror_mode": {
    "name": "ipython",
    "version": 3
   },
   "file_extension": ".py",
   "mimetype": "text/x-python",
   "name": "python",
   "nbconvert_exporter": "python",
   "pygments_lexer": "ipython3",
   "version": "3.11.5"
  }
 },
 "nbformat": 4,
 "nbformat_minor": 5
}
