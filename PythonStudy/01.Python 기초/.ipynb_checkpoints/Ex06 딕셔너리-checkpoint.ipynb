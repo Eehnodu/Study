{
 "cells": [
  {
   "cell_type": "code",
   "execution_count": 1,
   "id": "5f238385-bf49-4a30-966d-a5965b7bf092",
   "metadata": {
    "tags": []
   },
   "outputs": [
    {
     "name": "stdout",
     "output_type": "stream",
     "text": [
      "{1: 5, 2: 3}\n"
     ]
    }
   ],
   "source": [
    "a = {}\n",
    "b = {'name' : '가위'}\n",
    "c = {1:5, 2: 3}\n",
    "print(c)"
   ]
  },
  {
   "cell_type": "code",
   "execution_count": 2,
   "id": "45c30e79-f30b-4948-a2d7-d1c21714a9d0",
   "metadata": {
    "tags": []
   },
   "outputs": [
    {
     "name": "stdout",
     "output_type": "stream",
     "text": [
      "{'name': 'SW', 'age': 26, 'phone': '010-1234-5678', 'sex': 'man'}\n",
      "SW\n",
      "SW\n",
      "dict_keys(['name', 'age', 'phone', 'sex'])\n",
      "dict_values(['SW', 26, '010-1234-5678', 'man'])\n"
     ]
    }
   ],
   "source": [
    "dic = {'name' : 'SW', 'age' : 26, 'phone': '010-1234-5678'}\n",
    "dic['sex'] = 'man'\n",
    "print(dic)\n",
    "print(dic['name'])\n",
    "print(dic.get('name'))\n",
    "print(dic.keys())\n",
    "print(dic.values())"
   ]
  },
  {
   "cell_type": "code",
   "execution_count": 3,
   "id": "3082af53-a3d8-418e-95c7-5cbc071e5579",
   "metadata": {
    "tags": []
   },
   "outputs": [
    {
     "name": "stdout",
     "output_type": "stream",
     "text": [
      "{'노래제목': '라일락'}\n",
      "{'노래제목': '라일락', '가수': '아이유', '날짜': '2021.03.26'}\n"
     ]
    }
   ],
   "source": [
    "dic_test = {'노래제목' : '라일락'}\n",
    "print(dic_test)\n",
    "dic_test['가수'] = '아이유'\n",
    "dic_test['날짜'] = '2021.03.26'\n",
    "print(dic_test)"
   ]
  },
  {
   "cell_type": "code",
   "execution_count": 4,
   "id": "c126ce14-35cc-4d0b-a1e0-7a0e26195231",
   "metadata": {
    "tags": []
   },
   "outputs": [],
   "source": [
    "del(dic['age'])"
   ]
  },
  {
   "cell_type": "code",
   "execution_count": 5,
   "id": "9407abd5-5393-4b1b-be0f-66849e719239",
   "metadata": {
    "tags": []
   },
   "outputs": [
    {
     "name": "stdout",
     "output_type": "stream",
     "text": [
      "{'name': 'SW', 'phone': '010-1234-5678', 'sex': 'man'}\n"
     ]
    }
   ],
   "source": [
    "print(dic)"
   ]
  },
  {
   "cell_type": "code",
   "execution_count": 12,
   "id": "785253fe-dab7-4261-9154-50eb5d5668c3",
   "metadata": {
    "tags": []
   },
   "outputs": [
    {
     "name": "stdout",
     "output_type": "stream",
     "text": [
      "man\n"
     ]
    }
   ],
   "source": [
    "print(dic['sex'])"
   ]
  },
  {
   "cell_type": "code",
   "execution_count": 13,
   "id": "d690826e-37d1-4e29-a112-da662012edc0",
   "metadata": {
    "tags": []
   },
   "outputs": [
    {
     "name": "stdout",
     "output_type": "stream",
     "text": [
      "man\n"
     ]
    }
   ],
   "source": [
    "print(dic.get('sex'))"
   ]
  },
  {
   "cell_type": "code",
   "execution_count": 18,
   "id": "f807bd73-f251-401f-82d9-f687746a84f5",
   "metadata": {
    "tags": []
   },
   "outputs": [
    {
     "ename": "KeyError",
     "evalue": "'age'",
     "output_type": "error",
     "traceback": [
      "\u001b[1;31m---------------------------------------------------------------------------\u001b[0m",
      "\u001b[1;31mKeyError\u001b[0m                                  Traceback (most recent call last)",
      "Cell \u001b[1;32mIn[18], line 1\u001b[0m\n\u001b[1;32m----> 1\u001b[0m \u001b[38;5;28mprint\u001b[39m(dic[\u001b[38;5;124m'\u001b[39m\u001b[38;5;124mage\u001b[39m\u001b[38;5;124m'\u001b[39m])\n",
      "\u001b[1;31mKeyError\u001b[0m: 'age'"
     ]
    }
   ],
   "source": [
    "print(dic['age'])"
   ]
  },
  {
   "cell_type": "code",
   "execution_count": 20,
   "id": "aa5fbf8c-6cbc-4061-a683-425730eb98d9",
   "metadata": {
    "tags": []
   },
   "outputs": [
    {
     "name": "stdout",
     "output_type": "stream",
     "text": [
      "None\n"
     ]
    }
   ],
   "source": [
    "print(dic.get('age'))"
   ]
  },
  {
   "cell_type": "code",
   "execution_count": 22,
   "id": "9575a298-0a68-421d-b1dc-5ebe79079a65",
   "metadata": {
    "tags": []
   },
   "outputs": [],
   "source": [
    "dic = {'name' : 'SW', 'age' : 26, 'phone': '010-1234-5678'}"
   ]
  },
  {
   "cell_type": "code",
   "execution_count": 29,
   "id": "ee44beb2-1891-402f-879e-aa414e51bd5e",
   "metadata": {
    "tags": []
   },
   "outputs": [
    {
     "name": "stdout",
     "output_type": "stream",
     "text": [
      "dict_keys(['name', 'age', 'phone'])\n",
      "dict_values(['SW', 26, '010-1234-5678'])\n"
     ]
    }
   ],
   "source": [
    "print(dic.keys())\n",
    "print(dic.values())"
   ]
  },
  {
   "cell_type": "code",
   "execution_count": 31,
   "id": "f67894a2-5054-4836-9058-56ea4725f313",
   "metadata": {
    "tags": []
   },
   "outputs": [],
   "source": [
    "dic2 = {'안녕' : [1, 'man', '010-1234-5678'], '하세' : [2, 'woman', '010-9876-5432']}"
   ]
  },
  {
   "cell_type": "code",
   "execution_count": 34,
   "id": "d2d93265-3c84-49a3-983f-b5356c1e2e50",
   "metadata": {
    "tags": []
   },
   "outputs": [
    {
     "name": "stdout",
     "output_type": "stream",
     "text": [
      "[1, 'man', '010-1234-5678']\n"
     ]
    }
   ],
   "source": [
    "print(dic2['안녕'])"
   ]
  },
  {
   "cell_type": "code",
   "execution_count": 40,
   "id": "b7c53ed4-1b69-4e5f-9992-719575dc0882",
   "metadata": {
    "tags": []
   },
   "outputs": [
    {
     "name": "stdout",
     "output_type": "stream",
     "text": [
      "1 man 010-1234-5678 "
     ]
    }
   ],
   "source": [
    "for i in dic2['안녕']:\n",
    "    print(i, end= \" \")"
   ]
  },
  {
   "cell_type": "code",
   "execution_count": 48,
   "id": "40f14bf9-11c2-464b-b4f0-88184e9213cf",
   "metadata": {
    "tags": []
   },
   "outputs": [
    {
     "name": "stdout",
     "output_type": "stream",
     "text": [
      "name age phone "
     ]
    }
   ],
   "source": [
    "for key in dic.keys():\n",
    "    print(key, end= \" \")"
   ]
  },
  {
   "cell_type": "code",
   "execution_count": 49,
   "id": "3cacb239-a7aa-4cc7-bcb2-9c906ddebb56",
   "metadata": {
    "tags": []
   },
   "outputs": [
    {
     "name": "stdout",
     "output_type": "stream",
     "text": [
      "SW 26 010-1234-5678 "
     ]
    }
   ],
   "source": [
    "for value in dic.values():\n",
    "    print(value , end =\" \")"
   ]
  },
  {
   "cell_type": "code",
   "execution_count": 59,
   "id": "01c8e16d-782c-455c-8548-85586368586d",
   "metadata": {
    "tags": []
   },
   "outputs": [
    {
     "name": "stdout",
     "output_type": "stream",
     "text": [
      "1 \tman \t010-1234-5678 \t\n",
      "2 \twoman \t010-9876-5432 \t\n"
     ]
    }
   ],
   "source": [
    "for key in dic2.keys():\n",
    "    for i in dic2[key]:\n",
    "        print(i,\"\\t\" ,end =\"\")\n",
    "    print()"
   ]
  },
  {
   "cell_type": "code",
   "execution_count": 52,
   "id": "bb0e7660-3964-45fd-8736-4494f2edab7a",
   "metadata": {
    "tags": []
   },
   "outputs": [
    {
     "data": {
      "text/plain": [
       "dict_items([('name', 'SW'), ('age', 26), ('phone', '010-1234-5678')])"
      ]
     },
     "execution_count": 52,
     "metadata": {},
     "output_type": "execute_result"
    }
   ],
   "source": [
    "dic.items()"
   ]
  },
  {
   "cell_type": "code",
   "execution_count": 55,
   "id": "6d99841e-215d-4d58-b2ac-5354786840a2",
   "metadata": {
    "tags": []
   },
   "outputs": [
    {
     "name": "stdout",
     "output_type": "stream",
     "text": [
      "name SW    age 26    phone 010-1234-5678    "
     ]
    }
   ],
   "source": [
    "for key, value in dic.items():\n",
    "    print(key, value, \"  \", end =\" \")"
   ]
  },
  {
   "cell_type": "code",
   "execution_count": 56,
   "id": "f3164477-d439-485d-a972-675ad2853e2c",
   "metadata": {
    "tags": []
   },
   "outputs": [
    {
     "name": "stdout",
     "output_type": "stream",
     "text": [
      "('name', 'SW')    ('age', 26)    ('phone', '010-1234-5678')    "
     ]
    }
   ],
   "source": [
    "for key in dic.items():\n",
    "    print(key, \"  \", end =\" \")"
   ]
  },
  {
   "cell_type": "code",
   "execution_count": 57,
   "id": "29fe8874-da34-41a4-894d-200957e42394",
   "metadata": {
    "tags": []
   },
   "outputs": [
    {
     "name": "stdout",
     "output_type": "stream",
     "text": [
      "('name', 'SW')    ('age', 26)    ('phone', '010-1234-5678')    "
     ]
    }
   ],
   "source": [
    "for value in dic.items():\n",
    "    print(value, \"  \", end =\" \")"
   ]
  },
  {
   "cell_type": "code",
   "execution_count": 60,
   "id": "8bbb923c-a997-4df1-aca1-dce68cc31b6e",
   "metadata": {
    "tags": []
   },
   "outputs": [
    {
     "name": "stdout",
     "output_type": "stream",
     "text": [
      "[1, 'man', '010-1234-5678']\n",
      "[2, 'woman', '010-9876-5432']\n"
     ]
    }
   ],
   "source": [
    "for key in dic2.keys():\n",
    "    print(dic2[key])"
   ]
  },
  {
   "cell_type": "code",
   "execution_count": 64,
   "id": "1f302d29-36eb-48ef-9bab-02e7c602cb86",
   "metadata": {
    "tags": []
   },
   "outputs": [
    {
     "data": {
      "text/plain": [
       "False"
      ]
     },
     "execution_count": 64,
     "metadata": {},
     "output_type": "execute_result"
    }
   ],
   "source": [
    "'name' in dic"
   ]
  },
  {
   "cell_type": "code",
   "execution_count": null,
   "id": "31102bd1-9a85-4696-9603-6062ae4f46fa",
   "metadata": {},
   "outputs": [],
   "source": []
  }
 ],
 "metadata": {
  "kernelspec": {
   "display_name": "Python 3 (ipykernel)",
   "language": "python",
   "name": "python3"
  },
  "language_info": {
   "codemirror_mode": {
    "name": "ipython",
    "version": 3
   },
   "file_extension": ".py",
   "mimetype": "text/x-python",
   "name": "python",
   "nbconvert_exporter": "python",
   "pygments_lexer": "ipython3",
   "version": "3.11.5"
  }
 },
 "nbformat": 4,
 "nbformat_minor": 5
}
