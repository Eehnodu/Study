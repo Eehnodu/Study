{
 "cells": [
  {
   "cell_type": "code",
   "execution_count": 3,
   "id": "4b761129-0126-485d-9738-55b9d94585bc",
   "metadata": {
    "tags": []
   },
   "outputs": [],
   "source": [
    "def add(a, b): \n",
    "    return a + b\n",
    "def sub(a,b):\n",
    "    return a - b if a > b else b-a\n",
    "def mul(a,b):\n",
    "    return a * b\n",
    "def div(a,b):\n",
    "    return a // b "
   ]
  },
  {
   "cell_type": "code",
   "execution_count": 7,
   "id": "1d1cd402-f478-4cdb-b8a4-4466bcbebf34",
   "metadata": {
    "tags": []
   },
   "outputs": [
    {
     "name": "stdout",
     "output_type": "stream",
     "text": [
      "15 5 50 2\n"
     ]
    }
   ],
   "source": [
    "print(add(10,5), sub(10,5), mul(10,5), div(10,5))"
   ]
  },
  {
   "cell_type": "code",
   "execution_count": 9,
   "id": "dd2afdcf-0ec2-4dc6-9484-f65e00e94f60",
   "metadata": {
    "tags": []
   },
   "outputs": [
    {
     "name": "stdout",
     "output_type": "stream",
     "text": [
      "kerry hello!!\n"
     ]
    }
   ],
   "source": [
    "def hello(name):\n",
    "    return f'{name} hello!!'\n",
    "print(hello('kerry'))"
   ]
  },
  {
   "cell_type": "code",
   "execution_count": 13,
   "id": "f26df025-081e-418e-8b0f-8ab83171a3cf",
   "metadata": {
    "tags": []
   },
   "outputs": [
    {
     "name": "stdin",
     "output_type": "stream",
     "text": [
      "첫 번째 정수 입력 >> 3\n",
      "두 번째 정수 입력 >> 10\n"
     ]
    },
    {
     "data": {
      "text/plain": [
       "7"
      ]
     },
     "execution_count": 13,
     "metadata": {},
     "output_type": "execute_result"
    }
   ],
   "source": [
    "def number_minus(a,b):\n",
    "    return a - b if a > b else b-a\n",
    "\n",
    "num1 = int(input(\"첫 번째 정수 입력 >>\"))\n",
    "num2 = int(input(\"두 번째 정수 입력 >>\"))\n",
    "result = number_minus(num1,num2)\n",
    "result"
   ]
  },
  {
   "cell_type": "code",
   "execution_count": 9,
   "id": "499bb73a-62c5-4f49-9a4f-7673b4126185",
   "metadata": {},
   "outputs": [
    {
     "name": "stdin",
     "output_type": "stream",
     "text": [
      "첫 번째 정수 입력 >> 7\n",
      "두 번째 정수 입력 >> 6\n",
      "연산자 입력(+,-) >>  /\n"
     ]
    },
    {
     "name": "stdout",
     "output_type": "stream",
     "text": [
      "올바른 연산자를 입력해주세요\n",
      "결과 : None\n"
     ]
    }
   ],
   "source": [
    "def cal(a,b,op):\n",
    "    if (op == '+'):\n",
    "        return a + b\n",
    "    elif (op == '-'):\n",
    "        return a - b if a > b else b-a\n",
    "    else:\n",
    "        return print(\"올바른 연산자를 입력해주세요\")\n",
    "\n",
    "num1 = int(input(\"첫 번째 정수 입력 >>\"))\n",
    "num2 = int(input(\"두 번째 정수 입력 >>\"))\n",
    "op = input(\"연산자 입력(+,-) >> \")\n",
    "result = cal(num1,num2, op)\n",
    "print(\"결과 : {}\".format(result))"
   ]
  },
  {
   "cell_type": "code",
   "execution_count": 10,
   "id": "bf52c907-21c3-4f13-a05d-9d5c241a9a76",
   "metadata": {
    "tags": []
   },
   "outputs": [
    {
     "data": {
      "text/plain": [
       "6"
      ]
     },
     "execution_count": 10,
     "metadata": {},
     "output_type": "execute_result"
    }
   ],
   "source": [
    "def add(*args):\n",
    "    return sum(args)\n",
    "\n",
    "add(1,2,3)"
   ]
  },
  {
   "cell_type": "code",
   "execution_count": 12,
   "id": "3a2b746a-493e-4860-aa70-a087e70fb33b",
   "metadata": {
    "tags": []
   },
   "outputs": [
    {
     "name": "stdin",
     "output_type": "stream",
     "text": [
      "첫 번째 정수 입력 >> 7\n",
      "두 번째 정수 입력 >> 8\n"
     ]
    },
    {
     "name": "stdout",
     "output_type": "stream",
     "text": [
      "결과 : (15, -1)\n"
     ]
    },
    {
     "data": {
      "text/plain": [
       "15"
      ]
     },
     "execution_count": 12,
     "metadata": {},
     "output_type": "execute_result"
    }
   ],
   "source": [
    "def add_sub(num1, num2):\n",
    "    return num1+num2, num1-num2\n",
    "\n",
    "num1 = int(input(\"첫 번째 정수 입력 >>\"))\n",
    "num2 = int(input(\"두 번째 정수 입력 >>\"))\n",
    "result = add_sub(num1,num2)\n",
    "print(\"결과 : {}\".format(result))\n"
   ]
  },
  {
   "cell_type": "code",
   "execution_count": null,
   "id": "c8580526-2800-4304-a649-2a4092a64da6",
   "metadata": {},
   "outputs": [],
   "source": [
    "result[0]"
   ]
  }
 ],
 "metadata": {
  "kernelspec": {
   "display_name": "Python 3 (ipykernel)",
   "language": "python",
   "name": "python3"
  },
  "language_info": {
   "codemirror_mode": {
    "name": "ipython",
    "version": 3
   },
   "file_extension": ".py",
   "mimetype": "text/x-python",
   "name": "python",
   "nbconvert_exporter": "python",
   "pygments_lexer": "ipython3",
   "version": "3.11.5"
  }
 },
 "nbformat": 4,
 "nbformat_minor": 5
}
