{
 "cells": [
  {
   "cell_type": "code",
   "execution_count": 1,
   "id": "43a16369",
   "metadata": {},
   "outputs": [],
   "source": [
    "# 파란 색상일 때 b : 아래에 셀 추가\n",
    "# 파란 색상일 때 a : 위에 셀 추가\n",
    "# 파란 색상일 때 dd : 셀 삭제\n",
    "# 파란 색상일 때 enter : Edit Mode로 전환\n",
    "# 파란 색상일 때 x : 셀 잘라내기\n",
    "# 파란 색상일 때 v : 셀 붙여넣기\n",
    "# 파란 색상일 때 m : 마크다운(메모장)\n",
    "# 파란 색상일 때 y : 마크다운해제"
   ]
  },
  {
   "cell_type": "markdown",
   "id": "d252b6a0-958c-49f6-ae73-88a8c7d5674a",
   "metadata": {},
   "source": [
    "## 01 변수"
   ]
  },
  {
   "cell_type": "code",
   "execution_count": 2,
   "id": "bea1ef67-f13a-4547-95cc-25be6e89e155",
   "metadata": {
    "tags": []
   },
   "outputs": [
    {
     "name": "stdout",
     "output_type": "stream",
     "text": [
      "3\n"
     ]
    }
   ],
   "source": [
    "num = 3\n",
    "print(num)"
   ]
  },
  {
   "cell_type": "code",
   "execution_count": 3,
   "id": "06abeba9-a852-4803-a821-15f102710629",
   "metadata": {
    "tags": []
   },
   "outputs": [
    {
     "name": "stdout",
     "output_type": "stream",
     "text": [
      "13\n",
      "25\n",
      "77\n"
     ]
    }
   ],
   "source": [
    "num1 = 13\n",
    "print(num1)\n",
    "num2 = 25\n",
    "print(num2)\n",
    "num2 = 77\n",
    "print(num2)"
   ]
  },
  {
   "cell_type": "code",
   "execution_count": 4,
   "id": "9b41c358-b306-49a2-b956-f3089e43ec78",
   "metadata": {
    "tags": []
   },
   "outputs": [
    {
     "name": "stdout",
     "output_type": "stream",
     "text": [
      "3.1425\n",
      "1.25\n",
      "3.12\n"
     ]
    }
   ],
   "source": [
    "num3 = 3.1425\n",
    "print(num3)\n",
    "num4 = 1.25\n",
    "print(num4)\n",
    "num4 = 3.12\n",
    "print(num4)"
   ]
  },
  {
   "cell_type": "code",
   "execution_count": 5,
   "id": "d77b534e-9ef9-491d-a1c2-f76a88a0678e",
   "metadata": {
    "tags": []
   },
   "outputs": [
    {
     "name": "stdout",
     "output_type": "stream",
     "text": [
      "Funny python | Easy python\n"
     ]
    }
   ],
   "source": [
    "str1 = \"Funny python\"\n",
    "str2 = 'Easy python'\n",
    "print(str1, \"|\", str2)"
   ]
  },
  {
   "cell_type": "code",
   "execution_count": 6,
   "id": "f3751e1a-ea05-486f-86fa-7f260873adea",
   "metadata": {
    "tags": []
   },
   "outputs": [
    {
     "name": "stdout",
     "output_type": "stream",
     "text": [
      "10 15\n",
      "25\n"
     ]
    }
   ],
   "source": [
    "a = 10\n",
    "b = 15\n",
    "print(a,b)\n",
    "print(a+b)"
   ]
  },
  {
   "cell_type": "code",
   "execution_count": 7,
   "id": "661b22a1-2f3e-4933-b9b9-3672be7db454",
   "metadata": {
    "tags": []
   },
   "outputs": [
    {
     "name": "stdout",
     "output_type": "stream",
     "text": [
      "10 15\n"
     ]
    }
   ],
   "source": [
    "a, b = 10, 15\n",
    "print(a, b)"
   ]
  },
  {
   "cell_type": "code",
   "execution_count": 8,
   "id": "5e1670b1-5dd3-4c45-a7e2-0411185db7f0",
   "metadata": {
    "tags": []
   },
   "outputs": [
    {
     "name": "stdout",
     "output_type": "stream",
     "text": [
      "python | python\n"
     ]
    }
   ],
   "source": [
    "str1, str2 = 'python', 'python'\n",
    "print(str1,\"|\", str2)"
   ]
  },
  {
   "cell_type": "code",
   "execution_count": 9,
   "id": "25ed03c5-b19c-4b8f-8f89-4da8686b035b",
   "metadata": {
    "tags": []
   },
   "outputs": [
    {
     "name": "stdout",
     "output_type": "stream",
     "text": [
      "python | python\n"
     ]
    }
   ],
   "source": [
    "str1 = str2 = 'python'\n",
    "print(str1, \"|\", str2)"
   ]
  },
  {
   "cell_type": "code",
   "execution_count": 10,
   "id": "f2bd94a8-7314-48f9-83ce-058a1954939e",
   "metadata": {
    "tags": []
   },
   "outputs": [
    {
     "name": "stdout",
     "output_type": "stream",
     "text": [
      "300\n"
     ]
    }
   ],
   "source": [
    "x , y = 100, 200\n",
    "sum1 = x + y\n",
    "print(sum1)"
   ]
  },
  {
   "cell_type": "code",
   "execution_count": 11,
   "id": "764a9664-9b69-4b0f-a667-43f6d4c0607b",
   "metadata": {
    "tags": []
   },
   "outputs": [
    {
     "data": {
      "text/plain": [
       "300"
      ]
     },
     "execution_count": 11,
     "metadata": {},
     "output_type": "execute_result"
    }
   ],
   "source": [
    "sum([x,y])"
   ]
  },
  {
   "cell_type": "code",
   "execution_count": 12,
   "id": "d83a14f2-9e99-4361-9bec-9a97f093141b",
   "metadata": {
    "tags": []
   },
   "outputs": [
    {
     "name": "stdout",
     "output_type": "stream",
     "text": [
      "she's gone\n"
     ]
    }
   ],
   "source": [
    "s = \"she's gone\"\n",
    "print(s)"
   ]
  },
  {
   "cell_type": "code",
   "execution_count": null,
   "id": "d0fbf93b-b54d-4ba4-89c2-0da643cd4858",
   "metadata": {
    "tags": []
   },
   "outputs": [],
   "source": [
    "# 여러줄로 구성된 문자열을 변수에 대입하고 싶을 때\n",
    "# 여러줄로 구성된\n",
    "# 문자열을 변수에\n",
    "# 대입하고 싶을 때\n",
    "str1 = \"여러줄로 구성된\\n문자열을 변수에\\n대입하고 싶을 때\"\n",
    "print(str1, \"\\n\")\n",
    "str2 = \"\"\"여러줄로 구성된 \n",
    "문자열을 변수에 \n",
    "대입하고 싶을 때\"\"\"\n",
    "print(str2)"
   ]
  },
  {
   "cell_type": "code",
   "execution_count": 14,
   "id": "f1f43ce8-1df3-4f1b-898c-ac9d5f36a378",
   "metadata": {
    "tags": []
   },
   "outputs": [
    {
     "name": "stdout",
     "output_type": "stream",
     "text": [
      "\n",
      "1교시 : 정보처리기사\n",
      "2교시 : 정보처리기사\n",
      "3교시 : 정보처리기사\n",
      "4교시 : 정보처리기사\n",
      "5교시 : 파이썬\n",
      "6교시 : 파이썬\n",
      "7교시 : 파이썬\n"
     ]
    }
   ],
   "source": [
    "# 문자열 포맷팅\n",
    "# 문자 내부에서 자주 바뀌는 부분을 변수 처리해서 원하는 결과를 출력하는 방법\n",
    "am = '정보처리기사'\n",
    "pm = '파이썬'\n",
    "\n",
    "s=f\"\"\"\n",
    "1교시 : {am}\n",
    "2교시 : {am}\n",
    "3교시 : {am}\n",
    "4교시 : {am}\n",
    "5교시 : {pm}\n",
    "6교시 : {pm}\n",
    "7교시 : {pm}\"\"\"\n",
    "print(s)"
   ]
  },
  {
   "cell_type": "markdown",
   "id": "acf2277a-1386-4c80-ae75-b4b7ba98ec89",
   "metadata": {},
   "source": [
    "### 인덱싱 / 슬라이싱(1회차)\n",
    "- 인덱싱 : 무엇인가를 '가리킨다' 라는 의미\n",
    "- 슬라이싱 : 무엇인가를 '잘라낸다' 라는 의미"
   ]
  },
  {
   "cell_type": "code",
   "execution_count": 6,
   "id": "0e0e154e-5438-408c-b9fb-c68ea969afd2",
   "metadata": {
    "tags": []
   },
   "outputs": [
    {
     "name": "stdout",
     "output_type": "stream",
     "text": [
      "AK\n",
      "AK\n"
     ]
    }
   ],
   "source": [
    "s = \"My name is AK\"\n",
    "print(s[11:13])\n",
    "print(s[-2:])"
   ]
  },
  {
   "cell_type": "code",
   "execution_count": 16,
   "id": "4bd47dd2-562f-4f64-a4a9-a632e5c6cc25",
   "metadata": {},
   "outputs": [
    {
     "name": "stdout",
     "output_type": "stream",
     "text": [
      "My is AK\n"
     ]
    }
   ],
   "source": [
    "print(s[:2], s[8:10], s[-2:])"
   ]
  },
  {
   "cell_type": "code",
   "execution_count": 19,
   "id": "312b682b-9f69-4532-8ca0-8c2afd0a86bc",
   "metadata": {
    "tags": []
   },
   "outputs": [],
   "source": [
    "# 슬라이싱에서 값을 생략하는 것에 대한 의미\n",
    "# 변수[시작 인덱스 : 끝값 인덱스 + 1]\n",
    "# 시작값이 생략되는 경우 -> 데이터의 처음부터(인덱스 번호 0번 부터)\n",
    "# 끝값이 생략되는 경우 -> 데이터의 끝부분까지(인덱스 번호 마지막까지)\n",
    "# 문자열의 처음부터 끝까지 모든 문자를 가져오고 싶으면 어떻게 해야할까"
   ]
  },
  {
   "cell_type": "code",
   "execution_count": 20,
   "id": "aa7cbf9f-642c-4eba-80fc-f1ee8e9419c4",
   "metadata": {
    "tags": []
   },
   "outputs": [
    {
     "name": "stdout",
     "output_type": "stream",
     "text": [
      "My name is AK\n"
     ]
    }
   ],
   "source": [
    "print(s[:])"
   ]
  },
  {
   "cell_type": "code",
   "execution_count": 31,
   "id": "8e13fce4-d814-47a7-8ce1-292a6eceda4f",
   "metadata": {
    "tags": []
   },
   "outputs": [
    {
     "name": "stdout",
     "output_type": "stream",
     "text": [
      "날짜 : 2024년 1월 30일\n",
      "날씨 : 맑음\n"
     ]
    }
   ],
   "source": [
    "# 다음과 같은 문자열에서 날짜와 날씨를 따로 뽑아서 출력해보자\n",
    "s = '2024년 1월 30일의 날씨는 맑음입니다.'\n",
    "print(\"날짜 : \" + s[:12])\n",
    "print(\"날씨 : \" + s[-6:-4])"
   ]
  },
  {
   "cell_type": "code",
   "execution_count": 33,
   "id": "f5c89be0-3a59-486e-91e9-801a5e6f7664",
   "metadata": {
    "tags": []
   },
   "outputs": [
    {
     "name": "stdout",
     "output_type": "stream",
     "text": [
      "오늘은 1월 30일 입니다.\n"
     ]
    }
   ],
   "source": [
    "# 문자열 포맷팅 실습\n",
    "# 문자열 포맷팅 : 문자 내부의 특정한 값을 바꿔야 할 경우 사용\n",
    "# 1 : %d 포맷팅\n",
    "day = 30\n",
    "s = '오늘은 1월 %d일 입니다.'\n",
    "print(s %day)"
   ]
  },
  {
   "cell_type": "code",
   "execution_count": 37,
   "id": "2597cfef-8ea9-477b-b403-4a26ca3d6147",
   "metadata": {
    "tags": []
   },
   "outputs": [
    {
     "name": "stdout",
     "output_type": "stream",
     "text": [
      "오늘은 2월 11일 입니다.\n"
     ]
    }
   ],
   "source": [
    "month = 2\n",
    "day = 11\n",
    "s = '오늘은 %d월 %d일 입니다.'\n",
    "print(s %(month, day))"
   ]
  },
  {
   "cell_type": "code",
   "execution_count": 39,
   "id": "a1c76602-8124-471f-84b5-8d6c6f590c8f",
   "metadata": {
    "tags": []
   },
   "outputs": [
    {
     "name": "stdout",
     "output_type": "stream",
     "text": [
      "오늘은 2월 11일 입니다.\n"
     ]
    }
   ],
   "source": [
    "# 2. foramt 함수를 이용한 포맷팅\n",
    "month = 2\n",
    "day = 11\n",
    "s = '오늘은 {}월 {}일 입니다.'\n",
    "print(s .format(month, day))"
   ]
  },
  {
   "cell_type": "code",
   "execution_count": 41,
   "id": "1a391c02-796b-401b-becb-d135de34cd17",
   "metadata": {
    "tags": []
   },
   "outputs": [
    {
     "name": "stdout",
     "output_type": "stream",
     "text": [
      "오늘은 2월 11일 입니다.\n"
     ]
    }
   ],
   "source": [
    "# 3. f포맷팅\n",
    "month = 2\n",
    "day = 11\n",
    "s = f'오늘은 {month}월 {day}일 입니다.'\n",
    "print(s)"
   ]
  },
  {
   "cell_type": "code",
   "execution_count": 51,
   "id": "f6b2fcb8-ed7f-415f-9c9b-f3c2f43e9e70",
   "metadata": {
    "tags": []
   },
   "outputs": [
    {
     "name": "stdout",
     "output_type": "stream",
     "text": [
      "=====% 사용=====\n",
      "100와 200의 합은 300입니다.\n",
      "==format 함수==\n",
      "100와 200의 합은 300입니다.\n",
      "====f포맷팅====\n",
      "100와 200의 합은 300입니다.\n"
     ]
    }
   ],
   "source": [
    "x = 100\n",
    "y = 200\n",
    "sum2 = x+y\n",
    "print(\"=====% 사용=====\")\n",
    "print(\"%d와 %d의 합은 %d입니다.\" %(x,y,sum2))\n",
    "print(\"==format 함수==\")\n",
    "print(\"{}와 {}의 합은 {}입니다.\" .format(x,y,sum2))\n",
    "print(\"====f포맷팅====\")\n",
    "print(f\"{x}와 {y}의 합은 {sum2}입니다.\")"
   ]
  },
  {
   "cell_type": "code",
   "execution_count": 65,
   "id": "70a96fbd-7f6c-4a19-bdde-babd32ebb905",
   "metadata": {
    "tags": []
   },
   "outputs": [
    {
     "name": "stdout",
     "output_type": "stream",
     "text": [
      "     Hi?, Hi!, Hi~       \n",
      "Hi?, Hi!, Hi~\n",
      "Hi?,Hi!,Hi~\n",
      "['Hi?', ' Hi!', ' Hi~']\n"
     ]
    }
   ],
   "source": [
    "s = \"     Hi?, Hi!, Hi~       \"\n",
    "print(s)\n",
    " # strip() : 문자의 양쪽 공백을 없애주는 함수\n",
    "print(s.strip())\n",
    "# replace(기존의 문자, 바꿀문자)\n",
    "print(s.replace(\" \", \"\"))\n",
    "# split()\n",
    "print(s.strip().split(\",\"))"
   ]
  },
  {
   "cell_type": "code",
   "execution_count": null,
   "id": "4f0e90b7-8b68-499d-9dee-1e36a145c736",
   "metadata": {},
   "outputs": [],
   "source": []
  }
 ],
 "metadata": {
  "kernelspec": {
   "display_name": "Python 3 (ipykernel)",
   "language": "python",
   "name": "python3"
  },
  "language_info": {
   "codemirror_mode": {
    "name": "ipython",
    "version": 3
   },
   "file_extension": ".py",
   "mimetype": "text/x-python",
   "name": "python",
   "nbconvert_exporter": "python",
   "pygments_lexer": "ipython3",
   "version": "3.11.5"
  }
 },
 "nbformat": 4,
 "nbformat_minor": 5
}
