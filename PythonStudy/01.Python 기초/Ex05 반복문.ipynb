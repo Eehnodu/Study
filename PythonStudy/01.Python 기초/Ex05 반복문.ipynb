{
 "cells": [
  {
   "cell_type": "code",
   "execution_count": 6,
   "id": "6256383c-9bb7-45ff-9fcb-f33f5712b63e",
   "metadata": {
    "tags": []
   },
   "outputs": [
    {
     "name": "stdout",
     "output_type": "stream",
     "text": [
      "0 : 파이썬 1 : 파이썬 2 : 파이썬 3 : 파이썬 4 : 파이썬 5 : 파이썬 6 : 파이썬 7 : 파이썬 8 : 파이썬 9 : 파이썬 "
     ]
    }
   ],
   "source": [
    "i = 0\n",
    "while i<10:\n",
    "    print(i,\": 파이썬\", end=\" \")\n",
    "    i += 1"
   ]
  },
  {
   "cell_type": "code",
   "execution_count": 8,
   "id": "aa45f5f0-1e89-4375-b173-1903253b027a",
   "metadata": {
    "tags": []
   },
   "outputs": [
    {
     "name": "stdout",
     "output_type": "stream",
     "text": [
      "무한루프\n"
     ]
    }
   ],
   "source": [
    "while True:\n",
    "    print(\"무한루프\")\n",
    "    break"
   ]
  },
  {
   "cell_type": "code",
   "execution_count": 11,
   "id": "a8a59532-d0c8-48a4-a7bb-c59f56620311",
   "metadata": {
    "tags": []
   },
   "outputs": [
    {
     "name": "stdout",
     "output_type": "stream",
     "text": [
      "ㅎㅇ\n",
      "ㅎㅇ\n",
      "ㅎㅇ\n"
     ]
    }
   ],
   "source": [
    "num = 1\n",
    "while True:\n",
    "    print(\"ㅎㅇ\")\n",
    "    num += 1\n",
    "    if num >3 :\n",
    "        break"
   ]
  },
  {
   "cell_type": "code",
   "execution_count": 14,
   "id": "e225c9dc-78a8-47d3-a6dc-7f1e0d3bf6b7",
   "metadata": {
    "tags": []
   },
   "outputs": [
    {
     "name": "stdin",
     "output_type": "stream",
     "text": [
      "이름 입력 >> ㅇㅇㅇ\n"
     ]
    },
    {
     "name": "stdout",
     "output_type": "stream",
     "text": [
      "ㅇㅇㅇ 최고\n"
     ]
    },
    {
     "name": "stdin",
     "output_type": "stream",
     "text": [
      "이름 입력 >> ㄹㄹㄹ\n"
     ]
    },
    {
     "name": "stdout",
     "output_type": "stream",
     "text": [
      "ㄹㄹㄹ 최고\n"
     ]
    },
    {
     "name": "stdin",
     "output_type": "stream",
     "text": [
      "이름 입력 >> 강아람\n"
     ]
    },
    {
     "name": "stdout",
     "output_type": "stream",
     "text": [
      "아파서 속상해요\n"
     ]
    }
   ],
   "source": [
    "while True:\n",
    "    name = input(\"이름 입력 >>\")\n",
    "    if name == '강아람':\n",
    "        print('아파서 속상해요')\n",
    "        break\n",
    "    else:\n",
    "        print(f'{name} 최고')"
   ]
  },
  {
   "cell_type": "code",
   "execution_count": 19,
   "id": "df865512-d996-4f99-8833-946931f47ed3",
   "metadata": {
    "tags": []
   },
   "outputs": [
    {
     "name": "stdin",
     "output_type": "stream",
     "text": [
      "첫 번째 정수 입력 >> 1\n",
      "두 번째 정수 입력 >> 2\n"
     ]
    },
    {
     "name": "stdout",
     "output_type": "stream",
     "text": [
      "두 정수의 합 : 3\n"
     ]
    },
    {
     "name": "stdin",
     "output_type": "stream",
     "text": [
      "첫 번째 정수 입력 >> 0\n",
      "두 번째 정수 입력 >> 0\n"
     ]
    },
    {
     "name": "stdout",
     "output_type": "stream",
     "text": [
      "프로그램이 종료되었습니다.\n"
     ]
    }
   ],
   "source": [
    "while True:\n",
    "    num1 = int(input(\"첫 번째 정수 입력 >>\"))\n",
    "    num2 = int(input(\"두 번째 정수 입력 >>\"))\n",
    "    if (num1==0) & (num2==0):\n",
    "        print(\"프로그램이 종료되었습니다.\")\n",
    "        break\n",
    "    else:\n",
    "        print(\"두 정수의 합 :\", num1+num2)\n"
   ]
  },
  {
   "cell_type": "code",
   "execution_count": 31,
   "id": "b1a53746-6d3c-4168-a988-d9c687cb8f1d",
   "metadata": {
    "tags": []
   },
   "outputs": [
    {
     "name": "stdin",
     "output_type": "stream",
     "text": [
      "현재 몸무게 >> 80\n",
      "목표 몸무게 >> 70\n",
      "1주차 감량 몸무게 :  2\n",
      "2주차 감량 몸무게 :  3\n",
      "3주차 감량 몸무게 :  4\n",
      "4주차 감량 몸무게 :  5\n"
     ]
    },
    {
     "name": "stdout",
     "output_type": "stream",
     "text": [
      "66kg 달성!! 축하합니다!\n"
     ]
    }
   ],
   "source": [
    "now = int(input(\"현재 몸무게 >>\"))\n",
    "fut = int(input(\"목표 몸무게 >>\"))\n",
    "num = 0\n",
    "while True:\n",
    "    num += 1\n",
    "    kg = int(input(f'{num}주차 감량 몸무게 : '))\n",
    "    now -= kg\n",
    "    if(now <= fut):\n",
    "        print(f\"{now}kg 달성!! 축하합니다!\")\n",
    "        break"
   ]
  },
  {
   "cell_type": "code",
   "execution_count": 56,
   "id": "a1aad250-26fc-4cdd-9f96-d340c08c981b",
   "metadata": {
    "tags": []
   },
   "outputs": [
    {
     "name": "stdin",
     "output_type": "stream",
     "text": [
      "숫자 입력 >> 25\n"
     ]
    },
    {
     "name": "stdout",
     "output_type": "stream",
     "text": [
      "25보다 작은 수 입니다.\n"
     ]
    },
    {
     "name": "stdin",
     "output_type": "stream",
     "text": [
      "숫자 입력 >> 13\n"
     ]
    },
    {
     "name": "stdout",
     "output_type": "stream",
     "text": [
      "13보다 큰 수 입니다.\n"
     ]
    },
    {
     "name": "stdin",
     "output_type": "stream",
     "text": [
      "숫자 입력 >> 19\n"
     ]
    },
    {
     "name": "stdout",
     "output_type": "stream",
     "text": [
      "19보다 큰 수 입니다.\n"
     ]
    },
    {
     "name": "stdin",
     "output_type": "stream",
     "text": [
      "숫자 입력 >> 22\n"
     ]
    },
    {
     "name": "stdout",
     "output_type": "stream",
     "text": [
      "22보다 큰 수 입니다.\n"
     ]
    },
    {
     "name": "stdin",
     "output_type": "stream",
     "text": [
      "숫자 입력 >> 23\n"
     ]
    },
    {
     "name": "stdout",
     "output_type": "stream",
     "text": [
      "정답입니다.\n"
     ]
    }
   ],
   "source": [
    "import random as ran\n",
    "num = ran.randint(1,50)\n",
    "count = 0\n",
    "while True:\n",
    "    count +=1\n",
    "    a = int(input(\"숫자 입력 >>\"))\n",
    "    if (a < num):\n",
    "        print(f\"{a}보다 큰 수 입니다.\")\n",
    "        if(count == 5):\n",
    "            print(\"정답을 못맞췄습니다.\")\n",
    "            print(f'정답은 {num}입니다.')\n",
    "            break\n",
    "    elif (a > num):\n",
    "        print(f\"{a}보다 작은 수 입니다.\")\n",
    "        if(count == 5):\n",
    "            print(\"정답을 못맞췄습니다.\")\n",
    "            print(f'정답은 {num}입니다.')\n",
    "            break\n",
    "    elif (a == num):\n",
    "        print(\"정답입니다.\")\n",
    "        break"
   ]
  },
  {
   "cell_type": "code",
   "execution_count": 42,
   "id": "b37d015b-5f12-495c-95b4-5e14e53c9dad",
   "metadata": {
    "tags": []
   },
   "outputs": [
    {
     "name": "stdout",
     "output_type": "stream",
     "text": [
      "안 녕 하 세 요 "
     ]
    }
   ],
   "source": [
    "hi = '안녕하세요'\n",
    "for i in hi:\n",
    "    print(i, end= ' ')"
   ]
  },
  {
   "cell_type": "code",
   "execution_count": 50,
   "id": "ba233ee2-5e30-4a3b-b2db-b2cb408c1973",
   "metadata": {
    "tags": []
   },
   "outputs": [
    {
     "name": "stdout",
     "output_type": "stream",
     "text": [
      "1번 학생은 합격입니다.\n",
      "2번 학생은 불합격입니다.\n",
      "3번 학생은 합격입니다.\n",
      "4번 학생은 합격입니다.\n",
      "5번 학생은 불합격입니다.\n"
     ]
    }
   ],
   "source": [
    "score_list = [90, 45, 70, 60, 55]\n",
    "for i in range(len(score_list)):\n",
    "    if score_list[i] >= 60:\n",
    "        print(f'{i+1}번 학생은 합격입니다.')\n",
    "    else:\n",
    "        print(f'{i+1}번 학생은 불합격입니다.')"
   ]
  },
  {
   "cell_type": "code",
   "execution_count": 55,
   "id": "c1640cb5-8124-4f04-a433-4cd2b217a319",
   "metadata": {
    "tags": []
   },
   "outputs": [
    {
     "name": "stdout",
     "output_type": "stream",
     "text": [
      "1번 학생은 합격입니다.\n",
      "2번 학생은 불합격입니다.\n",
      "3번 학생은 합격입니다.\n",
      "4번 학생은 합격입니다.\n",
      "5번 학생은 불합격입니다.\n"
     ]
    }
   ],
   "source": [
    "score_list = [90, 45, 70, 60, 55]\n",
    "count = 1\n",
    "for i in score_list:\n",
    "    if i >= 60:\n",
    "        print(f'{count}번 학생은 합격입니다.')\n",
    "    else:\n",
    "        print(f'{count}번 학생은 불합격입니다.')  \n",
    "    count +=1"
   ]
  },
  {
   "cell_type": "code",
   "execution_count": 60,
   "id": "b30062ab-fe26-42d9-bffd-6feff94f8d22",
   "metadata": {
    "tags": []
   },
   "outputs": [
    {
     "name": "stdout",
     "output_type": "stream",
     "text": [
      "1번은 57점 이며, C등급 입니다.\n",
      "2번은 86점 이며, A등급 입니다.\n",
      "3번은 63점 이며, B등급 입니다.\n",
      "4번은 92점 이며, A등급 입니다.\n",
      "5번은 35점 이며, C등급 입니다.\n",
      "6번은 79점 이며, B등급 입니다.\n"
     ]
    }
   ],
   "source": [
    "python_score = [57, 86, 63, 92, 35, 79]\n",
    "count = 1\n",
    "for i in python_score:\n",
    "    if i >= 80:\n",
    "        str1 = \"A\"\n",
    "    elif i >= 60:\n",
    "        str1 = \"B\"\n",
    "    else :\n",
    "        str1 = \"C\"\n",
    "    print(f'{count}번은 {i}점 이며, {str1}등급 입니다.')\n",
    "    count +=1"
   ]
  },
  {
   "cell_type": "code",
   "execution_count": 64,
   "id": "276f9734-af87-43d6-a3cb-5aaa387a5b58",
   "metadata": {
    "tags": []
   },
   "outputs": [
    {
     "name": "stdout",
     "output_type": "stream",
     "text": [
      "1 2 3 4 5 6 7 8 9 "
     ]
    }
   ],
   "source": [
    "for i in range(1, 10, 1):\n",
    "    print(i, end = \" \")"
   ]
  },
  {
   "cell_type": "code",
   "execution_count": 68,
   "id": "921c4363-e4b0-4876-826d-e8d5ad448935",
   "metadata": {
    "tags": []
   },
   "outputs": [
    {
     "name": "stdout",
     "output_type": "stream",
     "text": [
      "1 2 3 4 5 6 7 8 9 "
     ]
    }
   ],
   "source": [
    "for i in range(1, 10):\n",
    "    print(i , end = \" \")"
   ]
  },
  {
   "cell_type": "code",
   "execution_count": 69,
   "id": "4a6397b3-1461-478d-a257-e2bd1dd4cf5b",
   "metadata": {
    "tags": []
   },
   "outputs": [
    {
     "name": "stdout",
     "output_type": "stream",
     "text": [
      "0 1 2 3 4 5 6 7 8 9 "
     ]
    }
   ],
   "source": [
    "for i in range(10):\n",
    "    print(i , end = \" \")"
   ]
  },
  {
   "cell_type": "code",
   "execution_count": 71,
   "id": "19067b1c-de63-4d3c-92e4-3e759f551bac",
   "metadata": {
    "tags": []
   },
   "outputs": [
    {
     "name": "stdout",
     "output_type": "stream",
     "text": [
      "97 96 95 94 93 92 91 90 89 88 87 86 85 84 83 82 81 80 79 78 77 "
     ]
    }
   ],
   "source": [
    "for i in range(97,76,-1):\n",
    "    print(i, end = \" \")"
   ]
  },
  {
   "cell_type": "code",
   "execution_count": 72,
   "id": "08856129-b16f-4c45-9be0-9ca32b5c3c5f",
   "metadata": {
    "tags": []
   },
   "outputs": [
    {
     "name": "stdout",
     "output_type": "stream",
     "text": [
      "23 24 25 26 27 28 29 30 31 32 33 34 35 36 37 38 39 "
     ]
    }
   ],
   "source": [
    "for i in range(23, 40):\n",
    "    print(i, end = \" \")"
   ]
  },
  {
   "cell_type": "code",
   "execution_count": 90,
   "id": "7968d2b0-2a38-4a6b-a81b-67738cbef2d1",
   "metadata": {
    "tags": []
   },
   "outputs": [
    {
     "name": "stdout",
     "output_type": "stream",
     "text": [
      "1 2 7\n",
      "3 4 8\n",
      "5 6 9\n"
     ]
    }
   ],
   "source": [
    "list1 = [[1,2,7],[3,4,8],[5,6,9]]\n",
    "for i,j,k in list1:\n",
    "    print(i, j, k)"
   ]
  },
  {
   "cell_type": "code",
   "execution_count": 91,
   "id": "8b0ba0a5-7aaf-44d4-aad4-55ad21c7906c",
   "metadata": {
    "tags": []
   },
   "outputs": [
    {
     "name": "stdout",
     "output_type": "stream",
     "text": [
      "1\n"
     ]
    }
   ],
   "source": [
    "list2 = [4,5,2,1,99,14,2,7,27]\n",
    "tmp = list2[0]\n",
    "for i in list2:\n",
    "    tmp = tmp if tmp < i else i\n",
    "print(tmp)"
   ]
  },
  {
   "cell_type": "code",
   "execution_count": 95,
   "id": "64409cbc-ac49-4258-8ce3-69de00ed9a84",
   "metadata": {
    "tags": []
   },
   "outputs": [
    {
     "name": "stdout",
     "output_type": "stream",
     "text": [
      "1683\n"
     ]
    }
   ],
   "source": [
    "sum1 = 0\n",
    "for i in range(3,101,3):\n",
    "    sum1 += i\n",
    "print(sum1)"
   ]
  },
  {
   "cell_type": "code",
   "execution_count": 99,
   "id": "2ed7c22a-d670-4275-a848-f715074bf8df",
   "metadata": {
    "tags": []
   },
   "outputs": [
    {
     "name": "stdout",
     "output_type": "stream",
     "text": [
      "2 * 1 = 2\n",
      "2 * 2 = 4\n",
      "2 * 3 = 6\n",
      "2 * 4 = 8\n",
      "2 * 5 = 10\n",
      "2 * 6 = 12\n",
      "2 * 7 = 14\n",
      "2 * 8 = 16\n",
      "2 * 9 = 18\n"
     ]
    }
   ],
   "source": [
    "for i in range(1,10):\n",
    "    print(f'2 * {i} = {2*i}')"
   ]
  },
  {
   "cell_type": "code",
   "execution_count": 105,
   "id": "67bd1aa4-8904-4a4c-a654-3b107efadcf1",
   "metadata": {
    "tags": []
   },
   "outputs": [
    {
     "name": "stdin",
     "output_type": "stream",
     "text": [
      "정수 입력 >> 48\n"
     ]
    },
    {
     "name": "stdout",
     "output_type": "stream",
     "text": [
      "48의 약수 : 1 2 3 4 6 8 12 16 24 48 "
     ]
    }
   ],
   "source": [
    "num = int(input(\"정수 입력 >>\"))\n",
    "print(f'{num}의 약수 :', end=\" \")\n",
    "for i in range(1,num+1):\n",
    "    if (num % i == 0):\n",
    "        print(i, end= \" \")"
   ]
  },
  {
   "cell_type": "code",
   "execution_count": null,
   "id": "f8e08a6a-6a01-499a-bae1-88c90e4c404b",
   "metadata": {},
   "outputs": [],
   "source": []
  }
 ],
 "metadata": {
  "kernelspec": {
   "display_name": "Python 3 (ipykernel)",
   "language": "python",
   "name": "python3"
  },
  "language_info": {
   "codemirror_mode": {
    "name": "ipython",
    "version": 3
   },
   "file_extension": ".py",
   "mimetype": "text/x-python",
   "name": "python",
   "nbconvert_exporter": "python",
   "pygments_lexer": "ipython3",
   "version": "3.11.5"
  }
 },
 "nbformat": 4,
 "nbformat_minor": 5
}
