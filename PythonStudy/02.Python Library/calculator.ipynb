{
 "cells": [
  {
   "cell_type": "code",
   "execution_count": 1,
   "id": "bf70b539-41b7-4211-a85a-d9aadb51ad12",
   "metadata": {
    "tags": []
   },
   "outputs": [],
   "source": [
    "def add(a, b): \n",
    "    return a + b\n",
    "def sub(a,b):\n",
    "    return a - b if a > b else b-a\n",
    "def mul(a,b):\n",
    "    return a * b\n",
    "def div(a,b):\n",
    "    return a / b "
   ]
  },
  {
   "cell_type": "code",
   "execution_count": null,
   "id": "2598e3c4-bdc1-4338-a5ae-abc785a9224c",
   "metadata": {},
   "outputs": [],
   "source": []
  }
 ],
 "metadata": {
  "kernelspec": {
   "display_name": "Python 3 (ipykernel)",
   "language": "python",
   "name": "python3"
  },
  "language_info": {
   "codemirror_mode": {
    "name": "ipython",
    "version": 3
   },
   "file_extension": ".py",
   "mimetype": "text/x-python",
   "name": "python",
   "nbconvert_exporter": "python",
   "pygments_lexer": "ipython3",
   "version": "3.11.5"
  }
 },
 "nbformat": 4,
 "nbformat_minor": 5
}
