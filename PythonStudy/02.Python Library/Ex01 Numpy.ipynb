{
 "cells": [
  {
   "cell_type": "code",
   "execution_count": 1,
   "id": "3170a534-8931-4f06-a5dc-4ec6b60b6206",
   "metadata": {
    "tags": []
   },
   "outputs": [
    {
     "name": "stdout",
     "output_type": "stream",
     "text": [
      "[1, 2, 3, 4, 5]\n"
     ]
    }
   ],
   "source": [
    "list_ = [1,2,3,4,5]\n",
    "print(list_)"
   ]
  },
  {
   "cell_type": "code",
   "execution_count": 2,
   "id": "adbce551-c4a0-4a1b-9f5f-b266b30fed94",
   "metadata": {
    "tags": []
   },
   "outputs": [
    {
     "name": "stdout",
     "output_type": "stream",
     "text": [
      "[1 2 3 4 5]\n"
     ]
    }
   ],
   "source": [
    "import numpy as np\n",
    "# 1. 리스트를 직접 넣어주는 방법\n",
    "arr_ = np.array([1,2,3,4,5])\n",
    "print(arr_)"
   ]
  },
  {
   "cell_type": "code",
   "execution_count": 3,
   "id": "64790777-d53d-4710-8007-805f8dbcc9d3",
   "metadata": {
    "tags": []
   },
   "outputs": [
    {
     "name": "stdout",
     "output_type": "stream",
     "text": [
      "[ 2  4  6  8 10]\n"
     ]
    }
   ],
   "source": [
    "print(arr_ + arr_)"
   ]
  },
  {
   "cell_type": "code",
   "execution_count": 4,
   "id": "78d531bd-ea4b-4cb8-945d-8f68afccc3ba",
   "metadata": {
    "tags": []
   },
   "outputs": [
    {
     "name": "stdout",
     "output_type": "stream",
     "text": [
      "[1 2 3 4 5]\n"
     ]
    }
   ],
   "source": [
    "# 2. 리스트가 담긴 변수명을 넣어주는 방법\n",
    "arr_ = np.array(list_)\n",
    "print(arr_)"
   ]
  },
  {
   "cell_type": "code",
   "execution_count": 5,
   "id": "78d6b662-154f-457f-9c15-0fc07238e5d9",
   "metadata": {
    "tags": []
   },
   "outputs": [
    {
     "name": "stdout",
     "output_type": "stream",
     "text": [
      "(5,)\n"
     ]
    }
   ],
   "source": [
    "print(arr_.shape)"
   ]
  },
  {
   "cell_type": "code",
   "execution_count": 6,
   "id": "43d8dfdd-7196-4daf-aaa9-79e70778ddf1",
   "metadata": {
    "tags": []
   },
   "outputs": [
    {
     "name": "stdout",
     "output_type": "stream",
     "text": [
      "(2, 3)\n"
     ]
    }
   ],
   "source": [
    "# shape(행, 열)\n",
    "arr2 = np.array([[1,2,3],[4,5,6]])\n",
    "print(arr2.shape)"
   ]
  },
  {
   "cell_type": "code",
   "execution_count": 7,
   "id": "6989b107-1b5f-477d-8864-ffb2086d32cb",
   "metadata": {
    "tags": []
   },
   "outputs": [
    {
     "name": "stdout",
     "output_type": "stream",
     "text": [
      "6\n"
     ]
    }
   ],
   "source": [
    "print(arr2.size)"
   ]
  },
  {
   "cell_type": "code",
   "execution_count": 8,
   "id": "116a19e0-aa38-46b3-a5ae-269bc7fc93c7",
   "metadata": {
    "tags": []
   },
   "outputs": [
    {
     "name": "stdout",
     "output_type": "stream",
     "text": [
      "int32\n"
     ]
    }
   ],
   "source": [
    "print(arr2.dtype)"
   ]
  },
  {
   "cell_type": "code",
   "execution_count": 9,
   "id": "39e85ac1-0e62-4e41-a4e7-8522dbeb2d1c",
   "metadata": {
    "tags": []
   },
   "outputs": [
    {
     "name": "stdout",
     "output_type": "stream",
     "text": [
      "2\n"
     ]
    }
   ],
   "source": [
    "# 차원 확인\n",
    "print(arr2.ndim)"
   ]
  },
  {
   "cell_type": "code",
   "execution_count": 10,
   "id": "b30d946b-b756-462a-9dcb-3414386207f1",
   "metadata": {
    "tags": []
   },
   "outputs": [
    {
     "name": "stdout",
     "output_type": "stream",
     "text": [
      "[[[1 2]\n",
      "  [3 4]]\n",
      "\n",
      " [[5 6]\n",
      "  [7 8]]]\n",
      "배열의 크기 : (2, 2, 2)\n",
      "배열의 차원 : 3\n",
      "배열의 개수 : 8\n"
     ]
    }
   ],
   "source": [
    "arr = np.array([[[1,2],[3,4]],[[5,6],[7,8]]])\n",
    "print(arr)\n",
    "print(\"배열의 크기 :\",arr.shape)\n",
    "print(\"배열의 차원 :\",arr.ndim)\n",
    "print(\"배열의 개수 :\",arr.size)"
   ]
  },
  {
   "cell_type": "code",
   "execution_count": 11,
   "id": "cf6b2ad9-455d-467d-8fe3-eb66c93efd3d",
   "metadata": {
    "tags": []
   },
   "outputs": [
    {
     "name": "stdout",
     "output_type": "stream",
     "text": [
      "[[0. 0. 0. 0.]\n",
      " [0. 0. 0. 0.]\n",
      " [0. 0. 0. 0.]]\n"
     ]
    }
   ],
   "source": [
    "arr1 = np.zeros((3,4))\n",
    "print(arr1)"
   ]
  },
  {
   "cell_type": "code",
   "execution_count": 12,
   "id": "ff76a098-97b8-4ed4-98dc-f738bfee76cf",
   "metadata": {
    "tags": []
   },
   "outputs": [
    {
     "name": "stdout",
     "output_type": "stream",
     "text": [
      "[[1. 1. 1. 1.]\n",
      " [1. 1. 1. 1.]\n",
      " [1. 1. 1. 1.]]\n"
     ]
    }
   ],
   "source": [
    "arr2 = np.ones((3,4))\n",
    "print(arr2)"
   ]
  },
  {
   "cell_type": "code",
   "execution_count": 13,
   "id": "a9d146de-7531-4923-80c0-82e32e3aa066",
   "metadata": {
    "tags": []
   },
   "outputs": [
    {
     "name": "stdout",
     "output_type": "stream",
     "text": [
      "[[5 5 5 5 5 5 5 5 5 5]\n",
      " [5 5 5 5 5 5 5 5 5 5]\n",
      " [5 5 5 5 5 5 5 5 5 5]\n",
      " [5 5 5 5 5 5 5 5 5 5]\n",
      " [5 5 5 5 5 5 5 5 5 5]\n",
      " [5 5 5 5 5 5 5 5 5 5]\n",
      " [5 5 5 5 5 5 5 5 5 5]\n",
      " [5 5 5 5 5 5 5 5 5 5]\n",
      " [5 5 5 5 5 5 5 5 5 5]\n",
      " [5 5 5 5 5 5 5 5 5 5]]\n"
     ]
    }
   ],
   "source": [
    "arr3 = np.full((10,10),5)\n",
    "print(arr3)"
   ]
  },
  {
   "cell_type": "code",
   "execution_count": 14,
   "id": "55cb83ae-3a6c-48dd-ab9c-1273c7f01588",
   "metadata": {
    "tags": []
   },
   "outputs": [
    {
     "name": "stdout",
     "output_type": "stream",
     "text": [
      "[ 1  2  3  4  5  6  7  8  9 10 11 12 13 14 15 16 17 18 19 20 21 22 23 24\n",
      " 25 26 27 28 29 30 31 32 33 34 35 36 37 38 39 40 41 42 43 44 45 46 47 48\n",
      " 49 50]\n"
     ]
    }
   ],
   "source": [
    "list1 = []\n",
    "for i in range(1,51):\n",
    "    list1.append(i)\n",
    "arr_list = np.array(list1)\n",
    "print(arr_list)"
   ]
  },
  {
   "cell_type": "code",
   "execution_count": 15,
   "id": "9d0ecafe-d58e-4dc5-8f16-d96d6c7c964d",
   "metadata": {
    "tags": []
   },
   "outputs": [
    {
     "name": "stdout",
     "output_type": "stream",
     "text": [
      "[ 1  2  3  4  5  6  7  8  9 10 11 12 13 14 15 16 17 18 19 20 21 22 23 24\n",
      " 25 26 27 28 29 30 31 32 33 34 35 36 37 38 39 40 41 42 43 44 45 46 47 48\n",
      " 49 50]\n"
     ]
    }
   ],
   "source": [
    "arr_list2 = np.arange(1,51)\n",
    "print(arr_list2)"
   ]
  },
  {
   "cell_type": "code",
   "execution_count": 16,
   "id": "4717423a-e4d1-411d-9e02-51d24014006d",
   "metadata": {
    "tags": []
   },
   "outputs": [
    {
     "name": "stdout",
     "output_type": "stream",
     "text": [
      "[ 1 11 21 31 41]\n"
     ]
    }
   ],
   "source": [
    "arr_list3 = np.arange(1,51,10)\n",
    "print(arr_list3)"
   ]
  },
  {
   "cell_type": "code",
   "execution_count": 17,
   "id": "e0deae4d-27dd-45ff-9414-24d526535279",
   "metadata": {
    "tags": []
   },
   "outputs": [
    {
     "name": "stdout",
     "output_type": "stream",
     "text": [
      "[[ 1  2  3  4  5]\n",
      " [ 6  7  8  9 10]\n",
      " [11 12 13 14 15]\n",
      " [16 17 18 19 20]\n",
      " [21 22 23 24 25]\n",
      " [26 27 28 29 30]\n",
      " [31 32 33 34 35]\n",
      " [36 37 38 39 40]\n",
      " [41 42 43 44 45]\n",
      " [46 47 48 49 50]]\n"
     ]
    }
   ],
   "source": [
    "print(arr_list2.reshape(10,5))"
   ]
  },
  {
   "cell_type": "code",
   "execution_count": 18,
   "id": "1d209a54-f1dd-43c3-bb0b-e36032c00fe4",
   "metadata": {
    "tags": []
   },
   "outputs": [
    {
     "name": "stdout",
     "output_type": "stream",
     "text": [
      "[[ 1  2  3  4  5  6  7  8  9 10 11 12 13 14 15 16 17 18 19 20 21 22 23 24\n",
      "  25]\n",
      " [26 27 28 29 30 31 32 33 34 35 36 37 38 39 40 41 42 43 44 45 46 47 48 49\n",
      "  50]]\n"
     ]
    }
   ],
   "source": [
    "print(arr_list2.reshape(-1,25))"
   ]
  },
  {
   "cell_type": "code",
   "execution_count": 19,
   "id": "d2eb3873-0be7-476a-8194-76378d568fd4",
   "metadata": {},
   "outputs": [
    {
     "name": "stdout",
     "output_type": "stream",
     "text": [
      "[[0.01925972 0.87013626 0.5781016 ]\n",
      " [0.20215006 0.51967437 0.33901198]]\n"
     ]
    }
   ],
   "source": [
    "arr6 = np.random.rand(2,3)\n",
    "print(arr6)"
   ]
  },
  {
   "cell_type": "code",
   "execution_count": 20,
   "id": "d40b4332-4c23-4d22-bf47-5d1633ab90c5",
   "metadata": {
    "tags": []
   },
   "outputs": [
    {
     "name": "stdout",
     "output_type": "stream",
     "text": [
      "[[7 1 5]\n",
      " [9 5 6]\n",
      " [3 6 1]]\n"
     ]
    }
   ],
   "source": [
    "arr7 = np.random.randint(1,10,size=(3,3))\n",
    "print(arr7)"
   ]
  },
  {
   "cell_type": "code",
   "execution_count": 21,
   "id": "3fdcc88b-fc93-4f4f-8c49-6eb60af081e1",
   "metadata": {
    "tags": []
   },
   "outputs": [
    {
     "name": "stdout",
     "output_type": "stream",
     "text": [
      "int64\n"
     ]
    }
   ],
   "source": [
    "arr_type = np.array([1.2,3,4,5,6], dtype = np.int64)\n",
    "print(arr_type.dtype)"
   ]
  },
  {
   "cell_type": "code",
   "execution_count": 22,
   "id": "87c3fec7-e6eb-42c9-a308-e2e6599f7daa",
   "metadata": {
    "tags": []
   },
   "outputs": [
    {
     "name": "stdout",
     "output_type": "stream",
     "text": [
      "float64\n",
      "int64\n"
     ]
    }
   ],
   "source": [
    "arr_type1 = np.array([1.2,3,4,5,6])\n",
    "print(arr_type1.dtype)\n",
    "print(arr_type1.astype('int64').dtype)"
   ]
  },
  {
   "cell_type": "code",
   "execution_count": 23,
   "id": "0718f235-afc5-4077-a8d6-4b95bdd62afa",
   "metadata": {
    "tags": []
   },
   "outputs": [
    {
     "name": "stdout",
     "output_type": "stream",
     "text": [
      "[2 4 6]\n"
     ]
    }
   ],
   "source": [
    "arr = np.array([1,2,3])\n",
    "print(arr+arr)"
   ]
  },
  {
   "cell_type": "code",
   "execution_count": 24,
   "id": "04aa9656-86f3-41a4-a27a-936cac9271b0",
   "metadata": {
    "tags": []
   },
   "outputs": [
    {
     "name": "stdout",
     "output_type": "stream",
     "text": [
      "[5 7 9]\n"
     ]
    }
   ],
   "source": [
    "arr1 = np.array([1,2,3])\n",
    "arr2 = np.array([4,5,6])\n",
    "print(arr1 + arr2)"
   ]
  },
  {
   "cell_type": "code",
   "execution_count": 25,
   "id": "f2a28c3d-6f25-46bb-a282-2577ddb94679",
   "metadata": {
    "tags": []
   },
   "outputs": [
    {
     "name": "stdout",
     "output_type": "stream",
     "text": [
      "[[ 8 10 12]\n",
      " [14 16 18]]\n",
      "[[6 6 6]\n",
      " [6 6 6]]\n"
     ]
    }
   ],
   "source": [
    "arr2_a = np.array([[1,2,3,],[4,5,6]])\n",
    "arr2_b = np.array([[7,8,9],[10,11,12]])\n",
    "print(arr2_a + arr2_b)\n",
    "print(arr2_b - arr2_a)"
   ]
  },
  {
   "cell_type": "code",
   "execution_count": 26,
   "id": "7aec9070-a89f-4d7e-abab-46f3c7e1cb45",
   "metadata": {
    "tags": []
   },
   "outputs": [
    {
     "name": "stdout",
     "output_type": "stream",
     "text": [
      "[[ 8 10 12]\n",
      " [14 16 18]]\n",
      "[[-6 -6 -6]\n",
      " [-6 -6 -6]]\n"
     ]
    }
   ],
   "source": [
    "arr2_a1 = np.arange(1,7).reshape(2,3)\n",
    "arr2_b1 = np.arange(7,13).reshape(2,3)\n",
    "print(arr2_a1 + arr2_b1)\n",
    "print(arr2_a1 - arr2_b1)"
   ]
  },
  {
   "cell_type": "code",
   "execution_count": 27,
   "id": "9ec69caf-8830-4cde-abb2-64c7085d5093",
   "metadata": {
    "tags": []
   },
   "outputs": [
    {
     "name": "stdout",
     "output_type": "stream",
     "text": [
      "2\n"
     ]
    }
   ],
   "source": [
    "arr_1 = np.array([0,1,2,3,4,5])\n",
    "print(arr_1[2])"
   ]
  },
  {
   "cell_type": "code",
   "execution_count": 28,
   "id": "d025ec43-0285-4b50-b3b0-5060b65a3293",
   "metadata": {
    "tags": []
   },
   "outputs": [
    {
     "name": "stdout",
     "output_type": "stream",
     "text": [
      "[[1 2 3]\n",
      " [4 5 6]]\n"
     ]
    }
   ],
   "source": [
    "arr = np.array([[1,2,3],[4,5,6]])\n",
    "print(arr)"
   ]
  },
  {
   "cell_type": "code",
   "execution_count": 29,
   "id": "67b511ec-f9a8-459b-9d02-028f02dfd329",
   "metadata": {
    "tags": []
   },
   "outputs": [
    {
     "name": "stdout",
     "output_type": "stream",
     "text": [
      "1\n"
     ]
    }
   ],
   "source": [
    "print(arr[0][0])"
   ]
  },
  {
   "cell_type": "code",
   "execution_count": 30,
   "id": "996e00ff-fa39-4591-9c7f-0f0c895fd34b",
   "metadata": {
    "tags": []
   },
   "outputs": [
    {
     "name": "stdout",
     "output_type": "stream",
     "text": [
      "1\n"
     ]
    }
   ],
   "source": [
    "print(arr[0,0])"
   ]
  },
  {
   "cell_type": "code",
   "execution_count": 31,
   "id": "0c78aad3-d3f4-4bca-9898-55b4b88c44fb",
   "metadata": {
    "tags": []
   },
   "outputs": [
    {
     "name": "stdout",
     "output_type": "stream",
     "text": [
      "[ 1  2  3  4  5  6  7  8  9 10]\n"
     ]
    }
   ],
   "source": [
    "arr2 = np.arange(1,11)\n",
    "print(arr2)"
   ]
  },
  {
   "cell_type": "code",
   "execution_count": 32,
   "id": "5d8ab438-7f1b-4180-876e-49f93d808db0",
   "metadata": {
    "tags": []
   },
   "outputs": [
    {
     "name": "stdout",
     "output_type": "stream",
     "text": [
      "[3 4 5 6 7]\n"
     ]
    }
   ],
   "source": [
    "print(arr2[2:7])"
   ]
  },
  {
   "cell_type": "code",
   "execution_count": 33,
   "id": "703e1c05-df0e-4343-bd56-c460690612d1",
   "metadata": {
    "tags": []
   },
   "outputs": [
    {
     "name": "stdout",
     "output_type": "stream",
     "text": [
      "[3, 4, 5, 6, 7]\n"
     ]
    }
   ],
   "source": [
    "list_ = [1,2,3,4,5,6,7,8,9,10]\n",
    "print(list_[2:7])"
   ]
  },
  {
   "cell_type": "code",
   "execution_count": 34,
   "id": "60ae571f-827d-4c28-9bf0-24f779561e5d",
   "metadata": {
    "tags": []
   },
   "outputs": [
    {
     "name": "stdout",
     "output_type": "stream",
     "text": [
      "[ 1  2 10 10 10 10 10  8  9 10]\n"
     ]
    }
   ],
   "source": [
    "arr2[2:7] = 10\n",
    "print(arr2)"
   ]
  },
  {
   "cell_type": "code",
   "execution_count": 35,
   "id": "e55cc755-de9b-448b-9ad6-f2f7746050bb",
   "metadata": {
    "tags": []
   },
   "outputs": [
    {
     "name": "stdout",
     "output_type": "stream",
     "text": [
      "[[ 0  1  2  3  4  5  6  7  8  9]\n",
      " [10 11 12 13 14 15 16 17 18 19]\n",
      " [20 21 22 23 24 25 26 27 28 29]\n",
      " [30 31 32 33 34 35 36 37 38 39]\n",
      " [40 41 42 43 44 45 46 47 48 49]]\n"
     ]
    }
   ],
   "source": [
    "arr3 = np.arange(50).reshape(5,-1)\n",
    "print(arr3)"
   ]
  },
  {
   "cell_type": "code",
   "execution_count": 36,
   "id": "4c848e50-32fa-426d-808d-acceda3e031a",
   "metadata": {
    "tags": []
   },
   "outputs": [
    {
     "name": "stdout",
     "output_type": "stream",
     "text": [
      "[[ 4  5  6]\n",
      " [14 15 16]]\n"
     ]
    }
   ],
   "source": [
    "print(arr3[0:2,4:7])"
   ]
  },
  {
   "cell_type": "code",
   "execution_count": 37,
   "id": "e0a2d102-c69b-4876-846e-71197fbabb39",
   "metadata": {
    "tags": []
   },
   "outputs": [
    {
     "name": "stdout",
     "output_type": "stream",
     "text": [
      "[[20 21 22 23 24 25 26 27 28 29]\n",
      " [30 31 32 33 34 35 36 37 38 39]] \n",
      "\n",
      "[[ 6  7]\n",
      " [16 17]\n",
      " [26 27]\n",
      " [36 37]\n",
      " [46 47]] \n",
      "\n",
      "[[12 13]\n",
      " [22 23]] \n",
      "\n",
      "25\n"
     ]
    }
   ],
   "source": [
    "print(arr3[2:4], \"\\n\")\n",
    "print(arr3[:,6:8], \"\\n\")\n",
    "print(arr3[1:3,2:4], \"\\n\")\n",
    "print(arr3[2,5])"
   ]
  },
  {
   "attachments": {
    "80e6d240-435a-472d-b7fe-d427d7f9a080.png": {
     "image/png": "[encoded data removed]"
    }
   },
   "cell_type": "markdown",
   "id": "2f0399af-910c-41f4-89e2-bac4cbefc1cf",
   "metadata": {},
   "source": [
    "![image.png](attachment:80e6d240-435a-472d-b7fe-d427d7f9a080.png)"
   ]
  },
  {
   "cell_type": "code",
   "execution_count": 38,
   "id": "d467785a-1efd-4eda-8d05-48f5dfb2a0c3",
   "metadata": {
    "tags": []
   },
   "outputs": [
    {
     "name": "stdout",
     "output_type": "stream",
     "text": [
      "[[175.2 180.3 175.  169.2 185.2 188.  177.6 178.2 177.  179. ]\n",
      " [ 65.6  88.   79.2  69.3  55.   71.2  73.   68.9  74.   82. ]]\n",
      "(2, 10)\n",
      "20\n",
      "float64\n",
      "2\n"
     ]
    }
   ],
   "source": [
    "data = np.loadtxt('../data/height_weight.txt', delimiter =',')\n",
    "print(data)\n",
    "print(data.shape)\n",
    "print(data.size)\n",
    "print(data.dtype)\n",
    "print(data.ndim)"
   ]
  },
  {
   "cell_type": "code",
   "execution_count": 39,
   "id": "a94f9099-7d5c-4cb9-b644-188f9d401352",
   "metadata": {
    "tags": []
   },
   "outputs": [
    {
     "name": "stdout",
     "output_type": "stream",
     "text": [
      "[21.37153104 27.07018468 25.86122449 24.20652885 16.03543423 20.14486193\n",
      " 23.14392095 21.69720651 23.62028791 25.59220998]\n"
     ]
    }
   ],
   "source": [
    "result = (data[1] / (data[0]*0.01)**2)\n",
    "print(result)"
   ]
  },
  {
   "cell_type": "code",
   "execution_count": 40,
   "id": "cddb569f-ff44-45c6-a652-6ad458eb42ac",
   "metadata": {
    "tags": []
   },
   "outputs": [],
   "source": [
    "result1 = (result>=23) & (result <= 25)"
   ]
  },
  {
   "cell_type": "code",
   "execution_count": 41,
   "id": "3287b676-4c78-458e-a2ac-88da623a54aa",
   "metadata": {
    "tags": []
   },
   "outputs": [
    {
     "name": "stdout",
     "output_type": "stream",
     "text": [
      "[False False False  True False False  True False  True False]\n"
     ]
    }
   ],
   "source": [
    "print(result1)"
   ]
  },
  {
   "cell_type": "code",
   "execution_count": 42,
   "id": "02d64f62-fffa-4e1d-bbea-cf9b2b128e96",
   "metadata": {
    "tags": []
   },
   "outputs": [
    {
     "name": "stdout",
     "output_type": "stream",
     "text": [
      "[24.20652885 23.14392095 23.62028791]\n"
     ]
    }
   ],
   "source": [
    "print(result[(result>=23) & (result <= 25)])"
   ]
  },
  {
   "cell_type": "code",
   "execution_count": 43,
   "id": "5fc97872-4705-4311-998b-4a6be9279f90",
   "metadata": {
    "tags": []
   },
   "outputs": [
    {
     "name": "stdout",
     "output_type": "stream",
     "text": [
      "[[ 93   5  14  60  74  79  85  52  65  81]\n",
      " [ 70  69  86 100   3  64  62  21  94  43]\n",
      " [ 31  10   3  26  32  14  85  13  18  55]\n",
      " [ 18  78  12  12  64  55  85  61  18  21]\n",
      " [ 18  63  51  41  64  47  90  77  59  95]\n",
      " [ 11  43  79  56  31  66  83  25  41  95]\n",
      " [ 92  30  42  27  36  74  28  37  60  70]\n",
      " [ 77  23  62  21  76  11  82  89   8  73]\n",
      " [ 34  90  88  60  68  33  77  45   1  61]\n",
      " [ 59  80   8  52  42  36  72  68  84   8]]\n"
     ]
    }
   ],
   "source": [
    "rd_int = np.random.randint(1,101, size = (10,10))\n",
    "print(rd_int)"
   ]
  },
  {
   "cell_type": "code",
   "execution_count": 44,
   "id": "1169733f-6bea-40f9-860d-fd62b021905b",
   "metadata": {
    "tags": []
   },
   "outputs": [
    {
     "name": "stdout",
     "output_type": "stream",
     "text": [
      "[ 93  85  81  86 100  94  85  85  90  95  83  95  92  82  89  90  88  80\n",
      "  84]\n"
     ]
    }
   ],
   "source": [
    "print(rd_int[rd_int>=80])"
   ]
  },
  {
   "cell_type": "code",
   "execution_count": 45,
   "id": "4ba78b5f-9a01-46fd-b5fe-e4c2f497d7ba",
   "metadata": {
    "tags": []
   },
   "outputs": [
    {
     "name": "stdout",
     "output_type": "stream",
     "text": [
      "[  5  60  85  65  70 100  10  85  55  55  85  90  95  25  95  30  60  70\n",
      "  90  60  45  80]\n"
     ]
    }
   ],
   "source": [
    "print(rd_int[rd_int % 5 == 0])"
   ]
  },
  {
   "cell_type": "code",
   "execution_count": 46,
   "id": "eac4a39a-34f9-402f-9bbf-11b5df4dbc42",
   "metadata": {
    "tags": []
   },
   "outputs": [
    {
     "name": "stdout",
     "output_type": "stream",
     "text": [
      "55\n",
      "5.5\n",
      "[1.         1.41421356 1.73205081 2.         2.23606798 2.44948974\n",
      " 2.64575131 2.82842712 3.         3.16227766]\n"
     ]
    }
   ],
   "source": [
    "arr = np.arange(1,11)\n",
    "print(np.sum(arr))\n",
    "print(np.mean(arr))\n",
    "print(np.sqrt(arr))"
   ]
  },
  {
   "cell_type": "code",
   "execution_count": 47,
   "id": "804731cb-e898-493f-9970-867781c41c39",
   "metadata": {
    "tags": []
   },
   "outputs": [
    {
     "name": "stdout",
     "output_type": "stream",
     "text": [
      "[1 2 3 4 5]\n"
     ]
    }
   ],
   "source": [
    "arr1 = np.array([-1,2,-3,4,-5])\n",
    "print(np.abs(arr1))"
   ]
  },
  {
   "cell_type": "markdown",
   "id": "f34e29e8-2183-4234-b14a-cf35b8a3dc24",
   "metadata": {},
   "source": [
    "### 최종실습"
   ]
  },
  {
   "cell_type": "code",
   "execution_count": 48,
   "id": "a2b1d76b-9cec-4ef6-8928-715460624ccf",
   "metadata": {
    "tags": []
   },
   "outputs": [
    {
     "name": "stdout",
     "output_type": "stream",
     "text": [
      "[[        1      1193         5 978300760]\n",
      " [        1       661         3 978302109]\n",
      " [        1       914         3 978301968]\n",
      " ...\n",
      " [     6040       562         5 956704746]\n",
      " [     6040      1096         4 956715648]\n",
      " [     6040      1097         4 956715569]]\n"
     ]
    },
    {
     "data": {
      "text/plain": [
       "array([[        1,      1193,         5, 978300760],\n",
       "       [        1,       661,         3, 978302109],\n",
       "       [        1,       914,         3, 978301968],\n",
       "       ...,\n",
       "       [     6040,       562,         5, 956704746],\n",
       "       [     6040,      1096,         4, 956715648],\n",
       "       [     6040,      1097,         4, 956715569]], dtype=int64)"
      ]
     },
     "execution_count": 48,
     "metadata": {},
     "output_type": "execute_result"
    }
   ],
   "source": [
    "data = np.genfromtxt('../data/ratings.dat', delimiter = \"::\").astype('int64')\n",
    "print(data)\n",
    "data"
   ]
  },
  {
   "cell_type": "code",
   "execution_count": 49,
   "id": "e4369601-091c-4dca-969e-b88dcd25f42e",
   "metadata": {
    "tags": []
   },
   "outputs": [
    {
     "name": "stdout",
     "output_type": "stream",
     "text": [
      "배열의 차원 : 2\n",
      "배열의 크기 : (1000209, 4)\n",
      "배열의 개수 : 4000836\n"
     ]
    }
   ],
   "source": [
    "print(\"배열의 차원 :\",data.ndim)\n",
    "print(\"배열의 크기 :\",data.shape)\n",
    "print(\"배열의 개수 :\",data.size)"
   ]
  },
  {
   "cell_type": "code",
   "execution_count": 50,
   "id": "4d30074e-4766-46aa-979e-db2e233ede9b",
   "metadata": {
    "tags": []
   },
   "outputs": [
    {
     "name": "stdout",
     "output_type": "stream",
     "text": [
      "3.581564453029317\n"
     ]
    }
   ],
   "source": [
    "rating_all_mean = data[:,2].mean()\n",
    "print(rating_all_mean)"
   ]
  },
  {
   "cell_type": "code",
   "execution_count": 51,
   "id": "b75f76b4-f7b8-42f9-a980-41d774122ba6",
   "metadata": {
    "tags": []
   },
   "outputs": [
    {
     "name": "stdout",
     "output_type": "stream",
     "text": [
      "[   1    2    3 ... 6038 6039 6040]\n",
      "(6040,)\n"
     ]
    }
   ],
   "source": [
    "user_id = np.unique(data[:,0])\n",
    "print(user_id)\n",
    "print(user_id.shape)"
   ]
  },
  {
   "cell_type": "code",
   "execution_count": 52,
   "id": "a934b563-2019-41e3-a2da-46ffef3477bb",
   "metadata": {
    "tags": []
   },
   "outputs": [
    {
     "data": {
      "text/plain": [
       "array([   1,    1,    1, ..., 6040, 6040, 6040], dtype=int64)"
      ]
     },
     "execution_count": 52,
     "metadata": {},
     "output_type": "execute_result"
    }
   ],
   "source": [
    "data[:,0]"
   ]
  },
  {
   "cell_type": "code",
   "execution_count": 53,
   "id": "72f5a19c-5783-4858-9dfd-acf2d46a5f88",
   "metadata": {
    "tags": []
   },
   "outputs": [
    {
     "data": {
      "text/plain": [
       "array([ True,  True,  True, ..., False, False, False])"
      ]
     },
     "execution_count": 53,
     "metadata": {},
     "output_type": "execute_result"
    }
   ],
   "source": [
    "data[:,0] == 1"
   ]
  },
  {
   "cell_type": "code",
   "execution_count": 54,
   "id": "dde506df-3296-4605-a247-05780c075715",
   "metadata": {
    "tags": []
   },
   "outputs": [
    {
     "data": {
      "text/plain": [
       "4.188679245283019"
      ]
     },
     "execution_count": 54,
     "metadata": {},
     "output_type": "execute_result"
    }
   ],
   "source": [
    "data_1_mean = data[data[:,0]==1][:,2].mean()\n",
    "data_1_mean"
   ]
  },
  {
   "cell_type": "code",
   "execution_count": 55,
   "id": "5a87e3e4-c5fe-43e2-b546-7c77eeb3e347",
   "metadata": {
    "tags": []
   },
   "outputs": [
    {
     "data": {
      "text/plain": [
       "3.7131782945736433"
      ]
     },
     "execution_count": 55,
     "metadata": {},
     "output_type": "execute_result"
    }
   ],
   "source": [
    "data_2_mean = data[data[:,0]==2][:,2].mean()\n",
    "data_2_mean"
   ]
  },
  {
   "cell_type": "code",
   "execution_count": 56,
   "id": "cf52875b-1534-492b-9e00-e5c5bc1fea41",
   "metadata": {
    "tags": []
   },
   "outputs": [
    {
     "data": {
      "text/plain": [
       "3.9019607843137254"
      ]
     },
     "execution_count": 56,
     "metadata": {},
     "output_type": "execute_result"
    }
   ],
   "source": [
    "data_3_mean = data[data[:,0]==3][:,2].mean()\n",
    "data_3_mean"
   ]
  },
  {
   "cell_type": "code",
   "execution_count": 57,
   "id": "f0b60c81-5d62-4d2f-9fd2-a83b0d30351c",
   "metadata": {
    "tags": []
   },
   "outputs": [
    {
     "data": {
      "text/plain": [
       "4.190476190476191"
      ]
     },
     "execution_count": 57,
     "metadata": {},
     "output_type": "execute_result"
    }
   ],
   "source": [
    "data_4_mean = data[data[:,0]==4][:,2].mean()\n",
    "data_4_mean"
   ]
  },
  {
   "cell_type": "code",
   "execution_count": 58,
   "id": "c6fd40ab-e6a0-44c2-b7b3-2a4939de2c0c",
   "metadata": {
    "tags": []
   },
   "outputs": [
    {
     "data": {
      "text/plain": [
       "3.1464646464646466"
      ]
     },
     "execution_count": 58,
     "metadata": {},
     "output_type": "execute_result"
    }
   ],
   "source": [
    "data_5_mean = data[data[:,0]==5][:,2].mean()\n",
    "data_5_mean"
   ]
  },
  {
   "cell_type": "code",
   "execution_count": null,
   "id": "0c89ba2b-3ee5-487d-bfb1-981beccb6c53",
   "metadata": {},
   "outputs": [],
   "source": []
  }
 ],
 "metadata": {
  "kernelspec": {
   "display_name": "Python 3 (ipykernel)",
   "language": "python",
   "name": "python3"
  },
  "language_info": {
   "codemirror_mode": {
    "name": "ipython",
    "version": 3
   },
   "file_extension": ".py",
   "mimetype": "text/x-python",
   "name": "python",
   "nbconvert_exporter": "python",
   "pygments_lexer": "ipython3",
   "version": "3.11.5"
  }
 },
 "nbformat": 4,
 "nbformat_minor": 5
}
