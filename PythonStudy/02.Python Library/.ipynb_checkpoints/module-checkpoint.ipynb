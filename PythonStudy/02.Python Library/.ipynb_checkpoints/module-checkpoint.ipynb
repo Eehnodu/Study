{
 "cells": [
  {
   "cell_type": "code",
   "execution_count": 1,
   "id": "ce32c405-8210-46b7-b504-c9a29bcecd8a",
   "metadata": {
    "tags": []
   },
   "outputs": [
    {
     "name": "stdout",
     "output_type": "stream",
     "text": [
      "6\n"
     ]
    }
   ],
   "source": [
    "import calculator as cal\n",
    "\n",
    "print(cal.add(4,2))"
   ]
  },
  {
   "cell_type": "code",
   "execution_count": 1,
   "id": "4260f39d-bd5e-4be0-be95-b09eb10c3e8f",
   "metadata": {
    "tags": []
   },
   "outputs": [
    {
     "data": {
      "text/plain": [
       "7"
      ]
     },
     "execution_count": 1,
     "metadata": {},
     "output_type": "execute_result"
    }
   ],
   "source": [
    "from calculator import add\n",
    "add(4,3)"
   ]
  },
  {
   "cell_type": "code",
   "execution_count": null,
   "id": "aeca78f4-e7ca-4920-bf28-4dacbef492c4",
   "metadata": {},
   "outputs": [],
   "source": []
  }
 ],
 "metadata": {
  "kernelspec": {
   "display_name": "Python 3 (ipykernel)",
   "language": "python",
   "name": "python3"
  },
  "language_info": {
   "codemirror_mode": {
    "name": "ipython",
    "version": 3
   },
   "file_extension": ".py",
   "mimetype": "text/x-python",
   "name": "python",
   "nbconvert_exporter": "python",
   "pygments_lexer": "ipython3",
   "version": "3.11.5"
  }
 },
 "nbformat": 4,
 "nbformat_minor": 5
}
